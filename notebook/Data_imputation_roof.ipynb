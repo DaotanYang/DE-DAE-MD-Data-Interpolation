{
  "nbformat": 4,
  "nbformat_minor": 0,
  "metadata": {
    "colab": {
      "provenance": []
    },
    "kernelspec": {
      "name": "python3",
      "display_name": "Python 3"
    },
    "language_info": {
      "name": "python"
    }
  },
  "cells": [
    {
      "cell_type": "markdown",
      "source": [
        "# Data Load and EDA"
      ],
      "metadata": {
        "id": "XO2EX1c0KRx2"
      }
    },
    {
      "cell_type": "markdown",
      "source": [
        "### Data load"
      ],
      "metadata": {
        "id": "j6p1fQz7I4DN"
      }
    },
    {
      "cell_type": "code",
      "execution_count": null,
      "metadata": {
        "id": "n4CDaw2od_Ck"
      },
      "outputs": [],
      "source": [
        "import pandas as pd\n",
        "import numpy as np\n",
        "import seaborn as sns\n",
        "import matplotlib.pyplot as plt\n",
        "\n",
        "import tensorflow as tf\n",
        "from tensorflow.keras import layers\n",
        "from sklearn.preprocessing import StandardScaler\n",
        "from sklearn.preprocessing import MinMaxScaler"
      ]
    },
    {
      "cell_type": "code",
      "source": [
        "import tensorflow as tf\n",
        "from tensorflow.keras import layers\n",
        "from sklearn.preprocessing import StandardScaler\n",
        "from tensorflow.keras.callbacks import EarlyStopping\n",
        "import numpy as np"
      ],
      "metadata": {
        "id": "9mENuuZiAzmi"
      },
      "execution_count": null,
      "outputs": []
    },
    {
      "cell_type": "code",
      "execution_count": null,
      "metadata": {
        "colab": {
          "base_uri": "https://localhost:8080/"
        },
        "id": "tibJW0jGeLVi",
        "outputId": "c698cb3e-8ece-440e-921f-0e1fabe89303"
      },
      "outputs": [
        {
          "output_type": "stream",
          "name": "stdout",
          "text": [
            "Mounted at /content/gdrive\n"
          ]
        }
      ],
      "source": [
        "from google.colab import drive\n",
        "drive.mount('/content/gdrive')"
      ]
    },
    {
      "cell_type": "markdown",
      "source": [
        "Load the data set. In order not to exceed my RAM limit, I only loaded some columns, and I selected all the features under the Isolation category.\n",
        "\n",
        "First of all, I want to explain that I did not choose Conso_ECS_é_primaire as follows:\n",
        "\n",
        "\n",
        "1. The missing value ratio is very low, about 9.7e-7. Compared with other features, the missing value ratio of this feature is too low.\n",
        "2. When I was doing data analysis, I found that the correlation between Conso_ECS_é_primaire and several other features is not high, and the introduction of Conso_ECS_é_primaire will have the effect of introducing noise instead. Therefore, I plan to perform separate data imputation on the Conso_ECS_é_primaire feature.\n"
      ],
      "metadata": {
        "id": "Ss2vBWuopZ95"
      }
    },
    {
      "cell_type": "code",
      "execution_count": null,
      "metadata": {
        "id": "EcQxlYreeOdl"
      },
      "outputs": [],
      "source": [
        "df_DPE_dataset = pd.read_csv('/content/gdrive/MyDrive/Colab Notebooks/DPE_dataset/dpe-v2-logements-existants.csv',\n",
        "                usecols = ['Conso_ECS_é_primaire',\n",
        "                      'Qualité_isolation_plancher_bas',\n",
        "                      'Qualité_isolation_murs',\n",
        "                      'Qualité_isolation_menuiseries',\n",
        "                      'Qualité_isolation_plancher_haut_toit_terrase',\n",
        "                      'Conso_5_usages_é_primaire',\n",
        "                      'Conso_ECS_é_finale',\n",
        "                      'Type_énergie_principale_ECS',\n",
        "                      'Conso_é_finale_générateur_ECS_n°1',\n",
        "                      'Conso_é_finale_générateur_ECS_n°2',\n",
        "                      'Isolation_toiture_(0/1)',\n",
        "                      'Deperditions_planchers_bas',\n",
        "                      'Qualité_isolation_enveloppe',\n",
        "                      'Déperditions_murs',\n",
        "                      'Déperditions_portes',\n",
        "                      'Deperditions_baies_vitrées',\n",
        "                      'Deperditions_planchers_hauts',\n",
        "                      'Qualité_isolation_plancher_haut_comble_aménagé',\n",
        "                      'Qualité_isolation_plancher_haut_comble_perdu',\n",
        "                      'Année_construction',\n",
        "                      'Surface_habitable_immeuble',\n",
        "                      'Surface_habitable_logement',\n",
        "                      'Code_postal_(BAN)',\n",
        "                      ],\n",
        "                sep = ',')"
      ]
    },
    {
      "cell_type": "markdown",
      "source": [
        "I used a dictionary to map the column names of interest to their corresponding English names. And added Chinese notes (Chinese is my mother tongue)"
      ],
      "metadata": {
        "id": "LMD0YriHKjql"
      }
    },
    {
      "cell_type": "code",
      "source": [
        "# Column name mapping dictionary\n",
        "name_dict = {\n",
        "    'Conso_ECS_é_primaire': 'Primary_ECS_Consumption',    # 初级能源消耗系统（ECS）消耗\n",
        "    'Qualité_isolation_plancher_bas': 'Quality_insulation_lower_floor', # 低层地板绝缘质量\n",
        "    'Qualité_isolation_murs': 'Quality_insulation_walls',   # 墙体绝缘质量\n",
        "    'Qualité_isolation_menuiseries': 'Quality_insulation_carpentry',    # 木工绝缘质量\n",
        "    'Qualité_isolation_plancher_haut_toit_terrase': 'Quality_insulation_upper_floor_roof_terrace',  # 顶楼地板及屋顶露台绝缘质量\n",
        "    'Conso_5_usages_é_primaire': 'Primary_5_usages_consumption',    # 初级能源5用途消耗\n",
        "    'Conso_ECS_é_finale': 'Final_ECS_Consumption',  # 最终能源消耗系统（ECS）消耗\n",
        "    'Type_énergie_principale_ECS': 'Type_main_energy_ECS',  # 主要能源消耗系统（ECS）类型\n",
        "    'Conso_é_finale_générateur_ECS_n°1': 'Final_consumption_ECS_generator_no1', # 能源消耗系统（ECS）发电机1最终消耗\n",
        "    'Conso_é_finale_générateur_ECS_n°2': 'Final_consumption_ECS_generator_no2', # 能源消耗系统（ECS）发电机2最终消耗\n",
        "    'Isolation_toiture_(0/1)': 'Roof_insulation_(0/1)',     # 屋顶绝缘（0/1）\n",
        "    'Deperditions_planchers_bas': 'Losses_lower_floors',    # 底层楼板热量损失\n",
        "    'Qualité_isolation_enveloppe': 'Quality_insulation_envelope',   # 围护结构绝缘质量\n",
        "    'Déperditions_murs': 'Losses_walls',    # 墙体热量损失\n",
        "    'Déperditions_portes': 'Losses_doors',  # 门的热量损失\n",
        "    'Deperditions_baies_vitrées': 'Losses_glazed_bays',     # 玻璃窗户热量损失\n",
        "    'Deperditions_planchers_hauts': 'Losses_upper_floors',      # 上层楼板热量损失\n",
        "    'Qualité_isolation_plancher_haut_comble_aménagé': 'Quality_insulation_upper_floor_arranged_attic',  # 整理过的阁楼上层楼板绝缘质量\n",
        "    'Qualité_isolation_plancher_haut_comble_perdu': 'Quality_insulation_upper_floor_lost_attic',    # 丢失的阁楼上层楼板绝缘质量\n",
        "    'Année_construction': 'Year_construction',  # 建筑年份\n",
        "    'Surface_habitable_immeuble': 'Living_area_building',   # 建筑物的居住面积\n",
        "    'Surface_habitable_logement': 'Living_area_housing',    # 住房的居住面积\n",
        "    'Code_postal_(BAN)': 'Postal_code_(BAN)',  # 邮政编码（BAN）\n",
        "\n",
        "}\n",
        "\n",
        "# 使用rename方法重命名列\n",
        "df_DPE_dataset.rename(columns = name_dict, inplace = True)"
      ],
      "metadata": {
        "id": "_2jWAzVk1S8m"
      },
      "execution_count": null,
      "outputs": []
    },
    {
      "cell_type": "code",
      "execution_count": null,
      "metadata": {
        "colab": {
          "base_uri": "https://localhost:8080/"
        },
        "id": "L0I-zzJ8ekhe",
        "outputId": "dbb48681-0e84-4ca1-88e6-aa6cdd69b115"
      },
      "outputs": [
        {
          "output_type": "execute_result",
          "data": {
            "text/plain": [
              "         Year_construction  Living_area_building  Living_area_housing  \\\n",
              "0                   1945.0                 220.8                220.8   \n",
              "1                   1948.0                   NaN                 70.6   \n",
              "2                   1948.0                2200.0                109.0   \n",
              "3                   1976.0                3292.3                 47.5   \n",
              "4                   1948.0                   NaN                 36.4   \n",
              "...                    ...                   ...                  ...   \n",
              "4277638             2013.0                  46.4                 46.4   \n",
              "4277639             1960.0                3870.0                 59.0   \n",
              "4277640             1945.0                   NaN                 70.0   \n",
              "4277641             2014.0                1327.0                 49.7   \n",
              "4277642             1961.0                  70.0                 70.0   \n",
              "\n",
              "         Postal_code_(BAN)  Final_ECS_Consumption  \\\n",
              "0                  25000.0                 4463.6   \n",
              "1                  13016.0                 4522.1   \n",
              "2                  93100.0                 7035.3   \n",
              "3                  44800.0                 2576.8   \n",
              "4                  92330.0                 1858.2   \n",
              "...                    ...                    ...   \n",
              "4277638            44240.0                 2486.1   \n",
              "4277639            25000.0                 2771.0   \n",
              "4277640            44530.0                 1864.7   \n",
              "4277641            51100.0                 1205.3   \n",
              "4277642            91330.0                 2705.7   \n",
              "\n",
              "         Primary_5_usages_consumption  Primary_ECS_Consumption  \\\n",
              "0                             41345.2                   6600.7   \n",
              "1                             15403.7                   4522.1   \n",
              "2                             63792.5                  22815.4   \n",
              "3                              8334.7                   3633.3   \n",
              "4                              8857.1                   1858.2   \n",
              "...                               ...                      ...   \n",
              "4277638                        4365.9                   2486.1   \n",
              "4277639                       18778.5                   3907.1   \n",
              "4277640                       36347.2                   4288.8   \n",
              "4277641                        3842.7                   1699.5   \n",
              "4277642                       14378.6                   2705.7   \n",
              "\n",
              "         Roof_insulation_(0/1)  Losses_glazed_bays  Losses_walls  ...  \\\n",
              "0                          0.0                91.3         191.0  ...   \n",
              "1                          NaN                16.1         134.9  ...   \n",
              "2                          NaN               764.5        5368.1  ...   \n",
              "3                          NaN                 NaN           NaN  ...   \n",
              "4                          NaN                40.2          27.4  ...   \n",
              "...                        ...                 ...           ...  ...   \n",
              "4277638                    1.0                 7.9           4.3  ...   \n",
              "4277639                    NaN              2362.8        5110.1  ...   \n",
              "4277640                    1.0                35.5          92.5  ...   \n",
              "4277641                    NaN               373.2         208.9  ...   \n",
              "4277642                    0.0                22.4          88.6  ...   \n",
              "\n",
              "         Quality_insulation_envelope  Quality_insulation_carpentry  \\\n",
              "0                       insuffisante                         bonne   \n",
              "1                       insuffisante                         bonne   \n",
              "2                       insuffisante                       moyenne   \n",
              "3                       insuffisante                       moyenne   \n",
              "4                       insuffisante                  insuffisante   \n",
              "...                              ...                           ...   \n",
              "4277638                   très bonne                    très bonne   \n",
              "4277639                 insuffisante                       moyenne   \n",
              "4277640                 insuffisante                  insuffisante   \n",
              "4277641                        bonne                    très bonne   \n",
              "4277642                 insuffisante                    très bonne   \n",
              "\n",
              "         Quality_insulation_walls Quality_insulation_lower_floor  \\\n",
              "0                    insuffisante                     très bonne   \n",
              "1                    insuffisante                     très bonne   \n",
              "2                    insuffisante                        moyenne   \n",
              "3                    insuffisante                   insuffisante   \n",
              "4                    insuffisante                     très bonne   \n",
              "...                           ...                            ...   \n",
              "4277638              insuffisante                     très bonne   \n",
              "4277639              insuffisante                   insuffisante   \n",
              "4277640              insuffisante                        moyenne   \n",
              "4277641                très bonne                     très bonne   \n",
              "4277642              insuffisante                     très bonne   \n",
              "\n",
              "        Quality_insulation_upper_floor_roof_terrace  \\\n",
              "0                                               NaN   \n",
              "1                                               NaN   \n",
              "2                                               NaN   \n",
              "3                                               NaN   \n",
              "4                                               NaN   \n",
              "...                                             ...   \n",
              "4277638                                  très bonne   \n",
              "4277639                                         NaN   \n",
              "4277640                                         NaN   \n",
              "4277641                                         NaN   \n",
              "4277642                                         NaN   \n",
              "\n",
              "        Quality_insulation_upper_floor_arranged_attic  \\\n",
              "0                                                 NaN   \n",
              "1                                                 NaN   \n",
              "2                                                 NaN   \n",
              "3                                                 NaN   \n",
              "4                                                 NaN   \n",
              "...                                               ...   \n",
              "4277638                                           NaN   \n",
              "4277639                                           NaN   \n",
              "4277640                                           NaN   \n",
              "4277641                                           NaN   \n",
              "4277642                                           NaN   \n",
              "\n",
              "        Quality_insulation_upper_floor_lost_attic Type_main_energy_ECS  \\\n",
              "0                                    insuffisante          Gaz naturel   \n",
              "1                                      très bonne          Gaz naturel   \n",
              "2                                             NaN          Électricité   \n",
              "3                                             NaN                  NaN   \n",
              "4                                      très bonne          Gaz naturel   \n",
              "...                                           ...                  ...   \n",
              "4277638                                       NaN          Gaz naturel   \n",
              "4277639                                       NaN          Gaz naturel   \n",
              "4277640                                     bonne          Électricité   \n",
              "4277641                                       NaN          Gaz naturel   \n",
              "4277642                                       NaN          Gaz naturel   \n",
              "\n",
              "        Final_consumption_ECS_generator_no1  \\\n",
              "0                                    2819.6   \n",
              "1                                       1.0   \n",
              "2                                    2440.2   \n",
              "3                                       NaN   \n",
              "4                                       1.0   \n",
              "...                                     ...   \n",
              "4277638                              2486.1   \n",
              "4277639                            181757.6   \n",
              "4277640                              1864.7   \n",
              "4277641                             32182.9   \n",
              "4277642                              2705.7   \n",
              "\n",
              "        Final_consumption_ECS_generator_no2  \n",
              "0                                       NaN  \n",
              "1                                       NaN  \n",
              "2                                       NaN  \n",
              "3                                       NaN  \n",
              "4                                       NaN  \n",
              "...                                     ...  \n",
              "4277638                                 NaN  \n",
              "4277639                                 NaN  \n",
              "4277640                                 NaN  \n",
              "4277641                                 NaN  \n",
              "4277642                                 NaN  \n",
              "\n",
              "[4277643 rows x 23 columns]"
            ],
            "text/html": [
              "\n",
              "  <div id=\"df-1f22fa54-0602-4f0f-ae8c-285451d7f2fd\" class=\"colab-df-container\">\n",
              "    <div>\n",
              "<style scoped>\n",
              "    .dataframe tbody tr th:only-of-type {\n",
              "        vertical-align: middle;\n",
              "    }\n",
              "\n",
              "    .dataframe tbody tr th {\n",
              "        vertical-align: top;\n",
              "    }\n",
              "\n",
              "    .dataframe thead th {\n",
              "        text-align: right;\n",
              "    }\n",
              "</style>\n",
              "<table border=\"1\" class=\"dataframe\">\n",
              "  <thead>\n",
              "    <tr style=\"text-align: right;\">\n",
              "      <th></th>\n",
              "      <th>Year_construction</th>\n",
              "      <th>Living_area_building</th>\n",
              "      <th>Living_area_housing</th>\n",
              "      <th>Postal_code_(BAN)</th>\n",
              "      <th>Final_ECS_Consumption</th>\n",
              "      <th>Primary_5_usages_consumption</th>\n",
              "      <th>Primary_ECS_Consumption</th>\n",
              "      <th>Roof_insulation_(0/1)</th>\n",
              "      <th>Losses_glazed_bays</th>\n",
              "      <th>Losses_walls</th>\n",
              "      <th>...</th>\n",
              "      <th>Quality_insulation_envelope</th>\n",
              "      <th>Quality_insulation_carpentry</th>\n",
              "      <th>Quality_insulation_walls</th>\n",
              "      <th>Quality_insulation_lower_floor</th>\n",
              "      <th>Quality_insulation_upper_floor_roof_terrace</th>\n",
              "      <th>Quality_insulation_upper_floor_arranged_attic</th>\n",
              "      <th>Quality_insulation_upper_floor_lost_attic</th>\n",
              "      <th>Type_main_energy_ECS</th>\n",
              "      <th>Final_consumption_ECS_generator_no1</th>\n",
              "      <th>Final_consumption_ECS_generator_no2</th>\n",
              "    </tr>\n",
              "  </thead>\n",
              "  <tbody>\n",
              "    <tr>\n",
              "      <th>0</th>\n",
              "      <td>1945.0</td>\n",
              "      <td>220.8</td>\n",
              "      <td>220.8</td>\n",
              "      <td>25000.0</td>\n",
              "      <td>4463.6</td>\n",
              "      <td>41345.2</td>\n",
              "      <td>6600.7</td>\n",
              "      <td>0.0</td>\n",
              "      <td>91.3</td>\n",
              "      <td>191.0</td>\n",
              "      <td>...</td>\n",
              "      <td>insuffisante</td>\n",
              "      <td>bonne</td>\n",
              "      <td>insuffisante</td>\n",
              "      <td>très bonne</td>\n",
              "      <td>NaN</td>\n",
              "      <td>NaN</td>\n",
              "      <td>insuffisante</td>\n",
              "      <td>Gaz naturel</td>\n",
              "      <td>2819.6</td>\n",
              "      <td>NaN</td>\n",
              "    </tr>\n",
              "    <tr>\n",
              "      <th>1</th>\n",
              "      <td>1948.0</td>\n",
              "      <td>NaN</td>\n",
              "      <td>70.6</td>\n",
              "      <td>13016.0</td>\n",
              "      <td>4522.1</td>\n",
              "      <td>15403.7</td>\n",
              "      <td>4522.1</td>\n",
              "      <td>NaN</td>\n",
              "      <td>16.1</td>\n",
              "      <td>134.9</td>\n",
              "      <td>...</td>\n",
              "      <td>insuffisante</td>\n",
              "      <td>bonne</td>\n",
              "      <td>insuffisante</td>\n",
              "      <td>très bonne</td>\n",
              "      <td>NaN</td>\n",
              "      <td>NaN</td>\n",
              "      <td>très bonne</td>\n",
              "      <td>Gaz naturel</td>\n",
              "      <td>1.0</td>\n",
              "      <td>NaN</td>\n",
              "    </tr>\n",
              "    <tr>\n",
              "      <th>2</th>\n",
              "      <td>1948.0</td>\n",
              "      <td>2200.0</td>\n",
              "      <td>109.0</td>\n",
              "      <td>93100.0</td>\n",
              "      <td>7035.3</td>\n",
              "      <td>63792.5</td>\n",
              "      <td>22815.4</td>\n",
              "      <td>NaN</td>\n",
              "      <td>764.5</td>\n",
              "      <td>5368.1</td>\n",
              "      <td>...</td>\n",
              "      <td>insuffisante</td>\n",
              "      <td>moyenne</td>\n",
              "      <td>insuffisante</td>\n",
              "      <td>moyenne</td>\n",
              "      <td>NaN</td>\n",
              "      <td>NaN</td>\n",
              "      <td>NaN</td>\n",
              "      <td>Électricité</td>\n",
              "      <td>2440.2</td>\n",
              "      <td>NaN</td>\n",
              "    </tr>\n",
              "    <tr>\n",
              "      <th>3</th>\n",
              "      <td>1976.0</td>\n",
              "      <td>3292.3</td>\n",
              "      <td>47.5</td>\n",
              "      <td>44800.0</td>\n",
              "      <td>2576.8</td>\n",
              "      <td>8334.7</td>\n",
              "      <td>3633.3</td>\n",
              "      <td>NaN</td>\n",
              "      <td>NaN</td>\n",
              "      <td>NaN</td>\n",
              "      <td>...</td>\n",
              "      <td>insuffisante</td>\n",
              "      <td>moyenne</td>\n",
              "      <td>insuffisante</td>\n",
              "      <td>insuffisante</td>\n",
              "      <td>NaN</td>\n",
              "      <td>NaN</td>\n",
              "      <td>NaN</td>\n",
              "      <td>NaN</td>\n",
              "      <td>NaN</td>\n",
              "      <td>NaN</td>\n",
              "    </tr>\n",
              "    <tr>\n",
              "      <th>4</th>\n",
              "      <td>1948.0</td>\n",
              "      <td>NaN</td>\n",
              "      <td>36.4</td>\n",
              "      <td>92330.0</td>\n",
              "      <td>1858.2</td>\n",
              "      <td>8857.1</td>\n",
              "      <td>1858.2</td>\n",
              "      <td>NaN</td>\n",
              "      <td>40.2</td>\n",
              "      <td>27.4</td>\n",
              "      <td>...</td>\n",
              "      <td>insuffisante</td>\n",
              "      <td>insuffisante</td>\n",
              "      <td>insuffisante</td>\n",
              "      <td>très bonne</td>\n",
              "      <td>NaN</td>\n",
              "      <td>NaN</td>\n",
              "      <td>très bonne</td>\n",
              "      <td>Gaz naturel</td>\n",
              "      <td>1.0</td>\n",
              "      <td>NaN</td>\n",
              "    </tr>\n",
              "    <tr>\n",
              "      <th>...</th>\n",
              "      <td>...</td>\n",
              "      <td>...</td>\n",
              "      <td>...</td>\n",
              "      <td>...</td>\n",
              "      <td>...</td>\n",
              "      <td>...</td>\n",
              "      <td>...</td>\n",
              "      <td>...</td>\n",
              "      <td>...</td>\n",
              "      <td>...</td>\n",
              "      <td>...</td>\n",
              "      <td>...</td>\n",
              "      <td>...</td>\n",
              "      <td>...</td>\n",
              "      <td>...</td>\n",
              "      <td>...</td>\n",
              "      <td>...</td>\n",
              "      <td>...</td>\n",
              "      <td>...</td>\n",
              "      <td>...</td>\n",
              "      <td>...</td>\n",
              "    </tr>\n",
              "    <tr>\n",
              "      <th>4277638</th>\n",
              "      <td>2013.0</td>\n",
              "      <td>46.4</td>\n",
              "      <td>46.4</td>\n",
              "      <td>44240.0</td>\n",
              "      <td>2486.1</td>\n",
              "      <td>4365.9</td>\n",
              "      <td>2486.1</td>\n",
              "      <td>1.0</td>\n",
              "      <td>7.9</td>\n",
              "      <td>4.3</td>\n",
              "      <td>...</td>\n",
              "      <td>très bonne</td>\n",
              "      <td>très bonne</td>\n",
              "      <td>insuffisante</td>\n",
              "      <td>très bonne</td>\n",
              "      <td>très bonne</td>\n",
              "      <td>NaN</td>\n",
              "      <td>NaN</td>\n",
              "      <td>Gaz naturel</td>\n",
              "      <td>2486.1</td>\n",
              "      <td>NaN</td>\n",
              "    </tr>\n",
              "    <tr>\n",
              "      <th>4277639</th>\n",
              "      <td>1960.0</td>\n",
              "      <td>3870.0</td>\n",
              "      <td>59.0</td>\n",
              "      <td>25000.0</td>\n",
              "      <td>2771.0</td>\n",
              "      <td>18778.5</td>\n",
              "      <td>3907.1</td>\n",
              "      <td>NaN</td>\n",
              "      <td>2362.8</td>\n",
              "      <td>5110.1</td>\n",
              "      <td>...</td>\n",
              "      <td>insuffisante</td>\n",
              "      <td>moyenne</td>\n",
              "      <td>insuffisante</td>\n",
              "      <td>insuffisante</td>\n",
              "      <td>NaN</td>\n",
              "      <td>NaN</td>\n",
              "      <td>NaN</td>\n",
              "      <td>Gaz naturel</td>\n",
              "      <td>181757.6</td>\n",
              "      <td>NaN</td>\n",
              "    </tr>\n",
              "    <tr>\n",
              "      <th>4277640</th>\n",
              "      <td>1945.0</td>\n",
              "      <td>NaN</td>\n",
              "      <td>70.0</td>\n",
              "      <td>44530.0</td>\n",
              "      <td>1864.7</td>\n",
              "      <td>36347.2</td>\n",
              "      <td>4288.8</td>\n",
              "      <td>1.0</td>\n",
              "      <td>35.5</td>\n",
              "      <td>92.5</td>\n",
              "      <td>...</td>\n",
              "      <td>insuffisante</td>\n",
              "      <td>insuffisante</td>\n",
              "      <td>insuffisante</td>\n",
              "      <td>moyenne</td>\n",
              "      <td>NaN</td>\n",
              "      <td>NaN</td>\n",
              "      <td>bonne</td>\n",
              "      <td>Électricité</td>\n",
              "      <td>1864.7</td>\n",
              "      <td>NaN</td>\n",
              "    </tr>\n",
              "    <tr>\n",
              "      <th>4277641</th>\n",
              "      <td>2014.0</td>\n",
              "      <td>1327.0</td>\n",
              "      <td>49.7</td>\n",
              "      <td>51100.0</td>\n",
              "      <td>1205.3</td>\n",
              "      <td>3842.7</td>\n",
              "      <td>1699.5</td>\n",
              "      <td>NaN</td>\n",
              "      <td>373.2</td>\n",
              "      <td>208.9</td>\n",
              "      <td>...</td>\n",
              "      <td>bonne</td>\n",
              "      <td>très bonne</td>\n",
              "      <td>très bonne</td>\n",
              "      <td>très bonne</td>\n",
              "      <td>NaN</td>\n",
              "      <td>NaN</td>\n",
              "      <td>NaN</td>\n",
              "      <td>Gaz naturel</td>\n",
              "      <td>32182.9</td>\n",
              "      <td>NaN</td>\n",
              "    </tr>\n",
              "    <tr>\n",
              "      <th>4277642</th>\n",
              "      <td>1961.0</td>\n",
              "      <td>70.0</td>\n",
              "      <td>70.0</td>\n",
              "      <td>91330.0</td>\n",
              "      <td>2705.7</td>\n",
              "      <td>14378.6</td>\n",
              "      <td>2705.7</td>\n",
              "      <td>0.0</td>\n",
              "      <td>22.4</td>\n",
              "      <td>88.6</td>\n",
              "      <td>...</td>\n",
              "      <td>insuffisante</td>\n",
              "      <td>très bonne</td>\n",
              "      <td>insuffisante</td>\n",
              "      <td>très bonne</td>\n",
              "      <td>NaN</td>\n",
              "      <td>NaN</td>\n",
              "      <td>NaN</td>\n",
              "      <td>Gaz naturel</td>\n",
              "      <td>2705.7</td>\n",
              "      <td>NaN</td>\n",
              "    </tr>\n",
              "  </tbody>\n",
              "</table>\n",
              "<p>4277643 rows × 23 columns</p>\n",
              "</div>\n",
              "    <div class=\"colab-df-buttons\">\n",
              "\n",
              "  <div class=\"colab-df-container\">\n",
              "    <button class=\"colab-df-convert\" onclick=\"convertToInteractive('df-1f22fa54-0602-4f0f-ae8c-285451d7f2fd')\"\n",
              "            title=\"Convert this dataframe to an interactive table.\"\n",
              "            style=\"display:none;\">\n",
              "\n",
              "  <svg xmlns=\"http://www.w3.org/2000/svg\" height=\"24px\" viewBox=\"0 -960 960 960\">\n",
              "    <path d=\"M120-120v-720h720v720H120Zm60-500h600v-160H180v160Zm220 220h160v-160H400v160Zm0 220h160v-160H400v160ZM180-400h160v-160H180v160Zm440 0h160v-160H620v160ZM180-180h160v-160H180v160Zm440 0h160v-160H620v160Z\"/>\n",
              "  </svg>\n",
              "    </button>\n",
              "\n",
              "  <style>\n",
              "    .colab-df-container {\n",
              "      display:flex;\n",
              "      gap: 12px;\n",
              "    }\n",
              "\n",
              "    .colab-df-convert {\n",
              "      background-color: #E8F0FE;\n",
              "      border: none;\n",
              "      border-radius: 50%;\n",
              "      cursor: pointer;\n",
              "      display: none;\n",
              "      fill: #1967D2;\n",
              "      height: 32px;\n",
              "      padding: 0 0 0 0;\n",
              "      width: 32px;\n",
              "    }\n",
              "\n",
              "    .colab-df-convert:hover {\n",
              "      background-color: #E2EBFA;\n",
              "      box-shadow: 0px 1px 2px rgba(60, 64, 67, 0.3), 0px 1px 3px 1px rgba(60, 64, 67, 0.15);\n",
              "      fill: #174EA6;\n",
              "    }\n",
              "\n",
              "    .colab-df-buttons div {\n",
              "      margin-bottom: 4px;\n",
              "    }\n",
              "\n",
              "    [theme=dark] .colab-df-convert {\n",
              "      background-color: #3B4455;\n",
              "      fill: #D2E3FC;\n",
              "    }\n",
              "\n",
              "    [theme=dark] .colab-df-convert:hover {\n",
              "      background-color: #434B5C;\n",
              "      box-shadow: 0px 1px 3px 1px rgba(0, 0, 0, 0.15);\n",
              "      filter: drop-shadow(0px 1px 2px rgba(0, 0, 0, 0.3));\n",
              "      fill: #FFFFFF;\n",
              "    }\n",
              "  </style>\n",
              "\n",
              "    <script>\n",
              "      const buttonEl =\n",
              "        document.querySelector('#df-1f22fa54-0602-4f0f-ae8c-285451d7f2fd button.colab-df-convert');\n",
              "      buttonEl.style.display =\n",
              "        google.colab.kernel.accessAllowed ? 'block' : 'none';\n",
              "\n",
              "      async function convertToInteractive(key) {\n",
              "        const element = document.querySelector('#df-1f22fa54-0602-4f0f-ae8c-285451d7f2fd');\n",
              "        const dataTable =\n",
              "          await google.colab.kernel.invokeFunction('convertToInteractive',\n",
              "                                                    [key], {});\n",
              "        if (!dataTable) return;\n",
              "\n",
              "        const docLinkHtml = 'Like what you see? Visit the ' +\n",
              "          '<a target=\"_blank\" href=https://colab.research.google.com/notebooks/data_table.ipynb>data table notebook</a>'\n",
              "          + ' to learn more about interactive tables.';\n",
              "        element.innerHTML = '';\n",
              "        dataTable['output_type'] = 'display_data';\n",
              "        await google.colab.output.renderOutput(dataTable, element);\n",
              "        const docLink = document.createElement('div');\n",
              "        docLink.innerHTML = docLinkHtml;\n",
              "        element.appendChild(docLink);\n",
              "      }\n",
              "    </script>\n",
              "  </div>\n",
              "\n",
              "\n",
              "<div id=\"df-03e0c657-6bc5-49d2-9240-ce3d0a456d0b\">\n",
              "  <button class=\"colab-df-quickchart\" onclick=\"quickchart('df-03e0c657-6bc5-49d2-9240-ce3d0a456d0b')\"\n",
              "            title=\"Suggest charts.\"\n",
              "            style=\"display:none;\">\n",
              "\n",
              "<svg xmlns=\"http://www.w3.org/2000/svg\" height=\"24px\"viewBox=\"0 0 24 24\"\n",
              "     width=\"24px\">\n",
              "    <g>\n",
              "        <path d=\"M19 3H5c-1.1 0-2 .9-2 2v14c0 1.1.9 2 2 2h14c1.1 0 2-.9 2-2V5c0-1.1-.9-2-2-2zM9 17H7v-7h2v7zm4 0h-2V7h2v10zm4 0h-2v-4h2v4z\"/>\n",
              "    </g>\n",
              "</svg>\n",
              "  </button>\n",
              "\n",
              "<style>\n",
              "  .colab-df-quickchart {\n",
              "    background-color: #E8F0FE;\n",
              "    border: none;\n",
              "    border-radius: 50%;\n",
              "    cursor: pointer;\n",
              "    display: none;\n",
              "    fill: #1967D2;\n",
              "    height: 32px;\n",
              "    padding: 0 0 0 0;\n",
              "    width: 32px;\n",
              "  }\n",
              "\n",
              "  .colab-df-quickchart:hover {\n",
              "    background-color: #E2EBFA;\n",
              "    box-shadow: 0px 1px 2px rgba(60, 64, 67, 0.3), 0px 1px 3px 1px rgba(60, 64, 67, 0.15);\n",
              "    fill: #174EA6;\n",
              "  }\n",
              "\n",
              "  [theme=dark] .colab-df-quickchart {\n",
              "    background-color: #3B4455;\n",
              "    fill: #D2E3FC;\n",
              "  }\n",
              "\n",
              "  [theme=dark] .colab-df-quickchart:hover {\n",
              "    background-color: #434B5C;\n",
              "    box-shadow: 0px 1px 3px 1px rgba(0, 0, 0, 0.15);\n",
              "    filter: drop-shadow(0px 1px 2px rgba(0, 0, 0, 0.3));\n",
              "    fill: #FFFFFF;\n",
              "  }\n",
              "</style>\n",
              "\n",
              "  <script>\n",
              "    async function quickchart(key) {\n",
              "      const charts = await google.colab.kernel.invokeFunction(\n",
              "          'suggestCharts', [key], {});\n",
              "    }\n",
              "    (() => {\n",
              "      let quickchartButtonEl =\n",
              "        document.querySelector('#df-03e0c657-6bc5-49d2-9240-ce3d0a456d0b button');\n",
              "      quickchartButtonEl.style.display =\n",
              "        google.colab.kernel.accessAllowed ? 'block' : 'none';\n",
              "    })();\n",
              "  </script>\n",
              "</div>\n",
              "    </div>\n",
              "  </div>\n"
            ]
          },
          "metadata": {},
          "execution_count": 6
        }
      ],
      "source": [
        "df_DPE_dataset"
      ]
    },
    {
      "cell_type": "code",
      "execution_count": null,
      "metadata": {
        "id": "hJ8x-V15e3dO"
      },
      "outputs": [],
      "source": [
        "# output the data type of different featurers\n",
        "def print_dtypes(df):\n",
        "    '''\n",
        "    Func:\n",
        "        print the list of data type in dataframe\n",
        "    Input:\n",
        "        df : Dataframe\n",
        "    Output:\n",
        "        No return\n",
        "\n",
        "    '''\n",
        "    for col in df.columns:\n",
        "        print(f\"{col}: {df[col].dtype}\")"
      ]
    },
    {
      "cell_type": "markdown",
      "source": [
        "Observe the data type of features"
      ],
      "metadata": {
        "id": "MBPx3XH7rE94"
      }
    },
    {
      "cell_type": "code",
      "execution_count": null,
      "metadata": {
        "colab": {
          "base_uri": "https://localhost:8080/"
        },
        "id": "1OHwH9BofCC2",
        "outputId": "06ec93d4-5968-4f3e-e26a-7f4249cdfa44"
      },
      "outputs": [
        {
          "output_type": "stream",
          "name": "stdout",
          "text": [
            "The type of the features in DPE dataset: \n",
            "\n",
            "Year_construction: float64\n",
            "Living_area_building: float64\n",
            "Living_area_housing: float64\n",
            "Postal_code_(BAN): float64\n",
            "Final_ECS_Consumption: float64\n",
            "Primary_5_usages_consumption: float64\n",
            "Primary_ECS_Consumption: float64\n",
            "Roof_insulation_(0/1): float64\n",
            "Losses_glazed_bays: float64\n",
            "Losses_walls: float64\n",
            "Losses_lower_floors: float64\n",
            "Losses_upper_floors: float64\n",
            "Losses_doors: float64\n",
            "Quality_insulation_envelope: object\n",
            "Quality_insulation_carpentry: object\n",
            "Quality_insulation_walls: object\n",
            "Quality_insulation_lower_floor: object\n",
            "Quality_insulation_upper_floor_roof_terrace: object\n",
            "Quality_insulation_upper_floor_arranged_attic: object\n",
            "Quality_insulation_upper_floor_lost_attic: object\n",
            "Type_main_energy_ECS: object\n",
            "Final_consumption_ECS_generator_no1: float64\n",
            "Final_consumption_ECS_generator_no2: float64\n"
          ]
        }
      ],
      "source": [
        "print('The type of the features in DPE dataset: \\n')\n",
        "print_dtypes(df_DPE_dataset)"
      ]
    },
    {
      "cell_type": "code",
      "execution_count": null,
      "metadata": {
        "id": "Bjlh-OZyfjWL"
      },
      "outputs": [],
      "source": [
        "# output the missing ratio of featurers\n",
        "def check_missing_values(df):\n",
        "    '''\n",
        "    Func:\n",
        "        compute the missing ratio of features\n",
        "    Input:\n",
        "        df : Dataframe\n",
        "    Output:\n",
        "        feature: dictionary, store the missing ratio of features\n",
        "\n",
        "    '''\n",
        "    missing_values = df.isnull().mean()\n",
        "    missing_features = missing_values[missing_values > 0].index.tolist()\n",
        "    return {feature: missing_values[feature] for feature in missing_features}"
      ]
    },
    {
      "cell_type": "code",
      "execution_count": null,
      "metadata": {
        "colab": {
          "base_uri": "https://localhost:8080/"
        },
        "id": "irmC-0DjfnLz",
        "outputId": "8027e7e8-5df1-4c8a-ae95-25cccd9c1ddb"
      },
      "outputs": [
        {
          "output_type": "stream",
          "name": "stdout",
          "text": [
            "The information about missing values in DPE data: \n",
            "\n",
            "                                          feature  missing_ratio\n",
            "0                               Year_construction   3.183333e-01\n",
            "1                            Living_area_building   6.773812e-01\n",
            "2                             Living_area_housing   1.102546e-02\n",
            "3                               Postal_code_(BAN)   5.146526e-03\n",
            "4                           Final_ECS_Consumption   9.350944e-07\n",
            "5                    Primary_5_usages_consumption   1.077696e-04\n",
            "6                         Primary_ECS_Consumption   9.350944e-07\n",
            "7                           Roof_insulation_(0/1)   3.249902e-01\n",
            "8                              Losses_glazed_bays   8.814667e-03\n",
            "9                                    Losses_walls   8.809992e-03\n",
            "10                            Losses_lower_floors   9.711189e-03\n",
            "11                            Losses_upper_floors   9.632407e-03\n",
            "12                                   Losses_doors   9.063870e-03\n",
            "13                       Quality_insulation_walls   5.241204e-04\n",
            "14                 Quality_insulation_lower_floor   8.547791e-02\n",
            "15    Quality_insulation_upper_floor_roof_terrace   8.391551e-01\n",
            "16  Quality_insulation_upper_floor_arranged_attic   8.235603e-01\n",
            "17      Quality_insulation_upper_floor_lost_attic   4.813854e-01\n",
            "18                           Type_main_energy_ECS   1.006024e-01\n",
            "19            Final_consumption_ECS_generator_no1   1.006187e-01\n",
            "20            Final_consumption_ECS_generator_no2   9.998081e-01\n"
          ]
        }
      ],
      "source": [
        "missing_results = check_missing_values(df_DPE_dataset)\n",
        "df_missing_results = pd.DataFrame(columns=['feature', 'missing_ratio'])\n",
        "df_missing_results['feature'] = missing_results.keys()\n",
        "df_missing_results['missing_ratio'] = missing_results.values()\n",
        "print('The information about missing values in DPE data: \\n')\n",
        "print(df_missing_results)"
      ]
    },
    {
      "cell_type": "markdown",
      "source": [
        "### Quality_insulation_upper_floor_roof_terrace data"
      ],
      "metadata": {
        "id": "DyCMRdW1ElNl"
      }
    },
    {
      "cell_type": "code",
      "source": [
        "df_insulation_roof = df_DPE_dataset[['Quality_insulation_upper_floor_roof_terrace',\n",
        "                    'Quality_insulation_envelope',\n",
        "                    # 'Quality_insulation_upper_floor_arranged_attic',\n",
        "                    # 'Quality_insulation_upper_floor_lost_attic',\n",
        "                    'Roof_insulation_(0/1)',\n",
        "                    'Year_construction',\n",
        "                    # 'Living_area_building',\n",
        "                    'Living_area_housing',\n",
        "                    'Postal_code_(BAN)',\n",
        "                    'Final_ECS_Consumption',\n",
        "                    'Primary_5_usages_consumption',\n",
        "                    ]]"
      ],
      "metadata": {
        "id": "npkHe2EQEr3Y"
      },
      "execution_count": null,
      "outputs": []
    },
    {
      "cell_type": "code",
      "source": [
        "df_insulation_roof"
      ],
      "metadata": {
        "colab": {
          "base_uri": "https://localhost:8080/"
        },
        "id": "IP3RNVt9O7Zs",
        "outputId": "18b7e598-55b6-4bd4-94f4-9e41433740e6"
      },
      "execution_count": null,
      "outputs": [
        {
          "output_type": "execute_result",
          "data": {
            "text/plain": [
              "        Quality_insulation_upper_floor_roof_terrace  \\\n",
              "0                                               NaN   \n",
              "1                                               NaN   \n",
              "2                                               NaN   \n",
              "3                                               NaN   \n",
              "4                                               NaN   \n",
              "...                                             ...   \n",
              "4277638                                  très bonne   \n",
              "4277639                                         NaN   \n",
              "4277640                                         NaN   \n",
              "4277641                                         NaN   \n",
              "4277642                                         NaN   \n",
              "\n",
              "        Quality_insulation_envelope  Roof_insulation_(0/1)  Year_construction  \\\n",
              "0                      insuffisante                    0.0             1945.0   \n",
              "1                      insuffisante                    NaN             1948.0   \n",
              "2                      insuffisante                    NaN             1948.0   \n",
              "3                      insuffisante                    NaN             1976.0   \n",
              "4                      insuffisante                    NaN             1948.0   \n",
              "...                             ...                    ...                ...   \n",
              "4277638                  très bonne                    1.0             2013.0   \n",
              "4277639                insuffisante                    NaN             1960.0   \n",
              "4277640                insuffisante                    1.0             1945.0   \n",
              "4277641                       bonne                    NaN             2014.0   \n",
              "4277642                insuffisante                    0.0             1961.0   \n",
              "\n",
              "         Living_area_housing  Postal_code_(BAN)  Final_ECS_Consumption  \\\n",
              "0                      220.8            25000.0                 4463.6   \n",
              "1                       70.6            13016.0                 4522.1   \n",
              "2                      109.0            93100.0                 7035.3   \n",
              "3                       47.5            44800.0                 2576.8   \n",
              "4                       36.4            92330.0                 1858.2   \n",
              "...                      ...                ...                    ...   \n",
              "4277638                 46.4            44240.0                 2486.1   \n",
              "4277639                 59.0            25000.0                 2771.0   \n",
              "4277640                 70.0            44530.0                 1864.7   \n",
              "4277641                 49.7            51100.0                 1205.3   \n",
              "4277642                 70.0            91330.0                 2705.7   \n",
              "\n",
              "         Primary_5_usages_consumption  \n",
              "0                             41345.2  \n",
              "1                             15403.7  \n",
              "2                             63792.5  \n",
              "3                              8334.7  \n",
              "4                              8857.1  \n",
              "...                               ...  \n",
              "4277638                        4365.9  \n",
              "4277639                       18778.5  \n",
              "4277640                       36347.2  \n",
              "4277641                        3842.7  \n",
              "4277642                       14378.6  \n",
              "\n",
              "[4277643 rows x 8 columns]"
            ],
            "text/html": [
              "\n",
              "\n",
              "  <div id=\"df-b260c75e-a436-4089-ae5a-c52117ded3d6\">\n",
              "    <div class=\"colab-df-container\">\n",
              "      <div>\n",
              "<style scoped>\n",
              "    .dataframe tbody tr th:only-of-type {\n",
              "        vertical-align: middle;\n",
              "    }\n",
              "\n",
              "    .dataframe tbody tr th {\n",
              "        vertical-align: top;\n",
              "    }\n",
              "\n",
              "    .dataframe thead th {\n",
              "        text-align: right;\n",
              "    }\n",
              "</style>\n",
              "<table border=\"1\" class=\"dataframe\">\n",
              "  <thead>\n",
              "    <tr style=\"text-align: right;\">\n",
              "      <th></th>\n",
              "      <th>Quality_insulation_upper_floor_roof_terrace</th>\n",
              "      <th>Quality_insulation_envelope</th>\n",
              "      <th>Roof_insulation_(0/1)</th>\n",
              "      <th>Year_construction</th>\n",
              "      <th>Living_area_housing</th>\n",
              "      <th>Postal_code_(BAN)</th>\n",
              "      <th>Final_ECS_Consumption</th>\n",
              "      <th>Primary_5_usages_consumption</th>\n",
              "    </tr>\n",
              "  </thead>\n",
              "  <tbody>\n",
              "    <tr>\n",
              "      <th>0</th>\n",
              "      <td>NaN</td>\n",
              "      <td>insuffisante</td>\n",
              "      <td>0.0</td>\n",
              "      <td>1945.0</td>\n",
              "      <td>220.8</td>\n",
              "      <td>25000.0</td>\n",
              "      <td>4463.6</td>\n",
              "      <td>41345.2</td>\n",
              "    </tr>\n",
              "    <tr>\n",
              "      <th>1</th>\n",
              "      <td>NaN</td>\n",
              "      <td>insuffisante</td>\n",
              "      <td>NaN</td>\n",
              "      <td>1948.0</td>\n",
              "      <td>70.6</td>\n",
              "      <td>13016.0</td>\n",
              "      <td>4522.1</td>\n",
              "      <td>15403.7</td>\n",
              "    </tr>\n",
              "    <tr>\n",
              "      <th>2</th>\n",
              "      <td>NaN</td>\n",
              "      <td>insuffisante</td>\n",
              "      <td>NaN</td>\n",
              "      <td>1948.0</td>\n",
              "      <td>109.0</td>\n",
              "      <td>93100.0</td>\n",
              "      <td>7035.3</td>\n",
              "      <td>63792.5</td>\n",
              "    </tr>\n",
              "    <tr>\n",
              "      <th>3</th>\n",
              "      <td>NaN</td>\n",
              "      <td>insuffisante</td>\n",
              "      <td>NaN</td>\n",
              "      <td>1976.0</td>\n",
              "      <td>47.5</td>\n",
              "      <td>44800.0</td>\n",
              "      <td>2576.8</td>\n",
              "      <td>8334.7</td>\n",
              "    </tr>\n",
              "    <tr>\n",
              "      <th>4</th>\n",
              "      <td>NaN</td>\n",
              "      <td>insuffisante</td>\n",
              "      <td>NaN</td>\n",
              "      <td>1948.0</td>\n",
              "      <td>36.4</td>\n",
              "      <td>92330.0</td>\n",
              "      <td>1858.2</td>\n",
              "      <td>8857.1</td>\n",
              "    </tr>\n",
              "    <tr>\n",
              "      <th>...</th>\n",
              "      <td>...</td>\n",
              "      <td>...</td>\n",
              "      <td>...</td>\n",
              "      <td>...</td>\n",
              "      <td>...</td>\n",
              "      <td>...</td>\n",
              "      <td>...</td>\n",
              "      <td>...</td>\n",
              "    </tr>\n",
              "    <tr>\n",
              "      <th>4277638</th>\n",
              "      <td>très bonne</td>\n",
              "      <td>très bonne</td>\n",
              "      <td>1.0</td>\n",
              "      <td>2013.0</td>\n",
              "      <td>46.4</td>\n",
              "      <td>44240.0</td>\n",
              "      <td>2486.1</td>\n",
              "      <td>4365.9</td>\n",
              "    </tr>\n",
              "    <tr>\n",
              "      <th>4277639</th>\n",
              "      <td>NaN</td>\n",
              "      <td>insuffisante</td>\n",
              "      <td>NaN</td>\n",
              "      <td>1960.0</td>\n",
              "      <td>59.0</td>\n",
              "      <td>25000.0</td>\n",
              "      <td>2771.0</td>\n",
              "      <td>18778.5</td>\n",
              "    </tr>\n",
              "    <tr>\n",
              "      <th>4277640</th>\n",
              "      <td>NaN</td>\n",
              "      <td>insuffisante</td>\n",
              "      <td>1.0</td>\n",
              "      <td>1945.0</td>\n",
              "      <td>70.0</td>\n",
              "      <td>44530.0</td>\n",
              "      <td>1864.7</td>\n",
              "      <td>36347.2</td>\n",
              "    </tr>\n",
              "    <tr>\n",
              "      <th>4277641</th>\n",
              "      <td>NaN</td>\n",
              "      <td>bonne</td>\n",
              "      <td>NaN</td>\n",
              "      <td>2014.0</td>\n",
              "      <td>49.7</td>\n",
              "      <td>51100.0</td>\n",
              "      <td>1205.3</td>\n",
              "      <td>3842.7</td>\n",
              "    </tr>\n",
              "    <tr>\n",
              "      <th>4277642</th>\n",
              "      <td>NaN</td>\n",
              "      <td>insuffisante</td>\n",
              "      <td>0.0</td>\n",
              "      <td>1961.0</td>\n",
              "      <td>70.0</td>\n",
              "      <td>91330.0</td>\n",
              "      <td>2705.7</td>\n",
              "      <td>14378.6</td>\n",
              "    </tr>\n",
              "  </tbody>\n",
              "</table>\n",
              "<p>4277643 rows × 8 columns</p>\n",
              "</div>\n",
              "      <button class=\"colab-df-convert\" onclick=\"convertToInteractive('df-b260c75e-a436-4089-ae5a-c52117ded3d6')\"\n",
              "              title=\"Convert this dataframe to an interactive table.\"\n",
              "              style=\"display:none;\">\n",
              "\n",
              "  <svg xmlns=\"http://www.w3.org/2000/svg\" height=\"24px\"viewBox=\"0 0 24 24\"\n",
              "       width=\"24px\">\n",
              "    <path d=\"M0 0h24v24H0V0z\" fill=\"none\"/>\n",
              "    <path d=\"M18.56 5.44l.94 2.06.94-2.06 2.06-.94-2.06-.94-.94-2.06-.94 2.06-2.06.94zm-11 1L8.5 8.5l.94-2.06 2.06-.94-2.06-.94L8.5 2.5l-.94 2.06-2.06.94zm10 10l.94 2.06.94-2.06 2.06-.94-2.06-.94-.94-2.06-.94 2.06-2.06.94z\"/><path d=\"M17.41 7.96l-1.37-1.37c-.4-.4-.92-.59-1.43-.59-.52 0-1.04.2-1.43.59L10.3 9.45l-7.72 7.72c-.78.78-.78 2.05 0 2.83L4 21.41c.39.39.9.59 1.41.59.51 0 1.02-.2 1.41-.59l7.78-7.78 2.81-2.81c.8-.78.8-2.07 0-2.86zM5.41 20L4 18.59l7.72-7.72 1.47 1.35L5.41 20z\"/>\n",
              "  </svg>\n",
              "      </button>\n",
              "\n",
              "\n",
              "\n",
              "    <div id=\"df-1d0eb86a-e62b-4510-aa06-2da5b9a2e967\">\n",
              "      <button class=\"colab-df-quickchart\" onclick=\"quickchart('df-1d0eb86a-e62b-4510-aa06-2da5b9a2e967')\"\n",
              "              title=\"Suggest charts.\"\n",
              "              style=\"display:none;\">\n",
              "\n",
              "<svg xmlns=\"http://www.w3.org/2000/svg\" height=\"24px\"viewBox=\"0 0 24 24\"\n",
              "     width=\"24px\">\n",
              "    <g>\n",
              "        <path d=\"M19 3H5c-1.1 0-2 .9-2 2v14c0 1.1.9 2 2 2h14c1.1 0 2-.9 2-2V5c0-1.1-.9-2-2-2zM9 17H7v-7h2v7zm4 0h-2V7h2v10zm4 0h-2v-4h2v4z\"/>\n",
              "    </g>\n",
              "</svg>\n",
              "      </button>\n",
              "    </div>\n",
              "\n",
              "<style>\n",
              "  .colab-df-quickchart {\n",
              "    background-color: #E8F0FE;\n",
              "    border: none;\n",
              "    border-radius: 50%;\n",
              "    cursor: pointer;\n",
              "    display: none;\n",
              "    fill: #1967D2;\n",
              "    height: 32px;\n",
              "    padding: 0 0 0 0;\n",
              "    width: 32px;\n",
              "  }\n",
              "\n",
              "  .colab-df-quickchart:hover {\n",
              "    background-color: #E2EBFA;\n",
              "    box-shadow: 0px 1px 2px rgba(60, 64, 67, 0.3), 0px 1px 3px 1px rgba(60, 64, 67, 0.15);\n",
              "    fill: #174EA6;\n",
              "  }\n",
              "\n",
              "  [theme=dark] .colab-df-quickchart {\n",
              "    background-color: #3B4455;\n",
              "    fill: #D2E3FC;\n",
              "  }\n",
              "\n",
              "  [theme=dark] .colab-df-quickchart:hover {\n",
              "    background-color: #434B5C;\n",
              "    box-shadow: 0px 1px 3px 1px rgba(0, 0, 0, 0.15);\n",
              "    filter: drop-shadow(0px 1px 2px rgba(0, 0, 0, 0.3));\n",
              "    fill: #FFFFFF;\n",
              "  }\n",
              "</style>\n",
              "\n",
              "    <script>\n",
              "      async function quickchart(key) {\n",
              "        const containerElement = document.querySelector('#' + key);\n",
              "        const charts = await google.colab.kernel.invokeFunction(\n",
              "            'suggestCharts', [key], {});\n",
              "      }\n",
              "    </script>\n",
              "\n",
              "      <script>\n",
              "\n",
              "function displayQuickchartButton(domScope) {\n",
              "  let quickchartButtonEl =\n",
              "    domScope.querySelector('#df-1d0eb86a-e62b-4510-aa06-2da5b9a2e967 button.colab-df-quickchart');\n",
              "  quickchartButtonEl.style.display =\n",
              "    google.colab.kernel.accessAllowed ? 'block' : 'none';\n",
              "}\n",
              "\n",
              "        displayQuickchartButton(document);\n",
              "      </script>\n",
              "      <style>\n",
              "    .colab-df-container {\n",
              "      display:flex;\n",
              "      flex-wrap:wrap;\n",
              "      gap: 12px;\n",
              "    }\n",
              "\n",
              "    .colab-df-convert {\n",
              "      background-color: #E8F0FE;\n",
              "      border: none;\n",
              "      border-radius: 50%;\n",
              "      cursor: pointer;\n",
              "      display: none;\n",
              "      fill: #1967D2;\n",
              "      height: 32px;\n",
              "      padding: 0 0 0 0;\n",
              "      width: 32px;\n",
              "    }\n",
              "\n",
              "    .colab-df-convert:hover {\n",
              "      background-color: #E2EBFA;\n",
              "      box-shadow: 0px 1px 2px rgba(60, 64, 67, 0.3), 0px 1px 3px 1px rgba(60, 64, 67, 0.15);\n",
              "      fill: #174EA6;\n",
              "    }\n",
              "\n",
              "    [theme=dark] .colab-df-convert {\n",
              "      background-color: #3B4455;\n",
              "      fill: #D2E3FC;\n",
              "    }\n",
              "\n",
              "    [theme=dark] .colab-df-convert:hover {\n",
              "      background-color: #434B5C;\n",
              "      box-shadow: 0px 1px 3px 1px rgba(0, 0, 0, 0.15);\n",
              "      filter: drop-shadow(0px 1px 2px rgba(0, 0, 0, 0.3));\n",
              "      fill: #FFFFFF;\n",
              "    }\n",
              "  </style>\n",
              "\n",
              "      <script>\n",
              "        const buttonEl =\n",
              "          document.querySelector('#df-b260c75e-a436-4089-ae5a-c52117ded3d6 button.colab-df-convert');\n",
              "        buttonEl.style.display =\n",
              "          google.colab.kernel.accessAllowed ? 'block' : 'none';\n",
              "\n",
              "        async function convertToInteractive(key) {\n",
              "          const element = document.querySelector('#df-b260c75e-a436-4089-ae5a-c52117ded3d6');\n",
              "          const dataTable =\n",
              "            await google.colab.kernel.invokeFunction('convertToInteractive',\n",
              "                                                     [key], {});\n",
              "          if (!dataTable) return;\n",
              "\n",
              "          const docLinkHtml = 'Like what you see? Visit the ' +\n",
              "            '<a target=\"_blank\" href=https://colab.research.google.com/notebooks/data_table.ipynb>data table notebook</a>'\n",
              "            + ' to learn more about interactive tables.';\n",
              "          element.innerHTML = '';\n",
              "          dataTable['output_type'] = 'display_data';\n",
              "          await google.colab.output.renderOutput(dataTable, element);\n",
              "          const docLink = document.createElement('div');\n",
              "          docLink.innerHTML = docLinkHtml;\n",
              "          element.appendChild(docLink);\n",
              "        }\n",
              "      </script>\n",
              "    </div>\n",
              "  </div>\n"
            ]
          },
          "metadata": {},
          "execution_count": 71
        }
      ]
    },
    {
      "cell_type": "code",
      "source": [
        "print('The type of the features in insulation floor dataset: \\n')\n",
        "print_dtypes(df_insulation_roof)"
      ],
      "metadata": {
        "colab": {
          "base_uri": "https://localhost:8080/"
        },
        "id": "PzVlE2fLO7fK",
        "outputId": "154973c5-a04c-4523-cb56-e7ab3b165b64"
      },
      "execution_count": null,
      "outputs": [
        {
          "output_type": "stream",
          "name": "stdout",
          "text": [
            "The type of the features in insulation floor dataset: \n",
            "\n",
            "Quality_insulation_upper_floor_roof_terrace: object\n",
            "Quality_insulation_envelope: object\n",
            "Roof_insulation_(0/1): float64\n",
            "Year_construction: float64\n",
            "Living_area_housing: float64\n",
            "Postal_code_(BAN): float64\n",
            "Final_ECS_Consumption: float64\n",
            "Primary_5_usages_consumption: float64\n"
          ]
        }
      ]
    },
    {
      "cell_type": "code",
      "source": [
        "missing_results = check_missing_values(df_insulation_roof)\n",
        "df_missing_results = pd.DataFrame(columns=['feature', 'missing_ratio'])\n",
        "df_missing_results['feature'] = missing_results.keys()\n",
        "df_missing_results['missing_ratio'] = missing_results.values()\n",
        "print('The information about missing values in insulation floor data: \\n')\n",
        "print(df_missing_results)"
      ],
      "metadata": {
        "colab": {
          "base_uri": "https://localhost:8080/"
        },
        "id": "7ci6-r96O7jl",
        "outputId": "43f2884b-b02c-47a6-9f46-0d6cb6f8ffd0"
      },
      "execution_count": null,
      "outputs": [
        {
          "output_type": "stream",
          "name": "stdout",
          "text": [
            "The information about missing values in insulation floor data: \n",
            "\n",
            "                                       feature  missing_ratio\n",
            "0  Quality_insulation_upper_floor_roof_terrace   8.391551e-01\n",
            "1                        Roof_insulation_(0/1)   3.249902e-01\n",
            "2                            Year_construction   3.183333e-01\n",
            "3                          Living_area_housing   1.102546e-02\n",
            "4                            Postal_code_(BAN)   5.146526e-03\n",
            "5                        Final_ECS_Consumption   9.350944e-07\n",
            "6                 Primary_5_usages_consumption   1.077696e-04\n"
          ]
        }
      ]
    },
    {
      "cell_type": "code",
      "source": [
        "def count_rows_with_n_nulls(df, n):\n",
        "    null_counts = df.isnull().sum(axis=1)\n",
        "    return (null_counts == n).sum()\n"
      ],
      "metadata": {
        "id": "_1fXtBKSO7nm"
      },
      "execution_count": null,
      "outputs": []
    },
    {
      "cell_type": "code",
      "source": [
        "missing_row_1 = count_rows_with_n_nulls(df_insulation_roof, 1)\n",
        "print(missing_row_1)\n",
        "\n",
        "missing_row_2 = count_rows_with_n_nulls(df_insulation_roof, 2)\n",
        "print(missing_row_2)\n",
        "\n",
        "missing_row_3 = count_rows_with_n_nulls(df_insulation_roof, 3)\n",
        "print(missing_row_3)"
      ],
      "metadata": {
        "colab": {
          "base_uri": "https://localhost:8080/"
        },
        "id": "Mv_xIp0XO7ry",
        "outputId": "b9971d18-593f-4e2f-f988-3a1208a94246"
      },
      "execution_count": null,
      "outputs": [
        {
          "output_type": "stream",
          "name": "stdout",
          "text": [
            "1806648\n",
            "2123497\n",
            "103033\n"
          ]
        }
      ]
    },
    {
      "cell_type": "code",
      "source": [
        "mapping = {'insuffisante': 0, 'moyenne': 1, 'bonne': 2, 'très bonne': 3}\n",
        "df_insulation_roof_encoded = df_insulation_roof.replace(mapping)"
      ],
      "metadata": {
        "id": "wNd129cnO7wU"
      },
      "execution_count": null,
      "outputs": []
    },
    {
      "cell_type": "code",
      "source": [
        "# Get data without missing values\n",
        "df_insulation_roof_encoded_no_missing_values = df_insulation_roof_encoded.dropna()"
      ],
      "metadata": {
        "id": "1ihgNYmfEr6k"
      },
      "execution_count": null,
      "outputs": []
    },
    {
      "cell_type": "code",
      "source": [
        "def process_postal_code(df):\n",
        "    # Convert the zip code column to a string, and use str.zfill() to complete five digits\n",
        "    df['Postal_code_(BAN)'] = df['Postal_code_(BAN)'].astype('Int64').astype(str).str.zfill(5)\n",
        "\n",
        "    # Create a new column to store the processed zip code\n",
        "    df['Postal_code_(BAN)'] = df['Postal_code_(BAN)'].apply(lambda x: x[:2] if x[:2].isdigit() else 'NaN')\n",
        "\n",
        "    # Convert the new column to float\n",
        "    df['Postal_code_(BAN)'] = df['Postal_code_(BAN)'].apply(lambda x: float(x) if x != 'NaN' else float('nan'))\n",
        "\n",
        "    return df"
      ],
      "metadata": {
        "id": "ALzkETehEsFq"
      },
      "execution_count": null,
      "outputs": []
    },
    {
      "cell_type": "code",
      "source": [
        "df_insulation_roof_encoded_no_missing_values = process_postal_code(df_insulation_roof_encoded_no_missing_values)"
      ],
      "metadata": {
        "colab": {
          "base_uri": "https://localhost:8080/"
        },
        "id": "EtS3McffO8mf",
        "outputId": "5e8973df-cb02-46e5-cf37-c6995ce2bd47"
      },
      "execution_count": null,
      "outputs": [
        {
          "output_type": "stream",
          "name": "stderr",
          "text": [
            "<ipython-input-78-977e4c42af8e>:3: SettingWithCopyWarning: \n",
            "A value is trying to be set on a copy of a slice from a DataFrame.\n",
            "Try using .loc[row_indexer,col_indexer] = value instead\n",
            "\n",
            "See the caveats in the documentation: https://pandas.pydata.org/pandas-docs/stable/user_guide/indexing.html#returning-a-view-versus-a-copy\n",
            "  df['Postal_code_(BAN)'] = df['Postal_code_(BAN)'].astype('Int64').astype(str).str.zfill(5)\n",
            "<ipython-input-78-977e4c42af8e>:6: SettingWithCopyWarning: \n",
            "A value is trying to be set on a copy of a slice from a DataFrame.\n",
            "Try using .loc[row_indexer,col_indexer] = value instead\n",
            "\n",
            "See the caveats in the documentation: https://pandas.pydata.org/pandas-docs/stable/user_guide/indexing.html#returning-a-view-versus-a-copy\n",
            "  df['Postal_code_(BAN)'] = df['Postal_code_(BAN)'].apply(lambda x: x[:2] if x[:2].isdigit() else 'NaN')\n",
            "<ipython-input-78-977e4c42af8e>:9: SettingWithCopyWarning: \n",
            "A value is trying to be set on a copy of a slice from a DataFrame.\n",
            "Try using .loc[row_indexer,col_indexer] = value instead\n",
            "\n",
            "See the caveats in the documentation: https://pandas.pydata.org/pandas-docs/stable/user_guide/indexing.html#returning-a-view-versus-a-copy\n",
            "  df['Postal_code_(BAN)'] = df['Postal_code_(BAN)'].apply(lambda x: float(x) if x != 'NaN' else float('nan'))\n"
          ]
        }
      ]
    },
    {
      "cell_type": "code",
      "source": [
        "import math\n",
        "# Define a function for rounding a year to the nearest 10\n",
        "def round_to_nearest_decade(year):\n",
        "    return math.floor(year / 10) * 10\n",
        "\n",
        "def process_year(df):\n",
        "    df['Year_construction'] = df['Year_construction'].apply(round_to_nearest_decade)\n",
        "    return df\n"
      ],
      "metadata": {
        "id": "mz6quqRJO8tC"
      },
      "execution_count": null,
      "outputs": []
    },
    {
      "cell_type": "code",
      "source": [
        "df_insulation_roof_encoded_no_missing_values = process_year(df_insulation_roof_encoded_no_missing_values)"
      ],
      "metadata": {
        "colab": {
          "base_uri": "https://localhost:8080/"
        },
        "id": "7lLjQBQAP3KM",
        "outputId": "da607343-9734-4b6a-ce83-4b7e556d5c91"
      },
      "execution_count": null,
      "outputs": [
        {
          "output_type": "stream",
          "name": "stderr",
          "text": [
            "<ipython-input-80-95aec6f7b944>:7: SettingWithCopyWarning: \n",
            "A value is trying to be set on a copy of a slice from a DataFrame.\n",
            "Try using .loc[row_indexer,col_indexer] = value instead\n",
            "\n",
            "See the caveats in the documentation: https://pandas.pydata.org/pandas-docs/stable/user_guide/indexing.html#returning-a-view-versus-a-copy\n",
            "  df['Year_construction'] = df['Year_construction'].apply(round_to_nearest_decade)\n"
          ]
        }
      ]
    },
    {
      "cell_type": "code",
      "source": [
        "# Normalize numeric data\n",
        "scaler = StandardScaler()\n",
        "df_insulation_roof_encoded_no_missing_values[[\n",
        "                    # 'Quality_insulation_lower_floor',\n",
        "                    'Year_construction',\n",
        "                    # 'Living_area_building',\n",
        "                    'Living_area_housing',\n",
        "                    # 'Postal_code_(BAN)',\n",
        "                    'Final_ECS_Consumption',\n",
        "                    'Primary_5_usages_consumption',\n",
        "                    # 'Roof_insulation_(0/1)',\n",
        "                    # 'Losses_doors',\n",
        "                    # 'Losses_glazed_bays',\n",
        "                    ]] = scaler.fit_transform(df_insulation_roof_encoded_no_missing_values[[\n",
        "                    # 'Quality_insulation_lower_floor',\n",
        "                    'Year_construction',\n",
        "                    # 'Living_area_building',\n",
        "                    'Living_area_housing',\n",
        "                    # 'Postal_code_(BAN)',\n",
        "                    'Final_ECS_Consumption',\n",
        "                    'Primary_5_usages_consumption',\n",
        "                    # 'Roof_insulation_(0/1)',\n",
        "                    # 'Losses_doors',\n",
        "                    # 'Losses_glazed_bays',\n",
        "                    ]])"
      ],
      "metadata": {
        "colab": {
          "base_uri": "https://localhost:8080/"
        },
        "id": "G-xi0bfqP3Ov",
        "outputId": "783e822b-747e-4da5-f656-847979c660c9"
      },
      "execution_count": null,
      "outputs": [
        {
          "output_type": "stream",
          "name": "stderr",
          "text": [
            "<ipython-input-82-75a5146c8afc>:3: SettingWithCopyWarning: \n",
            "A value is trying to be set on a copy of a slice from a DataFrame.\n",
            "Try using .loc[row_indexer,col_indexer] = value instead\n",
            "\n",
            "See the caveats in the documentation: https://pandas.pydata.org/pandas-docs/stable/user_guide/indexing.html#returning-a-view-versus-a-copy\n",
            "  df_insulation_roof_encoded_no_missing_values[[\n"
          ]
        }
      ]
    },
    {
      "cell_type": "code",
      "source": [
        "df_insulation_roof_encoded_no_missing_values.describe()"
      ],
      "metadata": {
        "colab": {
          "base_uri": "https://localhost:8080/"
        },
        "id": "csvaGkF7P3TH",
        "outputId": "e7c5fe2a-f183-435b-c1fc-7d23a28f820c"
      },
      "execution_count": null,
      "outputs": [
        {
          "output_type": "execute_result",
          "data": {
            "text/plain": [
              "       Quality_insulation_upper_floor_roof_terrace  \\\n",
              "count                                232369.000000   \n",
              "mean                                      1.156419   \n",
              "std                                       1.295134   \n",
              "min                                       0.000000   \n",
              "25%                                       0.000000   \n",
              "50%                                       0.000000   \n",
              "75%                                       3.000000   \n",
              "max                                       3.000000   \n",
              "\n",
              "       Quality_insulation_envelope  Roof_insulation_(0/1)  Year_construction  \\\n",
              "count                232369.000000          232369.000000       2.323690e+05   \n",
              "mean                      1.000904               0.762869       2.994218e-15   \n",
              "std                       1.105161               0.425324       1.000002e+00   \n",
              "min                       0.000000               0.000000      -2.066553e+01   \n",
              "25%                       0.000000               1.000000      -6.511387e-01   \n",
              "50%                       1.000000               1.000000       1.602554e-01   \n",
              "75%                       2.000000               1.000000       7.011849e-01   \n",
              "max                       3.000000               1.000000       3.405832e+00   \n",
              "\n",
              "       Living_area_housing  Postal_code_(BAN)  Final_ECS_Consumption  \\\n",
              "count         2.323690e+05      232369.000000           2.323690e+05   \n",
              "mean         -1.639298e-16          53.664353          -1.278169e-17   \n",
              "std           1.000002e+00          27.061485           1.000002e+00   \n",
              "min          -9.598579e-01           1.000000          -1.008298e+00   \n",
              "25%          -3.804140e-01          33.000000          -2.881361e-01   \n",
              "50%          -1.486364e-01          59.000000          -1.308710e-01   \n",
              "75%           1.563341e-01          76.000000           8.654296e-02   \n",
              "max           9.668560e+01          97.000000           2.254388e+02   \n",
              "\n",
              "       Primary_5_usages_consumption  \n",
              "count                  2.323690e+05  \n",
              "mean                  -6.635471e-18  \n",
              "std                    1.000002e+00  \n",
              "min                   -3.021885e-02  \n",
              "25%                   -1.664909e-02  \n",
              "50%                   -8.809874e-03  \n",
              "75%                    4.767742e-03  \n",
              "max                    4.818430e+02  "
            ],
            "text/html": [
              "\n",
              "\n",
              "  <div id=\"df-064b4f8c-e1c2-46e1-b678-b6e4f99d6768\">\n",
              "    <div class=\"colab-df-container\">\n",
              "      <div>\n",
              "<style scoped>\n",
              "    .dataframe tbody tr th:only-of-type {\n",
              "        vertical-align: middle;\n",
              "    }\n",
              "\n",
              "    .dataframe tbody tr th {\n",
              "        vertical-align: top;\n",
              "    }\n",
              "\n",
              "    .dataframe thead th {\n",
              "        text-align: right;\n",
              "    }\n",
              "</style>\n",
              "<table border=\"1\" class=\"dataframe\">\n",
              "  <thead>\n",
              "    <tr style=\"text-align: right;\">\n",
              "      <th></th>\n",
              "      <th>Quality_insulation_upper_floor_roof_terrace</th>\n",
              "      <th>Quality_insulation_envelope</th>\n",
              "      <th>Roof_insulation_(0/1)</th>\n",
              "      <th>Year_construction</th>\n",
              "      <th>Living_area_housing</th>\n",
              "      <th>Postal_code_(BAN)</th>\n",
              "      <th>Final_ECS_Consumption</th>\n",
              "      <th>Primary_5_usages_consumption</th>\n",
              "    </tr>\n",
              "  </thead>\n",
              "  <tbody>\n",
              "    <tr>\n",
              "      <th>count</th>\n",
              "      <td>232369.000000</td>\n",
              "      <td>232369.000000</td>\n",
              "      <td>232369.000000</td>\n",
              "      <td>2.323690e+05</td>\n",
              "      <td>2.323690e+05</td>\n",
              "      <td>232369.000000</td>\n",
              "      <td>2.323690e+05</td>\n",
              "      <td>2.323690e+05</td>\n",
              "    </tr>\n",
              "    <tr>\n",
              "      <th>mean</th>\n",
              "      <td>1.156419</td>\n",
              "      <td>1.000904</td>\n",
              "      <td>0.762869</td>\n",
              "      <td>2.994218e-15</td>\n",
              "      <td>-1.639298e-16</td>\n",
              "      <td>53.664353</td>\n",
              "      <td>-1.278169e-17</td>\n",
              "      <td>-6.635471e-18</td>\n",
              "    </tr>\n",
              "    <tr>\n",
              "      <th>std</th>\n",
              "      <td>1.295134</td>\n",
              "      <td>1.105161</td>\n",
              "      <td>0.425324</td>\n",
              "      <td>1.000002e+00</td>\n",
              "      <td>1.000002e+00</td>\n",
              "      <td>27.061485</td>\n",
              "      <td>1.000002e+00</td>\n",
              "      <td>1.000002e+00</td>\n",
              "    </tr>\n",
              "    <tr>\n",
              "      <th>min</th>\n",
              "      <td>0.000000</td>\n",
              "      <td>0.000000</td>\n",
              "      <td>0.000000</td>\n",
              "      <td>-2.066553e+01</td>\n",
              "      <td>-9.598579e-01</td>\n",
              "      <td>1.000000</td>\n",
              "      <td>-1.008298e+00</td>\n",
              "      <td>-3.021885e-02</td>\n",
              "    </tr>\n",
              "    <tr>\n",
              "      <th>25%</th>\n",
              "      <td>0.000000</td>\n",
              "      <td>0.000000</td>\n",
              "      <td>1.000000</td>\n",
              "      <td>-6.511387e-01</td>\n",
              "      <td>-3.804140e-01</td>\n",
              "      <td>33.000000</td>\n",
              "      <td>-2.881361e-01</td>\n",
              "      <td>-1.664909e-02</td>\n",
              "    </tr>\n",
              "    <tr>\n",
              "      <th>50%</th>\n",
              "      <td>0.000000</td>\n",
              "      <td>1.000000</td>\n",
              "      <td>1.000000</td>\n",
              "      <td>1.602554e-01</td>\n",
              "      <td>-1.486364e-01</td>\n",
              "      <td>59.000000</td>\n",
              "      <td>-1.308710e-01</td>\n",
              "      <td>-8.809874e-03</td>\n",
              "    </tr>\n",
              "    <tr>\n",
              "      <th>75%</th>\n",
              "      <td>3.000000</td>\n",
              "      <td>2.000000</td>\n",
              "      <td>1.000000</td>\n",
              "      <td>7.011849e-01</td>\n",
              "      <td>1.563341e-01</td>\n",
              "      <td>76.000000</td>\n",
              "      <td>8.654296e-02</td>\n",
              "      <td>4.767742e-03</td>\n",
              "    </tr>\n",
              "    <tr>\n",
              "      <th>max</th>\n",
              "      <td>3.000000</td>\n",
              "      <td>3.000000</td>\n",
              "      <td>1.000000</td>\n",
              "      <td>3.405832e+00</td>\n",
              "      <td>9.668560e+01</td>\n",
              "      <td>97.000000</td>\n",
              "      <td>2.254388e+02</td>\n",
              "      <td>4.818430e+02</td>\n",
              "    </tr>\n",
              "  </tbody>\n",
              "</table>\n",
              "</div>\n",
              "      <button class=\"colab-df-convert\" onclick=\"convertToInteractive('df-064b4f8c-e1c2-46e1-b678-b6e4f99d6768')\"\n",
              "              title=\"Convert this dataframe to an interactive table.\"\n",
              "              style=\"display:none;\">\n",
              "\n",
              "  <svg xmlns=\"http://www.w3.org/2000/svg\" height=\"24px\"viewBox=\"0 0 24 24\"\n",
              "       width=\"24px\">\n",
              "    <path d=\"M0 0h24v24H0V0z\" fill=\"none\"/>\n",
              "    <path d=\"M18.56 5.44l.94 2.06.94-2.06 2.06-.94-2.06-.94-.94-2.06-.94 2.06-2.06.94zm-11 1L8.5 8.5l.94-2.06 2.06-.94-2.06-.94L8.5 2.5l-.94 2.06-2.06.94zm10 10l.94 2.06.94-2.06 2.06-.94-2.06-.94-.94-2.06-.94 2.06-2.06.94z\"/><path d=\"M17.41 7.96l-1.37-1.37c-.4-.4-.92-.59-1.43-.59-.52 0-1.04.2-1.43.59L10.3 9.45l-7.72 7.72c-.78.78-.78 2.05 0 2.83L4 21.41c.39.39.9.59 1.41.59.51 0 1.02-.2 1.41-.59l7.78-7.78 2.81-2.81c.8-.78.8-2.07 0-2.86zM5.41 20L4 18.59l7.72-7.72 1.47 1.35L5.41 20z\"/>\n",
              "  </svg>\n",
              "      </button>\n",
              "\n",
              "\n",
              "\n",
              "    <div id=\"df-0f141e0f-96ad-4cdc-946d-d881bf3c5d58\">\n",
              "      <button class=\"colab-df-quickchart\" onclick=\"quickchart('df-0f141e0f-96ad-4cdc-946d-d881bf3c5d58')\"\n",
              "              title=\"Suggest charts.\"\n",
              "              style=\"display:none;\">\n",
              "\n",
              "<svg xmlns=\"http://www.w3.org/2000/svg\" height=\"24px\"viewBox=\"0 0 24 24\"\n",
              "     width=\"24px\">\n",
              "    <g>\n",
              "        <path d=\"M19 3H5c-1.1 0-2 .9-2 2v14c0 1.1.9 2 2 2h14c1.1 0 2-.9 2-2V5c0-1.1-.9-2-2-2zM9 17H7v-7h2v7zm4 0h-2V7h2v10zm4 0h-2v-4h2v4z\"/>\n",
              "    </g>\n",
              "</svg>\n",
              "      </button>\n",
              "    </div>\n",
              "\n",
              "<style>\n",
              "  .colab-df-quickchart {\n",
              "    background-color: #E8F0FE;\n",
              "    border: none;\n",
              "    border-radius: 50%;\n",
              "    cursor: pointer;\n",
              "    display: none;\n",
              "    fill: #1967D2;\n",
              "    height: 32px;\n",
              "    padding: 0 0 0 0;\n",
              "    width: 32px;\n",
              "  }\n",
              "\n",
              "  .colab-df-quickchart:hover {\n",
              "    background-color: #E2EBFA;\n",
              "    box-shadow: 0px 1px 2px rgba(60, 64, 67, 0.3), 0px 1px 3px 1px rgba(60, 64, 67, 0.15);\n",
              "    fill: #174EA6;\n",
              "  }\n",
              "\n",
              "  [theme=dark] .colab-df-quickchart {\n",
              "    background-color: #3B4455;\n",
              "    fill: #D2E3FC;\n",
              "  }\n",
              "\n",
              "  [theme=dark] .colab-df-quickchart:hover {\n",
              "    background-color: #434B5C;\n",
              "    box-shadow: 0px 1px 3px 1px rgba(0, 0, 0, 0.15);\n",
              "    filter: drop-shadow(0px 1px 2px rgba(0, 0, 0, 0.3));\n",
              "    fill: #FFFFFF;\n",
              "  }\n",
              "</style>\n",
              "\n",
              "    <script>\n",
              "      async function quickchart(key) {\n",
              "        const containerElement = document.querySelector('#' + key);\n",
              "        const charts = await google.colab.kernel.invokeFunction(\n",
              "            'suggestCharts', [key], {});\n",
              "      }\n",
              "    </script>\n",
              "\n",
              "      <script>\n",
              "\n",
              "function displayQuickchartButton(domScope) {\n",
              "  let quickchartButtonEl =\n",
              "    domScope.querySelector('#df-0f141e0f-96ad-4cdc-946d-d881bf3c5d58 button.colab-df-quickchart');\n",
              "  quickchartButtonEl.style.display =\n",
              "    google.colab.kernel.accessAllowed ? 'block' : 'none';\n",
              "}\n",
              "\n",
              "        displayQuickchartButton(document);\n",
              "      </script>\n",
              "      <style>\n",
              "    .colab-df-container {\n",
              "      display:flex;\n",
              "      flex-wrap:wrap;\n",
              "      gap: 12px;\n",
              "    }\n",
              "\n",
              "    .colab-df-convert {\n",
              "      background-color: #E8F0FE;\n",
              "      border: none;\n",
              "      border-radius: 50%;\n",
              "      cursor: pointer;\n",
              "      display: none;\n",
              "      fill: #1967D2;\n",
              "      height: 32px;\n",
              "      padding: 0 0 0 0;\n",
              "      width: 32px;\n",
              "    }\n",
              "\n",
              "    .colab-df-convert:hover {\n",
              "      background-color: #E2EBFA;\n",
              "      box-shadow: 0px 1px 2px rgba(60, 64, 67, 0.3), 0px 1px 3px 1px rgba(60, 64, 67, 0.15);\n",
              "      fill: #174EA6;\n",
              "    }\n",
              "\n",
              "    [theme=dark] .colab-df-convert {\n",
              "      background-color: #3B4455;\n",
              "      fill: #D2E3FC;\n",
              "    }\n",
              "\n",
              "    [theme=dark] .colab-df-convert:hover {\n",
              "      background-color: #434B5C;\n",
              "      box-shadow: 0px 1px 3px 1px rgba(0, 0, 0, 0.15);\n",
              "      filter: drop-shadow(0px 1px 2px rgba(0, 0, 0, 0.3));\n",
              "      fill: #FFFFFF;\n",
              "    }\n",
              "  </style>\n",
              "\n",
              "      <script>\n",
              "        const buttonEl =\n",
              "          document.querySelector('#df-064b4f8c-e1c2-46e1-b678-b6e4f99d6768 button.colab-df-convert');\n",
              "        buttonEl.style.display =\n",
              "          google.colab.kernel.accessAllowed ? 'block' : 'none';\n",
              "\n",
              "        async function convertToInteractive(key) {\n",
              "          const element = document.querySelector('#df-064b4f8c-e1c2-46e1-b678-b6e4f99d6768');\n",
              "          const dataTable =\n",
              "            await google.colab.kernel.invokeFunction('convertToInteractive',\n",
              "                                                     [key], {});\n",
              "          if (!dataTable) return;\n",
              "\n",
              "          const docLinkHtml = 'Like what you see? Visit the ' +\n",
              "            '<a target=\"_blank\" href=https://colab.research.google.com/notebooks/data_table.ipynb>data table notebook</a>'\n",
              "            + ' to learn more about interactive tables.';\n",
              "          element.innerHTML = '';\n",
              "          dataTable['output_type'] = 'display_data';\n",
              "          await google.colab.output.renderOutput(dataTable, element);\n",
              "          const docLink = document.createElement('div');\n",
              "          docLink.innerHTML = docLinkHtml;\n",
              "          element.appendChild(docLink);\n",
              "        }\n",
              "      </script>\n",
              "    </div>\n",
              "  </div>\n"
            ]
          },
          "metadata": {},
          "execution_count": 83
        }
      ]
    },
    {
      "cell_type": "code",
      "source": [
        "def remove_outliers(df, columns):\n",
        "    for column in columns:\n",
        "        Q1 = df[column].quantile(0.25)\n",
        "        Q3 = df[column].quantile(0.75)\n",
        "        IQR = Q3 - Q1\n",
        "\n",
        "        lower_bound = Q1 - 1.5 * IQR\n",
        "        upper_bound = Q3 + 1.5 * IQR\n",
        "\n",
        "        df = df[(df[column] > lower_bound) & (df[column] < upper_bound)]\n",
        "    return df"
      ],
      "metadata": {
        "id": "Qb0hS5fgQqFm"
      },
      "execution_count": null,
      "outputs": []
    },
    {
      "cell_type": "code",
      "source": [
        "test_columns = [# 'Quality_insulation_lower_floor',\n",
        "                    'Year_construction',\n",
        "                    # 'Living_area_building',\n",
        "                    'Living_area_housing',\n",
        "                    'Postal_code_(BAN)',\n",
        "                    'Final_ECS_Consumption',\n",
        "                    'Primary_5_usages_consumption',\n",
        "                    # 'Roof_insulation_(0/1)',\n",
        "                    # 'Losses_doors',\n",
        "                    # 'Losses_glazed_bays',\n",
        "                    # 'Quality_insulation_envelope',\n",
        "                    ]\n",
        "df_insulation_roof_encoded_no_missing_values_outliers = remove_outliers(df_insulation_roof_encoded_no_missing_values, test_columns)"
      ],
      "metadata": {
        "id": "ASCrUaFxP3YQ"
      },
      "execution_count": null,
      "outputs": []
    },
    {
      "cell_type": "code",
      "source": [
        "from sklearn.preprocessing import MinMaxScaler\n",
        "\n",
        "scaler = MinMaxScaler(feature_range=(0, 1))\n",
        "df_insulation_roof_encoded_no_missing_values_outliers[[\n",
        "                    # 'Quality_insulation_lower_floor',\n",
        "                    'Year_construction',\n",
        "                    # 'Living_area_building',\n",
        "                    'Living_area_housing',\n",
        "                    'Postal_code_(BAN)',\n",
        "                    'Final_ECS_Consumption',\n",
        "                    'Primary_5_usages_consumption',\n",
        "                    # 'Roof_insulation_(0/1)',\n",
        "                    # 'Losses_doors',\n",
        "                    # 'Losses_glazed_bays',\n",
        "                    # 'Quality_insulation_envelope',\n",
        "                    ]] = scaler.fit_transform(df_insulation_roof_encoded_no_missing_values_outliers[[\n",
        "                    # 'Quality_insulation_lower_floor',\n",
        "                    'Year_construction',\n",
        "                    # 'Living_area_building',\n",
        "                    'Living_area_housing',\n",
        "                    'Postal_code_(BAN)',\n",
        "                    'Final_ECS_Consumption',\n",
        "                    'Primary_5_usages_consumption',\n",
        "                    # 'Roof_insulation_(0/1)',\n",
        "                    # 'Losses_doors',\n",
        "                    # 'Losses_glazed_bays',\n",
        "                    # 'Quality_insulation_envelope',\n",
        "                    ]])\n"
      ],
      "metadata": {
        "id": "JemOGKkBRGCn"
      },
      "execution_count": null,
      "outputs": []
    },
    {
      "cell_type": "code",
      "source": [
        "check_columns = list(df_insulation_roof_encoded_no_missing_values_outliers.columns.values)\n",
        "# check_class_balance(df_diabetic_data, check_columns)\n",
        "\n",
        "plt.figure(figsize = (20, 40))\n",
        "i = 1\n",
        "column = check_columns\n",
        "\n",
        "# plot the distributions\n",
        "for col in column:\n",
        "    plt.subplot(10, 5, i)\n",
        "    plt.title('The distribution of {}'.format(col))\n",
        "    plt.xlabel('{}'.format(col))\n",
        "    # plt.ylabel('Count')\n",
        "    plt.hist(df_insulation_roof_encoded_no_missing_values_outliers[col])\n",
        "    i += 1\n",
        "\n",
        "plt.subplots_adjust(wspace = 0.3, hspace = 0.5)"
      ],
      "metadata": {
        "colab": {
          "base_uri": "https://localhost:8080/"
        },
        "id": "XwN6ulJLRKIG",
        "outputId": "4ad415db-647f-4c50-910f-0ce2b7953d5e"
      },
      "execution_count": null,
      "outputs": [
        {
          "output_type": "display_data",
          "data": {
            "text/plain": [
              "<Figure size 2000x4000 with 8 Axes>"
            ],
            "image/png": "[encoded data removed]"
          },
          "metadata": {}
        }
      ]
    },
    {
      "cell_type": "code",
      "source": [
        "plt.figure(figsize = (10, 10))\n",
        "plt.title('Spearman Correlation of Features', size = 15)\n",
        "sns.heatmap(df_insulation_roof_encoded_no_missing_values_outliers.astype(float).corr(method = 'spearman'), linewidths = 0.1, vmax = 1.0, square = True, cmap = 'RdBu_r', linecolor = 'white', annot = True)"
      ],
      "metadata": {
        "colab": {
          "base_uri": "https://localhost:8080/"
        },
        "id": "IUxXS9ElRGIF",
        "outputId": "a91f3ed8-882e-427f-bbd8-56ab3a57c789"
      },
      "execution_count": null,
      "outputs": [
        {
          "output_type": "execute_result",
          "data": {
            "text/plain": [
              "<Axes: title={'center': 'Spearman Correlation of Features'}>"
            ]
          },
          "metadata": {},
          "execution_count": 88
        },
        {
          "output_type": "display_data",
          "data": {
            "text/plain": [
              "<Figure size 1000x1000 with 2 Axes>"
            ],
            "image/png": "[encoded data removed]"
          },
          "metadata": {}
        }
      ]
    },
    {
      "cell_type": "markdown",
      "source": [
        "### Plot functions"
      ],
      "metadata": {
        "id": "7qsJ8vhj2eaL"
      }
    },
    {
      "cell_type": "code",
      "source": [
        "def count_and_plot_completed_data(completed_data_numpy):\n",
        "    '''\n",
        "    Func:\n",
        "        Count and plot the frequency of each value before imputation\n",
        "    Input:\n",
        "        df : Dataframe, no missing values.(Train set)\n",
        "    Output:\n",
        "        No Return\n",
        "\n",
        "    '''\n",
        "    # Count unique values in numpy array\n",
        "    values, counts = np.unique(completed_data_numpy, return_counts = True)\n",
        "\n",
        "    # Calculate frequencies\n",
        "    frequencies = counts / counts.sum()\n",
        "    percentages = 100 * frequencies\n",
        "\n",
        "    # Create bar plot\n",
        "    plt.figure(figsize = (10, 5))\n",
        "    bars = plt.bar(values, counts, color = 'blue')\n",
        "\n",
        "    plt.xlabel('Values')\n",
        "    plt.ylabel('Counts')\n",
        "    plt.title('Count of unique values in completed data')\n",
        "\n",
        "    # Add percentage on top of each bar\n",
        "    for bar, percentage in zip(bars, percentages):\n",
        "        yval = bar.get_height()\n",
        "        plt.text(bar.get_x() + bar.get_width() / 2, yval + 0.005, round(percentage, 2), ha = 'center', va = 'bottom')\n",
        "\n",
        "    plt.show()\n"
      ],
      "metadata": {
        "id": "f6BtzfeFCriM"
      },
      "execution_count": null,
      "outputs": []
    },
    {
      "cell_type": "code",
      "source": [
        "def count_and_plot_missing_data(missing_data_numpy, mask):\n",
        "    '''\n",
        "    Func:\n",
        "        Count and plot the frequency of each value in imputated data.\n",
        "    Input:\n",
        "        df : Dataframe, imputated data.\n",
        "        mask : The position of the missing value in the array.\n",
        "    Output:\n",
        "        No Return\n",
        "\n",
        "    '''\n",
        "    # Apply mask to numpy array\n",
        "    masked_data = missing_data_numpy[mask]\n",
        "\n",
        "    # Count unique values in numpy array\n",
        "    values, counts = np.unique(masked_data, return_counts=True)\n",
        "\n",
        "    # Calculate frequencies\n",
        "    frequencies = counts / counts.sum()\n",
        "    percentages = 100 * frequencies\n",
        "\n",
        "    # Create bar plot\n",
        "    plt.figure(figsize=(10,5))\n",
        "    bars = plt.bar(values, counts, color='blue')\n",
        "\n",
        "    plt.xlabel('Values')\n",
        "    plt.ylabel('Counts')\n",
        "    plt.title('Count of unique values in masked numpy array')\n",
        "\n",
        "    # Add percentage on top of each bar\n",
        "    for bar, percentage in zip(bars, percentages):\n",
        "        yval = bar.get_height()\n",
        "        plt.text(bar.get_x() + bar.get_width()/2, yval + 0.005, round(percentage, 2), ha='center', va='bottom')\n",
        "\n",
        "    plt.show()\n"
      ],
      "metadata": {
        "id": "pa10S6t6CxHx"
      },
      "execution_count": null,
      "outputs": []
    },
    {
      "cell_type": "code",
      "source": [
        "def count_and_plot_missing_data(df, column_name, mask):\n",
        "    '''\n",
        "    Func:\n",
        "        Count and plot the frequency of each value in imputed data.\n",
        "    Input:\n",
        "        df : Dataframe, imputed data.\n",
        "        mask : The position of the missing value in the array.\n",
        "        column_name : String, the name of the column to be plotted.\n",
        "    Output:\n",
        "        No Return\n",
        "\n",
        "    '''\n",
        "    # Get the column index\n",
        "    column_index = df.columns.get_loc(column_name)\n",
        "\n",
        "    # Apply mask to the specific column in the numpy array\n",
        "    masked_data = df.values[mask, column_index]\n",
        "\n",
        "    # Count unique values in numpy array\n",
        "    values, counts = np.unique(masked_data, return_counts=True)\n",
        "\n",
        "    # Calculate frequencies\n",
        "    frequencies = counts / counts.sum()\n",
        "    percentages = 100 * frequencies\n",
        "\n",
        "    # Create bar plot\n",
        "    plt.figure(figsize=(10,5))\n",
        "    bars = plt.bar(values, counts, color='blue')\n",
        "\n",
        "    plt.xlabel('Values')\n",
        "    plt.ylabel('Counts')\n",
        "    plt.title(f'Count of unique values in masked numpy array for {column_name}')\n",
        "\n",
        "    # Add percentage on top of each bar\n",
        "    for bar, percentage in zip(bars, percentages):\n",
        "        yval = bar.get_height()\n",
        "        plt.text(bar.get_x() + bar.get_width()/2, yval + 0.005, round(percentage, 2), ha='center', va='bottom')\n",
        "\n",
        "    plt.show()\n"
      ],
      "metadata": {
        "id": "4Uso2nZcXidV"
      },
      "execution_count": null,
      "outputs": []
    },
    {
      "cell_type": "markdown",
      "source": [
        "# Traditional DAE for upper_floor_roof_terrace"
      ],
      "metadata": {
        "id": "_nQqnzYH5dXl"
      }
    },
    {
      "cell_type": "code",
      "source": [
        "import tensorflow as tf\n",
        "from tensorflow.keras import layers\n",
        "from sklearn.preprocessing import StandardScaler\n",
        "from tensorflow.keras.callbacks import EarlyStopping\n",
        "import numpy as np"
      ],
      "metadata": {
        "id": "3nX4ihEv5dXr"
      },
      "execution_count": null,
      "outputs": []
    },
    {
      "cell_type": "code",
      "source": [
        "# DAE1, can handle classification and regression tasks at the same time, using leaky_relu activation function\n",
        "class DAE(tf.keras.Model):\n",
        "    def __init__(self, original_dim,  name=\"dae\", **kwargs):\n",
        "        super(DAE, self).__init__(name=name, **kwargs)\n",
        "        self.encoder = tf.keras.Sequential([\n",
        "            layers.Dense(original_dim, activation = 'leaky_relu'),\n",
        "            layers.Dense(8, activation = 'leaky_relu'),\n",
        "            layers.Dense(4, activation = 'leaky_relu'),\n",
        "            layers.Dense(4, activation = 'leaky_relu'),\n",
        "\n",
        "        ])\n",
        "\n",
        "        # An encoder that deals with continuous variables,\n",
        "        # its goal is to restore the features of the fourth column and beyond\n",
        "        self.decoder = tf.keras.Sequential([\n",
        "            # layers.Dense(256, activation = 'leaky_relu'),\n",
        "            layers.Dense(4, activation = 'leaky_relu'),\n",
        "            layers.Dense(4, activation = 'leaky_relu'),\n",
        "            layers.Dense(8, activation = 'leaky_relu'),\n",
        "            layers.Dropout(0.2),\n",
        "            layers.Dense(original_dim, activation = 'leaky_relu')\n",
        "        ])\n",
        "\n",
        "    def call(self, inputs):\n",
        "        encoded = self.encoder(inputs)\n",
        "        decoded = self.decoder(encoded)\n",
        "\n",
        "        return decoded\n"
      ],
      "metadata": {
        "id": "iEDenppJ5dXs"
      },
      "execution_count": null,
      "outputs": []
    },
    {
      "cell_type": "code",
      "source": [
        "dae_dataset = df_insulation_roof_encoded_no_missing_values_outliers\n",
        "target_column = 'Quality_insulation_upper_floor_roof_terrace'"
      ],
      "metadata": {
        "id": "yDJvlZ7u5dXs"
      },
      "execution_count": null,
      "outputs": []
    },
    {
      "cell_type": "code",
      "source": [
        "from sklearn.model_selection import train_test_split\n",
        "\n",
        "# Divide the dataset into training and validation sets\n",
        "x_train, x_val = train_test_split(dae_dataset, test_size = 0.2, random_state = 1)\n",
        "x_true = x_val.copy()"
      ],
      "metadata": {
        "id": "vqRW3ELF5dXs"
      },
      "execution_count": null,
      "outputs": []
    },
    {
      "cell_type": "code",
      "source": [
        "import matplotlib.pyplot as plt\n",
        "\n",
        "def plot_loss(history, save_path, fig_title):\n",
        "    plt.plot(history)\n",
        "    plt.title(fig_title)\n",
        "    plt.ylabel('Loss')\n",
        "    plt.xlabel('Epoch')\n",
        "    plt.legend(['Train Loss'], loc='upper right')\n",
        "    plt.savefig(save_path)\n",
        "    plt.show()\n"
      ],
      "metadata": {
        "id": "eqTd2BaQ5dXs"
      },
      "execution_count": null,
      "outputs": []
    },
    {
      "cell_type": "code",
      "source": [
        "# In the ensemble method, the training code of DAE1 replaces a random mask every round of training.\n",
        "\n",
        "# Convert the dataset to np format\n",
        "x_train_np = x_train.values\n",
        "\n",
        "dae = DAE(original_dim = x_train_np.shape[1])\n",
        "optimizer = tf.keras.optimizers.Adam(learning_rate = 0.001)\n",
        "dae.compile(optimizer, loss=tf.keras.losses.MeanAbsoluteError())\n",
        "\n",
        "# set up early stopping, but this has no effect when iterations_per_noise = 1.\n",
        "early_stop = EarlyStopping(monitor='loss', min_delta = 0.0005, patience=5)\n",
        "\n",
        "# multiple epochs with different sparsity noise\n",
        "num_epochs = 20\n",
        "iterations_per_noise = 20\n",
        "loss_history = []\n",
        "fig_title = 'DAE Loss'\n",
        "save_path = '/content/gdrive/MyDrive/Colab Notebooks/DPE_code/result/dae_result_upper_floor_roof_terrace.png'\n",
        "\n",
        "for epoch in range(num_epochs // iterations_per_noise):\n",
        "    # create a new array with the same shape as x_train_np but with all elements -1\n",
        "    x_train_np_minus_one = np.full(x_train_np.shape, -1)\n",
        "\n",
        "    # Create a mask, the shape of the mask is the same as x_train_np, p = masking_factor represents the probability of 1 on the mask\n",
        "    masking_factor = 0.70       # Note that due to the replacement rules in tf.where later, the masking factor here should be 1-target value\n",
        "    mask = np.random.binomial(n = 1, p = masking_factor, size = x_train_np.shape)\n",
        "\n",
        "    # Use the tf.where function to replace the value in x_train_np with -1 according to the mask to get the noise data\n",
        "    x_train_np_noisy = tf.where(mask == 1, x_train_np, x_train_np_minus_one)\n",
        "\n",
        "    for iteration in range(iterations_per_noise):\n",
        "        print(f\"Noise Epoch {epoch + 1}/{num_epochs // iterations_per_noise}, Iteration {iteration + 1}/{iterations_per_noise}\")\n",
        "        # dae.fit(x_train_np_noisy, x_train_np, batch_size = 256, callbacks=[early_stop])\n",
        "        history = dae.fit(x_train_np_noisy, x_train_np, batch_size = 256, callbacks=[early_stop], verbose=0)\n",
        "        print(\"Train loss: \",history.history['loss'][0])\n",
        "        loss_history.append(history.history['loss'][0])\n",
        "\n",
        "plot_loss(loss_history, save_path, fig_title)\n"
      ],
      "metadata": {
        "colab": {
          "base_uri": "https://localhost:8080/",
          "height": 1000
        },
        "outputId": "6ecceed5-af68-406c-af2a-96fb7bf6fafc",
        "id": "4TAKL0rQ5dXs"
      },
      "execution_count": null,
      "outputs": [
        {
          "output_type": "stream",
          "name": "stdout",
          "text": [
            "Noise Epoch 1/1, Iteration 1/20\n",
            "Train loss:  0.4078138470649719\n",
            "Noise Epoch 1/1, Iteration 2/20\n",
            "Train loss:  0.28419795632362366\n",
            "Noise Epoch 1/1, Iteration 3/20\n",
            "Train loss:  0.2719763517379761\n",
            "Noise Epoch 1/1, Iteration 4/20\n",
            "Train loss:  0.26413941383361816\n",
            "Noise Epoch 1/1, Iteration 5/20\n",
            "Train loss:  0.2514151632785797\n",
            "Noise Epoch 1/1, Iteration 6/20\n",
            "Train loss:  0.23873257637023926\n",
            "Noise Epoch 1/1, Iteration 7/20\n",
            "Train loss:  0.23128479719161987\n",
            "Noise Epoch 1/1, Iteration 8/20\n",
            "Train loss:  0.22961612045764923\n",
            "Noise Epoch 1/1, Iteration 9/20\n",
            "Train loss:  0.2283296287059784\n",
            "Noise Epoch 1/1, Iteration 10/20\n",
            "Train loss:  0.22800208628177643\n",
            "Noise Epoch 1/1, Iteration 11/20\n",
            "Train loss:  0.22719062864780426\n",
            "Noise Epoch 1/1, Iteration 12/20\n",
            "Train loss:  0.2267221361398697\n",
            "Noise Epoch 1/1, Iteration 13/20\n",
            "Train loss:  0.22657091915607452\n",
            "Noise Epoch 1/1, Iteration 14/20\n",
            "Train loss:  0.2264157235622406\n",
            "Noise Epoch 1/1, Iteration 15/20\n",
            "Train loss:  0.22615006566047668\n",
            "Noise Epoch 1/1, Iteration 16/20\n",
            "Train loss:  0.2259674072265625\n",
            "Noise Epoch 1/1, Iteration 17/20\n",
            "Train loss:  0.22583982348442078\n",
            "Noise Epoch 1/1, Iteration 18/20\n",
            "Train loss:  0.22544468939304352\n",
            "Noise Epoch 1/1, Iteration 19/20\n",
            "Train loss:  0.22495052218437195\n",
            "Noise Epoch 1/1, Iteration 20/20\n",
            "Train loss:  0.2243989259004593\n"
          ]
        },
        {
          "output_type": "display_data",
          "data": {
            "text/plain": [
              "<Figure size 640x480 with 1 Axes>"
            ],
            "image/png": "[encoded data removed]"
          },
          "metadata": {}
        }
      ]
    },
    {
      "cell_type": "code",
      "source": [
        "# Interpolation process function. This function is used for non-ensemble methods.\n",
        "def insert_and_impute(df, df_true, train_df, column_name, fraction, vae, num_iterations = 10):\n",
        "    # Create a copy of df\n",
        "    df_copy = df.copy()\n",
        "    df_copy_np = df_copy.values\n",
        "\n",
        "    # create a new array with the same shape as x_train_np but with all elements -1\n",
        "    df_copy_np_minus_one = np.full(df_copy_np.shape, -1)\n",
        "\n",
        "    # Create a mask, the shape of the mask is the same as x_train_np, p = masking_factor represents the probability of 1 on the mask\n",
        "    masking_factor = 1 - fraction\n",
        "    mask = np.random.binomial(n = 1, p = masking_factor, size = df_copy_np.shape)\n",
        "\n",
        "    # Use the tf.where function to replace the value in x_train_np with -1 according to the mask to get the noise data\n",
        "    df_copy_np_noisy = tf.where(mask, df_copy_np, df_copy_np_minus_one)\n",
        "    df_copy_np_noisy = tf.cast(df_copy_np_noisy, tf.float32)\n",
        "\n",
        "    # print(df_copy_np_noisy)\n",
        "\n",
        "    # Convert dataframe to input format accepted by vae\n",
        "    missing_data = tf.Variable(df_copy_np_noisy, dtype = tf.float32, trainable=True)\n",
        "    true_data = tf.Variable(df_true.values.astype('float32'), trainable = True)\n",
        "\n",
        "    # Convert numpy mask to tensorflow tensor\n",
        "    mask = tf.convert_to_tensor(mask, dtype = tf.bool)\n",
        "    mask = np.logical_not(mask)\n",
        "\n",
        "    # Get the column index for the loss calculation\n",
        "    column_index = df.columns.get_loc(column_name)\n",
        "\n",
        "    # Iterate num_iterations rounds to impute missing values\n",
        "    for i in range(num_iterations):\n",
        "        # Get imputed data\n",
        "        imputed_data = vae(missing_data)\n",
        "        # imputed_data = reshape_dae_output(imputed_data)\n",
        "\n",
        "        # RMSE on specified column\n",
        "        # loss = tf.sqrt(tf.reduce_mean(tf.square((imputed_data[:, column_index] - true_data[:, column_index])[mask[:, column_index]])))\n",
        "        # MAE on specified column\n",
        "        loss = tf.reduce_mean(tf.abs(imputed_data[:, column_index] - true_data[:, column_index])[mask[:, column_index]])\n",
        "        print('Target column loss:', loss)\n",
        "\n",
        "        loss = tf.reduce_mean(tf.abs(imputed_data - true_data)[mask])\n",
        "        print('Loss:', loss)\n",
        "\n",
        "        # Apply mask to imputed and true data\n",
        "        imputed_data_masked = tf.boolean_mask(imputed_data[:, column_index], mask[:, column_index])\n",
        "        true_data_masked = tf.boolean_mask(true_data[:, column_index], mask[:, column_index])\n",
        "\n",
        "        # Create a mask for correct imputations\n",
        "        accuracy_mask = (tf.abs(imputed_data_masked - true_data_masked) < 0.5)\n",
        "\n",
        "        # Calculate accuracy by dividing the number of correct imputations by the total number of imputations\n",
        "        accuracy = tf.reduce_mean(tf.cast(accuracy_mask, tf.float32))\n",
        "\n",
        "        print('Imputation accuracy:', accuracy)\n",
        "\n",
        "        # Fill missing parts of missing_data with imputed_data\n",
        "        missing_data.assign(tf.where(mask, imputed_data, missing_data))\n",
        "\n",
        "    df_copy[:] = missing_data.numpy()\n",
        "\n",
        "    return df_copy, mask\n"
      ],
      "metadata": {
        "id": "9sLTfvDT5dXt"
      },
      "execution_count": null,
      "outputs": []
    },
    {
      "cell_type": "code",
      "source": [
        "# Test the correct rate of the target column of DAE1 when the missing ratio is 20%.\n",
        "df_insulation_floor_imputed_traditional_dae, mask = insert_and_impute(x_val, x_true, x_train, target_column, 0.2, dae, num_iterations = 1)"
      ],
      "metadata": {
        "colab": {
          "base_uri": "https://localhost:8080/"
        },
        "outputId": "e644861b-6536-4a9a-8eaa-7f2aa81ba24b",
        "id": "IGR9_PQi5dXt"
      },
      "execution_count": null,
      "outputs": [
        {
          "output_type": "stream",
          "name": "stdout",
          "text": [
            "Target column loss: tf.Tensor(0.8425143, shape=(), dtype=float32)\n",
            "Loss: tf.Tensor(0.33136135, shape=(), dtype=float32)\n",
            "Imputation accuracy: tf.Tensor(0.46148676, shape=(), dtype=float32)\n"
          ]
        }
      ]
    },
    {
      "cell_type": "code",
      "source": [
        "# Test the correct rate of the target column of DAE1 when the missing ratio is 10%.\n",
        "df_insulation_floor_imputed_traditional_dae, mask = insert_and_impute(x_val, x_true, x_train, target_column, 0.1, dae, num_iterations = 1)"
      ],
      "metadata": {
        "colab": {
          "base_uri": "https://localhost:8080/"
        },
        "outputId": "e39db7b4-7245-4140-b44a-1658c186c5ba",
        "id": "c6W7ZSex5dXt"
      },
      "execution_count": null,
      "outputs": [
        {
          "output_type": "stream",
          "name": "stdout",
          "text": [
            "Target column loss: tf.Tensor(0.8603966, shape=(), dtype=float32)\n",
            "Loss: tf.Tensor(0.33119264, shape=(), dtype=float32)\n",
            "Imputation accuracy: tf.Tensor(0.46489614, shape=(), dtype=float32)\n"
          ]
        }
      ]
    },
    {
      "cell_type": "markdown",
      "source": [
        "# DE-DAE for upper_floor_roof_terrace"
      ],
      "metadata": {
        "id": "5WVoYjR566hk"
      }
    },
    {
      "cell_type": "code",
      "source": [
        "# DAE1, can handle classification and regression tasks at the same time, using leaky_relu activation function\n",
        "class DAE(tf.keras.Model):\n",
        "    def __init__(self, original_dim,  name=\"dae\", **kwargs):\n",
        "        super(DAE, self).__init__(name=name, **kwargs)\n",
        "        self.encoder = tf.keras.Sequential([\n",
        "            layers.Dense(original_dim, activation = 'leaky_relu'),\n",
        "            layers.Dense(16, activation = 'leaky_relu'),\n",
        "            layers.Dense(32, activation = 'leaky_relu'),\n",
        "            layers.Dense(64, activation = 'leaky_relu'),\n",
        "            layers.Dense(128, activation = 'leaky_relu'),\n",
        "            # layers.Dense(256, activation = 'leaky_relu'),\n",
        "        ])\n",
        "\n",
        "        # An encoder that deals with continuous variables,\n",
        "        # its goal is to restore the features of the fourth column and beyond\n",
        "        self.decoder = tf.keras.Sequential([\n",
        "            # layers.Dense(256, activation = 'leaky_relu'),\n",
        "            layers.Dense(128, activation = 'leaky_relu'),\n",
        "            layers.Dense(64, activation = 'leaky_relu'),\n",
        "            layers.Dense(32, activation = 'leaky_relu'),\n",
        "            layers.Dense(16, activation = 'leaky_relu'),\n",
        "            layers.Dropout(0.2),\n",
        "            layers.Dense(original_dim, activation = 'leaky_relu')\n",
        "        ])\n",
        "\n",
        "    def call(self, inputs):\n",
        "        encoded = self.encoder(inputs)\n",
        "        decoded = self.decoder(encoded)\n",
        "\n",
        "        return decoded\n"
      ],
      "metadata": {
        "id": "hQJT24NE66hq"
      },
      "execution_count": null,
      "outputs": []
    },
    {
      "cell_type": "code",
      "source": [
        "dae_dataset = df_insulation_roof_encoded_no_missing_values_outliers\n",
        "target_column = 'Quality_insulation_upper_floor_roof_terrace'"
      ],
      "metadata": {
        "id": "SWNyWv5u66hq"
      },
      "execution_count": null,
      "outputs": []
    },
    {
      "cell_type": "code",
      "source": [
        "len(dae_dataset)"
      ],
      "metadata": {
        "colab": {
          "base_uri": "https://localhost:8080/"
        },
        "outputId": "5fe790dd-4b1c-41b7-ef0c-6fb24574a9ef",
        "id": "OZ1kVRUm66hq"
      },
      "execution_count": null,
      "outputs": [
        {
          "output_type": "execute_result",
          "data": {
            "text/plain": [
              "186028"
            ]
          },
          "metadata": {},
          "execution_count": 129
        }
      ]
    },
    {
      "cell_type": "code",
      "source": [
        "from sklearn.model_selection import train_test_split\n",
        "\n",
        "# Divide the dataset into training and validation sets\n",
        "x_train, x_val = train_test_split(dae_dataset, test_size = 0.2, random_state = 1)\n",
        "x_true = x_val.copy()"
      ],
      "metadata": {
        "id": "4c1ud6eV66hr"
      },
      "execution_count": null,
      "outputs": []
    },
    {
      "cell_type": "code",
      "source": [
        "import matplotlib.pyplot as plt\n",
        "\n",
        "def plot_loss(history, save_path, fig_title):\n",
        "    plt.plot(history)\n",
        "    plt.title(fig_title)\n",
        "    plt.ylabel('Loss')\n",
        "    plt.xlabel('Epoch')\n",
        "    plt.legend(['Train Loss'], loc='upper right')\n",
        "    plt.savefig(save_path)\n",
        "    plt.show()\n"
      ],
      "metadata": {
        "id": "fRjq5rcG66hr"
      },
      "execution_count": null,
      "outputs": []
    },
    {
      "cell_type": "code",
      "source": [
        "# In the ensemble method, the training code of DAE1 replaces a random mask every round of training.\n",
        "\n",
        "# Convert the dataset to np format\n",
        "x_train_np = x_train.values\n",
        "\n",
        "dae = DAE(original_dim = x_train_np.shape[1])\n",
        "optimizer = tf.keras.optimizers.Adam(learning_rate = 0.001)\n",
        "dae.compile(optimizer, loss=tf.keras.losses.MeanAbsoluteError())\n",
        "\n",
        "# set up early stopping, but this has no effect when iterations_per_noise = 1.\n",
        "early_stop = EarlyStopping(monitor='loss', min_delta = 0.0005, patience=5)\n",
        "\n",
        "# multiple epochs with different sparsity noise\n",
        "num_epochs = 20\n",
        "iterations_per_noise = 20\n",
        "loss_history = []\n",
        "fig_title = 'Dimension-Enhanced DAE Loss'\n",
        "save_path = '/content/gdrive/MyDrive/Colab Notebooks/DPE_code/result/de_dae_result_upper_floor_roof_terrace.png'\n",
        "\n",
        "for epoch in range(num_epochs // iterations_per_noise):\n",
        "    # create a new array with the same shape as x_train_np but with all elements -1\n",
        "    x_train_np_minus_one = np.full(x_train_np.shape, -1)\n",
        "\n",
        "    # Create a mask, the shape of the mask is the same as x_train_np, p = masking_factor represents the probability of 1 on the mask\n",
        "    masking_factor = 0.70       # Note that due to the replacement rules in tf.where later, the masking factor here should be 1-target value\n",
        "    mask = np.random.binomial(n = 1, p = masking_factor, size = x_train_np.shape)\n",
        "\n",
        "    # Use the tf.where function to replace the value in x_train_np with -1 according to the mask to get the noise data\n",
        "    x_train_np_noisy = tf.where(mask == 1, x_train_np, x_train_np_minus_one)\n",
        "\n",
        "    for iteration in range(iterations_per_noise):\n",
        "        print(f\"Noise Epoch {epoch + 1}/{num_epochs // iterations_per_noise}, Iteration {iteration + 1}/{iterations_per_noise}\")\n",
        "        # dae.fit(x_train_np_noisy, x_train_np, batch_size = 256, callbacks=[early_stop])\n",
        "        history = dae.fit(x_train_np_noisy, x_train_np, batch_size = 256, callbacks=[early_stop], verbose=0)\n",
        "        print(\"Train loss: \",history.history['loss'][0])\n",
        "        loss_history.append(history.history['loss'][0])\n",
        "\n",
        "plot_loss(loss_history, save_path, fig_title)"
      ],
      "metadata": {
        "colab": {
          "base_uri": "https://localhost:8080/",
          "height": 1000
        },
        "outputId": "599d9604-c195-4799-d689-06e2e04adc47",
        "id": "ud3lXSg466hr"
      },
      "execution_count": null,
      "outputs": [
        {
          "output_type": "stream",
          "name": "stdout",
          "text": [
            "Noise Epoch 1/1, Iteration 1/20\n",
            "Train loss:  0.30802664160728455\n",
            "Noise Epoch 1/1, Iteration 2/20\n",
            "Train loss:  0.22727438807487488\n",
            "Noise Epoch 1/1, Iteration 3/20\n",
            "Train loss:  0.20847274363040924\n",
            "Noise Epoch 1/1, Iteration 4/20\n",
            "Train loss:  0.19292791187763214\n",
            "Noise Epoch 1/1, Iteration 5/20\n",
            "Train loss:  0.18333807587623596\n",
            "Noise Epoch 1/1, Iteration 6/20\n",
            "Train loss:  0.17954136431217194\n",
            "Noise Epoch 1/1, Iteration 7/20\n",
            "Train loss:  0.17789116501808167\n",
            "Noise Epoch 1/1, Iteration 8/20\n",
            "Train loss:  0.1770409345626831\n",
            "Noise Epoch 1/1, Iteration 9/20\n",
            "Train loss:  0.17649796605110168\n",
            "Noise Epoch 1/1, Iteration 10/20\n",
            "Train loss:  0.17575578391551971\n",
            "Noise Epoch 1/1, Iteration 11/20\n",
            "Train loss:  0.17538033425807953\n",
            "Noise Epoch 1/1, Iteration 12/20\n",
            "Train loss:  0.1749812215566635\n",
            "Noise Epoch 1/1, Iteration 13/20\n",
            "Train loss:  0.17484141886234283\n",
            "Noise Epoch 1/1, Iteration 14/20\n",
            "Train loss:  0.1746513694524765\n",
            "Noise Epoch 1/1, Iteration 15/20\n",
            "Train loss:  0.17445077002048492\n",
            "Noise Epoch 1/1, Iteration 16/20\n",
            "Train loss:  0.17408932745456696\n",
            "Noise Epoch 1/1, Iteration 17/20\n",
            "Train loss:  0.1744196116924286\n",
            "Noise Epoch 1/1, Iteration 18/20\n",
            "Train loss:  0.17390795052051544\n",
            "Noise Epoch 1/1, Iteration 19/20\n",
            "Train loss:  0.1739589422941208\n",
            "Noise Epoch 1/1, Iteration 20/20\n",
            "Train loss:  0.17390307784080505\n"
          ]
        },
        {
          "output_type": "display_data",
          "data": {
            "text/plain": [
              "<Figure size 640x480 with 1 Axes>"
            ],
            "image/png": "[encoded data removed]"
          },
          "metadata": {}
        }
      ]
    },
    {
      "cell_type": "code",
      "source": [
        "# Interpolation process function. This function is used for non-ensemble methods.\n",
        "def insert_and_impute(df, df_true, train_df, column_name, fraction, vae, num_iterations = 10):\n",
        "    # Create a copy of df\n",
        "    df_copy = df.copy()\n",
        "    df_copy_np = df_copy.values\n",
        "\n",
        "    # create a new array with the same shape as x_train_np but with all elements -1\n",
        "    df_copy_np_minus_one = np.full(df_copy_np.shape, -1)\n",
        "\n",
        "    # Create a mask, the shape of the mask is the same as x_train_np, p = masking_factor represents the probability of 1 on the mask\n",
        "    masking_factor = 1 - fraction\n",
        "    mask = np.random.binomial(n = 1, p = masking_factor, size = df_copy_np.shape)\n",
        "\n",
        "    # Use the tf.where function to replace the value in x_train_np with -1 according to the mask to get the noise data\n",
        "    df_copy_np_noisy = tf.where(mask, df_copy_np, df_copy_np_minus_one)\n",
        "    df_copy_np_noisy = tf.cast(df_copy_np_noisy, tf.float32)\n",
        "\n",
        "    # print(df_copy_np_noisy)\n",
        "\n",
        "    # Convert dataframe to input format accepted by vae\n",
        "    missing_data = tf.Variable(df_copy_np_noisy, dtype = tf.float32, trainable=True)\n",
        "    true_data = tf.Variable(df_true.values.astype('float32'), trainable = True)\n",
        "\n",
        "    # Convert numpy mask to tensorflow tensor\n",
        "    mask = tf.convert_to_tensor(mask, dtype = tf.bool)\n",
        "    mask = np.logical_not(mask)\n",
        "\n",
        "    # Get the column index for the loss calculation\n",
        "    column_index = df.columns.get_loc(column_name)\n",
        "\n",
        "    # Iterate num_iterations rounds to impute missing values\n",
        "    for i in range(num_iterations):\n",
        "        # Get imputed data\n",
        "        imputed_data = vae(missing_data)\n",
        "        # imputed_data = reshape_dae_output(imputed_data)\n",
        "\n",
        "        # RMSE on specified column\n",
        "        # loss = tf.sqrt(tf.reduce_mean(tf.square((imputed_data[:, column_index] - true_data[:, column_index])[mask[:, column_index]])))\n",
        "        # MAE on specified column\n",
        "        loss = tf.reduce_mean(tf.abs(imputed_data[:, column_index] - true_data[:, column_index])[mask[:, column_index]])\n",
        "        print('Target column loss:', loss)\n",
        "\n",
        "        loss = tf.reduce_mean(tf.abs(imputed_data - true_data)[mask])\n",
        "        print('Loss:', loss)\n",
        "\n",
        "        # Apply mask to imputed and true data\n",
        "        imputed_data_masked = tf.boolean_mask(imputed_data[:, column_index], mask[:, column_index])\n",
        "        true_data_masked = tf.boolean_mask(true_data[:, column_index], mask[:, column_index])\n",
        "\n",
        "        # Create a mask for correct imputations\n",
        "        accuracy_mask = (tf.abs(imputed_data_masked - true_data_masked) < 0.5)\n",
        "\n",
        "        # Calculate accuracy by dividing the number of correct imputations by the total number of imputations\n",
        "        accuracy = tf.reduce_mean(tf.cast(accuracy_mask, tf.float32))\n",
        "\n",
        "        print('Imputation accuracy:', accuracy)\n",
        "\n",
        "        # Fill missing parts of missing_data with imputed_data\n",
        "        missing_data.assign(tf.where(mask, imputed_data, missing_data))\n",
        "\n",
        "    df_copy[:] = missing_data.numpy()\n",
        "\n",
        "    return df_copy, mask\n"
      ],
      "metadata": {
        "id": "BBQLMiYg66hr"
      },
      "execution_count": null,
      "outputs": []
    },
    {
      "cell_type": "code",
      "source": [
        "# Test the correct rate of the target column of DAE1 when the missing ratio is 20%.\n",
        "df_insulation_floor_imputed_dedae, mask = insert_and_impute(x_val, x_true, x_train, target_column, 0.2, dae, num_iterations = 1)"
      ],
      "metadata": {
        "colab": {
          "base_uri": "https://localhost:8080/"
        },
        "outputId": "6a47dde8-28c5-42bd-9e04-677980e3cf30",
        "id": "aN5eJ4pB66hs"
      },
      "execution_count": null,
      "outputs": [
        {
          "output_type": "stream",
          "name": "stdout",
          "text": [
            "Target column loss: tf.Tensor(0.82504773, shape=(), dtype=float32)\n",
            "Loss: tf.Tensor(0.30612072, shape=(), dtype=float32)\n",
            "Imputation accuracy: tf.Tensor(0.47633296, shape=(), dtype=float32)\n"
          ]
        }
      ]
    },
    {
      "cell_type": "code",
      "source": [
        "# Test the correct rate of the target column of DAE1 when the missing ratio is 20%.\n",
        "df_insulation_floor_imputed_dedae, mask = insert_and_impute(x_val, x_true, x_train, target_column, 0.1, dae, num_iterations = 1)"
      ],
      "metadata": {
        "colab": {
          "base_uri": "https://localhost:8080/"
        },
        "outputId": "0c683607-f529-419b-bf12-63343da8688c",
        "id": "aYhmKN9o66hs"
      },
      "execution_count": null,
      "outputs": [
        {
          "output_type": "stream",
          "name": "stdout",
          "text": [
            "Target column loss: tf.Tensor(0.7874048, shape=(), dtype=float32)\n",
            "Loss: tf.Tensor(0.30177546, shape=(), dtype=float32)\n",
            "Imputation accuracy: tf.Tensor(0.49667466, shape=(), dtype=float32)\n"
          ]
        }
      ]
    },
    {
      "cell_type": "markdown",
      "source": [
        "# DE-DAE-MD for upper_floor_roof_terrace"
      ],
      "metadata": {
        "id": "wxm4yG6F6z6h"
      }
    },
    {
      "cell_type": "code",
      "source": [
        "# DAE1, can handle classification and regression tasks at the same time, using leaky_relu activation function\n",
        "class DAE(tf.keras.Model):\n",
        "    def __init__(self, original_dim, categorical_dim, continuous_dim,  name=\"dae\", **kwargs):\n",
        "        super(DAE, self).__init__(name=name, **kwargs)\n",
        "        self.encoder = tf.keras.Sequential([\n",
        "            layers.Dense(original_dim, activation = 'leaky_relu'),\n",
        "            layers.Dense(16, activation = 'leaky_relu'),\n",
        "            layers.Dense(32, activation = 'leaky_relu'),\n",
        "            layers.Dense(64, activation = 'leaky_relu'),\n",
        "            layers.Dense(128, activation = 'leaky_relu'),\n",
        "            # layers.Dense(256, activation = 'leaky_relu'),\n",
        "        ])\n",
        "\n",
        "        # An encoder that deals with continuous variables,\n",
        "        # its goal is to restore the features of the fourth column and beyond\n",
        "        self.decoder_continuous = tf.keras.Sequential([\n",
        "            # layers.Dense(256, activation = 'leaky_relu'),\n",
        "            layers.Dense(128, activation = 'leaky_relu'),\n",
        "            layers.Dense(64, activation = 'leaky_relu'),\n",
        "            layers.Dense(32, activation = 'leaky_relu'),\n",
        "            layers.Dense(16, activation = 'leaky_relu'),\n",
        "            layers.Dropout(0.2),\n",
        "            layers.Dense(continuous_dim, activation = 'leaky_relu')\n",
        "        ])\n",
        "\n",
        "        # Decoder1 that deals with categorical variables,\n",
        "        # its goal is to restore the target column: Quality_insulation_lower_floor\n",
        "        self.decoder_categorical_1 = tf.keras.Sequential([\n",
        "            # layers.Dense(256, activation = 'leaky_relu'),\n",
        "            layers.Dense(128, activation = 'leaky_relu'),\n",
        "            layers.Dense(64, activation = 'leaky_relu'),\n",
        "            layers.Dense(32, activation = 'leaky_relu'),\n",
        "            layers.Dense(16, activation = 'leaky_relu'),\n",
        "            layers.Dense(8, activation = 'leaky_relu'),\n",
        "            # layers.Dropout(0.2),\n",
        "            layers.Dense(4, activation = 'softmax') # 4 classes for the first categorical variable\n",
        "        ])\n",
        "\n",
        "        # Decoder2 that deals with categorical variables,\n",
        "        # its goal is to restore the second column: Quality_insulation_envelope\n",
        "        self.decoder_categorical_2 = tf.keras.Sequential([\n",
        "            # layers.Dense(256, activation = 'leaky_relu'),\n",
        "            layers.Dense(128, activation = 'leaky_relu'),\n",
        "            layers.Dense(64, activation = 'leaky_relu'),\n",
        "            layers.Dense(32, activation = 'leaky_relu'),\n",
        "            layers.Dense(16, activation = 'leaky_relu'),\n",
        "            layers.Dense(8, activation = 'leaky_relu'),\n",
        "            # layers.Dropout(0.2),\n",
        "            layers.Dense(4, activation = 'softmax') # 4 classes for the second categorical variable\n",
        "        ])\n",
        "\n",
        "        # Decoder3 that deals with categorical variables,\n",
        "        # its goal is to restore the third column:Roof_insulation_(0/1)\n",
        "        self.decoder_categorical_3 = tf.keras.Sequential([\n",
        "            # layers.Dense(256, activation = 'leaky_relu'),\n",
        "            layers.Dense(128, activation = 'leaky_relu'),\n",
        "            layers.Dense(64, activation = 'leaky_relu'),\n",
        "            layers.Dense(32, activation = 'leaky_relu'),\n",
        "            layers.Dense(16, activation = 'leaky_relu'),\n",
        "            layers.Dense(4, activation = 'leaky_relu'),\n",
        "            # layers.Dropout(0.2),\n",
        "            layers.Dense(2, activation = 'softmax') # 2 classes for the third categorical variable\n",
        "        ])\n",
        "\n",
        "    def call(self, inputs):\n",
        "        encoded = self.encoder(inputs)\n",
        "        decoded_continuous = self.decoder_continuous(encoded)\n",
        "        decoded_categorical_1 = self.decoder_categorical_1(encoded)\n",
        "        decoded_categorical_2 = self.decoder_categorical_2(encoded)\n",
        "        decoded_categorical_3 = self.decoder_categorical_3(encoded)\n",
        "        decoded = tf.concat([decoded_categorical_1, decoded_categorical_2, decoded_categorical_3, decoded_continuous], axis=1)\n",
        "        return decoded\n"
      ],
      "metadata": {
        "id": "VtUAjfXp6z6n"
      },
      "execution_count": null,
      "outputs": []
    },
    {
      "cell_type": "code",
      "source": [
        "# Custom loss function, used to calculate the loss of discrete variables and continuous variables\n",
        "def custom_loss(y_true, y_pred):\n",
        "    # the first 3 columns of y_true and y_pred are the categorical variables,\n",
        "    # and the rest are the continuous variables.\n",
        "    y_true_categorical_1 = y_true[:, 0]\n",
        "    y_true_categorical_2 = y_true[:, 1]\n",
        "    y_true_categorical_3 = y_true[:, 2]\n",
        "\n",
        "    y_pred_categorical_1 = y_pred[:, :4]\n",
        "    y_pred_categorical_2 = y_pred[:, 4:8]\n",
        "    y_pred_categorical_3 = y_pred[:, 8:10]\n",
        "    y_true_continuous = y_true[:, 3:]\n",
        "    y_pred_continuous = y_pred[:, 10:]\n",
        "\n",
        "    # Use cross entropy for the categorical variables.\n",
        "    categorical_loss_1 = tf.keras.losses.SparseCategoricalCrossentropy()(y_true_categorical_1, y_pred_categorical_1)\n",
        "    categorical_loss_2 = tf.keras.losses.SparseCategoricalCrossentropy()(y_true_categorical_2, y_pred_categorical_2)\n",
        "    categorical_loss_3 = tf.keras.losses.SparseCategoricalCrossentropy()(y_true_categorical_3, y_pred_categorical_3)\n",
        "\n",
        "    # Use mean squared error for the continuous variables.\n",
        "    continuous_loss = tf.keras.losses.MeanSquaredError()(y_true_continuous, y_pred_continuous)\n",
        "\n",
        "    return categorical_loss_1 + categorical_loss_2 + categorical_loss_3 + continuous_loss"
      ],
      "metadata": {
        "id": "n61CifD46z6n"
      },
      "execution_count": null,
      "outputs": []
    },
    {
      "cell_type": "code",
      "source": [
        "dae_dataset = df_insulation_roof_encoded_no_missing_values_outliers\n",
        "target_column = 'Quality_insulation_upper_floor_roof_terrace'"
      ],
      "metadata": {
        "id": "-kNZC_xc6z6o"
      },
      "execution_count": null,
      "outputs": []
    },
    {
      "cell_type": "code",
      "source": [
        "from sklearn.model_selection import train_test_split\n",
        "\n",
        "# Divide the dataset into training and validation sets\n",
        "x_train, x_val = train_test_split(dae_dataset, test_size = 0.2, random_state = 1)\n",
        "x_true = x_val.copy()"
      ],
      "metadata": {
        "id": "tU3QHXi76z6o"
      },
      "execution_count": null,
      "outputs": []
    },
    {
      "cell_type": "code",
      "source": [
        "import matplotlib.pyplot as plt\n",
        "\n",
        "def plot_loss(history, save_path, fig_title):\n",
        "    plt.plot(history)\n",
        "    plt.title(fig_title)\n",
        "    plt.ylabel('Loss')\n",
        "    plt.xlabel('Epoch')\n",
        "    plt.legend(['Train Loss'], loc='upper right')\n",
        "    plt.savefig(save_path)\n",
        "    plt.show()\n"
      ],
      "metadata": {
        "id": "o6n5DNrJ6z6o"
      },
      "execution_count": null,
      "outputs": []
    },
    {
      "cell_type": "code",
      "source": [
        "# In the ensemble method, the training code of DAE1 replaces a random mask every round of training.\n",
        "\n",
        "# Convert the dataset to np format\n",
        "x_train_np = x_train.values\n",
        "\n",
        "dae = DAE(original_dim = x_train_np.shape[1], categorical_dim = 3, continuous_dim = x_train_np.shape[1] - 3)\n",
        "optimizer = tf.keras.optimizers.Adam(learning_rate = 0.001)\n",
        "dae.compile(optimizer, loss=custom_loss)\n",
        "\n",
        "# set up early stopping, but this has no effect when iterations_per_noise = 1.\n",
        "early_stop = EarlyStopping(monitor='loss', min_delta = 0.0005, patience=5)\n",
        "\n",
        "# multiple epochs with different sparsity noise\n",
        "num_epochs = 20\n",
        "iterations_per_noise = 20\n",
        "loss_history = []\n",
        "fig_title = 'Dimension-Enhanced DAE with Multi Decoder Loss'\n",
        "save_path = '/content/gdrive/MyDrive/Colab Notebooks/DPE_code/result/de_dae_md_result_upper_floor_roof_terrace.png'\n",
        "\n",
        "for epoch in range(num_epochs // iterations_per_noise):\n",
        "    # create a new array with the same shape as x_train_np but with all elements -1\n",
        "    x_train_np_minus_one = np.full(x_train_np.shape, -1)\n",
        "\n",
        "    # Create a mask, the shape of the mask is the same as x_train_np, p = masking_factor represents the probability of 1 on the mask\n",
        "    masking_factor = 0.70       # Note that due to the replacement rules in tf.where later, the masking factor here should be 1-target value\n",
        "    mask = np.random.binomial(n = 1, p = masking_factor, size = x_train_np.shape)\n",
        "\n",
        "    # Use the tf.where function to replace the value in x_train_np with -1 according to the mask to get the noise data\n",
        "    x_train_np_noisy = tf.where(mask == 1, x_train_np, x_train_np_minus_one)\n",
        "\n",
        "    for iteration in range(iterations_per_noise):\n",
        "        print(f\"Noise Epoch {epoch + 1}/{num_epochs // iterations_per_noise}, Iteration {iteration + 1}/{iterations_per_noise}\")\n",
        "        # dae.fit(x_train_np_noisy, x_train_np, batch_size = 256, callbacks=[early_stop])\n",
        "        history = dae.fit(x_train_np_noisy, x_train_np, batch_size = 256, callbacks=[early_stop], verbose=0)\n",
        "        print(\"Train loss: \",history.history['loss'][0])\n",
        "        loss_history.append(history.history['loss'][0])\n",
        "\n",
        "plot_loss(loss_history, save_path, fig_title)"
      ],
      "metadata": {
        "colab": {
          "base_uri": "https://localhost:8080/"
        },
        "outputId": "3f9ed4c0-7256-48ad-91b3-27246d981fce",
        "id": "PaOLAAfG6z6o"
      },
      "execution_count": null,
      "outputs": [
        {
          "output_type": "stream",
          "name": "stdout",
          "text": [
            "Noise Epoch 1/1, Iteration 1/20\n",
            "Train loss:  1.2492352724075317\n",
            "Noise Epoch 1/1, Iteration 2/20\n",
            "Train loss:  0.8753988742828369\n",
            "Noise Epoch 1/1, Iteration 3/20\n",
            "Train loss:  0.879883348941803\n",
            "Noise Epoch 1/1, Iteration 4/20\n",
            "Train loss:  0.8613423109054565\n",
            "Noise Epoch 1/1, Iteration 5/20\n",
            "Train loss:  0.8577783703804016\n",
            "Noise Epoch 1/1, Iteration 6/20\n",
            "Train loss:  0.8540551662445068\n",
            "Noise Epoch 1/1, Iteration 7/20\n",
            "Train loss:  0.8518862128257751\n",
            "Noise Epoch 1/1, Iteration 8/20\n",
            "Train loss:  0.8505139350891113\n",
            "Noise Epoch 1/1, Iteration 9/20\n",
            "Train loss:  0.8382092714309692\n",
            "Noise Epoch 1/1, Iteration 10/20\n",
            "Train loss:  0.8354290723800659\n",
            "Noise Epoch 1/1, Iteration 11/20\n",
            "Train loss:  0.8456061482429504\n",
            "Noise Epoch 1/1, Iteration 12/20\n",
            "Train loss:  0.8328760862350464\n",
            "Noise Epoch 1/1, Iteration 13/20\n",
            "Train loss:  0.8306522965431213\n",
            "Noise Epoch 1/1, Iteration 14/20\n",
            "Train loss:  0.8297014832496643\n",
            "Noise Epoch 1/1, Iteration 15/20\n",
            "Train loss:  0.8282233476638794\n",
            "Noise Epoch 1/1, Iteration 16/20\n",
            "Train loss:  0.8318000435829163\n",
            "Noise Epoch 1/1, Iteration 17/20\n",
            "Train loss:  0.8250592947006226\n",
            "Noise Epoch 1/1, Iteration 18/20\n",
            "Train loss:  0.8232575058937073\n",
            "Noise Epoch 1/1, Iteration 19/20\n",
            "Train loss:  0.8226020336151123\n",
            "Noise Epoch 1/1, Iteration 20/20\n",
            "Train loss:  0.8217403888702393\n"
          ]
        },
        {
          "output_type": "display_data",
          "data": {
            "text/plain": [
              "<Figure size 640x480 with 1 Axes>"
            ],
            "image/png": "[encoded data removed]"
          },
          "metadata": {}
        }
      ]
    },
    {
      "cell_type": "code",
      "source": [
        "# The function of this function is to reshape the result output by DAE\n",
        "def reshape_dae_output(dae_output):\n",
        "    # the first 3 columns of y_true and y_pred are the categorical variables,\n",
        "    # and the rest are the continuous variables.\n",
        "    dae_output_categorical_1 = tf.argmax(dae_output[:, :4], 1)\n",
        "    dae_output_categorical_2 = tf.argmax(dae_output[:, 4:8], 1)\n",
        "    dae_output_categorical_3 = tf.argmax(dae_output[:, 8:10], 1)\n",
        "    dae_output_continuous = dae_output[:, 10:]\n",
        "\n",
        "    # Cast the categorical outputs to float32 and expand dimensions\n",
        "    dae_output_categorical_1 = tf.expand_dims(tf.cast(dae_output_categorical_1, tf.float32), 1)\n",
        "    dae_output_categorical_2 = tf.expand_dims(tf.cast(dae_output_categorical_2, tf.float32), 1)\n",
        "    dae_output_categorical_3 = tf.expand_dims(tf.cast(dae_output_categorical_3, tf.float32), 1)\n",
        "\n",
        "    reshaped_output = tf.concat([dae_output_categorical_1, dae_output_categorical_2, dae_output_categorical_3, dae_output_continuous], axis=1)\n",
        "\n",
        "    return reshaped_output\n"
      ],
      "metadata": {
        "id": "J2F1TOcK6z6o"
      },
      "execution_count": null,
      "outputs": []
    },
    {
      "cell_type": "code",
      "source": [
        "# The function of this function is to reshape the result output by DAE\n",
        "# Compared with the above function, it can output an additional mask,\n",
        "# which will be used to select the value to be re-corrected\n",
        "def reshape_dae_output_mask(dae_output):\n",
        "    # Assuming the first 3 columns of y_true and y_pred are the categorical variables,\n",
        "    # and the rest are the continuous variables.\n",
        "    dae_output_categorical_1 = tf.argmax(dae_output[:, :4], 1)\n",
        "    dae_output_categorical_2 = tf.argmax(dae_output[:, 4:8], 1)\n",
        "    dae_output_categorical_3 = tf.argmax(dae_output[:, 8:10], 1)\n",
        "    dae_output_continuous = dae_output[:, 10:]\n",
        "    # print(dae_output[:, :4])\n",
        "\n",
        "    # Find the maximum probability in dae_output_categorical_1\n",
        "    max_prob = tf.reduce_max(dae_output[:, :4], axis=1)\n",
        "\n",
        "    # Create a mask where max_prob is less than 0.4\n",
        "    mask = tf.cast(tf.math.less(max_prob, 0.6), tf.bool)\n",
        "\n",
        "    # Expand dimensions of mask\n",
        "    mask = tf.expand_dims(mask, axis=1)\n",
        "\n",
        "    # Cast the categorical outputs to float32 and expand dimensions\n",
        "    dae_output_categorical_1 = tf.expand_dims(tf.cast(dae_output_categorical_1, tf.float32), 1)\n",
        "    dae_output_categorical_2 = tf.expand_dims(tf.cast(dae_output_categorical_2, tf.float32), 1)\n",
        "    dae_output_categorical_3 = tf.expand_dims(tf.cast(dae_output_categorical_3, tf.float32), 1)\n",
        "\n",
        "    reshaped_output = tf.concat([dae_output_categorical_1, dae_output_categorical_2, dae_output_categorical_3, dae_output_continuous], axis=1)\n",
        "\n",
        "    return reshaped_output, mask\n"
      ],
      "metadata": {
        "id": "8lamiywr6z6p"
      },
      "execution_count": null,
      "outputs": []
    },
    {
      "cell_type": "code",
      "source": [
        "# Interpolation process function. This function is used for non-ensemble methods.\n",
        "def insert_and_impute(df, df_true, train_df, column_name, fraction, vae, num_iterations = 10):\n",
        "    # Create a copy of df\n",
        "    df_copy = df.copy()\n",
        "    df_copy_np = df_copy.values\n",
        "\n",
        "    # create a new array with the same shape as x_train_np but with all elements -1\n",
        "    df_copy_np_minus_one = np.full(df_copy_np.shape, -1)\n",
        "\n",
        "    # Create a mask, the shape of the mask is the same as x_train_np, p = masking_factor represents the probability of 1 on the mask\n",
        "    masking_factor = 1 - fraction\n",
        "    mask = np.random.binomial(n = 1, p = masking_factor, size = df_copy_np.shape)\n",
        "\n",
        "    # Use the tf.where function to replace the value in x_train_np with -1 according to the mask to get the noise data\n",
        "    df_copy_np_noisy = tf.where(mask, df_copy_np, df_copy_np_minus_one)\n",
        "    df_copy_np_noisy = tf.cast(df_copy_np_noisy, tf.float32)\n",
        "\n",
        "    # print(df_copy_np_noisy)\n",
        "\n",
        "    # Convert dataframe to input format accepted by vae\n",
        "    missing_data = tf.Variable(df_copy_np_noisy, dtype = tf.float32, trainable=True)\n",
        "    true_data = tf.Variable(df_true.values.astype('float32'), trainable = True)\n",
        "\n",
        "    # Convert numpy mask to tensorflow tensor\n",
        "    mask = tf.convert_to_tensor(mask, dtype = tf.bool)\n",
        "    mask = np.logical_not(mask)\n",
        "\n",
        "    # Get the column index for the loss calculation\n",
        "    column_index = df.columns.get_loc(column_name)\n",
        "\n",
        "    # Iterate num_iterations rounds to impute missing values\n",
        "    for i in range(num_iterations):\n",
        "        # Get imputed data\n",
        "        imputed_data = vae(missing_data)\n",
        "        imputed_data = reshape_dae_output(imputed_data)\n",
        "\n",
        "        # RMSE on specified column\n",
        "        # loss = tf.sqrt(tf.reduce_mean(tf.square((imputed_data[:, column_index] - true_data[:, column_index])[mask[:, column_index]])))\n",
        "        # MAE on specified column\n",
        "        loss = tf.reduce_mean(tf.abs(imputed_data[:, column_index] - true_data[:, column_index])[mask[:, column_index]])\n",
        "        print('Target column loss:', loss)\n",
        "\n",
        "        loss = tf.reduce_mean(tf.abs(imputed_data - true_data)[mask])\n",
        "        print('Loss:', loss)\n",
        "\n",
        "        # Apply mask to imputed and true data\n",
        "        imputed_data_masked = tf.boolean_mask(imputed_data[:, column_index], mask[:, column_index])\n",
        "        true_data_masked = tf.boolean_mask(true_data[:, column_index], mask[:, column_index])\n",
        "\n",
        "        # Create a mask for correct imputations\n",
        "        accuracy_mask = (tf.abs(imputed_data_masked - true_data_masked) < 0.1)\n",
        "\n",
        "        # Calculate accuracy by dividing the number of correct imputations by the total number of imputations\n",
        "        accuracy = tf.reduce_mean(tf.cast(accuracy_mask, tf.float32))\n",
        "\n",
        "        print('Imputation accuracy:', accuracy)\n",
        "\n",
        "        # Fill missing parts of missing_data with imputed_data\n",
        "        missing_data.assign(tf.where(mask, imputed_data, missing_data))\n",
        "\n",
        "    df_copy[:] = missing_data.numpy()\n",
        "\n",
        "    return df_copy, mask\n"
      ],
      "metadata": {
        "id": "IXlm7XKv6z6p"
      },
      "execution_count": null,
      "outputs": []
    },
    {
      "cell_type": "code",
      "source": [
        "# Test the correct rate of the target column of DAE1 when the missing ratio is 20%.\n",
        "df_insulation_floor_imputed_single_dedaemd, mask = insert_and_impute(x_val, x_true, x_train, target_column, 0.2, dae, num_iterations = 1)"
      ],
      "metadata": {
        "colab": {
          "base_uri": "https://localhost:8080/"
        },
        "outputId": "8ea36f76-c1b2-44b5-a1b0-a36f75de8cf1",
        "id": "722jmK8d6z6p"
      },
      "execution_count": null,
      "outputs": [
        {
          "output_type": "stream",
          "name": "stdout",
          "text": [
            "Target column loss: tf.Tensor(0.9168449, shape=(), dtype=float32)\n",
            "Loss: tf.Tensor(0.32690224, shape=(), dtype=float32)\n",
            "Imputation accuracy: tf.Tensor(0.5735294, shape=(), dtype=float32)\n"
          ]
        },
        {
          "output_type": "stream",
          "name": "stderr",
          "text": [
            "<ipython-input-192-40211c73411e>:61: DeprecationWarning: In a future version, `df.iloc[:, i] = newvals` will attempt to set the values inplace instead of always setting a new array. To retain the old behavior, use either `df[df.columns[i]] = newvals` or, if columns are non-unique, `df.isetitem(i, newvals)`\n",
            "  df_copy[:] = missing_data.numpy()\n"
          ]
        }
      ]
    },
    {
      "cell_type": "code",
      "source": [
        "# Test the correct rate of the target column of DAE1 when the missing ratio is 10%.\n",
        "df_insulation_floor_imputed_single_dedaemd, mask = insert_and_impute(x_val, x_true, x_train, target_column, 0.1, dae, num_iterations = 1)"
      ],
      "metadata": {
        "colab": {
          "base_uri": "https://localhost:8080/"
        },
        "id": "66vAGsF26z6p",
        "outputId": "730aead0-b138-4f41-973d-524fb9ffc81d"
      },
      "execution_count": null,
      "outputs": [
        {
          "output_type": "stream",
          "name": "stdout",
          "text": [
            "Target column loss: tf.Tensor(0.891258, shape=(), dtype=float32)\n",
            "Loss: tf.Tensor(0.32027066, shape=(), dtype=float32)\n",
            "Imputation accuracy: tf.Tensor(0.57649255, shape=(), dtype=float32)\n"
          ]
        },
        {
          "output_type": "stream",
          "name": "stderr",
          "text": [
            "<ipython-input-192-40211c73411e>:61: DeprecationWarning: In a future version, `df.iloc[:, i] = newvals` will attempt to set the values inplace instead of always setting a new array. To retain the old behavior, use either `df[df.columns[i]] = newvals` or, if columns are non-unique, `df.isetitem(i, newvals)`\n",
            "  df_copy[:] = missing_data.numpy()\n"
          ]
        }
      ]
    },
    {
      "cell_type": "markdown",
      "source": [
        "# Ensemble Model for Quality_insulation_upper_floor_roof_terrace"
      ],
      "metadata": {
        "id": "FIJSv68jRNFW"
      }
    },
    {
      "cell_type": "code",
      "source": [
        "import tensorflow as tf\n",
        "from tensorflow.keras import layers\n",
        "from sklearn.preprocessing import StandardScaler\n",
        "from tensorflow.keras.callbacks import EarlyStopping\n",
        "import numpy as np"
      ],
      "metadata": {
        "id": "Y-ZPq-lSRNFc"
      },
      "execution_count": null,
      "outputs": []
    },
    {
      "cell_type": "code",
      "source": [
        "# DAE1, can handle classification and regression tasks at the same time, using leaky_relu activation function\n",
        "class DAE(tf.keras.Model):\n",
        "    def __init__(self, original_dim, categorical_dim, continuous_dim,  name=\"dae\", **kwargs):\n",
        "        super(DAE, self).__init__(name=name, **kwargs)\n",
        "        self.encoder = tf.keras.Sequential([\n",
        "            layers.Dense(original_dim, activation = 'leaky_relu'),\n",
        "            layers.Dense(16, activation = 'leaky_relu'),\n",
        "            layers.Dense(32, activation = 'leaky_relu'),\n",
        "            layers.Dense(64, activation = 'leaky_relu'),\n",
        "            layers.Dense(128, activation = 'leaky_relu'),\n",
        "            # layers.Dense(256, activation = 'leaky_relu'),\n",
        "        ])\n",
        "\n",
        "        # An encoder that deals with continuous variables,\n",
        "        # its goal is to restore the features of the fourth column and beyond\n",
        "        self.decoder_continuous = tf.keras.Sequential([\n",
        "            # layers.Dense(256, activation = 'leaky_relu'),\n",
        "            layers.Dense(128, activation = 'leaky_relu'),\n",
        "            layers.Dense(64, activation = 'leaky_relu'),\n",
        "            layers.Dense(32, activation = 'leaky_relu'),\n",
        "            layers.Dense(16, activation = 'leaky_relu'),\n",
        "            layers.Dropout(0.2),\n",
        "            layers.Dense(continuous_dim, activation = 'leaky_relu')\n",
        "        ])\n",
        "\n",
        "        # Decoder1 that deals with categorical variables,\n",
        "        # its goal is to restore the target column: Quality_insulation_lower_floor\n",
        "        self.decoder_categorical_1 = tf.keras.Sequential([\n",
        "            # layers.Dense(256, activation = 'leaky_relu'),\n",
        "            layers.Dense(128, activation = 'leaky_relu'),\n",
        "            layers.Dense(64, activation = 'leaky_relu'),\n",
        "            layers.Dense(32, activation = 'leaky_relu'),\n",
        "            layers.Dense(16, activation = 'leaky_relu'),\n",
        "            layers.Dense(8, activation = 'leaky_relu'),\n",
        "            # layers.Dropout(0.2),\n",
        "            layers.Dense(4, activation = 'softmax') # 4 classes for the first categorical variable\n",
        "        ])\n",
        "\n",
        "        # Decoder2 that deals with categorical variables,\n",
        "        # its goal is to restore the second column: Quality_insulation_envelope\n",
        "        self.decoder_categorical_2 = tf.keras.Sequential([\n",
        "            # layers.Dense(256, activation = 'leaky_relu'),\n",
        "            layers.Dense(128, activation = 'leaky_relu'),\n",
        "            layers.Dense(64, activation = 'leaky_relu'),\n",
        "            layers.Dense(32, activation = 'leaky_relu'),\n",
        "            layers.Dense(16, activation = 'leaky_relu'),\n",
        "            layers.Dense(8, activation = 'leaky_relu'),\n",
        "            # layers.Dropout(0.2),\n",
        "            layers.Dense(4, activation = 'softmax') # 4 classes for the second categorical variable\n",
        "        ])\n",
        "\n",
        "        # Decoder3 that deals with categorical variables,\n",
        "        # its goal is to restore the third column:Roof_insulation_(0/1)\n",
        "        self.decoder_categorical_3 = tf.keras.Sequential([\n",
        "            # layers.Dense(256, activation = 'leaky_relu'),\n",
        "            layers.Dense(128, activation = 'leaky_relu'),\n",
        "            layers.Dense(64, activation = 'leaky_relu'),\n",
        "            layers.Dense(32, activation = 'leaky_relu'),\n",
        "            layers.Dense(16, activation = 'leaky_relu'),\n",
        "            layers.Dense(4, activation = 'leaky_relu'),\n",
        "            # layers.Dropout(0.2),\n",
        "            layers.Dense(2, activation = 'softmax') # 2 classes for the third categorical variable\n",
        "        ])\n",
        "\n",
        "    def call(self, inputs):\n",
        "        encoded = self.encoder(inputs)\n",
        "        decoded_continuous = self.decoder_continuous(encoded)\n",
        "        decoded_categorical_1 = self.decoder_categorical_1(encoded)\n",
        "        decoded_categorical_2 = self.decoder_categorical_2(encoded)\n",
        "        decoded_categorical_3 = self.decoder_categorical_3(encoded)\n",
        "        decoded = tf.concat([decoded_categorical_1, decoded_categorical_2, decoded_categorical_3, decoded_continuous], axis=1)\n",
        "        return decoded\n"
      ],
      "metadata": {
        "id": "Rm3k9xFERNFd"
      },
      "execution_count": null,
      "outputs": []
    },
    {
      "cell_type": "code",
      "source": [
        "# DAE2, can handle classification and regression tasks at the same time, using swish activation function\n",
        "class DAE2(tf.keras.Model):\n",
        "    def __init__(self, original_dim, categorical_dim, continuous_dim, name=\"dae\", **kwargs):\n",
        "        super(DAE2, self).__init__(name=name, **kwargs)\n",
        "        self.encoder = tf.keras.Sequential([\n",
        "            layers.Dense(original_dim, activation = 'swish'),\n",
        "            layers.Dense(16, activation = 'swish'),\n",
        "            layers.Dense(32, activation = 'swish'),\n",
        "            layers.Dense(64, activation = 'swish'),\n",
        "            layers.Dense(128, activation = 'swish'),\n",
        "            # layers.Dense(256, activation = 'swish'),\n",
        "        ])\n",
        "\n",
        "        # An encoder that deals with continuous variables,\n",
        "        # its goal is to restore the features of the fourth column and beyond\n",
        "        self.decoder_continuous = tf.keras.Sequential([\n",
        "            # layers.Dense(256, activation = 'swish'),\n",
        "            layers.Dense(128, activation = 'swish'),\n",
        "            layers.Dense(64, activation = 'swish'),\n",
        "            layers.Dense(32, activation = 'swish'),\n",
        "            layers.Dense(16, activation = 'swish'),\n",
        "            layers.Dropout(0.2),\n",
        "            layers.Dense(continuous_dim, activation = 'swish')\n",
        "        ])\n",
        "\n",
        "        # Decoder1 that deals with categorical variables,\n",
        "        # its goal is to restore the target column: Quality_insulation_lower_floor\n",
        "        self.decoder_categorical_1 = tf.keras.Sequential([\n",
        "            # layers.Dense(256, activation = 'swish'),\n",
        "            layers.Dense(128, activation = 'swish'),\n",
        "            layers.Dense(64, activation = 'swish'),\n",
        "            layers.Dense(32, activation = 'swish'),\n",
        "            layers.Dense(16, activation = 'swish'),\n",
        "            layers.Dense(8, activation = 'swish'),\n",
        "            # layers.Dropout(0.2),\n",
        "            layers.Dense(4, activation = 'softmax') # 4 classes for the first categorical variable\n",
        "        ])\n",
        "\n",
        "        # Decoder2 that deals with categorical variables,\n",
        "        # its goal is to restore the second column: Quality_insulation_envelope\n",
        "        self.decoder_categorical_2 = tf.keras.Sequential([\n",
        "            # layers.Dense(256, activation = 'swish'),\n",
        "            layers.Dense(128, activation = 'swish'),\n",
        "            layers.Dense(64, activation = 'swish'),\n",
        "            layers.Dense(32, activation = 'swish'),\n",
        "            layers.Dense(16, activation = 'swish'),\n",
        "            layers.Dense(8, activation = 'swish'),\n",
        "            # layers.Dropout(0.2),\n",
        "            layers.Dense(4, activation = 'softmax') # 4 classes for the second categorical variable\n",
        "        ])\n",
        "\n",
        "        # Decoder3 that deals with categorical variables,\n",
        "        # its goal is to restore the third column:Roof_insulation_(0/1)\n",
        "        self.decoder_categorical_3 = tf.keras.Sequential([\n",
        "            # layers.Dense(256, activation = 'swish'),\n",
        "            layers.Dense(128, activation = 'swish'),\n",
        "            layers.Dense(64, activation = 'swish'),\n",
        "            layers.Dense(32, activation = 'swish'),\n",
        "            layers.Dense(16, activation = 'swish'),\n",
        "            layers.Dense(4, activation = 'swish'),\n",
        "            # layers.Dropout(0.2),\n",
        "            layers.Dense(2, activation = 'softmax') # 2 classes for the third categorical variable\n",
        "        ])\n",
        "\n",
        "    def call(self, inputs):\n",
        "        encoded = self.encoder(inputs)\n",
        "        decoded_continuous = self.decoder_continuous(encoded)\n",
        "        decoded_categorical_1 = self.decoder_categorical_1(encoded)\n",
        "        decoded_categorical_2 = self.decoder_categorical_2(encoded)\n",
        "        decoded_categorical_3 = self.decoder_categorical_3(encoded)\n",
        "        decoded = tf.concat([decoded_categorical_1, decoded_categorical_2, decoded_categorical_3, decoded_continuous], axis=1)\n",
        "        return decoded\n"
      ],
      "metadata": {
        "id": "jgKCtPjbRNFd"
      },
      "execution_count": null,
      "outputs": []
    },
    {
      "cell_type": "code",
      "source": [
        "# DAE3, can handle classification and regression tasks at the same time, using elu activation function\n",
        "class DAE3(tf.keras.Model):\n",
        "    def __init__(self, original_dim, categorical_dim, continuous_dim, name=\"dae\", **kwargs):\n",
        "        super(DAE3, self).__init__(name=name, **kwargs)\n",
        "        self.encoder = tf.keras.Sequential([\n",
        "            layers.Dense(original_dim, activation = 'elu'),\n",
        "            layers.Dense(16, activation = 'elu'),\n",
        "            layers.Dense(32, activation = 'elu'),\n",
        "            layers.Dense(64, activation = 'elu'),\n",
        "            layers.Dense(128, activation = 'elu'),\n",
        "            # layers.Dense(256, activation = 'elu'),\n",
        "        ])\n",
        "\n",
        "        # An encoder that deals with continuous variables,\n",
        "        # its goal is to restore the features of the fourth column and beyond\n",
        "        self.decoder_continuous = tf.keras.Sequential([\n",
        "            # layers.Dense(256, activation = 'elu'),\n",
        "            layers.Dense(128, activation = 'elu'),\n",
        "            layers.Dense(64, activation = 'elu'),\n",
        "            layers.Dense(32, activation = 'elu'),\n",
        "            layers.Dense(16, activation = 'elu'),\n",
        "            layers.Dropout(0.2),\n",
        "            layers.Dense(continuous_dim, activation = 'elu')\n",
        "        ])\n",
        "\n",
        "        # Decoder1 that deals with categorical variables,\n",
        "        # its goal is to restore the target column: Quality_insulation_lower_floor\n",
        "        self.decoder_categorical_1 = tf.keras.Sequential([\n",
        "            # layers.Dense(256, activation = 'elu'),\n",
        "            layers.Dense(128, activation = 'elu'),\n",
        "            layers.Dense(64, activation = 'elu'),\n",
        "            layers.Dense(32, activation = 'elu'),\n",
        "            layers.Dense(16, activation = 'elu'),\n",
        "            layers.Dense(8, activation = 'elu'),\n",
        "            # layers.Dropout(0.2),\n",
        "            layers.Dense(4, activation = 'softmax') # 4 classes for the first categorical variable\n",
        "        ])\n",
        "\n",
        "        # Decoder2 that deals with categorical variables,\n",
        "        # its goal is to restore the second column: Quality_insulation_envelope\n",
        "        self.decoder_categorical_2 = tf.keras.Sequential([\n",
        "            # layers.Dense(256, activation = 'swish'),\n",
        "            layers.Dense(128, activation = 'elu'),\n",
        "            layers.Dense(64, activation = 'elu'),\n",
        "            layers.Dense(32, activation = 'elu'),\n",
        "            layers.Dense(16, activation = 'elu'),\n",
        "            layers.Dense(8, activation = 'elu'),\n",
        "            # layers.Dropout(0.2),\n",
        "            layers.Dense(4, activation = 'softmax') # 4 classes for the second categorical variable\n",
        "        ])\n",
        "\n",
        "        # Decoder3 that deals with categorical variables,\n",
        "        # its goal is to restore the third column:Roof_insulation_(0/1)\n",
        "        self.decoder_categorical_3 = tf.keras.Sequential([\n",
        "            # layers.Dense(256, activation = 'swish'),\n",
        "            layers.Dense(128, activation = 'elu'),\n",
        "            layers.Dense(64, activation = 'elu'),\n",
        "            layers.Dense(32, activation = 'elu'),\n",
        "            layers.Dense(16, activation = 'elu'),\n",
        "            layers.Dense(4, activation = 'elu'),\n",
        "            # layers.Dropout(0.2),\n",
        "            layers.Dense(2, activation = 'softmax') # 2 classes for the third categorical variable\n",
        "        ])\n",
        "\n",
        "    def call(self, inputs):\n",
        "        encoded = self.encoder(inputs)\n",
        "        decoded_continuous = self.decoder_continuous(encoded)\n",
        "        decoded_categorical_1 = self.decoder_categorical_1(encoded)\n",
        "        decoded_categorical_2 = self.decoder_categorical_2(encoded)\n",
        "        decoded_categorical_3 = self.decoder_categorical_3(encoded)\n",
        "        decoded = tf.concat([decoded_categorical_1, decoded_categorical_2, decoded_categorical_3, decoded_continuous], axis=1)\n",
        "        return decoded\n"
      ],
      "metadata": {
        "id": "3PEHczDPRNFd"
      },
      "execution_count": null,
      "outputs": []
    },
    {
      "cell_type": "code",
      "source": [
        "class MLP_Classifier(tf.keras.Model):\n",
        "    def __init__(self, num_classes):\n",
        "        super(MLP_Classifier, self).__init__()\n",
        "        self.dense1 = layers.Dense(8, activation='elu')\n",
        "        self.dense2 = layers.Dense(8, activation='elu')\n",
        "        self.dense3 = layers.Dense(4, activation='elu')\n",
        "        self.dense4 = layers.Dense(num_classes, activation='softmax')\n",
        "\n",
        "    def call(self, inputs):\n",
        "        x = self.dense1(inputs)\n",
        "        x = self.dense2(x)\n",
        "        x = self.dense3(x)\n",
        "        return self.dense4(x)"
      ],
      "metadata": {
        "id": "4IZ0LwW-RNFe"
      },
      "execution_count": null,
      "outputs": []
    },
    {
      "cell_type": "code",
      "source": [
        "# Custom loss function, used to calculate the loss of discrete variables and continuous variables\n",
        "def custom_loss(y_true, y_pred):\n",
        "    # the first 3 columns of y_true and y_pred are the categorical variables,\n",
        "    # and the rest are the continuous variables.\n",
        "    y_true_categorical_1 = y_true[:, 0]\n",
        "    y_true_categorical_2 = y_true[:, 1]\n",
        "    y_true_categorical_3 = y_true[:, 2]\n",
        "\n",
        "    y_pred_categorical_1 = y_pred[:, :4]\n",
        "    y_pred_categorical_2 = y_pred[:, 4:8]\n",
        "    y_pred_categorical_3 = y_pred[:, 8:10]\n",
        "    y_true_continuous = y_true[:, 3:]\n",
        "    y_pred_continuous = y_pred[:, 10:]\n",
        "\n",
        "    # Use cross entropy for the categorical variables.\n",
        "    categorical_loss_1 = tf.keras.losses.SparseCategoricalCrossentropy()(y_true_categorical_1, y_pred_categorical_1)\n",
        "    categorical_loss_2 = tf.keras.losses.SparseCategoricalCrossentropy()(y_true_categorical_2, y_pred_categorical_2)\n",
        "    categorical_loss_3 = tf.keras.losses.SparseCategoricalCrossentropy()(y_true_categorical_3, y_pred_categorical_3)\n",
        "\n",
        "    # Use mean squared error for the continuous variables.\n",
        "    continuous_loss = tf.keras.losses.MeanSquaredError()(y_true_continuous, y_pred_continuous)\n",
        "\n",
        "    return categorical_loss_1 + categorical_loss_2 + categorical_loss_3 + continuous_loss"
      ],
      "metadata": {
        "id": "JmbPBmwwRNFe"
      },
      "execution_count": null,
      "outputs": []
    },
    {
      "cell_type": "code",
      "source": [
        "dae_dataset = df_insulation_roof_encoded_no_missing_values_outliers\n",
        "target_column = 'Quality_insulation_upper_floor_roof_terrace'"
      ],
      "metadata": {
        "id": "xzFMyhr8RNFe"
      },
      "execution_count": null,
      "outputs": []
    },
    {
      "cell_type": "code",
      "source": [
        "len(dae_dataset)"
      ],
      "metadata": {
        "colab": {
          "base_uri": "https://localhost:8080/"
        },
        "outputId": "a0d8a2cb-f9f6-4ae7-9dc4-42a0e77f67b5",
        "id": "j72gaFX6RNFf"
      },
      "execution_count": null,
      "outputs": [
        {
          "output_type": "execute_result",
          "data": {
            "text/plain": [
              "186028"
            ]
          },
          "metadata": {},
          "execution_count": 331
        }
      ]
    },
    {
      "cell_type": "code",
      "source": [
        "from sklearn.model_selection import train_test_split\n",
        "\n",
        "# Divide the dataset into training and validation sets\n",
        "x_train, x_val = train_test_split(dae_dataset, test_size = 0.2, random_state = 1)\n",
        "x_true = x_val.copy()"
      ],
      "metadata": {
        "id": "IcuocwfQRNFf"
      },
      "execution_count": null,
      "outputs": []
    },
    {
      "cell_type": "code",
      "source": [
        "x_train.describe()"
      ],
      "metadata": {
        "colab": {
          "base_uri": "https://localhost:8080/"
        },
        "outputId": "298d5133-ccb7-4b26-c4f8-db4093a899e4",
        "id": "m4ZdRAvMRNFf"
      },
      "execution_count": null,
      "outputs": [
        {
          "output_type": "execute_result",
          "data": {
            "text/plain": [
              "       Quality_insulation_upper_floor_roof_terrace  \\\n",
              "count                                148822.000000   \n",
              "mean                                      1.205581   \n",
              "std                                       1.294332   \n",
              "min                                       0.000000   \n",
              "25%                                       0.000000   \n",
              "50%                                       1.000000   \n",
              "75%                                       3.000000   \n",
              "max                                       3.000000   \n",
              "\n",
              "       Quality_insulation_envelope  Roof_insulation_(0/1)  Year_construction  \\\n",
              "count                148822.000000           148822.00000      148822.000000   \n",
              "mean                      1.064426                0.78305           0.649285   \n",
              "std                       1.108516                0.41217           0.207831   \n",
              "min                       0.000000                0.00000           0.000000   \n",
              "25%                       0.000000                1.00000           0.466667   \n",
              "50%                       1.000000                1.00000           0.666667   \n",
              "75%                       2.000000                1.00000           0.800000   \n",
              "max                       3.000000                1.00000           1.000000   \n",
              "\n",
              "       Living_area_housing  Postal_code_(BAN)  Final_ECS_Consumption  \\\n",
              "count        148822.000000      148822.000000          148822.000000   \n",
              "mean              0.418883           0.551313               0.475572   \n",
              "std               0.191705           0.278161               0.179310   \n",
              "min               0.000000           0.000000               0.000000   \n",
              "25%               0.283259           0.333333               0.366148   \n",
              "50%               0.402928           0.604167               0.468013   \n",
              "75%               0.525780           0.781250               0.572477   \n",
              "max               1.000000           1.000000               1.000000   \n",
              "\n",
              "       Primary_5_usages_consumption  \n",
              "count                 148822.000000  \n",
              "mean                       0.354479  \n",
              "std                        0.215750  \n",
              "min                        0.000000  \n",
              "25%                        0.186964  \n",
              "50%                        0.300377  \n",
              "75%                        0.482204  \n",
              "max                        1.000000  "
            ],
            "text/html": [
              "\n",
              "\n",
              "  <div id=\"df-bb99a5f9-d230-4021-8d7d-6889cf10ee3d\">\n",
              "    <div class=\"colab-df-container\">\n",
              "      <div>\n",
              "<style scoped>\n",
              "    .dataframe tbody tr th:only-of-type {\n",
              "        vertical-align: middle;\n",
              "    }\n",
              "\n",
              "    .dataframe tbody tr th {\n",
              "        vertical-align: top;\n",
              "    }\n",
              "\n",
              "    .dataframe thead th {\n",
              "        text-align: right;\n",
              "    }\n",
              "</style>\n",
              "<table border=\"1\" class=\"dataframe\">\n",
              "  <thead>\n",
              "    <tr style=\"text-align: right;\">\n",
              "      <th></th>\n",
              "      <th>Quality_insulation_upper_floor_roof_terrace</th>\n",
              "      <th>Quality_insulation_envelope</th>\n",
              "      <th>Roof_insulation_(0/1)</th>\n",
              "      <th>Year_construction</th>\n",
              "      <th>Living_area_housing</th>\n",
              "      <th>Postal_code_(BAN)</th>\n",
              "      <th>Final_ECS_Consumption</th>\n",
              "      <th>Primary_5_usages_consumption</th>\n",
              "    </tr>\n",
              "  </thead>\n",
              "  <tbody>\n",
              "    <tr>\n",
              "      <th>count</th>\n",
              "      <td>148822.000000</td>\n",
              "      <td>148822.000000</td>\n",
              "      <td>148822.00000</td>\n",
              "      <td>148822.000000</td>\n",
              "      <td>148822.000000</td>\n",
              "      <td>148822.000000</td>\n",
              "      <td>148822.000000</td>\n",
              "      <td>148822.000000</td>\n",
              "    </tr>\n",
              "    <tr>\n",
              "      <th>mean</th>\n",
              "      <td>1.205581</td>\n",
              "      <td>1.064426</td>\n",
              "      <td>0.78305</td>\n",
              "      <td>0.649285</td>\n",
              "      <td>0.418883</td>\n",
              "      <td>0.551313</td>\n",
              "      <td>0.475572</td>\n",
              "      <td>0.354479</td>\n",
              "    </tr>\n",
              "    <tr>\n",
              "      <th>std</th>\n",
              "      <td>1.294332</td>\n",
              "      <td>1.108516</td>\n",
              "      <td>0.41217</td>\n",
              "      <td>0.207831</td>\n",
              "      <td>0.191705</td>\n",
              "      <td>0.278161</td>\n",
              "      <td>0.179310</td>\n",
              "      <td>0.215750</td>\n",
              "    </tr>\n",
              "    <tr>\n",
              "      <th>min</th>\n",
              "      <td>0.000000</td>\n",
              "      <td>0.000000</td>\n",
              "      <td>0.00000</td>\n",
              "      <td>0.000000</td>\n",
              "      <td>0.000000</td>\n",
              "      <td>0.000000</td>\n",
              "      <td>0.000000</td>\n",
              "      <td>0.000000</td>\n",
              "    </tr>\n",
              "    <tr>\n",
              "      <th>25%</th>\n",
              "      <td>0.000000</td>\n",
              "      <td>0.000000</td>\n",
              "      <td>1.00000</td>\n",
              "      <td>0.466667</td>\n",
              "      <td>0.283259</td>\n",
              "      <td>0.333333</td>\n",
              "      <td>0.366148</td>\n",
              "      <td>0.186964</td>\n",
              "    </tr>\n",
              "    <tr>\n",
              "      <th>50%</th>\n",
              "      <td>1.000000</td>\n",
              "      <td>1.000000</td>\n",
              "      <td>1.00000</td>\n",
              "      <td>0.666667</td>\n",
              "      <td>0.402928</td>\n",
              "      <td>0.604167</td>\n",
              "      <td>0.468013</td>\n",
              "      <td>0.300377</td>\n",
              "    </tr>\n",
              "    <tr>\n",
              "      <th>75%</th>\n",
              "      <td>3.000000</td>\n",
              "      <td>2.000000</td>\n",
              "      <td>1.00000</td>\n",
              "      <td>0.800000</td>\n",
              "      <td>0.525780</td>\n",
              "      <td>0.781250</td>\n",
              "      <td>0.572477</td>\n",
              "      <td>0.482204</td>\n",
              "    </tr>\n",
              "    <tr>\n",
              "      <th>max</th>\n",
              "      <td>3.000000</td>\n",
              "      <td>3.000000</td>\n",
              "      <td>1.00000</td>\n",
              "      <td>1.000000</td>\n",
              "      <td>1.000000</td>\n",
              "      <td>1.000000</td>\n",
              "      <td>1.000000</td>\n",
              "      <td>1.000000</td>\n",
              "    </tr>\n",
              "  </tbody>\n",
              "</table>\n",
              "</div>\n",
              "      <button class=\"colab-df-convert\" onclick=\"convertToInteractive('df-bb99a5f9-d230-4021-8d7d-6889cf10ee3d')\"\n",
              "              title=\"Convert this dataframe to an interactive table.\"\n",
              "              style=\"display:none;\">\n",
              "\n",
              "  <svg xmlns=\"http://www.w3.org/2000/svg\" height=\"24px\"viewBox=\"0 0 24 24\"\n",
              "       width=\"24px\">\n",
              "    <path d=\"M0 0h24v24H0V0z\" fill=\"none\"/>\n",
              "    <path d=\"M18.56 5.44l.94 2.06.94-2.06 2.06-.94-2.06-.94-.94-2.06-.94 2.06-2.06.94zm-11 1L8.5 8.5l.94-2.06 2.06-.94-2.06-.94L8.5 2.5l-.94 2.06-2.06.94zm10 10l.94 2.06.94-2.06 2.06-.94-2.06-.94-.94-2.06-.94 2.06-2.06.94z\"/><path d=\"M17.41 7.96l-1.37-1.37c-.4-.4-.92-.59-1.43-.59-.52 0-1.04.2-1.43.59L10.3 9.45l-7.72 7.72c-.78.78-.78 2.05 0 2.83L4 21.41c.39.39.9.59 1.41.59.51 0 1.02-.2 1.41-.59l7.78-7.78 2.81-2.81c.8-.78.8-2.07 0-2.86zM5.41 20L4 18.59l7.72-7.72 1.47 1.35L5.41 20z\"/>\n",
              "  </svg>\n",
              "      </button>\n",
              "\n",
              "\n",
              "\n",
              "    <div id=\"df-6632b350-ac5b-4ffc-b638-716f92df9de0\">\n",
              "      <button class=\"colab-df-quickchart\" onclick=\"quickchart('df-6632b350-ac5b-4ffc-b638-716f92df9de0')\"\n",
              "              title=\"Suggest charts.\"\n",
              "              style=\"display:none;\">\n",
              "\n",
              "<svg xmlns=\"http://www.w3.org/2000/svg\" height=\"24px\"viewBox=\"0 0 24 24\"\n",
              "     width=\"24px\">\n",
              "    <g>\n",
              "        <path d=\"M19 3H5c-1.1 0-2 .9-2 2v14c0 1.1.9 2 2 2h14c1.1 0 2-.9 2-2V5c0-1.1-.9-2-2-2zM9 17H7v-7h2v7zm4 0h-2V7h2v10zm4 0h-2v-4h2v4z\"/>\n",
              "    </g>\n",
              "</svg>\n",
              "      </button>\n",
              "    </div>\n",
              "\n",
              "<style>\n",
              "  .colab-df-quickchart {\n",
              "    background-color: #E8F0FE;\n",
              "    border: none;\n",
              "    border-radius: 50%;\n",
              "    cursor: pointer;\n",
              "    display: none;\n",
              "    fill: #1967D2;\n",
              "    height: 32px;\n",
              "    padding: 0 0 0 0;\n",
              "    width: 32px;\n",
              "  }\n",
              "\n",
              "  .colab-df-quickchart:hover {\n",
              "    background-color: #E2EBFA;\n",
              "    box-shadow: 0px 1px 2px rgba(60, 64, 67, 0.3), 0px 1px 3px 1px rgba(60, 64, 67, 0.15);\n",
              "    fill: #174EA6;\n",
              "  }\n",
              "\n",
              "  [theme=dark] .colab-df-quickchart {\n",
              "    background-color: #3B4455;\n",
              "    fill: #D2E3FC;\n",
              "  }\n",
              "\n",
              "  [theme=dark] .colab-df-quickchart:hover {\n",
              "    background-color: #434B5C;\n",
              "    box-shadow: 0px 1px 3px 1px rgba(0, 0, 0, 0.15);\n",
              "    filter: drop-shadow(0px 1px 2px rgba(0, 0, 0, 0.3));\n",
              "    fill: #FFFFFF;\n",
              "  }\n",
              "</style>\n",
              "\n",
              "    <script>\n",
              "      async function quickchart(key) {\n",
              "        const containerElement = document.querySelector('#' + key);\n",
              "        const charts = await google.colab.kernel.invokeFunction(\n",
              "            'suggestCharts', [key], {});\n",
              "      }\n",
              "    </script>\n",
              "\n",
              "      <script>\n",
              "\n",
              "function displayQuickchartButton(domScope) {\n",
              "  let quickchartButtonEl =\n",
              "    domScope.querySelector('#df-6632b350-ac5b-4ffc-b638-716f92df9de0 button.colab-df-quickchart');\n",
              "  quickchartButtonEl.style.display =\n",
              "    google.colab.kernel.accessAllowed ? 'block' : 'none';\n",
              "}\n",
              "\n",
              "        displayQuickchartButton(document);\n",
              "      </script>\n",
              "      <style>\n",
              "    .colab-df-container {\n",
              "      display:flex;\n",
              "      flex-wrap:wrap;\n",
              "      gap: 12px;\n",
              "    }\n",
              "\n",
              "    .colab-df-convert {\n",
              "      background-color: #E8F0FE;\n",
              "      border: none;\n",
              "      border-radius: 50%;\n",
              "      cursor: pointer;\n",
              "      display: none;\n",
              "      fill: #1967D2;\n",
              "      height: 32px;\n",
              "      padding: 0 0 0 0;\n",
              "      width: 32px;\n",
              "    }\n",
              "\n",
              "    .colab-df-convert:hover {\n",
              "      background-color: #E2EBFA;\n",
              "      box-shadow: 0px 1px 2px rgba(60, 64, 67, 0.3), 0px 1px 3px 1px rgba(60, 64, 67, 0.15);\n",
              "      fill: #174EA6;\n",
              "    }\n",
              "\n",
              "    [theme=dark] .colab-df-convert {\n",
              "      background-color: #3B4455;\n",
              "      fill: #D2E3FC;\n",
              "    }\n",
              "\n",
              "    [theme=dark] .colab-df-convert:hover {\n",
              "      background-color: #434B5C;\n",
              "      box-shadow: 0px 1px 3px 1px rgba(0, 0, 0, 0.15);\n",
              "      filter: drop-shadow(0px 1px 2px rgba(0, 0, 0, 0.3));\n",
              "      fill: #FFFFFF;\n",
              "    }\n",
              "  </style>\n",
              "\n",
              "      <script>\n",
              "        const buttonEl =\n",
              "          document.querySelector('#df-bb99a5f9-d230-4021-8d7d-6889cf10ee3d button.colab-df-convert');\n",
              "        buttonEl.style.display =\n",
              "          google.colab.kernel.accessAllowed ? 'block' : 'none';\n",
              "\n",
              "        async function convertToInteractive(key) {\n",
              "          const element = document.querySelector('#df-bb99a5f9-d230-4021-8d7d-6889cf10ee3d');\n",
              "          const dataTable =\n",
              "            await google.colab.kernel.invokeFunction('convertToInteractive',\n",
              "                                                     [key], {});\n",
              "          if (!dataTable) return;\n",
              "\n",
              "          const docLinkHtml = 'Like what you see? Visit the ' +\n",
              "            '<a target=\"_blank\" href=https://colab.research.google.com/notebooks/data_table.ipynb>data table notebook</a>'\n",
              "            + ' to learn more about interactive tables.';\n",
              "          element.innerHTML = '';\n",
              "          dataTable['output_type'] = 'display_data';\n",
              "          await google.colab.output.renderOutput(dataTable, element);\n",
              "          const docLink = document.createElement('div');\n",
              "          docLink.innerHTML = docLinkHtml;\n",
              "          element.appendChild(docLink);\n",
              "        }\n",
              "      </script>\n",
              "    </div>\n",
              "  </div>\n"
            ]
          },
          "metadata": {},
          "execution_count": 333
        }
      ]
    },
    {
      "cell_type": "code",
      "source": [
        "len(x_train)"
      ],
      "metadata": {
        "colab": {
          "base_uri": "https://localhost:8080/"
        },
        "outputId": "471fae57-1493-4232-c519-89c9160a31ef",
        "id": "Fy1C8jFlRNFg"
      },
      "execution_count": null,
      "outputs": [
        {
          "output_type": "execute_result",
          "data": {
            "text/plain": [
              "148822"
            ]
          },
          "metadata": {},
          "execution_count": 334
        }
      ]
    },
    {
      "cell_type": "code",
      "source": [
        "# In the ensemble method, the training code of DAE1 replaces a random mask every round of training.\n",
        "\n",
        "# Convert the dataset to np format\n",
        "x_train_np = x_train.values\n",
        "\n",
        "dae = DAE(original_dim = x_train_np.shape[1], categorical_dim = 3, continuous_dim = x_train_np.shape[1] - 3)\n",
        "optimizer = tf.keras.optimizers.Adam(learning_rate = 0.001)\n",
        "dae.compile(optimizer, loss=custom_loss)\n",
        "\n",
        "# set up early stopping, but this has no effect when iterations_per_noise = 1.\n",
        "early_stop = EarlyStopping(monitor='loss', min_delta = 0.0005, patience=5)\n",
        "\n",
        "# multiple epochs with different sparsity noise\n",
        "num_epochs = 20\n",
        "iterations_per_noise = 20\n",
        "\n",
        "for epoch in range(num_epochs // iterations_per_noise):\n",
        "    # create a new array with the same shape as x_train_np but with all elements -1\n",
        "    x_train_np_minus_one = np.full(x_train_np.shape, -1)\n",
        "\n",
        "    # Create a mask, the shape of the mask is the same as x_train_np, p = masking_factor represents the probability of 1 on the mask\n",
        "    masking_factor = 0.70       # Note that due to the replacement rules in tf.where later, the masking factor here should be 1-target value\n",
        "    mask = np.random.binomial(n = 1, p = masking_factor, size = x_train_np.shape)\n",
        "\n",
        "    # Use the tf.where function to replace the value in x_train_np with -1 according to the mask to get the noise data\n",
        "    x_train_np_noisy = tf.where(mask == 1, x_train_np, x_train_np_minus_one)\n",
        "\n",
        "    for iteration in range(iterations_per_noise):\n",
        "        print(f\"Noise Epoch {epoch + 1}/{num_epochs // iterations_per_noise}, Iteration {iteration + 1}/{iterations_per_noise}\")\n",
        "        dae.fit(x_train_np_noisy, x_train_np, batch_size = 256, callbacks=[early_stop])\n"
      ],
      "metadata": {
        "colab": {
          "base_uri": "https://localhost:8080/"
        },
        "outputId": "59be9564-3dd5-4d8e-e032-063037e9cf6c",
        "id": "LV2XxNlrRNFg"
      },
      "execution_count": null,
      "outputs": [
        {
          "output_type": "stream",
          "name": "stdout",
          "text": [
            "Noise Epoch 1/1, Iteration 1/20\n",
            "582/582 [==============================] - 14s 11ms/step - loss: 1.2843\n",
            "Noise Epoch 1/1, Iteration 2/20\n",
            "582/582 [==============================] - 6s 11ms/step - loss: 0.8772\n",
            "Noise Epoch 1/1, Iteration 3/20\n",
            "582/582 [==============================] - 7s 11ms/step - loss: 0.8681\n",
            "Noise Epoch 1/1, Iteration 4/20\n",
            "582/582 [==============================] - 7s 12ms/step - loss: 0.9078\n",
            "Noise Epoch 1/1, Iteration 5/20\n",
            "582/582 [==============================] - 6s 11ms/step - loss: 0.8525\n",
            "Noise Epoch 1/1, Iteration 6/20\n",
            "582/582 [==============================] - 6s 11ms/step - loss: 0.8453\n",
            "Noise Epoch 1/1, Iteration 7/20\n",
            "582/582 [==============================] - 6s 11ms/step - loss: 0.8397\n",
            "Noise Epoch 1/1, Iteration 8/20\n",
            "582/582 [==============================] - 7s 11ms/step - loss: 0.8332\n",
            "Noise Epoch 1/1, Iteration 9/20\n",
            "582/582 [==============================] - 7s 13ms/step - loss: 0.8277\n",
            "Noise Epoch 1/1, Iteration 10/20\n",
            "582/582 [==============================] - 6s 11ms/step - loss: 0.8236\n",
            "Noise Epoch 1/1, Iteration 11/20\n",
            "582/582 [==============================] - 7s 12ms/step - loss: 0.8745\n",
            "Noise Epoch 1/1, Iteration 12/20\n",
            "582/582 [==============================] - 6s 11ms/step - loss: 0.8203\n",
            "Noise Epoch 1/1, Iteration 13/20\n",
            "582/582 [==============================] - 6s 11ms/step - loss: 0.8158\n",
            "Noise Epoch 1/1, Iteration 14/20\n",
            "582/582 [==============================] - 6s 11ms/step - loss: 0.8136\n",
            "Noise Epoch 1/1, Iteration 15/20\n",
            "582/582 [==============================] - 6s 10ms/step - loss: 0.8117\n",
            "Noise Epoch 1/1, Iteration 16/20\n",
            "582/582 [==============================] - 7s 11ms/step - loss: 0.8105\n",
            "Noise Epoch 1/1, Iteration 17/20\n",
            "582/582 [==============================] - 6s 10ms/step - loss: 0.8511\n",
            "Noise Epoch 1/1, Iteration 18/20\n",
            "582/582 [==============================] - 7s 12ms/step - loss: 0.8070\n",
            "Noise Epoch 1/1, Iteration 19/20\n",
            "582/582 [==============================] - 6s 10ms/step - loss: 0.8048\n",
            "Noise Epoch 1/1, Iteration 20/20\n",
            "582/582 [==============================] - 7s 11ms/step - loss: 0.8047\n"
          ]
        }
      ]
    },
    {
      "cell_type": "code",
      "source": [
        "# In the ensemble method, the training code of DAE2 replaces a random mask every round of training.\n",
        "\n",
        "# Convert the dataset to np format\n",
        "x_train_np = x_train.values\n",
        "\n",
        "dae2 = DAE2(original_dim=x_train_np.shape[1], categorical_dim = 3, continuous_dim = x_train_np.shape[1] - 3)\n",
        "optimizer = tf.keras.optimizers.Adam(learning_rate = 0.001)\n",
        "dae2.compile(optimizer, loss=custom_loss)\n",
        "\n",
        "# set up early stopping, but this has no effect when iterations_per_noise = 1.\n",
        "early_stop = EarlyStopping(monitor='loss', min_delta = 0.0001, patience=5)\n",
        "\n",
        "# multiple epochs with different sparsity noise\n",
        "num_epochs = 20\n",
        "iterations_per_noise = 20\n",
        "\n",
        "for epoch in range(num_epochs // iterations_per_noise):\n",
        "    # create a new array with the same shape as x_train_np but with all elements -1\n",
        "    x_train_np_minus_one = np.full(x_train_np.shape, -1)\n",
        "\n",
        "    # Create a mask, the shape of the mask is the same as x_train_np, p = masking_factor represents the probability of 1 on the mask\n",
        "    masking_factor = 0.70       # Note that due to the replacement rules in tf.where later, the masking factor here should be 1-target value\n",
        "    mask = np.random.binomial(n = 1, p = masking_factor, size = x_train_np.shape)\n",
        "\n",
        "    # Use the tf.where function to replace the value in x_train_np with -1 according to the mask to get the noise data\n",
        "    x_train_np_noisy = tf.where(mask == 1, x_train_np, x_train_np_minus_one)\n",
        "\n",
        "    for iteration in range(iterations_per_noise):\n",
        "        print(f\"Noise Epoch {epoch + 1}/{num_epochs // iterations_per_noise}, Iteration {iteration + 1}/{iterations_per_noise}\")\n",
        "        dae2.fit(x_train_np_noisy, x_train_np, batch_size = 256, callbacks=[early_stop])\n"
      ],
      "metadata": {
        "colab": {
          "base_uri": "https://localhost:8080/"
        },
        "outputId": "424dc2f9-5d7c-465c-c468-526ec68de193",
        "id": "OQF7ylPwRNFg"
      },
      "execution_count": null,
      "outputs": [
        {
          "output_type": "stream",
          "name": "stdout",
          "text": [
            "Noise Epoch 1/1, Iteration 1/20\n",
            "582/582 [==============================] - 14s 12ms/step - loss: 1.4844\n",
            "Noise Epoch 1/1, Iteration 2/20\n",
            "582/582 [==============================] - 6s 11ms/step - loss: 0.8871\n",
            "Noise Epoch 1/1, Iteration 3/20\n",
            "582/582 [==============================] - 7s 12ms/step - loss: 0.8716\n",
            "Noise Epoch 1/1, Iteration 4/20\n",
            "582/582 [==============================] - 7s 12ms/step - loss: 0.8696\n",
            "Noise Epoch 1/1, Iteration 5/20\n",
            "582/582 [==============================] - 7s 12ms/step - loss: 0.8624\n",
            "Noise Epoch 1/1, Iteration 6/20\n",
            "582/582 [==============================] - 7s 12ms/step - loss: 0.8581\n",
            "Noise Epoch 1/1, Iteration 7/20\n",
            "582/582 [==============================] - 6s 11ms/step - loss: 0.8659\n",
            "Noise Epoch 1/1, Iteration 8/20\n",
            "582/582 [==============================] - 7s 12ms/step - loss: 0.8484\n",
            "Noise Epoch 1/1, Iteration 9/20\n",
            "582/582 [==============================] - 6s 11ms/step - loss: 0.8439\n",
            "Noise Epoch 1/1, Iteration 10/20\n",
            "582/582 [==============================] - 8s 14ms/step - loss: 0.8375\n",
            "Noise Epoch 1/1, Iteration 11/20\n",
            "582/582 [==============================] - 6s 11ms/step - loss: 0.8343\n",
            "Noise Epoch 1/1, Iteration 12/20\n",
            "582/582 [==============================] - 7s 12ms/step - loss: 0.8485\n",
            "Noise Epoch 1/1, Iteration 13/20\n",
            "582/582 [==============================] - 6s 11ms/step - loss: 0.8297\n",
            "Noise Epoch 1/1, Iteration 14/20\n",
            "582/582 [==============================] - 7s 12ms/step - loss: 0.8287\n",
            "Noise Epoch 1/1, Iteration 15/20\n",
            "582/582 [==============================] - 7s 12ms/step - loss: 0.8281\n",
            "Noise Epoch 1/1, Iteration 16/20\n",
            "582/582 [==============================] - 7s 12ms/step - loss: 0.8254\n",
            "Noise Epoch 1/1, Iteration 17/20\n",
            "582/582 [==============================] - 7s 12ms/step - loss: 0.8395\n",
            "Noise Epoch 1/1, Iteration 18/20\n",
            "582/582 [==============================] - 7s 12ms/step - loss: 0.8256\n",
            "Noise Epoch 1/1, Iteration 19/20\n",
            "582/582 [==============================] - 7s 13ms/step - loss: 0.8229\n",
            "Noise Epoch 1/1, Iteration 20/20\n",
            "582/582 [==============================] - 7s 12ms/step - loss: 0.8209\n"
          ]
        }
      ]
    },
    {
      "cell_type": "code",
      "source": [
        "# In the ensemble method, the training code of DAE3 replaces a random mask every round of training.\n",
        "\n",
        "# Convert the dataset to np format\n",
        "x_train_np = x_train.values\n",
        "\n",
        "dae3 = DAE3(original_dim=x_train_np.shape[1], categorical_dim = 3, continuous_dim = x_train_np.shape[1] - 3)\n",
        "optimizer = tf.keras.optimizers.Adam(learning_rate = 0.001)\n",
        "dae3.compile(optimizer, loss=custom_loss)\n",
        "\n",
        "# set up early stopping, but this has no effect when iterations_per_noise = 1.\n",
        "early_stop = EarlyStopping(monitor='loss', min_delta = 0.0001, patience=5)\n",
        "\n",
        "# multiple epochs with different sparsity noise\n",
        "num_epochs = 20\n",
        "iterations_per_noise = 20\n",
        "\n",
        "for epoch in range(num_epochs // iterations_per_noise):\n",
        "    # create a new array with the same shape as x_train_np but with all elements -1\n",
        "    x_train_np_minus_one = np.full(x_train_np.shape, -1)\n",
        "\n",
        "    # Create a mask, the shape of the mask is the same as x_train_np, p = masking_factor represents the probability of 1 on the mask\n",
        "    masking_factor = 0.70       # Note that due to the replacement rules in tf.where later, the masking factor here should be 1-target value\n",
        "    mask = np.random.binomial(n = 1, p = masking_factor, size = x_train_np.shape)\n",
        "\n",
        "    # Use the tf.where function to replace the value in x_train_np with -1 according to the mask to get the noise data\n",
        "    x_train_np_noisy = tf.where(mask == 1, x_train_np, x_train_np_minus_one)\n",
        "\n",
        "    for iteration in range(iterations_per_noise):\n",
        "        print(f\"Noise Epoch {epoch + 1}/{num_epochs // iterations_per_noise}, Iteration {iteration + 1}/{iterations_per_noise}\")\n",
        "        dae3.fit(x_train_np_noisy, x_train_np, batch_size = 256, callbacks=[early_stop])\n"
      ],
      "metadata": {
        "colab": {
          "base_uri": "https://localhost:8080/"
        },
        "outputId": "2a4874ff-6ff6-45bb-f90c-5e85b7240fab",
        "id": "eV_orV4ERNFg"
      },
      "execution_count": null,
      "outputs": [
        {
          "output_type": "stream",
          "name": "stdout",
          "text": [
            "Noise Epoch 1/1, Iteration 1/20\n",
            "582/582 [==============================] - 13s 11ms/step - loss: 1.1370\n",
            "Noise Epoch 1/1, Iteration 2/20\n",
            "582/582 [==============================] - 6s 11ms/step - loss: 0.9075\n",
            "Noise Epoch 1/1, Iteration 3/20\n",
            "582/582 [==============================] - 7s 12ms/step - loss: 0.8583\n",
            "Noise Epoch 1/1, Iteration 4/20\n",
            "582/582 [==============================] - 6s 11ms/step - loss: 0.8478\n",
            "Noise Epoch 1/1, Iteration 5/20\n",
            "582/582 [==============================] - 7s 12ms/step - loss: 0.8373\n",
            "Noise Epoch 1/1, Iteration 6/20\n",
            "582/582 [==============================] - 6s 11ms/step - loss: 0.8421\n",
            "Noise Epoch 1/1, Iteration 7/20\n",
            "582/582 [==============================] - 7s 12ms/step - loss: 0.8337\n",
            "Noise Epoch 1/1, Iteration 8/20\n",
            "582/582 [==============================] - 7s 12ms/step - loss: 0.8263\n",
            "Noise Epoch 1/1, Iteration 9/20\n",
            "582/582 [==============================] - 7s 11ms/step - loss: 0.8242\n",
            "Noise Epoch 1/1, Iteration 10/20\n",
            "582/582 [==============================] - 7s 12ms/step - loss: 0.8232\n",
            "Noise Epoch 1/1, Iteration 11/20\n",
            "582/582 [==============================] - 7s 12ms/step - loss: 0.8295\n",
            "Noise Epoch 1/1, Iteration 12/20\n",
            "582/582 [==============================] - 7s 12ms/step - loss: 0.8203\n",
            "Noise Epoch 1/1, Iteration 13/20\n",
            "582/582 [==============================] - 7s 12ms/step - loss: 0.8197\n",
            "Noise Epoch 1/1, Iteration 14/20\n",
            "582/582 [==============================] - 6s 11ms/step - loss: 0.8192\n",
            "Noise Epoch 1/1, Iteration 15/20\n",
            "582/582 [==============================] - 7s 11ms/step - loss: 0.8185\n",
            "Noise Epoch 1/1, Iteration 16/20\n",
            "582/582 [==============================] - 7s 12ms/step - loss: 0.8244\n",
            "Noise Epoch 1/1, Iteration 17/20\n",
            "582/582 [==============================] - 6s 11ms/step - loss: 0.8173\n",
            "Noise Epoch 1/1, Iteration 18/20\n",
            "582/582 [==============================] - 7s 12ms/step - loss: 0.8176\n",
            "Noise Epoch 1/1, Iteration 19/20\n",
            "582/582 [==============================] - 7s 12ms/step - loss: 0.8168\n",
            "Noise Epoch 1/1, Iteration 20/20\n",
            "582/582 [==============================] - 7s 12ms/step - loss: 0.8284\n"
          ]
        }
      ]
    },
    {
      "cell_type": "code",
      "source": [
        "# Save the weights\n",
        "dae.save_weights('/content/gdrive/MyDrive/Colab Notebooks/DPE_dataset/dae1_ensemble_leaky_relu_128_epoch20_insulation_roof_dataset1.h5')\n",
        "dae2.save_weights('/content/gdrive/MyDrive/Colab Notebooks/DPE_dataset/dae2_ensemble_swish_128_epoch20_insulation_roof_dataset1.h5')\n",
        "dae3.save_weights('/content/gdrive/MyDrive/Colab Notebooks/DPE_dataset/dae3_ensemble_elu_128_epoch20_insulation_roof_dataset1.h5')"
      ],
      "metadata": {
        "id": "ZUA36yanRNFh"
      },
      "execution_count": null,
      "outputs": []
    },
    {
      "cell_type": "code",
      "source": [
        "# Use a multilayer perceptron to train a classification network as a baseline\n",
        "mlp_clf = MLP_Classifier(num_classes = 4)\n",
        "\n",
        "mlp_clf.compile(optimizer='adam',\n",
        "              loss=tf.keras.losses.SparseCategoricalCrossentropy(),\n",
        "              metrics=['accuracy'])\n",
        "\n",
        "y_train_clf = x_train.values[:, 0]  # The label is in the first column\n",
        "x_train_clf = x_train.values[:, 1:]  # The rest are features\n",
        "\n",
        "y_test_clf = x_val.values[:, 0]\n",
        "x_test_clf = x_val.values[:, 1:]\n",
        "\n",
        "# train\n",
        "mlp_clf.fit(x_train_clf, y_train_clf, epochs=10, validation_data=(x_test_clf, y_test_clf))\n"
      ],
      "metadata": {
        "colab": {
          "base_uri": "https://localhost:8080/"
        },
        "outputId": "7f185e5e-920e-46b0-ca4d-40af42af5a3e",
        "id": "voHfGuP4RNFh"
      },
      "execution_count": null,
      "outputs": [
        {
          "output_type": "stream",
          "name": "stdout",
          "text": [
            "Epoch 1/10\n",
            "4651/4651 [==============================] - 15s 3ms/step - loss: 1.0270 - accuracy: 0.5834 - val_loss: 0.9940 - val_accuracy: 0.5850\n",
            "Epoch 2/10\n",
            "4651/4651 [==============================] - 14s 3ms/step - loss: 0.9781 - accuracy: 0.6025 - val_loss: 0.9690 - val_accuracy: 0.6109\n",
            "Epoch 3/10\n",
            "4651/4651 [==============================] - 15s 3ms/step - loss: 0.9673 - accuracy: 0.6088 - val_loss: 0.9605 - val_accuracy: 0.6145\n",
            "Epoch 4/10\n",
            "4651/4651 [==============================] - 14s 3ms/step - loss: 0.9588 - accuracy: 0.6149 - val_loss: 0.9520 - val_accuracy: 0.6201\n",
            "Epoch 5/10\n",
            "4651/4651 [==============================] - 14s 3ms/step - loss: 0.9485 - accuracy: 0.6238 - val_loss: 0.9404 - val_accuracy: 0.6333\n",
            "Epoch 6/10\n",
            "4651/4651 [==============================] - 15s 3ms/step - loss: 0.9347 - accuracy: 0.6322 - val_loss: 0.9264 - val_accuracy: 0.6370\n",
            "Epoch 7/10\n",
            "4651/4651 [==============================] - 14s 3ms/step - loss: 0.9204 - accuracy: 0.6390 - val_loss: 0.9122 - val_accuracy: 0.6436\n",
            "Epoch 8/10\n",
            "4651/4651 [==============================] - 20s 4ms/step - loss: 0.9123 - accuracy: 0.6431 - val_loss: 0.9103 - val_accuracy: 0.6418\n",
            "Epoch 9/10\n",
            "4651/4651 [==============================] - 13s 3ms/step - loss: 0.9081 - accuracy: 0.6448 - val_loss: 0.9038 - val_accuracy: 0.6500\n",
            "Epoch 10/10\n",
            "4651/4651 [==============================] - 13s 3ms/step - loss: 0.9050 - accuracy: 0.6464 - val_loss: 0.8992 - val_accuracy: 0.6507\n"
          ]
        },
        {
          "output_type": "execute_result",
          "data": {
            "text/plain": [
              "<keras.callbacks.History at 0x7d4967ec2860>"
            ]
          },
          "metadata": {},
          "execution_count": 339
        }
      ]
    },
    {
      "cell_type": "code",
      "source": [
        "# The function of this function is to reshape the result output by DAE\n",
        "def reshape_dae_output(dae_output):\n",
        "    # the first 3 columns of y_true and y_pred are the categorical variables,\n",
        "    # and the rest are the continuous variables.\n",
        "    dae_output_categorical_1 = tf.argmax(dae_output[:, :4], 1)\n",
        "    dae_output_categorical_2 = tf.argmax(dae_output[:, 4:8], 1)\n",
        "    dae_output_categorical_3 = tf.argmax(dae_output[:, 8:10], 1)\n",
        "    dae_output_continuous = dae_output[:, 10:]\n",
        "\n",
        "    # Cast the categorical outputs to float32 and expand dimensions\n",
        "    dae_output_categorical_1 = tf.expand_dims(tf.cast(dae_output_categorical_1, tf.float32), 1)\n",
        "    dae_output_categorical_2 = tf.expand_dims(tf.cast(dae_output_categorical_2, tf.float32), 1)\n",
        "    dae_output_categorical_3 = tf.expand_dims(tf.cast(dae_output_categorical_3, tf.float32), 1)\n",
        "\n",
        "    reshaped_output = tf.concat([dae_output_categorical_1, dae_output_categorical_2, dae_output_categorical_3, dae_output_continuous], axis=1)\n",
        "\n",
        "    return reshaped_output\n"
      ],
      "metadata": {
        "id": "Yqxg-26tRNFh"
      },
      "execution_count": null,
      "outputs": []
    },
    {
      "cell_type": "code",
      "source": [
        "# The function of this function is to reshape the result output by DAE\n",
        "# Compared with the above function, it can output an additional mask,\n",
        "# which will be used to select the value to be re-corrected\n",
        "def reshape_dae_output_mask(dae_output):\n",
        "    # Assuming the first 3 columns of y_true and y_pred are the categorical variables,\n",
        "    # and the rest are the continuous variables.\n",
        "    dae_output_categorical_1 = tf.argmax(dae_output[:, :4], 1)\n",
        "    dae_output_categorical_2 = tf.argmax(dae_output[:, 4:8], 1)\n",
        "    dae_output_categorical_3 = tf.argmax(dae_output[:, 8:10], 1)\n",
        "    dae_output_continuous = dae_output[:, 10:]\n",
        "    # print(dae_output[:, :4])\n",
        "\n",
        "    # Find the maximum probability in dae_output_categorical_1\n",
        "    max_prob = tf.reduce_max(dae_output[:, :4], axis=1)\n",
        "\n",
        "    # Create a mask where max_prob is less than 0.4\n",
        "    mask = tf.cast(tf.math.less(max_prob, 0.6), tf.bool)\n",
        "\n",
        "    # Expand dimensions of mask\n",
        "    mask = tf.expand_dims(mask, axis=1)\n",
        "\n",
        "    # Cast the categorical outputs to float32 and expand dimensions\n",
        "    dae_output_categorical_1 = tf.expand_dims(tf.cast(dae_output_categorical_1, tf.float32), 1)\n",
        "    dae_output_categorical_2 = tf.expand_dims(tf.cast(dae_output_categorical_2, tf.float32), 1)\n",
        "    dae_output_categorical_3 = tf.expand_dims(tf.cast(dae_output_categorical_3, tf.float32), 1)\n",
        "\n",
        "    reshaped_output = tf.concat([dae_output_categorical_1, dae_output_categorical_2, dae_output_categorical_3, dae_output_continuous], axis=1)\n",
        "\n",
        "    return reshaped_output, mask\n"
      ],
      "metadata": {
        "id": "3LNQS1dkRNFh"
      },
      "execution_count": null,
      "outputs": []
    },
    {
      "cell_type": "code",
      "source": [
        "# Interpolation process function. This function is used for non-ensemble methods.\n",
        "def insert_and_impute(df, df_true, train_df, column_name, fraction, vae, num_iterations = 10):\n",
        "    # Create a copy of df\n",
        "    df_copy = df.copy()\n",
        "    df_copy_np = df_copy.values\n",
        "\n",
        "    # create a new array with the same shape as x_train_np but with all elements -1\n",
        "    df_copy_np_minus_one = np.full(df_copy_np.shape, -1)\n",
        "\n",
        "    # Create a mask, the shape of the mask is the same as x_train_np, p = masking_factor represents the probability of 1 on the mask\n",
        "    masking_factor = 1 - fraction\n",
        "    mask = np.random.binomial(n = 1, p = masking_factor, size = df_copy_np.shape)\n",
        "\n",
        "    # Use the tf.where function to replace the value in x_train_np with -1 according to the mask to get the noise data\n",
        "    df_copy_np_noisy = tf.where(mask, df_copy_np, df_copy_np_minus_one)\n",
        "    df_copy_np_noisy = tf.cast(df_copy_np_noisy, tf.float32)\n",
        "\n",
        "    # print(df_copy_np_noisy)\n",
        "\n",
        "    # Convert dataframe to input format accepted by vae\n",
        "    missing_data = tf.Variable(df_copy_np_noisy, dtype = tf.float32, trainable=True)\n",
        "    true_data = tf.Variable(df_true.values.astype('float32'), trainable = True)\n",
        "\n",
        "    # Convert numpy mask to tensorflow tensor\n",
        "    mask = tf.convert_to_tensor(mask, dtype = tf.bool)\n",
        "    mask = np.logical_not(mask)\n",
        "\n",
        "    # Get the column index for the loss calculation\n",
        "    column_index = df.columns.get_loc(column_name)\n",
        "\n",
        "    # Iterate num_iterations rounds to impute missing values\n",
        "    for i in range(num_iterations):\n",
        "        # Get imputed data\n",
        "        imputed_data = vae(missing_data)\n",
        "        imputed_data = reshape_dae_output(imputed_data)\n",
        "\n",
        "        # RMSE on specified column\n",
        "        # loss = tf.sqrt(tf.reduce_mean(tf.square((imputed_data[:, column_index] - true_data[:, column_index])[mask[:, column_index]])))\n",
        "        # MAE on specified column\n",
        "        loss = tf.reduce_mean(tf.abs(imputed_data[:, column_index] - true_data[:, column_index])[mask[:, column_index]])\n",
        "        print('Target column loss:', loss)\n",
        "\n",
        "        loss = tf.reduce_mean(tf.abs(imputed_data - true_data)[mask])\n",
        "        print('Loss:', loss)\n",
        "\n",
        "        # Apply mask to imputed and true data\n",
        "        imputed_data_masked = tf.boolean_mask(imputed_data[:, column_index], mask[:, column_index])\n",
        "        true_data_masked = tf.boolean_mask(true_data[:, column_index], mask[:, column_index])\n",
        "\n",
        "        # Create a mask for correct imputations\n",
        "        accuracy_mask = (tf.abs(imputed_data_masked - true_data_masked) < 0.1)\n",
        "\n",
        "        # Calculate accuracy by dividing the number of correct imputations by the total number of imputations\n",
        "        accuracy = tf.reduce_mean(tf.cast(accuracy_mask, tf.float32))\n",
        "\n",
        "        print('Imputation accuracy:', accuracy)\n",
        "\n",
        "        # Fill missing parts of missing_data with imputed_data\n",
        "        missing_data.assign(tf.where(mask, imputed_data, missing_data))\n",
        "\n",
        "    df_copy[:] = missing_data.numpy()\n",
        "\n",
        "    return df_copy, mask\n"
      ],
      "metadata": {
        "id": "wxmfkIVhRNFh"
      },
      "execution_count": null,
      "outputs": []
    },
    {
      "cell_type": "code",
      "source": [
        "# Interpolation process function. This function is used for ensemble methods.\n",
        "def insert_and_impute_ensemble(df, df_true, train_df, column_name, fraction, dae1, dae2, dae3, num_iterations = 10):\n",
        "    # Create a copy of df\n",
        "    df_copy = df.copy()\n",
        "    df_copy_np = df_copy.values\n",
        "\n",
        "    # create a new array with the same shape as x_train_np but with all elements -1\n",
        "    df_copy_np_minus_one = np.full(df_copy_np.shape, -1)\n",
        "\n",
        "    # Create a mask, the shape of the mask is the same as x_train_np, p = masking_factor represents the probability of 1 on the mask\n",
        "    masking_factor = 1 - fraction\n",
        "    mask = np.random.binomial(n = 1, p = masking_factor, size = df_copy_np.shape)\n",
        "\n",
        "    # Use the tf.where function to replace the value in x_train_np with -1 according to the mask to get the noise data\n",
        "    df_copy_np_noisy = tf.where(mask, df_copy_np, df_copy_np_minus_one)\n",
        "    df_copy_np_noisy = tf.cast(df_copy_np_noisy, tf.float32)\n",
        "\n",
        "    # Convert dataframe to input format accepted by vae\n",
        "    missing_data = tf.Variable(df_copy_np_noisy, dtype = tf.float32, trainable=True)\n",
        "    true_data = tf.Variable(df_true.values.astype('float32'), trainable = True)\n",
        "\n",
        "    # Convert numpy mask to tensorflow tensor\n",
        "    mask = tf.convert_to_tensor(mask, dtype = tf.bool)\n",
        "    mask = np.logical_not(mask)\n",
        "\n",
        "    # Get the column index for the loss calculation\n",
        "    column_index = df.columns.get_loc(column_name)\n",
        "\n",
        "    # Iterate num_iterations rounds to impute missing values\n",
        "    for i in range(num_iterations):\n",
        "        # Get imputed data\n",
        "        imputed_data1 = dae1(missing_data)\n",
        "        imputed_data2 = dae2(missing_data)\n",
        "        imputed_data3 = dae3(missing_data)\n",
        "\n",
        "        # ensemble the 3 daes' output\n",
        "        imputed_data = tf.reduce_mean([imputed_data1, imputed_data2, imputed_data3], axis=0)\n",
        "        imputed_data = reshape_dae_output(imputed_data)\n",
        "\n",
        "        # RMSE on specified column\n",
        "        # loss = tf.sqrt(tf.reduce_mean(tf.square((imputed_data[:, column_index] - true_data[:, column_index])[mask[:, column_index]])))\n",
        "        # MAE on specified column\n",
        "        loss = tf.reduce_mean(tf.abs(imputed_data[:, column_index] - true_data[:, column_index])[mask[:, column_index]])\n",
        "        print('Target column loss:', loss)\n",
        "\n",
        "        loss = tf.reduce_mean(tf.abs(imputed_data - true_data)[mask])\n",
        "        print('Loss:', loss)\n",
        "\n",
        "        # Apply mask to imputed and true data\n",
        "        imputed_data_masked = tf.boolean_mask(imputed_data[:, column_index], mask[:, column_index])\n",
        "        true_data_masked = tf.boolean_mask(true_data[:, column_index], mask[:, column_index])\n",
        "\n",
        "        # Create a mask for correct imputations\n",
        "        # accuracy_mask = (tf.abs(imputed_data_masked - true_data_masked) < 0.1) | ((imputed_data_masked < -0.1) & (true_data_masked < 0))\n",
        "        accuracy_mask = (tf.abs(imputed_data_masked - true_data_masked) < 0.1)\n",
        "\n",
        "        # Calculate accuracy by dividing the number of correct imputations by the total number of imputations\n",
        "        accuracy = tf.reduce_mean(tf.cast(accuracy_mask, tf.float32))\n",
        "\n",
        "        print('Imputation accuracy:', accuracy)\n",
        "\n",
        "        # Fill missing parts of missing_data with imputed_data\n",
        "        missing_data.assign(tf.where(mask, imputed_data, missing_data))\n",
        "\n",
        "    df_copy[:] = missing_data.numpy()\n",
        "\n",
        "    return df_copy, mask\n"
      ],
      "metadata": {
        "id": "8QlO7C3FRNFi"
      },
      "execution_count": null,
      "outputs": []
    },
    {
      "cell_type": "code",
      "source": [
        "# target_column = 'Primary_ECS_Consumption'\n",
        "target_column = 'Quality_insulation_upper_floor_roof_terrace'"
      ],
      "metadata": {
        "id": "xV7MUgcRRNFi"
      },
      "execution_count": null,
      "outputs": []
    },
    {
      "cell_type": "code",
      "source": [
        "# Test the correct rate of the target column of DAE1 when the missing ratio is 20%.\n",
        "df_insulation_floor_imputed, mask = insert_and_impute(x_val, x_true, x_train, target_column, 0.2, dae, num_iterations = 1)"
      ],
      "metadata": {
        "colab": {
          "base_uri": "https://localhost:8080/"
        },
        "outputId": "d82dea95-ffc0-4f29-d0f8-14b0a07f33fb",
        "id": "-QgR62ldRNFi"
      },
      "execution_count": null,
      "outputs": [
        {
          "output_type": "stream",
          "name": "stdout",
          "text": [
            "Target column loss: tf.Tensor(0.77989274, shape=(), dtype=float32)\n",
            "Loss: tf.Tensor(0.32147506, shape=(), dtype=float32)\n",
            "Imputation accuracy: tf.Tensor(0.613941, shape=(), dtype=float32)\n"
          ]
        },
        {
          "output_type": "stream",
          "name": "stderr",
          "text": [
            "<ipython-input-342-40211c73411e>:61: DeprecationWarning: In a future version, `df.iloc[:, i] = newvals` will attempt to set the values inplace instead of always setting a new array. To retain the old behavior, use either `df[df.columns[i]] = newvals` or, if columns are non-unique, `df.isetitem(i, newvals)`\n",
            "  df_copy[:] = missing_data.numpy()\n"
          ]
        }
      ]
    },
    {
      "cell_type": "code",
      "source": [
        "# Test the correct rate of the target column of DAE2 when the missing ratio is 20%.\n",
        "df_insulation_floor_imputed_2, mask_2 = insert_and_impute(x_val, x_true, x_train, target_column, 0.2, dae2, num_iterations = 1)"
      ],
      "metadata": {
        "colab": {
          "base_uri": "https://localhost:8080/"
        },
        "outputId": "12af053e-c0e5-4bc7-863c-867b0544e7a3",
        "id": "o6M2ukNTRNFi"
      },
      "execution_count": null,
      "outputs": [
        {
          "output_type": "stream",
          "name": "stdout",
          "text": [
            "Target column loss: tf.Tensor(0.93012404, shape=(), dtype=float32)\n",
            "Loss: tf.Tensor(0.33267924, shape=(), dtype=float32)\n",
            "Imputation accuracy: tf.Tensor(0.5655421, shape=(), dtype=float32)\n"
          ]
        },
        {
          "output_type": "stream",
          "name": "stderr",
          "text": [
            "<ipython-input-342-40211c73411e>:61: DeprecationWarning: In a future version, `df.iloc[:, i] = newvals` will attempt to set the values inplace instead of always setting a new array. To retain the old behavior, use either `df[df.columns[i]] = newvals` or, if columns are non-unique, `df.isetitem(i, newvals)`\n",
            "  df_copy[:] = missing_data.numpy()\n"
          ]
        }
      ]
    },
    {
      "cell_type": "code",
      "source": [
        "# Test the correct rate of the target column of DAE3 when the missing ratio is 20%.\n",
        "df_insulation_floor_imputed_3, mask_3 = insert_and_impute(x_val, x_true, x_train, target_column, 0.2, dae3, num_iterations = 1)"
      ],
      "metadata": {
        "colab": {
          "base_uri": "https://localhost:8080/"
        },
        "outputId": "33a397c1-9afb-48b6-e2ec-a40feb981a18",
        "id": "tzGVRZ9rRNFj"
      },
      "execution_count": null,
      "outputs": [
        {
          "output_type": "stream",
          "name": "stdout",
          "text": [
            "Target column loss: tf.Tensor(0.90030986, shape=(), dtype=float32)\n",
            "Loss: tf.Tensor(0.33234558, shape=(), dtype=float32)\n",
            "Imputation accuracy: tf.Tensor(0.57308364, shape=(), dtype=float32)\n"
          ]
        },
        {
          "output_type": "stream",
          "name": "stderr",
          "text": [
            "<ipython-input-342-40211c73411e>:61: DeprecationWarning: In a future version, `df.iloc[:, i] = newvals` will attempt to set the values inplace instead of always setting a new array. To retain the old behavior, use either `df[df.columns[i]] = newvals` or, if columns are non-unique, `df.isetitem(i, newvals)`\n",
            "  df_copy[:] = missing_data.numpy()\n"
          ]
        }
      ]
    },
    {
      "cell_type": "code",
      "source": [
        "# Test the correct rate of the target column of DAE3 when the missing ratio is 10%.\n",
        "df_insulation_floor_imputed_3, mask_3 = insert_and_impute(x_val, x_true, x_train, target_column, 0.1, dae3, num_iterations = 1)"
      ],
      "metadata": {
        "colab": {
          "base_uri": "https://localhost:8080/"
        },
        "outputId": "f0a32990-fbac-4a41-d44e-6989d766e8fe",
        "id": "pZEcz0AlRNFj"
      },
      "execution_count": null,
      "outputs": [
        {
          "output_type": "stream",
          "name": "stdout",
          "text": [
            "Target column loss: tf.Tensor(0.88205403, shape=(), dtype=float32)\n",
            "Loss: tf.Tensor(0.32848695, shape=(), dtype=float32)\n",
            "Imputation accuracy: tf.Tensor(0.5790318, shape=(), dtype=float32)\n"
          ]
        },
        {
          "output_type": "stream",
          "name": "stderr",
          "text": [
            "<ipython-input-342-40211c73411e>:61: DeprecationWarning: In a future version, `df.iloc[:, i] = newvals` will attempt to set the values inplace instead of always setting a new array. To retain the old behavior, use either `df[df.columns[i]] = newvals` or, if columns are non-unique, `df.isetitem(i, newvals)`\n",
            "  df_copy[:] = missing_data.numpy()\n"
          ]
        }
      ]
    },
    {
      "cell_type": "code",
      "source": [
        "# Test the correct rate of the target column of ensemble when the missing ratio is 20%.\n",
        "df_insulation_floor_imputed_ensemble, mask_ensemble = insert_and_impute_ensemble(x_val, x_true, x_train, target_column, 0.2, dae, dae2, dae3, num_iterations = 1)"
      ],
      "metadata": {
        "colab": {
          "base_uri": "https://localhost:8080/"
        },
        "outputId": "802a3a34-16a2-4c59-a72b-c8f97f357b22",
        "id": "G4PPwzYNRNFj"
      },
      "execution_count": null,
      "outputs": [
        {
          "output_type": "stream",
          "name": "stdout",
          "text": [
            "Target column loss: tf.Tensor(0.82884204, shape=(), dtype=float32)\n",
            "Loss: tf.Tensor(0.31938615, shape=(), dtype=float32)\n",
            "Imputation accuracy: tf.Tensor(0.59324974, shape=(), dtype=float32)\n"
          ]
        },
        {
          "output_type": "stream",
          "name": "stderr",
          "text": [
            "<ipython-input-343-7e8a75cdda51>:65: DeprecationWarning: In a future version, `df.iloc[:, i] = newvals` will attempt to set the values inplace instead of always setting a new array. To retain the old behavior, use either `df[df.columns[i]] = newvals` or, if columns are non-unique, `df.isetitem(i, newvals)`\n",
            "  df_copy[:] = missing_data.numpy()\n"
          ]
        }
      ]
    },
    {
      "cell_type": "code",
      "source": [
        "# Test the correct rate of the target column of ensemble when the missing ratio is 10%.\n",
        "df_insulation_floor_imputed_ensemble, mask_ensemble = insert_and_impute_ensemble(x_val, x_true, x_train, target_column, 0.1, dae, dae2, dae3, num_iterations = 1)"
      ],
      "metadata": {
        "colab": {
          "base_uri": "https://localhost:8080/"
        },
        "outputId": "256620f4-037f-4c64-9d79-3c111778d21a",
        "id": "xmHcH8JWRNFj"
      },
      "execution_count": null,
      "outputs": [
        {
          "output_type": "stream",
          "name": "stdout",
          "text": [
            "Target column loss: tf.Tensor(0.82300884, shape=(), dtype=float32)\n",
            "Loss: tf.Tensor(0.31085962, shape=(), dtype=float32)\n",
            "Imputation accuracy: tf.Tensor(0.60579246, shape=(), dtype=float32)\n"
          ]
        },
        {
          "output_type": "stream",
          "name": "stderr",
          "text": [
            "<ipython-input-343-7e8a75cdda51>:65: DeprecationWarning: In a future version, `df.iloc[:, i] = newvals` will attempt to set the values inplace instead of always setting a new array. To retain the old behavior, use either `df[df.columns[i]] = newvals` or, if columns are non-unique, `df.isetitem(i, newvals)`\n",
            "  df_copy[:] = missing_data.numpy()\n"
          ]
        }
      ]
    },
    {
      "cell_type": "code",
      "source": [
        "def draw_histogram_with_mask(df, column, mask, bins=10):\n",
        "    \"\"\"\n",
        "     Plot a histogram of the specified columns of the DataFrame while filtering using mask.\n",
        "\n",
        "     parameter:\n",
        "     df : pandas DataFrame\n",
        "     column : string, column name\n",
        "     mask : Series or array-like, Boolean mask\n",
        "     bins : int, the number of bins in the histogram\n",
        "    \"\"\"\n",
        "\n",
        "    # Apply mask to filter data\n",
        "    df_masked = df[mask]\n",
        "\n",
        "    # draw histogram\n",
        "    plt.figure(figsize=(10, 6))\n",
        "    df.loc[mask[:, df.columns.get_loc(column)], column].hist(bins=bins)\n",
        "\n",
        "    plt.title(f'Histgram {column}(masked))')\n",
        "    plt.xlabel(column)\n",
        "    plt.ylabel('Freq')\n",
        "    plt.grid(False)\n",
        "    plt.show()\n"
      ],
      "metadata": {
        "id": "LCBtTAJKRNFj"
      },
      "execution_count": null,
      "outputs": []
    },
    {
      "cell_type": "code",
      "source": [
        "df_insulation_floor_imputed.loc[mask[:, df_insulation_floor_imputed.columns.get_loc('Quality_insulation_upper_floor_roof_terrace')], 'Quality_insulation_upper_floor_roof_terrace']"
      ],
      "metadata": {
        "colab": {
          "base_uri": "https://localhost:8080/"
        },
        "outputId": "6adbb917-a4e9-4a10-b99f-893c52a56215",
        "id": "xwNFsaHqRNFk"
      },
      "execution_count": null,
      "outputs": [
        {
          "output_type": "execute_result",
          "data": {
            "text/plain": [
              "3833774    0.0\n",
              "2646308    0.0\n",
              "2056320    0.0\n",
              "615092     0.0\n",
              "3835703    0.0\n",
              "          ... \n",
              "827324     0.0\n",
              "1624091    0.0\n",
              "1635658    0.0\n",
              "3646983    0.0\n",
              "3655147    0.0\n",
              "Name: Quality_insulation_upper_floor_roof_terrace, Length: 7460, dtype: float64"
            ]
          },
          "metadata": {},
          "execution_count": 352
        }
      ]
    },
    {
      "cell_type": "code",
      "source": [
        "draw_histogram_with_mask(df_insulation_floor_imputed, target_column, mask, bins=10)"
      ],
      "metadata": {
        "colab": {
          "base_uri": "https://localhost:8080/"
        },
        "outputId": "3025bdcc-7593-4272-891b-dc4128c4b7cd",
        "id": "j4clzk3sRNFk"
      },
      "execution_count": null,
      "outputs": [
        {
          "output_type": "display_data",
          "data": {
            "text/plain": [
              "<Figure size 1000x600 with 1 Axes>"
            ],
            "image/png": "[encoded data removed]"
          },
          "metadata": {}
        }
      ]
    }
  ]
}