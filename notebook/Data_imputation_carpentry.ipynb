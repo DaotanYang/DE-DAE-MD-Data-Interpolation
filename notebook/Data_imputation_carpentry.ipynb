{
  "nbformat": 4,
  "nbformat_minor": 0,
  "metadata": {
    "colab": {
      "provenance": [],
      "collapsed_sections": [
        "HED-KFhNI-SH",
        "j6p1fQz7I4DN",
        "1j9ABJgaEbog",
        "7qsJ8vhj2eaL",
        "PGMXBhWQ44BM",
        "kQqTTnfB6ulB",
        "Rcn-StGS6vcL",
        "0wr9x9Q4RAaR"
      ]
    },
    "kernelspec": {
      "name": "python3",
      "display_name": "Python 3"
    },
    "language_info": {
      "name": "python"
    }
  },
  "cells": [
    {
      "cell_type": "markdown",
      "source": [
        "# Data Load and EDA"
      ],
      "metadata": {
        "id": "HED-KFhNI-SH"
      }
    },
    {
      "cell_type": "markdown",
      "source": [
        "### Data load"
      ],
      "metadata": {
        "id": "j6p1fQz7I4DN"
      }
    },
    {
      "cell_type": "code",
      "execution_count": null,
      "metadata": {
        "id": "n4CDaw2od_Ck"
      },
      "outputs": [],
      "source": [
        "import pandas as pd\n",
        "import numpy as np\n",
        "import seaborn as sns\n",
        "import matplotlib.pyplot as plt\n",
        "\n",
        "import tensorflow as tf\n",
        "from tensorflow.keras import layers\n",
        "from sklearn.preprocessing import StandardScaler\n",
        "from sklearn.preprocessing import MinMaxScaler"
      ]
    },
    {
      "cell_type": "code",
      "source": [
        "import tensorflow as tf\n",
        "from tensorflow.keras import layers\n",
        "from sklearn.preprocessing import StandardScaler\n",
        "from tensorflow.keras.callbacks import EarlyStopping\n",
        "import numpy as np"
      ],
      "metadata": {
        "id": "9mENuuZiAzmi"
      },
      "execution_count": null,
      "outputs": []
    },
    {
      "cell_type": "code",
      "execution_count": null,
      "metadata": {
        "colab": {
          "base_uri": "https://localhost:8080/"
        },
        "id": "tibJW0jGeLVi",
        "outputId": "c698cb3e-8ece-440e-921f-0e1fabe89303"
      },
      "outputs": [
        {
          "output_type": "stream",
          "name": "stdout",
          "text": [
            "Mounted at /content/gdrive\n"
          ]
        }
      ],
      "source": [
        "from google.colab import drive\n",
        "drive.mount('/content/gdrive')"
      ]
    },
    {
      "cell_type": "markdown",
      "source": [
        "Load the data set. In order not to exceed my RAM limit, I only loaded some columns, and I selected all the features under the Isolation category.\n",
        "\n",
        "First of all, I want to explain that I did not choose Conso_ECS_é_primaire as follows:\n",
        "\n",
        "\n",
        "1. The missing value ratio is very low, about 9.7e-7. Compared with other features, the missing value ratio of this feature is too low.\n",
        "2. When I was doing data analysis, I found that the correlation between Conso_ECS_é_primaire and several other features is not high, and the introduction of Conso_ECS_é_primaire will have the effect of introducing noise instead. Therefore, I plan to perform separate data imputation on the Conso_ECS_é_primaire feature.\n"
      ],
      "metadata": {
        "id": "Ss2vBWuopZ95"
      }
    },
    {
      "cell_type": "code",
      "execution_count": null,
      "metadata": {
        "id": "EcQxlYreeOdl"
      },
      "outputs": [],
      "source": [
        "df_DPE_dataset = pd.read_csv('/content/gdrive/MyDrive/Colab Notebooks/DPE_dataset/dpe-v2-logements-existants.csv',\n",
        "                usecols = ['Conso_ECS_é_primaire',\n",
        "                      'Qualité_isolation_plancher_bas',\n",
        "                      'Qualité_isolation_murs',\n",
        "                      'Qualité_isolation_menuiseries',\n",
        "                      'Qualité_isolation_plancher_haut_toit_terrase',\n",
        "                      'Conso_5_usages_é_primaire',\n",
        "                      'Conso_ECS_é_finale',\n",
        "                      'Type_énergie_principale_ECS',\n",
        "                      'Conso_é_finale_générateur_ECS_n°1',\n",
        "                      'Conso_é_finale_générateur_ECS_n°2',\n",
        "                      'Isolation_toiture_(0/1)',\n",
        "                      'Deperditions_planchers_bas',\n",
        "                      'Qualité_isolation_enveloppe',\n",
        "                      'Déperditions_murs',\n",
        "                      'Déperditions_portes',\n",
        "                      'Deperditions_baies_vitrées',\n",
        "                      'Deperditions_planchers_hauts',\n",
        "                      'Qualité_isolation_plancher_haut_comble_aménagé',\n",
        "                      'Qualité_isolation_plancher_haut_comble_perdu',\n",
        "                      'Année_construction',\n",
        "                      'Surface_habitable_immeuble',\n",
        "                      'Surface_habitable_logement',\n",
        "                      'Code_postal_(BAN)',\n",
        "                      ],\n",
        "                sep = ',')"
      ]
    },
    {
      "cell_type": "markdown",
      "source": [
        "I used a dictionary to map the column names of interest to their corresponding English names. And added Chinese notes (Chinese is my mother tongue)"
      ],
      "metadata": {
        "id": "LMD0YriHKjql"
      }
    },
    {
      "cell_type": "code",
      "source": [
        "# Column name mapping dictionary\n",
        "name_dict = {\n",
        "    'Conso_ECS_é_primaire': 'Primary_ECS_Consumption',    # 初级能源消耗系统（ECS）消耗\n",
        "    'Qualité_isolation_plancher_bas': 'Quality_insulation_lower_floor', # 低层地板绝缘质量\n",
        "    'Qualité_isolation_murs': 'Quality_insulation_walls',   # 墙体绝缘质量\n",
        "    'Qualité_isolation_menuiseries': 'Quality_insulation_carpentry',    # 木工绝缘质量\n",
        "    'Qualité_isolation_plancher_haut_toit_terrase': 'Quality_insulation_upper_floor_roof_terrace',  # 顶楼地板及屋顶露台绝缘质量\n",
        "    'Conso_5_usages_é_primaire': 'Primary_5_usages_consumption',    # 初级能源5用途消耗\n",
        "    'Conso_ECS_é_finale': 'Final_ECS_Consumption',  # 最终能源消耗系统（ECS）消耗\n",
        "    'Type_énergie_principale_ECS': 'Type_main_energy_ECS',  # 主要能源消耗系统（ECS）类型\n",
        "    'Conso_é_finale_générateur_ECS_n°1': 'Final_consumption_ECS_generator_no1', # 能源消耗系统（ECS）发电机1最终消耗\n",
        "    'Conso_é_finale_générateur_ECS_n°2': 'Final_consumption_ECS_generator_no2', # 能源消耗系统（ECS）发电机2最终消耗\n",
        "    'Isolation_toiture_(0/1)': 'Roof_insulation_(0/1)',     # 屋顶绝缘（0/1）\n",
        "    'Deperditions_planchers_bas': 'Losses_lower_floors',    # 底层楼板热量损失\n",
        "    'Qualité_isolation_enveloppe': 'Quality_insulation_envelope',   # 围护结构绝缘质量\n",
        "    'Déperditions_murs': 'Losses_walls',    # 墙体热量损失\n",
        "    'Déperditions_portes': 'Losses_doors',  # 门的热量损失\n",
        "    'Deperditions_baies_vitrées': 'Losses_glazed_bays',     # 玻璃窗户热量损失\n",
        "    'Deperditions_planchers_hauts': 'Losses_upper_floors',      # 上层楼板热量损失\n",
        "    'Qualité_isolation_plancher_haut_comble_aménagé': 'Quality_insulation_upper_floor_arranged_attic',  # 整理过的阁楼上层楼板绝缘质量\n",
        "    'Qualité_isolation_plancher_haut_comble_perdu': 'Quality_insulation_upper_floor_lost_attic',    # 丢失的阁楼上层楼板绝缘质量\n",
        "    'Année_construction': 'Year_construction',  # 建筑年份\n",
        "    'Surface_habitable_immeuble': 'Living_area_building',   # 建筑物的居住面积\n",
        "    'Surface_habitable_logement': 'Living_area_housing',    # 住房的居住面积\n",
        "    'Code_postal_(BAN)': 'Postal_code_(BAN)',  # 邮政编码（BAN）\n",
        "\n",
        "}\n",
        "\n",
        "# 使用rename方法重命名列\n",
        "df_DPE_dataset.rename(columns = name_dict, inplace = True)"
      ],
      "metadata": {
        "id": "_2jWAzVk1S8m"
      },
      "execution_count": null,
      "outputs": []
    },
    {
      "cell_type": "code",
      "execution_count": null,
      "metadata": {
        "colab": {
          "base_uri": "https://localhost:8080/"
        },
        "id": "L0I-zzJ8ekhe",
        "outputId": "dbb48681-0e84-4ca1-88e6-aa6cdd69b115"
      },
      "outputs": [
        {
          "output_type": "execute_result",
          "data": {
            "text/plain": [
              "         Year_construction  Living_area_building  Living_area_housing  \\\n",
              "0                   1945.0                 220.8                220.8   \n",
              "1                   1948.0                   NaN                 70.6   \n",
              "2                   1948.0                2200.0                109.0   \n",
              "3                   1976.0                3292.3                 47.5   \n",
              "4                   1948.0                   NaN                 36.4   \n",
              "...                    ...                   ...                  ...   \n",
              "4277638             2013.0                  46.4                 46.4   \n",
              "4277639             1960.0                3870.0                 59.0   \n",
              "4277640             1945.0                   NaN                 70.0   \n",
              "4277641             2014.0                1327.0                 49.7   \n",
              "4277642             1961.0                  70.0                 70.0   \n",
              "\n",
              "         Postal_code_(BAN)  Final_ECS_Consumption  \\\n",
              "0                  25000.0                 4463.6   \n",
              "1                  13016.0                 4522.1   \n",
              "2                  93100.0                 7035.3   \n",
              "3                  44800.0                 2576.8   \n",
              "4                  92330.0                 1858.2   \n",
              "...                    ...                    ...   \n",
              "4277638            44240.0                 2486.1   \n",
              "4277639            25000.0                 2771.0   \n",
              "4277640            44530.0                 1864.7   \n",
              "4277641            51100.0                 1205.3   \n",
              "4277642            91330.0                 2705.7   \n",
              "\n",
              "         Primary_5_usages_consumption  Primary_ECS_Consumption  \\\n",
              "0                             41345.2                   6600.7   \n",
              "1                             15403.7                   4522.1   \n",
              "2                             63792.5                  22815.4   \n",
              "3                              8334.7                   3633.3   \n",
              "4                              8857.1                   1858.2   \n",
              "...                               ...                      ...   \n",
              "4277638                        4365.9                   2486.1   \n",
              "4277639                       18778.5                   3907.1   \n",
              "4277640                       36347.2                   4288.8   \n",
              "4277641                        3842.7                   1699.5   \n",
              "4277642                       14378.6                   2705.7   \n",
              "\n",
              "         Roof_insulation_(0/1)  Losses_glazed_bays  Losses_walls  ...  \\\n",
              "0                          0.0                91.3         191.0  ...   \n",
              "1                          NaN                16.1         134.9  ...   \n",
              "2                          NaN               764.5        5368.1  ...   \n",
              "3                          NaN                 NaN           NaN  ...   \n",
              "4                          NaN                40.2          27.4  ...   \n",
              "...                        ...                 ...           ...  ...   \n",
              "4277638                    1.0                 7.9           4.3  ...   \n",
              "4277639                    NaN              2362.8        5110.1  ...   \n",
              "4277640                    1.0                35.5          92.5  ...   \n",
              "4277641                    NaN               373.2         208.9  ...   \n",
              "4277642                    0.0                22.4          88.6  ...   \n",
              "\n",
              "         Quality_insulation_envelope  Quality_insulation_carpentry  \\\n",
              "0                       insuffisante                         bonne   \n",
              "1                       insuffisante                         bonne   \n",
              "2                       insuffisante                       moyenne   \n",
              "3                       insuffisante                       moyenne   \n",
              "4                       insuffisante                  insuffisante   \n",
              "...                              ...                           ...   \n",
              "4277638                   très bonne                    très bonne   \n",
              "4277639                 insuffisante                       moyenne   \n",
              "4277640                 insuffisante                  insuffisante   \n",
              "4277641                        bonne                    très bonne   \n",
              "4277642                 insuffisante                    très bonne   \n",
              "\n",
              "         Quality_insulation_walls Quality_insulation_lower_floor  \\\n",
              "0                    insuffisante                     très bonne   \n",
              "1                    insuffisante                     très bonne   \n",
              "2                    insuffisante                        moyenne   \n",
              "3                    insuffisante                   insuffisante   \n",
              "4                    insuffisante                     très bonne   \n",
              "...                           ...                            ...   \n",
              "4277638              insuffisante                     très bonne   \n",
              "4277639              insuffisante                   insuffisante   \n",
              "4277640              insuffisante                        moyenne   \n",
              "4277641                très bonne                     très bonne   \n",
              "4277642              insuffisante                     très bonne   \n",
              "\n",
              "        Quality_insulation_upper_floor_roof_terrace  \\\n",
              "0                                               NaN   \n",
              "1                                               NaN   \n",
              "2                                               NaN   \n",
              "3                                               NaN   \n",
              "4                                               NaN   \n",
              "...                                             ...   \n",
              "4277638                                  très bonne   \n",
              "4277639                                         NaN   \n",
              "4277640                                         NaN   \n",
              "4277641                                         NaN   \n",
              "4277642                                         NaN   \n",
              "\n",
              "        Quality_insulation_upper_floor_arranged_attic  \\\n",
              "0                                                 NaN   \n",
              "1                                                 NaN   \n",
              "2                                                 NaN   \n",
              "3                                                 NaN   \n",
              "4                                                 NaN   \n",
              "...                                               ...   \n",
              "4277638                                           NaN   \n",
              "4277639                                           NaN   \n",
              "4277640                                           NaN   \n",
              "4277641                                           NaN   \n",
              "4277642                                           NaN   \n",
              "\n",
              "        Quality_insulation_upper_floor_lost_attic Type_main_energy_ECS  \\\n",
              "0                                    insuffisante          Gaz naturel   \n",
              "1                                      très bonne          Gaz naturel   \n",
              "2                                             NaN          Électricité   \n",
              "3                                             NaN                  NaN   \n",
              "4                                      très bonne          Gaz naturel   \n",
              "...                                           ...                  ...   \n",
              "4277638                                       NaN          Gaz naturel   \n",
              "4277639                                       NaN          Gaz naturel   \n",
              "4277640                                     bonne          Électricité   \n",
              "4277641                                       NaN          Gaz naturel   \n",
              "4277642                                       NaN          Gaz naturel   \n",
              "\n",
              "        Final_consumption_ECS_generator_no1  \\\n",
              "0                                    2819.6   \n",
              "1                                       1.0   \n",
              "2                                    2440.2   \n",
              "3                                       NaN   \n",
              "4                                       1.0   \n",
              "...                                     ...   \n",
              "4277638                              2486.1   \n",
              "4277639                            181757.6   \n",
              "4277640                              1864.7   \n",
              "4277641                             32182.9   \n",
              "4277642                              2705.7   \n",
              "\n",
              "        Final_consumption_ECS_generator_no2  \n",
              "0                                       NaN  \n",
              "1                                       NaN  \n",
              "2                                       NaN  \n",
              "3                                       NaN  \n",
              "4                                       NaN  \n",
              "...                                     ...  \n",
              "4277638                                 NaN  \n",
              "4277639                                 NaN  \n",
              "4277640                                 NaN  \n",
              "4277641                                 NaN  \n",
              "4277642                                 NaN  \n",
              "\n",
              "[4277643 rows x 23 columns]"
            ],
            "text/html": [
              "\n",
              "  <div id=\"df-1f22fa54-0602-4f0f-ae8c-285451d7f2fd\" class=\"colab-df-container\">\n",
              "    <div>\n",
              "<style scoped>\n",
              "    .dataframe tbody tr th:only-of-type {\n",
              "        vertical-align: middle;\n",
              "    }\n",
              "\n",
              "    .dataframe tbody tr th {\n",
              "        vertical-align: top;\n",
              "    }\n",
              "\n",
              "    .dataframe thead th {\n",
              "        text-align: right;\n",
              "    }\n",
              "</style>\n",
              "<table border=\"1\" class=\"dataframe\">\n",
              "  <thead>\n",
              "    <tr style=\"text-align: right;\">\n",
              "      <th></th>\n",
              "      <th>Year_construction</th>\n",
              "      <th>Living_area_building</th>\n",
              "      <th>Living_area_housing</th>\n",
              "      <th>Postal_code_(BAN)</th>\n",
              "      <th>Final_ECS_Consumption</th>\n",
              "      <th>Primary_5_usages_consumption</th>\n",
              "      <th>Primary_ECS_Consumption</th>\n",
              "      <th>Roof_insulation_(0/1)</th>\n",
              "      <th>Losses_glazed_bays</th>\n",
              "      <th>Losses_walls</th>\n",
              "      <th>...</th>\n",
              "      <th>Quality_insulation_envelope</th>\n",
              "      <th>Quality_insulation_carpentry</th>\n",
              "      <th>Quality_insulation_walls</th>\n",
              "      <th>Quality_insulation_lower_floor</th>\n",
              "      <th>Quality_insulation_upper_floor_roof_terrace</th>\n",
              "      <th>Quality_insulation_upper_floor_arranged_attic</th>\n",
              "      <th>Quality_insulation_upper_floor_lost_attic</th>\n",
              "      <th>Type_main_energy_ECS</th>\n",
              "      <th>Final_consumption_ECS_generator_no1</th>\n",
              "      <th>Final_consumption_ECS_generator_no2</th>\n",
              "    </tr>\n",
              "  </thead>\n",
              "  <tbody>\n",
              "    <tr>\n",
              "      <th>0</th>\n",
              "      <td>1945.0</td>\n",
              "      <td>220.8</td>\n",
              "      <td>220.8</td>\n",
              "      <td>25000.0</td>\n",
              "      <td>4463.6</td>\n",
              "      <td>41345.2</td>\n",
              "      <td>6600.7</td>\n",
              "      <td>0.0</td>\n",
              "      <td>91.3</td>\n",
              "      <td>191.0</td>\n",
              "      <td>...</td>\n",
              "      <td>insuffisante</td>\n",
              "      <td>bonne</td>\n",
              "      <td>insuffisante</td>\n",
              "      <td>très bonne</td>\n",
              "      <td>NaN</td>\n",
              "      <td>NaN</td>\n",
              "      <td>insuffisante</td>\n",
              "      <td>Gaz naturel</td>\n",
              "      <td>2819.6</td>\n",
              "      <td>NaN</td>\n",
              "    </tr>\n",
              "    <tr>\n",
              "      <th>1</th>\n",
              "      <td>1948.0</td>\n",
              "      <td>NaN</td>\n",
              "      <td>70.6</td>\n",
              "      <td>13016.0</td>\n",
              "      <td>4522.1</td>\n",
              "      <td>15403.7</td>\n",
              "      <td>4522.1</td>\n",
              "      <td>NaN</td>\n",
              "      <td>16.1</td>\n",
              "      <td>134.9</td>\n",
              "      <td>...</td>\n",
              "      <td>insuffisante</td>\n",
              "      <td>bonne</td>\n",
              "      <td>insuffisante</td>\n",
              "      <td>très bonne</td>\n",
              "      <td>NaN</td>\n",
              "      <td>NaN</td>\n",
              "      <td>très bonne</td>\n",
              "      <td>Gaz naturel</td>\n",
              "      <td>1.0</td>\n",
              "      <td>NaN</td>\n",
              "    </tr>\n",
              "    <tr>\n",
              "      <th>2</th>\n",
              "      <td>1948.0</td>\n",
              "      <td>2200.0</td>\n",
              "      <td>109.0</td>\n",
              "      <td>93100.0</td>\n",
              "      <td>7035.3</td>\n",
              "      <td>63792.5</td>\n",
              "      <td>22815.4</td>\n",
              "      <td>NaN</td>\n",
              "      <td>764.5</td>\n",
              "      <td>5368.1</td>\n",
              "      <td>...</td>\n",
              "      <td>insuffisante</td>\n",
              "      <td>moyenne</td>\n",
              "      <td>insuffisante</td>\n",
              "      <td>moyenne</td>\n",
              "      <td>NaN</td>\n",
              "      <td>NaN</td>\n",
              "      <td>NaN</td>\n",
              "      <td>Électricité</td>\n",
              "      <td>2440.2</td>\n",
              "      <td>NaN</td>\n",
              "    </tr>\n",
              "    <tr>\n",
              "      <th>3</th>\n",
              "      <td>1976.0</td>\n",
              "      <td>3292.3</td>\n",
              "      <td>47.5</td>\n",
              "      <td>44800.0</td>\n",
              "      <td>2576.8</td>\n",
              "      <td>8334.7</td>\n",
              "      <td>3633.3</td>\n",
              "      <td>NaN</td>\n",
              "      <td>NaN</td>\n",
              "      <td>NaN</td>\n",
              "      <td>...</td>\n",
              "      <td>insuffisante</td>\n",
              "      <td>moyenne</td>\n",
              "      <td>insuffisante</td>\n",
              "      <td>insuffisante</td>\n",
              "      <td>NaN</td>\n",
              "      <td>NaN</td>\n",
              "      <td>NaN</td>\n",
              "      <td>NaN</td>\n",
              "      <td>NaN</td>\n",
              "      <td>NaN</td>\n",
              "    </tr>\n",
              "    <tr>\n",
              "      <th>4</th>\n",
              "      <td>1948.0</td>\n",
              "      <td>NaN</td>\n",
              "      <td>36.4</td>\n",
              "      <td>92330.0</td>\n",
              "      <td>1858.2</td>\n",
              "      <td>8857.1</td>\n",
              "      <td>1858.2</td>\n",
              "      <td>NaN</td>\n",
              "      <td>40.2</td>\n",
              "      <td>27.4</td>\n",
              "      <td>...</td>\n",
              "      <td>insuffisante</td>\n",
              "      <td>insuffisante</td>\n",
              "      <td>insuffisante</td>\n",
              "      <td>très bonne</td>\n",
              "      <td>NaN</td>\n",
              "      <td>NaN</td>\n",
              "      <td>très bonne</td>\n",
              "      <td>Gaz naturel</td>\n",
              "      <td>1.0</td>\n",
              "      <td>NaN</td>\n",
              "    </tr>\n",
              "    <tr>\n",
              "      <th>...</th>\n",
              "      <td>...</td>\n",
              "      <td>...</td>\n",
              "      <td>...</td>\n",
              "      <td>...</td>\n",
              "      <td>...</td>\n",
              "      <td>...</td>\n",
              "      <td>...</td>\n",
              "      <td>...</td>\n",
              "      <td>...</td>\n",
              "      <td>...</td>\n",
              "      <td>...</td>\n",
              "      <td>...</td>\n",
              "      <td>...</td>\n",
              "      <td>...</td>\n",
              "      <td>...</td>\n",
              "      <td>...</td>\n",
              "      <td>...</td>\n",
              "      <td>...</td>\n",
              "      <td>...</td>\n",
              "      <td>...</td>\n",
              "      <td>...</td>\n",
              "    </tr>\n",
              "    <tr>\n",
              "      <th>4277638</th>\n",
              "      <td>2013.0</td>\n",
              "      <td>46.4</td>\n",
              "      <td>46.4</td>\n",
              "      <td>44240.0</td>\n",
              "      <td>2486.1</td>\n",
              "      <td>4365.9</td>\n",
              "      <td>2486.1</td>\n",
              "      <td>1.0</td>\n",
              "      <td>7.9</td>\n",
              "      <td>4.3</td>\n",
              "      <td>...</td>\n",
              "      <td>très bonne</td>\n",
              "      <td>très bonne</td>\n",
              "      <td>insuffisante</td>\n",
              "      <td>très bonne</td>\n",
              "      <td>très bonne</td>\n",
              "      <td>NaN</td>\n",
              "      <td>NaN</td>\n",
              "      <td>Gaz naturel</td>\n",
              "      <td>2486.1</td>\n",
              "      <td>NaN</td>\n",
              "    </tr>\n",
              "    <tr>\n",
              "      <th>4277639</th>\n",
              "      <td>1960.0</td>\n",
              "      <td>3870.0</td>\n",
              "      <td>59.0</td>\n",
              "      <td>25000.0</td>\n",
              "      <td>2771.0</td>\n",
              "      <td>18778.5</td>\n",
              "      <td>3907.1</td>\n",
              "      <td>NaN</td>\n",
              "      <td>2362.8</td>\n",
              "      <td>5110.1</td>\n",
              "      <td>...</td>\n",
              "      <td>insuffisante</td>\n",
              "      <td>moyenne</td>\n",
              "      <td>insuffisante</td>\n",
              "      <td>insuffisante</td>\n",
              "      <td>NaN</td>\n",
              "      <td>NaN</td>\n",
              "      <td>NaN</td>\n",
              "      <td>Gaz naturel</td>\n",
              "      <td>181757.6</td>\n",
              "      <td>NaN</td>\n",
              "    </tr>\n",
              "    <tr>\n",
              "      <th>4277640</th>\n",
              "      <td>1945.0</td>\n",
              "      <td>NaN</td>\n",
              "      <td>70.0</td>\n",
              "      <td>44530.0</td>\n",
              "      <td>1864.7</td>\n",
              "      <td>36347.2</td>\n",
              "      <td>4288.8</td>\n",
              "      <td>1.0</td>\n",
              "      <td>35.5</td>\n",
              "      <td>92.5</td>\n",
              "      <td>...</td>\n",
              "      <td>insuffisante</td>\n",
              "      <td>insuffisante</td>\n",
              "      <td>insuffisante</td>\n",
              "      <td>moyenne</td>\n",
              "      <td>NaN</td>\n",
              "      <td>NaN</td>\n",
              "      <td>bonne</td>\n",
              "      <td>Électricité</td>\n",
              "      <td>1864.7</td>\n",
              "      <td>NaN</td>\n",
              "    </tr>\n",
              "    <tr>\n",
              "      <th>4277641</th>\n",
              "      <td>2014.0</td>\n",
              "      <td>1327.0</td>\n",
              "      <td>49.7</td>\n",
              "      <td>51100.0</td>\n",
              "      <td>1205.3</td>\n",
              "      <td>3842.7</td>\n",
              "      <td>1699.5</td>\n",
              "      <td>NaN</td>\n",
              "      <td>373.2</td>\n",
              "      <td>208.9</td>\n",
              "      <td>...</td>\n",
              "      <td>bonne</td>\n",
              "      <td>très bonne</td>\n",
              "      <td>très bonne</td>\n",
              "      <td>très bonne</td>\n",
              "      <td>NaN</td>\n",
              "      <td>NaN</td>\n",
              "      <td>NaN</td>\n",
              "      <td>Gaz naturel</td>\n",
              "      <td>32182.9</td>\n",
              "      <td>NaN</td>\n",
              "    </tr>\n",
              "    <tr>\n",
              "      <th>4277642</th>\n",
              "      <td>1961.0</td>\n",
              "      <td>70.0</td>\n",
              "      <td>70.0</td>\n",
              "      <td>91330.0</td>\n",
              "      <td>2705.7</td>\n",
              "      <td>14378.6</td>\n",
              "      <td>2705.7</td>\n",
              "      <td>0.0</td>\n",
              "      <td>22.4</td>\n",
              "      <td>88.6</td>\n",
              "      <td>...</td>\n",
              "      <td>insuffisante</td>\n",
              "      <td>très bonne</td>\n",
              "      <td>insuffisante</td>\n",
              "      <td>très bonne</td>\n",
              "      <td>NaN</td>\n",
              "      <td>NaN</td>\n",
              "      <td>NaN</td>\n",
              "      <td>Gaz naturel</td>\n",
              "      <td>2705.7</td>\n",
              "      <td>NaN</td>\n",
              "    </tr>\n",
              "  </tbody>\n",
              "</table>\n",
              "<p>4277643 rows × 23 columns</p>\n",
              "</div>\n",
              "    <div class=\"colab-df-buttons\">\n",
              "\n",
              "  <div class=\"colab-df-container\">\n",
              "    <button class=\"colab-df-convert\" onclick=\"convertToInteractive('df-1f22fa54-0602-4f0f-ae8c-285451d7f2fd')\"\n",
              "            title=\"Convert this dataframe to an interactive table.\"\n",
              "            style=\"display:none;\">\n",
              "\n",
              "  <svg xmlns=\"http://www.w3.org/2000/svg\" height=\"24px\" viewBox=\"0 -960 960 960\">\n",
              "    <path d=\"M120-120v-720h720v720H120Zm60-500h600v-160H180v160Zm220 220h160v-160H400v160Zm0 220h160v-160H400v160ZM180-400h160v-160H180v160Zm440 0h160v-160H620v160ZM180-180h160v-160H180v160Zm440 0h160v-160H620v160Z\"/>\n",
              "  </svg>\n",
              "    </button>\n",
              "\n",
              "  <style>\n",
              "    .colab-df-container {\n",
              "      display:flex;\n",
              "      gap: 12px;\n",
              "    }\n",
              "\n",
              "    .colab-df-convert {\n",
              "      background-color: #E8F0FE;\n",
              "      border: none;\n",
              "      border-radius: 50%;\n",
              "      cursor: pointer;\n",
              "      display: none;\n",
              "      fill: #1967D2;\n",
              "      height: 32px;\n",
              "      padding: 0 0 0 0;\n",
              "      width: 32px;\n",
              "    }\n",
              "\n",
              "    .colab-df-convert:hover {\n",
              "      background-color: #E2EBFA;\n",
              "      box-shadow: 0px 1px 2px rgba(60, 64, 67, 0.3), 0px 1px 3px 1px rgba(60, 64, 67, 0.15);\n",
              "      fill: #174EA6;\n",
              "    }\n",
              "\n",
              "    .colab-df-buttons div {\n",
              "      margin-bottom: 4px;\n",
              "    }\n",
              "\n",
              "    [theme=dark] .colab-df-convert {\n",
              "      background-color: #3B4455;\n",
              "      fill: #D2E3FC;\n",
              "    }\n",
              "\n",
              "    [theme=dark] .colab-df-convert:hover {\n",
              "      background-color: #434B5C;\n",
              "      box-shadow: 0px 1px 3px 1px rgba(0, 0, 0, 0.15);\n",
              "      filter: drop-shadow(0px 1px 2px rgba(0, 0, 0, 0.3));\n",
              "      fill: #FFFFFF;\n",
              "    }\n",
              "  </style>\n",
              "\n",
              "    <script>\n",
              "      const buttonEl =\n",
              "        document.querySelector('#df-1f22fa54-0602-4f0f-ae8c-285451d7f2fd button.colab-df-convert');\n",
              "      buttonEl.style.display =\n",
              "        google.colab.kernel.accessAllowed ? 'block' : 'none';\n",
              "\n",
              "      async function convertToInteractive(key) {\n",
              "        const element = document.querySelector('#df-1f22fa54-0602-4f0f-ae8c-285451d7f2fd');\n",
              "        const dataTable =\n",
              "          await google.colab.kernel.invokeFunction('convertToInteractive',\n",
              "                                                    [key], {});\n",
              "        if (!dataTable) return;\n",
              "\n",
              "        const docLinkHtml = 'Like what you see? Visit the ' +\n",
              "          '<a target=\"_blank\" href=https://colab.research.google.com/notebooks/data_table.ipynb>data table notebook</a>'\n",
              "          + ' to learn more about interactive tables.';\n",
              "        element.innerHTML = '';\n",
              "        dataTable['output_type'] = 'display_data';\n",
              "        await google.colab.output.renderOutput(dataTable, element);\n",
              "        const docLink = document.createElement('div');\n",
              "        docLink.innerHTML = docLinkHtml;\n",
              "        element.appendChild(docLink);\n",
              "      }\n",
              "    </script>\n",
              "  </div>\n",
              "\n",
              "\n",
              "<div id=\"df-03e0c657-6bc5-49d2-9240-ce3d0a456d0b\">\n",
              "  <button class=\"colab-df-quickchart\" onclick=\"quickchart('df-03e0c657-6bc5-49d2-9240-ce3d0a456d0b')\"\n",
              "            title=\"Suggest charts.\"\n",
              "            style=\"display:none;\">\n",
              "\n",
              "<svg xmlns=\"http://www.w3.org/2000/svg\" height=\"24px\"viewBox=\"0 0 24 24\"\n",
              "     width=\"24px\">\n",
              "    <g>\n",
              "        <path d=\"M19 3H5c-1.1 0-2 .9-2 2v14c0 1.1.9 2 2 2h14c1.1 0 2-.9 2-2V5c0-1.1-.9-2-2-2zM9 17H7v-7h2v7zm4 0h-2V7h2v10zm4 0h-2v-4h2v4z\"/>\n",
              "    </g>\n",
              "</svg>\n",
              "  </button>\n",
              "\n",
              "<style>\n",
              "  .colab-df-quickchart {\n",
              "    background-color: #E8F0FE;\n",
              "    border: none;\n",
              "    border-radius: 50%;\n",
              "    cursor: pointer;\n",
              "    display: none;\n",
              "    fill: #1967D2;\n",
              "    height: 32px;\n",
              "    padding: 0 0 0 0;\n",
              "    width: 32px;\n",
              "  }\n",
              "\n",
              "  .colab-df-quickchart:hover {\n",
              "    background-color: #E2EBFA;\n",
              "    box-shadow: 0px 1px 2px rgba(60, 64, 67, 0.3), 0px 1px 3px 1px rgba(60, 64, 67, 0.15);\n",
              "    fill: #174EA6;\n",
              "  }\n",
              "\n",
              "  [theme=dark] .colab-df-quickchart {\n",
              "    background-color: #3B4455;\n",
              "    fill: #D2E3FC;\n",
              "  }\n",
              "\n",
              "  [theme=dark] .colab-df-quickchart:hover {\n",
              "    background-color: #434B5C;\n",
              "    box-shadow: 0px 1px 3px 1px rgba(0, 0, 0, 0.15);\n",
              "    filter: drop-shadow(0px 1px 2px rgba(0, 0, 0, 0.3));\n",
              "    fill: #FFFFFF;\n",
              "  }\n",
              "</style>\n",
              "\n",
              "  <script>\n",
              "    async function quickchart(key) {\n",
              "      const charts = await google.colab.kernel.invokeFunction(\n",
              "          'suggestCharts', [key], {});\n",
              "    }\n",
              "    (() => {\n",
              "      let quickchartButtonEl =\n",
              "        document.querySelector('#df-03e0c657-6bc5-49d2-9240-ce3d0a456d0b button');\n",
              "      quickchartButtonEl.style.display =\n",
              "        google.colab.kernel.accessAllowed ? 'block' : 'none';\n",
              "    })();\n",
              "  </script>\n",
              "</div>\n",
              "    </div>\n",
              "  </div>\n"
            ]
          },
          "metadata": {},
          "execution_count": 6
        }
      ],
      "source": [
        "df_DPE_dataset"
      ]
    },
    {
      "cell_type": "code",
      "execution_count": null,
      "metadata": {
        "id": "hJ8x-V15e3dO"
      },
      "outputs": [],
      "source": [
        "# output the data type of different featurers\n",
        "def print_dtypes(df):\n",
        "    '''\n",
        "    Func:\n",
        "        print the list of data type in dataframe\n",
        "    Input:\n",
        "        df : Dataframe\n",
        "    Output:\n",
        "        No return\n",
        "\n",
        "    '''\n",
        "    for col in df.columns:\n",
        "        print(f\"{col}: {df[col].dtype}\")"
      ]
    },
    {
      "cell_type": "markdown",
      "source": [
        "Observe the data type of features"
      ],
      "metadata": {
        "id": "MBPx3XH7rE94"
      }
    },
    {
      "cell_type": "code",
      "execution_count": null,
      "metadata": {
        "colab": {
          "base_uri": "https://localhost:8080/"
        },
        "id": "1OHwH9BofCC2",
        "outputId": "06ec93d4-5968-4f3e-e26a-7f4249cdfa44"
      },
      "outputs": [
        {
          "output_type": "stream",
          "name": "stdout",
          "text": [
            "The type of the features in DPE dataset: \n",
            "\n",
            "Year_construction: float64\n",
            "Living_area_building: float64\n",
            "Living_area_housing: float64\n",
            "Postal_code_(BAN): float64\n",
            "Final_ECS_Consumption: float64\n",
            "Primary_5_usages_consumption: float64\n",
            "Primary_ECS_Consumption: float64\n",
            "Roof_insulation_(0/1): float64\n",
            "Losses_glazed_bays: float64\n",
            "Losses_walls: float64\n",
            "Losses_lower_floors: float64\n",
            "Losses_upper_floors: float64\n",
            "Losses_doors: float64\n",
            "Quality_insulation_envelope: object\n",
            "Quality_insulation_carpentry: object\n",
            "Quality_insulation_walls: object\n",
            "Quality_insulation_lower_floor: object\n",
            "Quality_insulation_upper_floor_roof_terrace: object\n",
            "Quality_insulation_upper_floor_arranged_attic: object\n",
            "Quality_insulation_upper_floor_lost_attic: object\n",
            "Type_main_energy_ECS: object\n",
            "Final_consumption_ECS_generator_no1: float64\n",
            "Final_consumption_ECS_generator_no2: float64\n"
          ]
        }
      ],
      "source": [
        "print('The type of the features in DPE dataset: \\n')\n",
        "print_dtypes(df_DPE_dataset)"
      ]
    },
    {
      "cell_type": "code",
      "execution_count": null,
      "metadata": {
        "id": "Bjlh-OZyfjWL"
      },
      "outputs": [],
      "source": [
        "# output the missing ratio of featurers\n",
        "def check_missing_values(df):\n",
        "    '''\n",
        "    Func:\n",
        "        compute the missing ratio of features\n",
        "    Input:\n",
        "        df : Dataframe\n",
        "    Output:\n",
        "        feature: dictionary, store the missing ratio of features\n",
        "\n",
        "    '''\n",
        "    missing_values = df.isnull().mean()\n",
        "    missing_features = missing_values[missing_values > 0].index.tolist()\n",
        "    return {feature: missing_values[feature] for feature in missing_features}"
      ]
    },
    {
      "cell_type": "code",
      "execution_count": null,
      "metadata": {
        "colab": {
          "base_uri": "https://localhost:8080/"
        },
        "id": "irmC-0DjfnLz",
        "outputId": "8027e7e8-5df1-4c8a-ae95-25cccd9c1ddb"
      },
      "outputs": [
        {
          "output_type": "stream",
          "name": "stdout",
          "text": [
            "The information about missing values in DPE data: \n",
            "\n",
            "                                          feature  missing_ratio\n",
            "0                               Year_construction   3.183333e-01\n",
            "1                            Living_area_building   6.773812e-01\n",
            "2                             Living_area_housing   1.102546e-02\n",
            "3                               Postal_code_(BAN)   5.146526e-03\n",
            "4                           Final_ECS_Consumption   9.350944e-07\n",
            "5                    Primary_5_usages_consumption   1.077696e-04\n",
            "6                         Primary_ECS_Consumption   9.350944e-07\n",
            "7                           Roof_insulation_(0/1)   3.249902e-01\n",
            "8                              Losses_glazed_bays   8.814667e-03\n",
            "9                                    Losses_walls   8.809992e-03\n",
            "10                            Losses_lower_floors   9.711189e-03\n",
            "11                            Losses_upper_floors   9.632407e-03\n",
            "12                                   Losses_doors   9.063870e-03\n",
            "13                       Quality_insulation_walls   5.241204e-04\n",
            "14                 Quality_insulation_lower_floor   8.547791e-02\n",
            "15    Quality_insulation_upper_floor_roof_terrace   8.391551e-01\n",
            "16  Quality_insulation_upper_floor_arranged_attic   8.235603e-01\n",
            "17      Quality_insulation_upper_floor_lost_attic   4.813854e-01\n",
            "18                           Type_main_energy_ECS   1.006024e-01\n",
            "19            Final_consumption_ECS_generator_no1   1.006187e-01\n",
            "20            Final_consumption_ECS_generator_no2   9.998081e-01\n"
          ]
        }
      ],
      "source": [
        "missing_results = check_missing_values(df_DPE_dataset)\n",
        "df_missing_results = pd.DataFrame(columns=['feature', 'missing_ratio'])\n",
        "df_missing_results['feature'] = missing_results.keys()\n",
        "df_missing_results['missing_ratio'] = missing_results.values()\n",
        "print('The information about missing values in DPE data: \\n')\n",
        "print(df_missing_results)"
      ]
    },
    {
      "cell_type": "markdown",
      "source": [
        "### Quality_insulation_carpentry data"
      ],
      "metadata": {
        "id": "1j9ABJgaEbog"
      }
    },
    {
      "cell_type": "code",
      "source": [
        "df_insulation_carpentry = df_DPE_dataset[['Quality_insulation_carpentry',\n",
        "                    'Quality_insulation_envelope',\n",
        "                    'Year_construction',\n",
        "                    # 'Living_area_building',\n",
        "                    'Living_area_housing',\n",
        "                    'Postal_code_(BAN)',\n",
        "                    'Final_ECS_Consumption',\n",
        "                    'Primary_5_usages_consumption',\n",
        "                    'Losses_doors',\n",
        "                    'Losses_glazed_bays',\n",
        "                    ]]"
      ],
      "metadata": {
        "id": "ihIaNJ4cEk0C"
      },
      "execution_count": null,
      "outputs": []
    },
    {
      "cell_type": "code",
      "source": [
        "df_insulation_carpentry"
      ],
      "metadata": {
        "colab": {
          "base_uri": "https://localhost:8080/"
        },
        "id": "PdAifVYTEk4X",
        "outputId": "7f4213d3-c269-4ec1-a50e-4dc93f0eb87b"
      },
      "execution_count": null,
      "outputs": [
        {
          "output_type": "execute_result",
          "data": {
            "text/plain": [
              "        Quality_insulation_carpentry Quality_insulation_envelope  \\\n",
              "0                              bonne                insuffisante   \n",
              "1                              bonne                insuffisante   \n",
              "2                            moyenne                insuffisante   \n",
              "3                            moyenne                insuffisante   \n",
              "4                       insuffisante                insuffisante   \n",
              "...                              ...                         ...   \n",
              "4277638                   très bonne                  très bonne   \n",
              "4277639                      moyenne                insuffisante   \n",
              "4277640                 insuffisante                insuffisante   \n",
              "4277641                   très bonne                       bonne   \n",
              "4277642                   très bonne                insuffisante   \n",
              "\n",
              "         Year_construction  Living_area_housing  Postal_code_(BAN)  \\\n",
              "0                   1945.0                220.8            25000.0   \n",
              "1                   1948.0                 70.6            13016.0   \n",
              "2                   1948.0                109.0            93100.0   \n",
              "3                   1976.0                 47.5            44800.0   \n",
              "4                   1948.0                 36.4            92330.0   \n",
              "...                    ...                  ...                ...   \n",
              "4277638             2013.0                 46.4            44240.0   \n",
              "4277639             1960.0                 59.0            25000.0   \n",
              "4277640             1945.0                 70.0            44530.0   \n",
              "4277641             2014.0                 49.7            51100.0   \n",
              "4277642             1961.0                 70.0            91330.0   \n",
              "\n",
              "         Final_ECS_Consumption  Primary_5_usages_consumption  Losses_doors  \\\n",
              "0                       4463.6                       41345.2          15.0   \n",
              "1                       4522.1                       15403.7           4.4   \n",
              "2                       7035.3                       63792.5          66.1   \n",
              "3                       2576.8                        8334.7           NaN   \n",
              "4                       1858.2                        8857.1           0.0   \n",
              "...                        ...                           ...           ...   \n",
              "4277638                 2486.1                        4365.9           0.0   \n",
              "4277639                 2771.0                       18778.5         285.6   \n",
              "4277640                 1864.7                       36347.2          15.3   \n",
              "4277641                 1205.3                        3842.7           4.3   \n",
              "4277642                 2705.7                       14378.6           2.2   \n",
              "\n",
              "         Losses_glazed_bays  \n",
              "0                      91.3  \n",
              "1                      16.1  \n",
              "2                     764.5  \n",
              "3                       NaN  \n",
              "4                      40.2  \n",
              "...                     ...  \n",
              "4277638                 7.9  \n",
              "4277639              2362.8  \n",
              "4277640                35.5  \n",
              "4277641               373.2  \n",
              "4277642                22.4  \n",
              "\n",
              "[4277643 rows x 9 columns]"
            ],
            "text/html": [
              "\n",
              "\n",
              "  <div id=\"df-167549da-859e-4b98-b73d-88bcadc04408\">\n",
              "    <div class=\"colab-df-container\">\n",
              "      <div>\n",
              "<style scoped>\n",
              "    .dataframe tbody tr th:only-of-type {\n",
              "        vertical-align: middle;\n",
              "    }\n",
              "\n",
              "    .dataframe tbody tr th {\n",
              "        vertical-align: top;\n",
              "    }\n",
              "\n",
              "    .dataframe thead th {\n",
              "        text-align: right;\n",
              "    }\n",
              "</style>\n",
              "<table border=\"1\" class=\"dataframe\">\n",
              "  <thead>\n",
              "    <tr style=\"text-align: right;\">\n",
              "      <th></th>\n",
              "      <th>Quality_insulation_carpentry</th>\n",
              "      <th>Quality_insulation_envelope</th>\n",
              "      <th>Year_construction</th>\n",
              "      <th>Living_area_housing</th>\n",
              "      <th>Postal_code_(BAN)</th>\n",
              "      <th>Final_ECS_Consumption</th>\n",
              "      <th>Primary_5_usages_consumption</th>\n",
              "      <th>Losses_doors</th>\n",
              "      <th>Losses_glazed_bays</th>\n",
              "    </tr>\n",
              "  </thead>\n",
              "  <tbody>\n",
              "    <tr>\n",
              "      <th>0</th>\n",
              "      <td>bonne</td>\n",
              "      <td>insuffisante</td>\n",
              "      <td>1945.0</td>\n",
              "      <td>220.8</td>\n",
              "      <td>25000.0</td>\n",
              "      <td>4463.6</td>\n",
              "      <td>41345.2</td>\n",
              "      <td>15.0</td>\n",
              "      <td>91.3</td>\n",
              "    </tr>\n",
              "    <tr>\n",
              "      <th>1</th>\n",
              "      <td>bonne</td>\n",
              "      <td>insuffisante</td>\n",
              "      <td>1948.0</td>\n",
              "      <td>70.6</td>\n",
              "      <td>13016.0</td>\n",
              "      <td>4522.1</td>\n",
              "      <td>15403.7</td>\n",
              "      <td>4.4</td>\n",
              "      <td>16.1</td>\n",
              "    </tr>\n",
              "    <tr>\n",
              "      <th>2</th>\n",
              "      <td>moyenne</td>\n",
              "      <td>insuffisante</td>\n",
              "      <td>1948.0</td>\n",
              "      <td>109.0</td>\n",
              "      <td>93100.0</td>\n",
              "      <td>7035.3</td>\n",
              "      <td>63792.5</td>\n",
              "      <td>66.1</td>\n",
              "      <td>764.5</td>\n",
              "    </tr>\n",
              "    <tr>\n",
              "      <th>3</th>\n",
              "      <td>moyenne</td>\n",
              "      <td>insuffisante</td>\n",
              "      <td>1976.0</td>\n",
              "      <td>47.5</td>\n",
              "      <td>44800.0</td>\n",
              "      <td>2576.8</td>\n",
              "      <td>8334.7</td>\n",
              "      <td>NaN</td>\n",
              "      <td>NaN</td>\n",
              "    </tr>\n",
              "    <tr>\n",
              "      <th>4</th>\n",
              "      <td>insuffisante</td>\n",
              "      <td>insuffisante</td>\n",
              "      <td>1948.0</td>\n",
              "      <td>36.4</td>\n",
              "      <td>92330.0</td>\n",
              "      <td>1858.2</td>\n",
              "      <td>8857.1</td>\n",
              "      <td>0.0</td>\n",
              "      <td>40.2</td>\n",
              "    </tr>\n",
              "    <tr>\n",
              "      <th>...</th>\n",
              "      <td>...</td>\n",
              "      <td>...</td>\n",
              "      <td>...</td>\n",
              "      <td>...</td>\n",
              "      <td>...</td>\n",
              "      <td>...</td>\n",
              "      <td>...</td>\n",
              "      <td>...</td>\n",
              "      <td>...</td>\n",
              "    </tr>\n",
              "    <tr>\n",
              "      <th>4277638</th>\n",
              "      <td>très bonne</td>\n",
              "      <td>très bonne</td>\n",
              "      <td>2013.0</td>\n",
              "      <td>46.4</td>\n",
              "      <td>44240.0</td>\n",
              "      <td>2486.1</td>\n",
              "      <td>4365.9</td>\n",
              "      <td>0.0</td>\n",
              "      <td>7.9</td>\n",
              "    </tr>\n",
              "    <tr>\n",
              "      <th>4277639</th>\n",
              "      <td>moyenne</td>\n",
              "      <td>insuffisante</td>\n",
              "      <td>1960.0</td>\n",
              "      <td>59.0</td>\n",
              "      <td>25000.0</td>\n",
              "      <td>2771.0</td>\n",
              "      <td>18778.5</td>\n",
              "      <td>285.6</td>\n",
              "      <td>2362.8</td>\n",
              "    </tr>\n",
              "    <tr>\n",
              "      <th>4277640</th>\n",
              "      <td>insuffisante</td>\n",
              "      <td>insuffisante</td>\n",
              "      <td>1945.0</td>\n",
              "      <td>70.0</td>\n",
              "      <td>44530.0</td>\n",
              "      <td>1864.7</td>\n",
              "      <td>36347.2</td>\n",
              "      <td>15.3</td>\n",
              "      <td>35.5</td>\n",
              "    </tr>\n",
              "    <tr>\n",
              "      <th>4277641</th>\n",
              "      <td>très bonne</td>\n",
              "      <td>bonne</td>\n",
              "      <td>2014.0</td>\n",
              "      <td>49.7</td>\n",
              "      <td>51100.0</td>\n",
              "      <td>1205.3</td>\n",
              "      <td>3842.7</td>\n",
              "      <td>4.3</td>\n",
              "      <td>373.2</td>\n",
              "    </tr>\n",
              "    <tr>\n",
              "      <th>4277642</th>\n",
              "      <td>très bonne</td>\n",
              "      <td>insuffisante</td>\n",
              "      <td>1961.0</td>\n",
              "      <td>70.0</td>\n",
              "      <td>91330.0</td>\n",
              "      <td>2705.7</td>\n",
              "      <td>14378.6</td>\n",
              "      <td>2.2</td>\n",
              "      <td>22.4</td>\n",
              "    </tr>\n",
              "  </tbody>\n",
              "</table>\n",
              "<p>4277643 rows × 9 columns</p>\n",
              "</div>\n",
              "      <button class=\"colab-df-convert\" onclick=\"convertToInteractive('df-167549da-859e-4b98-b73d-88bcadc04408')\"\n",
              "              title=\"Convert this dataframe to an interactive table.\"\n",
              "              style=\"display:none;\">\n",
              "\n",
              "  <svg xmlns=\"http://www.w3.org/2000/svg\" height=\"24px\"viewBox=\"0 0 24 24\"\n",
              "       width=\"24px\">\n",
              "    <path d=\"M0 0h24v24H0V0z\" fill=\"none\"/>\n",
              "    <path d=\"M18.56 5.44l.94 2.06.94-2.06 2.06-.94-2.06-.94-.94-2.06-.94 2.06-2.06.94zm-11 1L8.5 8.5l.94-2.06 2.06-.94-2.06-.94L8.5 2.5l-.94 2.06-2.06.94zm10 10l.94 2.06.94-2.06 2.06-.94-2.06-.94-.94-2.06-.94 2.06-2.06.94z\"/><path d=\"M17.41 7.96l-1.37-1.37c-.4-.4-.92-.59-1.43-.59-.52 0-1.04.2-1.43.59L10.3 9.45l-7.72 7.72c-.78.78-.78 2.05 0 2.83L4 21.41c.39.39.9.59 1.41.59.51 0 1.02-.2 1.41-.59l7.78-7.78 2.81-2.81c.8-.78.8-2.07 0-2.86zM5.41 20L4 18.59l7.72-7.72 1.47 1.35L5.41 20z\"/>\n",
              "  </svg>\n",
              "      </button>\n",
              "\n",
              "\n",
              "\n",
              "    <div id=\"df-8eef066d-8c2e-4ee9-99b4-129ff267d341\">\n",
              "      <button class=\"colab-df-quickchart\" onclick=\"quickchart('df-8eef066d-8c2e-4ee9-99b4-129ff267d341')\"\n",
              "              title=\"Suggest charts.\"\n",
              "              style=\"display:none;\">\n",
              "\n",
              "<svg xmlns=\"http://www.w3.org/2000/svg\" height=\"24px\"viewBox=\"0 0 24 24\"\n",
              "     width=\"24px\">\n",
              "    <g>\n",
              "        <path d=\"M19 3H5c-1.1 0-2 .9-2 2v14c0 1.1.9 2 2 2h14c1.1 0 2-.9 2-2V5c0-1.1-.9-2-2-2zM9 17H7v-7h2v7zm4 0h-2V7h2v10zm4 0h-2v-4h2v4z\"/>\n",
              "    </g>\n",
              "</svg>\n",
              "      </button>\n",
              "    </div>\n",
              "\n",
              "<style>\n",
              "  .colab-df-quickchart {\n",
              "    background-color: #E8F0FE;\n",
              "    border: none;\n",
              "    border-radius: 50%;\n",
              "    cursor: pointer;\n",
              "    display: none;\n",
              "    fill: #1967D2;\n",
              "    height: 32px;\n",
              "    padding: 0 0 0 0;\n",
              "    width: 32px;\n",
              "  }\n",
              "\n",
              "  .colab-df-quickchart:hover {\n",
              "    background-color: #E2EBFA;\n",
              "    box-shadow: 0px 1px 2px rgba(60, 64, 67, 0.3), 0px 1px 3px 1px rgba(60, 64, 67, 0.15);\n",
              "    fill: #174EA6;\n",
              "  }\n",
              "\n",
              "  [theme=dark] .colab-df-quickchart {\n",
              "    background-color: #3B4455;\n",
              "    fill: #D2E3FC;\n",
              "  }\n",
              "\n",
              "  [theme=dark] .colab-df-quickchart:hover {\n",
              "    background-color: #434B5C;\n",
              "    box-shadow: 0px 1px 3px 1px rgba(0, 0, 0, 0.15);\n",
              "    filter: drop-shadow(0px 1px 2px rgba(0, 0, 0, 0.3));\n",
              "    fill: #FFFFFF;\n",
              "  }\n",
              "</style>\n",
              "\n",
              "    <script>\n",
              "      async function quickchart(key) {\n",
              "        const containerElement = document.querySelector('#' + key);\n",
              "        const charts = await google.colab.kernel.invokeFunction(\n",
              "            'suggestCharts', [key], {});\n",
              "      }\n",
              "    </script>\n",
              "\n",
              "      <script>\n",
              "\n",
              "function displayQuickchartButton(domScope) {\n",
              "  let quickchartButtonEl =\n",
              "    domScope.querySelector('#df-8eef066d-8c2e-4ee9-99b4-129ff267d341 button.colab-df-quickchart');\n",
              "  quickchartButtonEl.style.display =\n",
              "    google.colab.kernel.accessAllowed ? 'block' : 'none';\n",
              "}\n",
              "\n",
              "        displayQuickchartButton(document);\n",
              "      </script>\n",
              "      <style>\n",
              "    .colab-df-container {\n",
              "      display:flex;\n",
              "      flex-wrap:wrap;\n",
              "      gap: 12px;\n",
              "    }\n",
              "\n",
              "    .colab-df-convert {\n",
              "      background-color: #E8F0FE;\n",
              "      border: none;\n",
              "      border-radius: 50%;\n",
              "      cursor: pointer;\n",
              "      display: none;\n",
              "      fill: #1967D2;\n",
              "      height: 32px;\n",
              "      padding: 0 0 0 0;\n",
              "      width: 32px;\n",
              "    }\n",
              "\n",
              "    .colab-df-convert:hover {\n",
              "      background-color: #E2EBFA;\n",
              "      box-shadow: 0px 1px 2px rgba(60, 64, 67, 0.3), 0px 1px 3px 1px rgba(60, 64, 67, 0.15);\n",
              "      fill: #174EA6;\n",
              "    }\n",
              "\n",
              "    [theme=dark] .colab-df-convert {\n",
              "      background-color: #3B4455;\n",
              "      fill: #D2E3FC;\n",
              "    }\n",
              "\n",
              "    [theme=dark] .colab-df-convert:hover {\n",
              "      background-color: #434B5C;\n",
              "      box-shadow: 0px 1px 3px 1px rgba(0, 0, 0, 0.15);\n",
              "      filter: drop-shadow(0px 1px 2px rgba(0, 0, 0, 0.3));\n",
              "      fill: #FFFFFF;\n",
              "    }\n",
              "  </style>\n",
              "\n",
              "      <script>\n",
              "        const buttonEl =\n",
              "          document.querySelector('#df-167549da-859e-4b98-b73d-88bcadc04408 button.colab-df-convert');\n",
              "        buttonEl.style.display =\n",
              "          google.colab.kernel.accessAllowed ? 'block' : 'none';\n",
              "\n",
              "        async function convertToInteractive(key) {\n",
              "          const element = document.querySelector('#df-167549da-859e-4b98-b73d-88bcadc04408');\n",
              "          const dataTable =\n",
              "            await google.colab.kernel.invokeFunction('convertToInteractive',\n",
              "                                                     [key], {});\n",
              "          if (!dataTable) return;\n",
              "\n",
              "          const docLinkHtml = 'Like what you see? Visit the ' +\n",
              "            '<a target=\"_blank\" href=https://colab.research.google.com/notebooks/data_table.ipynb>data table notebook</a>'\n",
              "            + ' to learn more about interactive tables.';\n",
              "          element.innerHTML = '';\n",
              "          dataTable['output_type'] = 'display_data';\n",
              "          await google.colab.output.renderOutput(dataTable, element);\n",
              "          const docLink = document.createElement('div');\n",
              "          docLink.innerHTML = docLinkHtml;\n",
              "          element.appendChild(docLink);\n",
              "        }\n",
              "      </script>\n",
              "    </div>\n",
              "  </div>\n"
            ]
          },
          "metadata": {},
          "execution_count": 52
        }
      ]
    },
    {
      "cell_type": "code",
      "source": [
        "print('The type of the features in insulation floor dataset: \\n')\n",
        "print_dtypes(df_insulation_carpentry)"
      ],
      "metadata": {
        "colab": {
          "base_uri": "https://localhost:8080/"
        },
        "id": "o_r_qFZnEzHK",
        "outputId": "bd9cb595-ee43-4a8f-8689-b4627a701f45"
      },
      "execution_count": null,
      "outputs": [
        {
          "output_type": "stream",
          "name": "stdout",
          "text": [
            "The type of the features in insulation floor dataset: \n",
            "\n",
            "Quality_insulation_carpentry: object\n",
            "Quality_insulation_envelope: object\n",
            "Year_construction: float64\n",
            "Living_area_housing: float64\n",
            "Postal_code_(BAN): float64\n",
            "Final_ECS_Consumption: float64\n",
            "Primary_5_usages_consumption: float64\n",
            "Losses_doors: float64\n",
            "Losses_glazed_bays: float64\n"
          ]
        }
      ]
    },
    {
      "cell_type": "code",
      "source": [
        "missing_results = check_missing_values(df_insulation_carpentry)\n",
        "df_missing_results = pd.DataFrame(columns=['feature', 'missing_ratio'])\n",
        "df_missing_results['feature'] = missing_results.keys()\n",
        "df_missing_results['missing_ratio'] = missing_results.values()\n",
        "print('The information about missing values in insulation floor data: \\n')\n",
        "print(df_missing_results)"
      ],
      "metadata": {
        "colab": {
          "base_uri": "https://localhost:8080/"
        },
        "id": "V6It4DkKEzV4",
        "outputId": "12b96eeb-863c-45fc-8dda-a292a846ca9a"
      },
      "execution_count": null,
      "outputs": [
        {
          "output_type": "stream",
          "name": "stdout",
          "text": [
            "The information about missing values in insulation floor data: \n",
            "\n",
            "                        feature  missing_ratio\n",
            "0             Year_construction   3.183333e-01\n",
            "1           Living_area_housing   1.102546e-02\n",
            "2             Postal_code_(BAN)   5.146526e-03\n",
            "3         Final_ECS_Consumption   9.350944e-07\n",
            "4  Primary_5_usages_consumption   1.077696e-04\n",
            "5                  Losses_doors   9.063870e-03\n",
            "6            Losses_glazed_bays   8.814667e-03\n"
          ]
        }
      ]
    },
    {
      "cell_type": "code",
      "source": [
        "def count_rows_with_n_nulls(df, n):\n",
        "    null_counts = df.isnull().sum(axis=1)\n",
        "    return (null_counts == n).sum()\n"
      ],
      "metadata": {
        "id": "k5NNKI7GF5jM"
      },
      "execution_count": null,
      "outputs": []
    },
    {
      "cell_type": "code",
      "source": [
        "missing_row_1 = count_rows_with_n_nulls(df_insulation_carpentry, 1)\n",
        "print(missing_row_1)\n",
        "\n",
        "missing_row_2 = count_rows_with_n_nulls(df_insulation_carpentry, 2)\n",
        "print(missing_row_2)\n",
        "\n",
        "missing_row_3 = count_rows_with_n_nulls(df_insulation_carpentry, 3)\n",
        "print(missing_row_3)"
      ],
      "metadata": {
        "colab": {
          "base_uri": "https://localhost:8080/"
        },
        "id": "VKcJtFGUGMi3",
        "outputId": "b2a9401d-b880-4b3e-cb9e-ec9525e79936"
      },
      "execution_count": null,
      "outputs": [
        {
          "output_type": "stream",
          "name": "stdout",
          "text": [
            "1380650\n",
            "63288\n",
            "201\n"
          ]
        }
      ]
    },
    {
      "cell_type": "code",
      "source": [
        "mapping = {'insuffisante': 0, 'moyenne': 1, 'bonne': 2, 'très bonne': 3}\n",
        "df_insulation_carpentry_encoded = df_insulation_carpentry.replace(mapping)"
      ],
      "metadata": {
        "id": "ILjoA2mpGMpa"
      },
      "execution_count": null,
      "outputs": []
    },
    {
      "cell_type": "code",
      "source": [
        "# Get data without missing values\n",
        "df_insulation_carpentry_encoded_no_missing_values = df_insulation_carpentry_encoded.dropna()"
      ],
      "metadata": {
        "id": "UN67iAPLGMst"
      },
      "execution_count": null,
      "outputs": []
    },
    {
      "cell_type": "code",
      "source": [
        "def process_postal_code(df):\n",
        "    # Convert the zip code column to a string, and use str.zfill() to complete five digits\n",
        "    df['Postal_code_(BAN)'] = df['Postal_code_(BAN)'].astype('Int64').astype(str).str.zfill(5)\n",
        "\n",
        "    # Create a new column to store the processed zip code\n",
        "    df['Postal_code_(BAN)'] = df['Postal_code_(BAN)'].apply(lambda x: x[:2] if x[:2].isdigit() else 'NaN')\n",
        "\n",
        "    # Convert the new column to type float\n",
        "    df['Postal_code_(BAN)'] = df['Postal_code_(BAN)'].apply(lambda x: float(x) if x != 'NaN' else float('nan'))\n",
        "\n",
        "    return df"
      ],
      "metadata": {
        "id": "-jOX5avuGVx6"
      },
      "execution_count": null,
      "outputs": []
    },
    {
      "cell_type": "code",
      "source": [
        "df_insulation_carpentry_encoded_no_missing_values = process_postal_code(df_insulation_carpentry_encoded_no_missing_values)"
      ],
      "metadata": {
        "colab": {
          "base_uri": "https://localhost:8080/"
        },
        "id": "VcewXtm_F5yB",
        "outputId": "dfad8e79-93c7-4a1e-ebb1-4957855c1de0"
      },
      "execution_count": null,
      "outputs": [
        {
          "output_type": "stream",
          "name": "stderr",
          "text": [
            "<ipython-input-59-bd64b1fd35f0>:3: SettingWithCopyWarning: \n",
            "A value is trying to be set on a copy of a slice from a DataFrame.\n",
            "Try using .loc[row_indexer,col_indexer] = value instead\n",
            "\n",
            "See the caveats in the documentation: https://pandas.pydata.org/pandas-docs/stable/user_guide/indexing.html#returning-a-view-versus-a-copy\n",
            "  df['Postal_code_(BAN)'] = df['Postal_code_(BAN)'].astype('Int64').astype(str).str.zfill(5)\n",
            "<ipython-input-59-bd64b1fd35f0>:6: SettingWithCopyWarning: \n",
            "A value is trying to be set on a copy of a slice from a DataFrame.\n",
            "Try using .loc[row_indexer,col_indexer] = value instead\n",
            "\n",
            "See the caveats in the documentation: https://pandas.pydata.org/pandas-docs/stable/user_guide/indexing.html#returning-a-view-versus-a-copy\n",
            "  df['Postal_code_(BAN)'] = df['Postal_code_(BAN)'].apply(lambda x: x[:2] if x[:2].isdigit() else 'NaN')\n",
            "<ipython-input-59-bd64b1fd35f0>:9: SettingWithCopyWarning: \n",
            "A value is trying to be set on a copy of a slice from a DataFrame.\n",
            "Try using .loc[row_indexer,col_indexer] = value instead\n",
            "\n",
            "See the caveats in the documentation: https://pandas.pydata.org/pandas-docs/stable/user_guide/indexing.html#returning-a-view-versus-a-copy\n",
            "  df['Postal_code_(BAN)'] = df['Postal_code_(BAN)'].apply(lambda x: float(x) if x != 'NaN' else float('nan'))\n"
          ]
        }
      ]
    },
    {
      "cell_type": "code",
      "source": [
        "import math\n",
        "# Define a function for rounding a year to the nearest 10\n",
        "def round_to_nearest_decade(year):\n",
        "    return math.floor(year / 10) * 10\n",
        "\n",
        "def process_year(df):\n",
        "    df['Year_construction'] = df['Year_construction'].apply(round_to_nearest_decade)\n",
        "    return df\n"
      ],
      "metadata": {
        "id": "8Wq29peNPqq2"
      },
      "execution_count": null,
      "outputs": []
    },
    {
      "cell_type": "code",
      "source": [
        "df_insulation_carpentry_encoded_no_missing_values = process_year(df_insulation_carpentry_encoded_no_missing_values)"
      ],
      "metadata": {
        "colab": {
          "base_uri": "https://localhost:8080/"
        },
        "id": "_q-vkUJGPyCX",
        "outputId": "e7d3582d-e76e-450b-ce69-f4c0000796f2"
      },
      "execution_count": null,
      "outputs": [
        {
          "output_type": "stream",
          "name": "stderr",
          "text": [
            "<ipython-input-61-95aec6f7b944>:7: SettingWithCopyWarning: \n",
            "A value is trying to be set on a copy of a slice from a DataFrame.\n",
            "Try using .loc[row_indexer,col_indexer] = value instead\n",
            "\n",
            "See the caveats in the documentation: https://pandas.pydata.org/pandas-docs/stable/user_guide/indexing.html#returning-a-view-versus-a-copy\n",
            "  df['Year_construction'] = df['Year_construction'].apply(round_to_nearest_decade)\n"
          ]
        }
      ]
    },
    {
      "cell_type": "code",
      "source": [
        "# Normalize numeric data\n",
        "scaler = StandardScaler()\n",
        "df_insulation_carpentry_encoded_no_missing_values[[\n",
        "                    # 'Quality_insulation_lower_floor',\n",
        "                    'Year_construction',\n",
        "                    # 'Living_area_building',\n",
        "                    'Living_area_housing',\n",
        "                    # 'Postal_code_(BAN)',\n",
        "                    'Final_ECS_Consumption',\n",
        "                    'Primary_5_usages_consumption',\n",
        "                    # 'Roof_insulation_(0/1)',\n",
        "                    'Losses_doors',\n",
        "                    'Losses_glazed_bays',\n",
        "                    ]] = scaler.fit_transform(df_insulation_carpentry_encoded_no_missing_values[[\n",
        "                    # 'Quality_insulation_lower_floor',\n",
        "                    'Year_construction',\n",
        "                    # 'Living_area_building',\n",
        "                    'Living_area_housing',\n",
        "                    # 'Postal_code_(BAN)',\n",
        "                    'Final_ECS_Consumption',\n",
        "                    'Primary_5_usages_consumption',\n",
        "                    # 'Roof_insulation_(0/1)',\n",
        "                    'Losses_doors',\n",
        "                    'Losses_glazed_bays',\n",
        "                    ]])"
      ],
      "metadata": {
        "colab": {
          "base_uri": "https://localhost:8080/"
        },
        "id": "9M0SpdnWGcIO",
        "outputId": "00a136b8-3d42-4c8a-ce88-586cba23a2e2"
      },
      "execution_count": null,
      "outputs": [
        {
          "output_type": "stream",
          "name": "stderr",
          "text": [
            "<ipython-input-63-9dc4de24a33d>:3: SettingWithCopyWarning: \n",
            "A value is trying to be set on a copy of a slice from a DataFrame.\n",
            "Try using .loc[row_indexer,col_indexer] = value instead\n",
            "\n",
            "See the caveats in the documentation: https://pandas.pydata.org/pandas-docs/stable/user_guide/indexing.html#returning-a-view-versus-a-copy\n",
            "  df_insulation_carpentry_encoded_no_missing_values[[\n"
          ]
        }
      ]
    },
    {
      "cell_type": "code",
      "source": [
        "df_insulation_carpentry_encoded_no_missing_values.describe()"
      ],
      "metadata": {
        "colab": {
          "base_uri": "https://localhost:8080/"
        },
        "id": "8cnhPBzbGcLy",
        "outputId": "c09b75f8-11be-4a86-ae72-52949320ed8a"
      },
      "execution_count": null,
      "outputs": [
        {
          "output_type": "execute_result",
          "data": {
            "text/plain": [
              "       Quality_insulation_carpentry  Quality_insulation_envelope  \\\n",
              "count                  2.833502e+06                 2.833502e+06   \n",
              "mean                   1.251478e+00                 8.858130e-01   \n",
              "std                    9.000759e-01                 1.094338e+00   \n",
              "min                    0.000000e+00                 0.000000e+00   \n",
              "25%                    1.000000e+00                 0.000000e+00   \n",
              "50%                    1.000000e+00                 0.000000e+00   \n",
              "75%                    2.000000e+00                 2.000000e+00   \n",
              "max                    3.000000e+00                 3.000000e+00   \n",
              "\n",
              "       Year_construction  Living_area_housing  Postal_code_(BAN)  \\\n",
              "count       2.833502e+06         2.833502e+06       2.833502e+06   \n",
              "mean        1.597352e-15        -3.074377e-18       5.348769e+01   \n",
              "std         1.000000e+00         1.000000e+00       2.688866e+01   \n",
              "min        -2.405701e+01        -2.096635e-02       1.000000e+00   \n",
              "25%        -7.198878e-01        -8.460086e-03       3.200000e+01   \n",
              "50%        -8.915488e-02        -2.876933e-03       5.700000e+01   \n",
              "75%         5.415781e-01         3.459944e-03       7.600000e+01   \n",
              "max         4.010609e+00         1.683029e+03       9.700000e+01   \n",
              "\n",
              "       Final_ECS_Consumption  Primary_5_usages_consumption  Losses_doors  \\\n",
              "count           2.833502e+06                  2.833502e+06  2.833502e+06   \n",
              "mean           -7.043985e-17                 -2.160590e-17 -1.641808e-16   \n",
              "std             1.000000e+00                  1.000000e+00  1.000000e+00   \n",
              "min            -8.666467e-02                 -5.534284e-02 -2.774665e-01   \n",
              "25%            -2.432809e-02                 -2.736959e-02 -2.605217e-01   \n",
              "50%            -1.074912e-02                 -1.211352e-02 -1.965081e-01   \n",
              "75%             5.308112e-03                  1.226535e-02 -9.295674e-02   \n",
              "max             1.655937e+03                  1.361215e+03  2.459558e+01   \n",
              "\n",
              "       Losses_glazed_bays  \n",
              "count        2.833502e+06  \n",
              "mean        -1.892171e-16  \n",
              "std          1.000000e+00  \n",
              "min         -2.728006e-01  \n",
              "25%         -2.533548e-01  \n",
              "50%         -2.393303e-01  \n",
              "75%         -2.060956e-01  \n",
              "max          1.285158e+02  "
            ],
            "text/html": [
              "\n",
              "\n",
              "  <div id=\"df-c411237a-9768-46cc-9d88-f550f05f0ca4\">\n",
              "    <div class=\"colab-df-container\">\n",
              "      <div>\n",
              "<style scoped>\n",
              "    .dataframe tbody tr th:only-of-type {\n",
              "        vertical-align: middle;\n",
              "    }\n",
              "\n",
              "    .dataframe tbody tr th {\n",
              "        vertical-align: top;\n",
              "    }\n",
              "\n",
              "    .dataframe thead th {\n",
              "        text-align: right;\n",
              "    }\n",
              "</style>\n",
              "<table border=\"1\" class=\"dataframe\">\n",
              "  <thead>\n",
              "    <tr style=\"text-align: right;\">\n",
              "      <th></th>\n",
              "      <th>Quality_insulation_carpentry</th>\n",
              "      <th>Quality_insulation_envelope</th>\n",
              "      <th>Year_construction</th>\n",
              "      <th>Living_area_housing</th>\n",
              "      <th>Postal_code_(BAN)</th>\n",
              "      <th>Final_ECS_Consumption</th>\n",
              "      <th>Primary_5_usages_consumption</th>\n",
              "      <th>Losses_doors</th>\n",
              "      <th>Losses_glazed_bays</th>\n",
              "    </tr>\n",
              "  </thead>\n",
              "  <tbody>\n",
              "    <tr>\n",
              "      <th>count</th>\n",
              "      <td>2.833502e+06</td>\n",
              "      <td>2.833502e+06</td>\n",
              "      <td>2.833502e+06</td>\n",
              "      <td>2.833502e+06</td>\n",
              "      <td>2.833502e+06</td>\n",
              "      <td>2.833502e+06</td>\n",
              "      <td>2.833502e+06</td>\n",
              "      <td>2.833502e+06</td>\n",
              "      <td>2.833502e+06</td>\n",
              "    </tr>\n",
              "    <tr>\n",
              "      <th>mean</th>\n",
              "      <td>1.251478e+00</td>\n",
              "      <td>8.858130e-01</td>\n",
              "      <td>1.597352e-15</td>\n",
              "      <td>-3.074377e-18</td>\n",
              "      <td>5.348769e+01</td>\n",
              "      <td>-7.043985e-17</td>\n",
              "      <td>-2.160590e-17</td>\n",
              "      <td>-1.641808e-16</td>\n",
              "      <td>-1.892171e-16</td>\n",
              "    </tr>\n",
              "    <tr>\n",
              "      <th>std</th>\n",
              "      <td>9.000759e-01</td>\n",
              "      <td>1.094338e+00</td>\n",
              "      <td>1.000000e+00</td>\n",
              "      <td>1.000000e+00</td>\n",
              "      <td>2.688866e+01</td>\n",
              "      <td>1.000000e+00</td>\n",
              "      <td>1.000000e+00</td>\n",
              "      <td>1.000000e+00</td>\n",
              "      <td>1.000000e+00</td>\n",
              "    </tr>\n",
              "    <tr>\n",
              "      <th>min</th>\n",
              "      <td>0.000000e+00</td>\n",
              "      <td>0.000000e+00</td>\n",
              "      <td>-2.405701e+01</td>\n",
              "      <td>-2.096635e-02</td>\n",
              "      <td>1.000000e+00</td>\n",
              "      <td>-8.666467e-02</td>\n",
              "      <td>-5.534284e-02</td>\n",
              "      <td>-2.774665e-01</td>\n",
              "      <td>-2.728006e-01</td>\n",
              "    </tr>\n",
              "    <tr>\n",
              "      <th>25%</th>\n",
              "      <td>1.000000e+00</td>\n",
              "      <td>0.000000e+00</td>\n",
              "      <td>-7.198878e-01</td>\n",
              "      <td>-8.460086e-03</td>\n",
              "      <td>3.200000e+01</td>\n",
              "      <td>-2.432809e-02</td>\n",
              "      <td>-2.736959e-02</td>\n",
              "      <td>-2.605217e-01</td>\n",
              "      <td>-2.533548e-01</td>\n",
              "    </tr>\n",
              "    <tr>\n",
              "      <th>50%</th>\n",
              "      <td>1.000000e+00</td>\n",
              "      <td>0.000000e+00</td>\n",
              "      <td>-8.915488e-02</td>\n",
              "      <td>-2.876933e-03</td>\n",
              "      <td>5.700000e+01</td>\n",
              "      <td>-1.074912e-02</td>\n",
              "      <td>-1.211352e-02</td>\n",
              "      <td>-1.965081e-01</td>\n",
              "      <td>-2.393303e-01</td>\n",
              "    </tr>\n",
              "    <tr>\n",
              "      <th>75%</th>\n",
              "      <td>2.000000e+00</td>\n",
              "      <td>2.000000e+00</td>\n",
              "      <td>5.415781e-01</td>\n",
              "      <td>3.459944e-03</td>\n",
              "      <td>7.600000e+01</td>\n",
              "      <td>5.308112e-03</td>\n",
              "      <td>1.226535e-02</td>\n",
              "      <td>-9.295674e-02</td>\n",
              "      <td>-2.060956e-01</td>\n",
              "    </tr>\n",
              "    <tr>\n",
              "      <th>max</th>\n",
              "      <td>3.000000e+00</td>\n",
              "      <td>3.000000e+00</td>\n",
              "      <td>4.010609e+00</td>\n",
              "      <td>1.683029e+03</td>\n",
              "      <td>9.700000e+01</td>\n",
              "      <td>1.655937e+03</td>\n",
              "      <td>1.361215e+03</td>\n",
              "      <td>2.459558e+01</td>\n",
              "      <td>1.285158e+02</td>\n",
              "    </tr>\n",
              "  </tbody>\n",
              "</table>\n",
              "</div>\n",
              "      <button class=\"colab-df-convert\" onclick=\"convertToInteractive('df-c411237a-9768-46cc-9d88-f550f05f0ca4')\"\n",
              "              title=\"Convert this dataframe to an interactive table.\"\n",
              "              style=\"display:none;\">\n",
              "\n",
              "  <svg xmlns=\"http://www.w3.org/2000/svg\" height=\"24px\"viewBox=\"0 0 24 24\"\n",
              "       width=\"24px\">\n",
              "    <path d=\"M0 0h24v24H0V0z\" fill=\"none\"/>\n",
              "    <path d=\"M18.56 5.44l.94 2.06.94-2.06 2.06-.94-2.06-.94-.94-2.06-.94 2.06-2.06.94zm-11 1L8.5 8.5l.94-2.06 2.06-.94-2.06-.94L8.5 2.5l-.94 2.06-2.06.94zm10 10l.94 2.06.94-2.06 2.06-.94-2.06-.94-.94-2.06-.94 2.06-2.06.94z\"/><path d=\"M17.41 7.96l-1.37-1.37c-.4-.4-.92-.59-1.43-.59-.52 0-1.04.2-1.43.59L10.3 9.45l-7.72 7.72c-.78.78-.78 2.05 0 2.83L4 21.41c.39.39.9.59 1.41.59.51 0 1.02-.2 1.41-.59l7.78-7.78 2.81-2.81c.8-.78.8-2.07 0-2.86zM5.41 20L4 18.59l7.72-7.72 1.47 1.35L5.41 20z\"/>\n",
              "  </svg>\n",
              "      </button>\n",
              "\n",
              "\n",
              "\n",
              "    <div id=\"df-8fed5115-3452-4692-b9fe-de7a44913727\">\n",
              "      <button class=\"colab-df-quickchart\" onclick=\"quickchart('df-8fed5115-3452-4692-b9fe-de7a44913727')\"\n",
              "              title=\"Suggest charts.\"\n",
              "              style=\"display:none;\">\n",
              "\n",
              "<svg xmlns=\"http://www.w3.org/2000/svg\" height=\"24px\"viewBox=\"0 0 24 24\"\n",
              "     width=\"24px\">\n",
              "    <g>\n",
              "        <path d=\"M19 3H5c-1.1 0-2 .9-2 2v14c0 1.1.9 2 2 2h14c1.1 0 2-.9 2-2V5c0-1.1-.9-2-2-2zM9 17H7v-7h2v7zm4 0h-2V7h2v10zm4 0h-2v-4h2v4z\"/>\n",
              "    </g>\n",
              "</svg>\n",
              "      </button>\n",
              "    </div>\n",
              "\n",
              "<style>\n",
              "  .colab-df-quickchart {\n",
              "    background-color: #E8F0FE;\n",
              "    border: none;\n",
              "    border-radius: 50%;\n",
              "    cursor: pointer;\n",
              "    display: none;\n",
              "    fill: #1967D2;\n",
              "    height: 32px;\n",
              "    padding: 0 0 0 0;\n",
              "    width: 32px;\n",
              "  }\n",
              "\n",
              "  .colab-df-quickchart:hover {\n",
              "    background-color: #E2EBFA;\n",
              "    box-shadow: 0px 1px 2px rgba(60, 64, 67, 0.3), 0px 1px 3px 1px rgba(60, 64, 67, 0.15);\n",
              "    fill: #174EA6;\n",
              "  }\n",
              "\n",
              "  [theme=dark] .colab-df-quickchart {\n",
              "    background-color: #3B4455;\n",
              "    fill: #D2E3FC;\n",
              "  }\n",
              "\n",
              "  [theme=dark] .colab-df-quickchart:hover {\n",
              "    background-color: #434B5C;\n",
              "    box-shadow: 0px 1px 3px 1px rgba(0, 0, 0, 0.15);\n",
              "    filter: drop-shadow(0px 1px 2px rgba(0, 0, 0, 0.3));\n",
              "    fill: #FFFFFF;\n",
              "  }\n",
              "</style>\n",
              "\n",
              "    <script>\n",
              "      async function quickchart(key) {\n",
              "        const containerElement = document.querySelector('#' + key);\n",
              "        const charts = await google.colab.kernel.invokeFunction(\n",
              "            'suggestCharts', [key], {});\n",
              "      }\n",
              "    </script>\n",
              "\n",
              "      <script>\n",
              "\n",
              "function displayQuickchartButton(domScope) {\n",
              "  let quickchartButtonEl =\n",
              "    domScope.querySelector('#df-8fed5115-3452-4692-b9fe-de7a44913727 button.colab-df-quickchart');\n",
              "  quickchartButtonEl.style.display =\n",
              "    google.colab.kernel.accessAllowed ? 'block' : 'none';\n",
              "}\n",
              "\n",
              "        displayQuickchartButton(document);\n",
              "      </script>\n",
              "      <style>\n",
              "    .colab-df-container {\n",
              "      display:flex;\n",
              "      flex-wrap:wrap;\n",
              "      gap: 12px;\n",
              "    }\n",
              "\n",
              "    .colab-df-convert {\n",
              "      background-color: #E8F0FE;\n",
              "      border: none;\n",
              "      border-radius: 50%;\n",
              "      cursor: pointer;\n",
              "      display: none;\n",
              "      fill: #1967D2;\n",
              "      height: 32px;\n",
              "      padding: 0 0 0 0;\n",
              "      width: 32px;\n",
              "    }\n",
              "\n",
              "    .colab-df-convert:hover {\n",
              "      background-color: #E2EBFA;\n",
              "      box-shadow: 0px 1px 2px rgba(60, 64, 67, 0.3), 0px 1px 3px 1px rgba(60, 64, 67, 0.15);\n",
              "      fill: #174EA6;\n",
              "    }\n",
              "\n",
              "    [theme=dark] .colab-df-convert {\n",
              "      background-color: #3B4455;\n",
              "      fill: #D2E3FC;\n",
              "    }\n",
              "\n",
              "    [theme=dark] .colab-df-convert:hover {\n",
              "      background-color: #434B5C;\n",
              "      box-shadow: 0px 1px 3px 1px rgba(0, 0, 0, 0.15);\n",
              "      filter: drop-shadow(0px 1px 2px rgba(0, 0, 0, 0.3));\n",
              "      fill: #FFFFFF;\n",
              "    }\n",
              "  </style>\n",
              "\n",
              "      <script>\n",
              "        const buttonEl =\n",
              "          document.querySelector('#df-c411237a-9768-46cc-9d88-f550f05f0ca4 button.colab-df-convert');\n",
              "        buttonEl.style.display =\n",
              "          google.colab.kernel.accessAllowed ? 'block' : 'none';\n",
              "\n",
              "        async function convertToInteractive(key) {\n",
              "          const element = document.querySelector('#df-c411237a-9768-46cc-9d88-f550f05f0ca4');\n",
              "          const dataTable =\n",
              "            await google.colab.kernel.invokeFunction('convertToInteractive',\n",
              "                                                     [key], {});\n",
              "          if (!dataTable) return;\n",
              "\n",
              "          const docLinkHtml = 'Like what you see? Visit the ' +\n",
              "            '<a target=\"_blank\" href=https://colab.research.google.com/notebooks/data_table.ipynb>data table notebook</a>'\n",
              "            + ' to learn more about interactive tables.';\n",
              "          element.innerHTML = '';\n",
              "          dataTable['output_type'] = 'display_data';\n",
              "          await google.colab.output.renderOutput(dataTable, element);\n",
              "          const docLink = document.createElement('div');\n",
              "          docLink.innerHTML = docLinkHtml;\n",
              "          element.appendChild(docLink);\n",
              "        }\n",
              "      </script>\n",
              "    </div>\n",
              "  </div>\n"
            ]
          },
          "metadata": {},
          "execution_count": 64
        }
      ]
    },
    {
      "cell_type": "code",
      "source": [
        "def remove_outliers(df, columns):\n",
        "    for column in columns:\n",
        "        Q1 = df[column].quantile(0.25)\n",
        "        Q3 = df[column].quantile(0.75)\n",
        "        IQR = Q3 - Q1\n",
        "\n",
        "        lower_bound = Q1 - 1.5 * IQR\n",
        "        upper_bound = Q3 + 1.5 * IQR\n",
        "\n",
        "        df = df[(df[column] > lower_bound) & (df[column] < upper_bound)]\n",
        "    return df"
      ],
      "metadata": {
        "id": "KGn0Kmg4NZnb"
      },
      "execution_count": null,
      "outputs": []
    },
    {
      "cell_type": "code",
      "source": [
        "test_columns = [# 'Quality_insulation_lower_floor',\n",
        "                    'Year_construction',\n",
        "                    # 'Living_area_building',\n",
        "                    'Living_area_housing',\n",
        "                    'Postal_code_(BAN)',\n",
        "                    'Final_ECS_Consumption',\n",
        "                    'Primary_5_usages_consumption',\n",
        "                    # 'Roof_insulation_(0/1)',\n",
        "                    'Losses_doors',\n",
        "                    'Losses_glazed_bays',\n",
        "                    # 'Quality_insulation_envelope',\n",
        "                    ]\n",
        "df_insulation_carpentry_encoded_no_missing_values_outliers = remove_outliers(df_insulation_carpentry_encoded_no_missing_values, test_columns)"
      ],
      "metadata": {
        "id": "RzGxSfvPNZsq"
      },
      "execution_count": null,
      "outputs": []
    },
    {
      "cell_type": "code",
      "source": [
        "from sklearn.preprocessing import MinMaxScaler\n",
        "\n",
        "scaler = MinMaxScaler(feature_range=(0, 1))\n",
        "df_insulation_carpentry_encoded_no_missing_values_outliers[[\n",
        "                    # 'Quality_insulation_lower_floor',\n",
        "                    'Year_construction',\n",
        "                    # 'Living_area_building',\n",
        "                    'Living_area_housing',\n",
        "                    'Postal_code_(BAN)',\n",
        "                    'Final_ECS_Consumption',\n",
        "                    'Primary_5_usages_consumption',\n",
        "                    # 'Roof_insulation_(0/1)',\n",
        "                    'Losses_doors',\n",
        "                    'Losses_glazed_bays',\n",
        "                    # 'Quality_insulation_envelope',\n",
        "                    ]] = scaler.fit_transform(df_insulation_carpentry_encoded_no_missing_values_outliers[[\n",
        "                    # 'Quality_insulation_lower_floor',\n",
        "                    'Year_construction',\n",
        "                    # 'Living_area_building',\n",
        "                    'Living_area_housing',\n",
        "                    'Postal_code_(BAN)',\n",
        "                    'Final_ECS_Consumption',\n",
        "                    'Primary_5_usages_consumption',\n",
        "                    # 'Roof_insulation_(0/1)',\n",
        "                    'Losses_doors',\n",
        "                    'Losses_glazed_bays',\n",
        "                    # 'Quality_insulation_envelope',\n",
        "                    ]])\n"
      ],
      "metadata": {
        "id": "K7JZxUbfNZxG"
      },
      "execution_count": null,
      "outputs": []
    },
    {
      "cell_type": "code",
      "source": [
        "check_columns = list(df_insulation_carpentry_encoded_no_missing_values_outliers.columns.values)\n",
        "# check_class_balance(df_diabetic_data, check_columns)\n",
        "\n",
        "plt.figure(figsize = (20, 40))\n",
        "i = 1\n",
        "column = check_columns\n",
        "\n",
        "# plot the distributions\n",
        "for col in column:\n",
        "    plt.subplot(10, 5, i)\n",
        "    plt.title('The distribution of {}'.format(col))\n",
        "    plt.xlabel('{}'.format(col))\n",
        "    # plt.ylabel('Count')\n",
        "    plt.hist(df_insulation_carpentry_encoded_no_missing_values_outliers[col])\n",
        "    i += 1\n",
        "\n",
        "plt.subplots_adjust(wspace = 0.3, hspace = 0.5)"
      ],
      "metadata": {
        "colab": {
          "base_uri": "https://localhost:8080/"
        },
        "id": "tPUPKIs0GcPM",
        "outputId": "fe7c0b65-6d3f-42f4-b71a-2dfde81e69f9"
      },
      "execution_count": null,
      "outputs": [
        {
          "output_type": "display_data",
          "data": {
            "text/plain": [
              "<Figure size 2000x4000 with 9 Axes>"
            ],
            "image/png": "[encoded data removed]"
          },
          "metadata": {}
        }
      ]
    },
    {
      "cell_type": "code",
      "source": [
        "plt.figure(figsize = (10, 10))\n",
        "plt.title('Spearman Correlation of Features', size = 15)\n",
        "sns.heatmap(df_insulation_carpentry_encoded_no_missing_values_outliers.astype(float).corr(method = 'spearman'), linewidths = 0.1, vmax = 1.0, square = True, cmap = 'RdBu_r', linecolor = 'white', annot = True)"
      ],
      "metadata": {
        "colab": {
          "base_uri": "https://localhost:8080/"
        },
        "id": "XihV7ZKgEk7_",
        "outputId": "232dc06e-fe03-44f1-993e-591bc0fcbe77"
      },
      "execution_count": null,
      "outputs": [
        {
          "output_type": "execute_result",
          "data": {
            "text/plain": [
              "<Axes: title={'center': 'Spearman Correlation of Features'}>"
            ]
          },
          "metadata": {},
          "execution_count": 69
        },
        {
          "output_type": "display_data",
          "data": {
            "text/plain": [
              "<Figure size 1000x1000 with 2 Axes>"
            ],
            "image/png": "[encoded data removed]"
          },
          "metadata": {}
        }
      ]
    },
    {
      "cell_type": "markdown",
      "source": [
        "### Plot functions"
      ],
      "metadata": {
        "id": "7qsJ8vhj2eaL"
      }
    },
    {
      "cell_type": "code",
      "source": [
        "def count_and_plot_completed_data(completed_data_numpy):\n",
        "    '''\n",
        "    Func:\n",
        "        Count and plot the frequency of each value before imputation\n",
        "    Input:\n",
        "        df : Dataframe, no missing values.(Train set)\n",
        "    Output:\n",
        "        No Return\n",
        "\n",
        "    '''\n",
        "    # Count unique values in numpy array\n",
        "    values, counts = np.unique(completed_data_numpy, return_counts = True)\n",
        "\n",
        "    # Calculate frequencies\n",
        "    frequencies = counts / counts.sum()\n",
        "    percentages = 100 * frequencies\n",
        "\n",
        "    # Create bar plot\n",
        "    plt.figure(figsize = (10, 5))\n",
        "    bars = plt.bar(values, counts, color = 'blue')\n",
        "\n",
        "    plt.xlabel('Values')\n",
        "    plt.ylabel('Counts')\n",
        "    plt.title('Count of unique values in completed data')\n",
        "\n",
        "    # Add percentage on top of each bar\n",
        "    for bar, percentage in zip(bars, percentages):\n",
        "        yval = bar.get_height()\n",
        "        plt.text(bar.get_x() + bar.get_width() / 2, yval + 0.005, round(percentage, 2), ha = 'center', va = 'bottom')\n",
        "\n",
        "    plt.show()\n"
      ],
      "metadata": {
        "id": "f6BtzfeFCriM"
      },
      "execution_count": null,
      "outputs": []
    },
    {
      "cell_type": "code",
      "source": [
        "def count_and_plot_missing_data(missing_data_numpy, mask):\n",
        "    '''\n",
        "    Func:\n",
        "        Count and plot the frequency of each value in imputated data.\n",
        "    Input:\n",
        "        df : Dataframe, imputated data.\n",
        "        mask : The position of the missing value in the array.\n",
        "    Output:\n",
        "        No Return\n",
        "\n",
        "    '''\n",
        "    # Apply mask to numpy array\n",
        "    masked_data = missing_data_numpy[mask]\n",
        "\n",
        "    # Count unique values in numpy array\n",
        "    values, counts = np.unique(masked_data, return_counts=True)\n",
        "\n",
        "    # Calculate frequencies\n",
        "    frequencies = counts / counts.sum()\n",
        "    percentages = 100 * frequencies\n",
        "\n",
        "    # Create bar plot\n",
        "    plt.figure(figsize=(10,5))\n",
        "    bars = plt.bar(values, counts, color='blue')\n",
        "\n",
        "    plt.xlabel('Values')\n",
        "    plt.ylabel('Counts')\n",
        "    plt.title('Count of unique values in masked numpy array')\n",
        "\n",
        "    # Add percentage on top of each bar\n",
        "    for bar, percentage in zip(bars, percentages):\n",
        "        yval = bar.get_height()\n",
        "        plt.text(bar.get_x() + bar.get_width()/2, yval + 0.005, round(percentage, 2), ha='center', va='bottom')\n",
        "\n",
        "    plt.show()\n"
      ],
      "metadata": {
        "id": "pa10S6t6CxHx"
      },
      "execution_count": null,
      "outputs": []
    },
    {
      "cell_type": "code",
      "source": [
        "def count_and_plot_missing_data(df, column_name, mask):\n",
        "    '''\n",
        "    Func:\n",
        "        Count and plot the frequency of each value in imputed data.\n",
        "    Input:\n",
        "        df : Dataframe, imputed data.\n",
        "        mask : The position of the missing value in the array.\n",
        "        column_name : String, the name of the column to be plotted.\n",
        "    Output:\n",
        "        No Return\n",
        "\n",
        "    '''\n",
        "    # Get the column index\n",
        "    column_index = df.columns.get_loc(column_name)\n",
        "\n",
        "    # Apply mask to the specific column in the numpy array\n",
        "    masked_data = df.values[mask, column_index]\n",
        "\n",
        "    # Count unique values in numpy array\n",
        "    values, counts = np.unique(masked_data, return_counts=True)\n",
        "\n",
        "    # Calculate frequencies\n",
        "    frequencies = counts / counts.sum()\n",
        "    percentages = 100 * frequencies\n",
        "\n",
        "    # Create bar plot\n",
        "    plt.figure(figsize=(10,5))\n",
        "    bars = plt.bar(values, counts, color='blue')\n",
        "\n",
        "    plt.xlabel('Values')\n",
        "    plt.ylabel('Counts')\n",
        "    plt.title(f'Count of unique values in masked numpy array for {column_name}')\n",
        "\n",
        "    # Add percentage on top of each bar\n",
        "    for bar, percentage in zip(bars, percentages):\n",
        "        yval = bar.get_height()\n",
        "        plt.text(bar.get_x() + bar.get_width()/2, yval + 0.005, round(percentage, 2), ha='center', va='bottom')\n",
        "\n",
        "    plt.show()\n"
      ],
      "metadata": {
        "id": "4Uso2nZcXidV"
      },
      "execution_count": null,
      "outputs": []
    },
    {
      "cell_type": "markdown",
      "source": [
        "# Traditional DAE for carpentry"
      ],
      "metadata": {
        "id": "PGMXBhWQ44BM"
      }
    },
    {
      "cell_type": "code",
      "source": [
        "import tensorflow as tf\n",
        "from tensorflow.keras import layers\n",
        "from sklearn.preprocessing import StandardScaler\n",
        "from tensorflow.keras.callbacks import EarlyStopping\n",
        "import numpy as np"
      ],
      "metadata": {
        "id": "3gc23uGo44BS"
      },
      "execution_count": null,
      "outputs": []
    },
    {
      "cell_type": "code",
      "source": [
        "# DAE1, can handle classification and regression tasks at the same time, using leaky_relu activation function\n",
        "class DAE(tf.keras.Model):\n",
        "    def __init__(self, original_dim,  name=\"dae\", **kwargs):\n",
        "        super(DAE, self).__init__(name=name, **kwargs)\n",
        "        self.encoder = tf.keras.Sequential([\n",
        "            layers.Dense(original_dim, activation = 'leaky_relu'),\n",
        "            layers.Dense(8, activation = 'leaky_relu'),\n",
        "            layers.Dense(4, activation = 'leaky_relu'),\n",
        "            layers.Dense(4, activation = 'leaky_relu'),\n",
        "\n",
        "        ])\n",
        "\n",
        "        # An encoder that deals with continuous variables,\n",
        "        # its goal is to restore the features of the fourth column and beyond\n",
        "        self.decoder = tf.keras.Sequential([\n",
        "            # layers.Dense(256, activation = 'leaky_relu'),\n",
        "            layers.Dense(4, activation = 'leaky_relu'),\n",
        "            layers.Dense(4, activation = 'leaky_relu'),\n",
        "            layers.Dense(8, activation = 'leaky_relu'),\n",
        "            layers.Dropout(0.2),\n",
        "            layers.Dense(original_dim, activation = 'leaky_relu')\n",
        "        ])\n",
        "\n",
        "    def call(self, inputs):\n",
        "        encoded = self.encoder(inputs)\n",
        "        decoded = self.decoder(encoded)\n",
        "\n",
        "        return decoded\n"
      ],
      "metadata": {
        "id": "tJoZAABY44BS"
      },
      "execution_count": null,
      "outputs": []
    },
    {
      "cell_type": "code",
      "source": [
        "dae_dataset = df_insulation_carpentry_encoded_no_missing_values_outliers\n",
        "target_column = 'Quality_insulation_carpentry'"
      ],
      "metadata": {
        "id": "MCyerNz744BS"
      },
      "execution_count": null,
      "outputs": []
    },
    {
      "cell_type": "code",
      "source": [
        "from sklearn.model_selection import train_test_split\n",
        "\n",
        "# Divide the dataset into training and validation sets\n",
        "x_train, x_val = train_test_split(dae_dataset, test_size = 0.2, random_state = 1)\n",
        "x_true = x_val.copy()"
      ],
      "metadata": {
        "id": "RruFeuhb44BS"
      },
      "execution_count": null,
      "outputs": []
    },
    {
      "cell_type": "code",
      "source": [
        "import matplotlib.pyplot as plt\n",
        "\n",
        "def plot_loss(history, save_path, fig_title):\n",
        "    plt.plot(history)\n",
        "    plt.title(fig_title)\n",
        "    plt.ylabel('Loss')\n",
        "    plt.xlabel('Epoch')\n",
        "    plt.legend(['Train Loss'], loc='upper right')\n",
        "    plt.savefig(save_path)\n",
        "    plt.show()\n"
      ],
      "metadata": {
        "id": "z0L8fCSP44BT"
      },
      "execution_count": null,
      "outputs": []
    },
    {
      "cell_type": "code",
      "source": [
        "# In the ensemble method, the training code of DAE1 replaces a random mask every round of training.\n",
        "\n",
        "# Convert the dataset to np format\n",
        "x_train_np = x_train.values\n",
        "\n",
        "dae = DAE(original_dim = x_train_np.shape[1])\n",
        "optimizer = tf.keras.optimizers.Adam(learning_rate = 0.001)\n",
        "dae.compile(optimizer, loss=tf.keras.losses.MeanAbsoluteError())\n",
        "\n",
        "# set up early stopping, but this has no effect when iterations_per_noise = 1.\n",
        "early_stop = EarlyStopping(monitor='loss', min_delta = 0.0005, patience=5)\n",
        "\n",
        "# multiple epochs with different sparsity noise\n",
        "num_epochs = 20\n",
        "iterations_per_noise = 20\n",
        "loss_history = []\n",
        "fig_title = 'DAE Loss'\n",
        "save_path = '/content/gdrive/MyDrive/Colab Notebooks/DPE_code/result/dae_result_carpentry.png'\n",
        "\n",
        "for epoch in range(num_epochs // iterations_per_noise):\n",
        "    # create a new array with the same shape as x_train_np but with all elements -1\n",
        "    x_train_np_minus_one = np.full(x_train_np.shape, -1)\n",
        "\n",
        "    # Create a mask, the shape of the mask is the same as x_train_np, p = masking_factor represents the probability of 1 on the mask\n",
        "    masking_factor = 0.70       # Note that due to the replacement rules in tf.where later, the masking factor here should be 1-target value\n",
        "    mask = np.random.binomial(n = 1, p = masking_factor, size = x_train_np.shape)\n",
        "\n",
        "    # Use the tf.where function to replace the value in x_train_np with -1 according to the mask to get the noise data\n",
        "    x_train_np_noisy = tf.where(mask == 1, x_train_np, x_train_np_minus_one)\n",
        "\n",
        "    for iteration in range(iterations_per_noise):\n",
        "        print(f\"Noise Epoch {epoch + 1}/{num_epochs // iterations_per_noise}, Iteration {iteration + 1}/{iterations_per_noise}\")\n",
        "        # dae.fit(x_train_np_noisy, x_train_np, batch_size = 256, callbacks=[early_stop])\n",
        "        history = dae.fit(x_train_np_noisy, x_train_np, batch_size = 256, callbacks=[early_stop], verbose=0)\n",
        "        print(\"Train loss: \",history.history['loss'][0])\n",
        "        loss_history.append(history.history['loss'][0])\n",
        "\n",
        "plot_loss(loss_history, save_path, fig_title)\n"
      ],
      "metadata": {
        "colab": {
          "base_uri": "https://localhost:8080/",
          "height": 1000
        },
        "outputId": "05d0df53-03e3-4a02-a8c9-84a6043c0834",
        "id": "IMJxOOBn44BT"
      },
      "execution_count": null,
      "outputs": [
        {
          "output_type": "stream",
          "name": "stdout",
          "text": [
            "Noise Epoch 1/1, Iteration 1/20\n",
            "Train loss:  0.23092973232269287\n",
            "Noise Epoch 1/1, Iteration 2/20\n",
            "Train loss:  0.20742717385292053\n",
            "Noise Epoch 1/1, Iteration 3/20\n",
            "Train loss:  0.2062339335680008\n",
            "Noise Epoch 1/1, Iteration 4/20\n",
            "Train loss:  0.20571483671665192\n",
            "Noise Epoch 1/1, Iteration 5/20\n",
            "Train loss:  0.20273417234420776\n",
            "Noise Epoch 1/1, Iteration 6/20\n",
            "Train loss:  0.18775542080402374\n",
            "Noise Epoch 1/1, Iteration 7/20\n",
            "Train loss:  0.18668991327285767\n",
            "Noise Epoch 1/1, Iteration 8/20\n",
            "Train loss:  0.18642650544643402\n",
            "Noise Epoch 1/1, Iteration 9/20\n",
            "Train loss:  0.18606476485729218\n",
            "Noise Epoch 1/1, Iteration 10/20\n",
            "Train loss:  0.18587635457515717\n",
            "Noise Epoch 1/1, Iteration 11/20\n",
            "Train loss:  0.18574775755405426\n",
            "Noise Epoch 1/1, Iteration 12/20\n",
            "Train loss:  0.18563251197338104\n",
            "Noise Epoch 1/1, Iteration 13/20\n",
            "Train loss:  0.18565800786018372\n",
            "Noise Epoch 1/1, Iteration 14/20\n",
            "Train loss:  0.1855727583169937\n",
            "Noise Epoch 1/1, Iteration 15/20\n",
            "Train loss:  0.18553370237350464\n",
            "Noise Epoch 1/1, Iteration 16/20\n",
            "Train loss:  0.1855350285768509\n",
            "Noise Epoch 1/1, Iteration 17/20\n",
            "Train loss:  0.18552643060684204\n",
            "Noise Epoch 1/1, Iteration 18/20\n",
            "Train loss:  0.18539057672023773\n",
            "Noise Epoch 1/1, Iteration 19/20\n",
            "Train loss:  0.18533402681350708\n",
            "Noise Epoch 1/1, Iteration 20/20\n",
            "Train loss:  0.18535833060741425\n"
          ]
        },
        {
          "output_type": "display_data",
          "data": {
            "text/plain": [
              "<Figure size 640x480 with 1 Axes>"
            ],
            "image/png": "[encoded data removed]"
          },
          "metadata": {}
        }
      ]
    },
    {
      "cell_type": "code",
      "source": [
        "# Interpolation process function. This function is used for non-ensemble methods.\n",
        "def insert_and_impute(df, df_true, train_df, column_name, fraction, vae, num_iterations = 10):\n",
        "    # Create a copy of df\n",
        "    df_copy = df.copy()\n",
        "    df_copy_np = df_copy.values\n",
        "\n",
        "    # create a new array with the same shape as x_train_np but with all elements -1\n",
        "    df_copy_np_minus_one = np.full(df_copy_np.shape, -1)\n",
        "\n",
        "    # Create a mask, the shape of the mask is the same as x_train_np, p = masking_factor represents the probability of 1 on the mask\n",
        "    masking_factor = 1 - fraction\n",
        "    mask = np.random.binomial(n = 1, p = masking_factor, size = df_copy_np.shape)\n",
        "\n",
        "    # Use the tf.where function to replace the value in x_train_np with -1 according to the mask to get the noise data\n",
        "    df_copy_np_noisy = tf.where(mask, df_copy_np, df_copy_np_minus_one)\n",
        "    df_copy_np_noisy = tf.cast(df_copy_np_noisy, tf.float32)\n",
        "\n",
        "    # print(df_copy_np_noisy)\n",
        "\n",
        "    # Convert dataframe to input format accepted by vae\n",
        "    missing_data = tf.Variable(df_copy_np_noisy, dtype = tf.float32, trainable=True)\n",
        "    true_data = tf.Variable(df_true.values.astype('float32'), trainable = True)\n",
        "\n",
        "    # Convert numpy mask to tensorflow tensor\n",
        "    mask = tf.convert_to_tensor(mask, dtype = tf.bool)\n",
        "    mask = np.logical_not(mask)\n",
        "\n",
        "    # Get the column index for the loss calculation\n",
        "    column_index = df.columns.get_loc(column_name)\n",
        "\n",
        "    # Iterate num_iterations rounds to impute missing values\n",
        "    for i in range(num_iterations):\n",
        "        # Get imputed data\n",
        "        imputed_data = vae(missing_data)\n",
        "        # imputed_data = reshape_dae_output(imputed_data)\n",
        "\n",
        "        # RMSE on specified column\n",
        "        # loss = tf.sqrt(tf.reduce_mean(tf.square((imputed_data[:, column_index] - true_data[:, column_index])[mask[:, column_index]])))\n",
        "        # MAE on specified column\n",
        "        loss = tf.reduce_mean(tf.abs(imputed_data[:, column_index] - true_data[:, column_index])[mask[:, column_index]])\n",
        "        print('Target column loss:', loss)\n",
        "\n",
        "        loss = tf.reduce_mean(tf.abs(imputed_data - true_data)[mask])\n",
        "        print('Loss:', loss)\n",
        "\n",
        "        # Apply mask to imputed and true data\n",
        "        imputed_data_masked = tf.boolean_mask(imputed_data[:, column_index], mask[:, column_index])\n",
        "        true_data_masked = tf.boolean_mask(true_data[:, column_index], mask[:, column_index])\n",
        "\n",
        "        # Create a mask for correct imputations\n",
        "        accuracy_mask = (tf.abs(imputed_data_masked - true_data_masked) < 0.5)\n",
        "\n",
        "        # Calculate accuracy by dividing the number of correct imputations by the total number of imputations\n",
        "        accuracy = tf.reduce_mean(tf.cast(accuracy_mask, tf.float32))\n",
        "\n",
        "        print('Imputation accuracy:', accuracy)\n",
        "\n",
        "        # Fill missing parts of missing_data with imputed_data\n",
        "        missing_data.assign(tf.where(mask, imputed_data, missing_data))\n",
        "\n",
        "    df_copy[:] = missing_data.numpy()\n",
        "\n",
        "    return df_copy, mask\n"
      ],
      "metadata": {
        "id": "2Z0zuhrE44BT"
      },
      "execution_count": null,
      "outputs": []
    },
    {
      "cell_type": "code",
      "source": [
        "# Test the correct rate of the target column of DAE1 when the missing ratio is 20%.\n",
        "df_insulation_floor_imputed_traditional_dae, mask = insert_and_impute(x_val, x_true, x_train, target_column, 0.2, dae, num_iterations = 1)"
      ],
      "metadata": {
        "colab": {
          "base_uri": "https://localhost:8080/"
        },
        "outputId": "4e92d0ca-a5f4-40b6-e56e-0193f9850782",
        "id": "DkwFVVb344BT"
      },
      "execution_count": null,
      "outputs": [
        {
          "output_type": "stream",
          "name": "stdout",
          "text": [
            "Target column loss: tf.Tensor(0.62019396, shape=(), dtype=float32)\n",
            "Loss: tf.Tensor(0.27021667, shape=(), dtype=float32)\n",
            "Imputation accuracy: tf.Tensor(0.5060684, shape=(), dtype=float32)\n"
          ]
        }
      ]
    },
    {
      "cell_type": "code",
      "source": [
        "# Test the correct rate of the target column of DAE1 when the missing ratio is 10%.\n",
        "df_insulation_floor_imputed_traditional_dae, mask = insert_and_impute(x_val, x_true, x_train, target_column, 0.1, dae, num_iterations = 1)"
      ],
      "metadata": {
        "colab": {
          "base_uri": "https://localhost:8080/"
        },
        "outputId": "0fc2f99c-b33d-4593-8dd1-3ee75a0a5bcf",
        "id": "Ssk161Bl44BU"
      },
      "execution_count": null,
      "outputs": [
        {
          "output_type": "stream",
          "name": "stdout",
          "text": [
            "Target column loss: tf.Tensor(0.62289065, shape=(), dtype=float32)\n",
            "Loss: tf.Tensor(0.26596358, shape=(), dtype=float32)\n",
            "Imputation accuracy: tf.Tensor(0.5053331, shape=(), dtype=float32)\n"
          ]
        }
      ]
    },
    {
      "cell_type": "markdown",
      "source": [
        "# DE-DAE for carpentry"
      ],
      "metadata": {
        "id": "kQqTTnfB6ulB"
      }
    },
    {
      "cell_type": "code",
      "source": [
        "# DAE1, can handle classification and regression tasks at the same time, using leaky_relu activation function\n",
        "class DAE(tf.keras.Model):\n",
        "    def __init__(self, original_dim,  name=\"dae\", **kwargs):\n",
        "        super(DAE, self).__init__(name=name, **kwargs)\n",
        "        self.encoder = tf.keras.Sequential([\n",
        "            layers.Dense(original_dim, activation = 'leaky_relu'),\n",
        "            layers.Dense(16, activation = 'leaky_relu'),\n",
        "            layers.Dense(32, activation = 'leaky_relu'),\n",
        "            layers.Dense(64, activation = 'leaky_relu'),\n",
        "            layers.Dense(128, activation = 'leaky_relu'),\n",
        "            # layers.Dense(256, activation = 'leaky_relu'),\n",
        "        ])\n",
        "\n",
        "        # An encoder that deals with continuous variables,\n",
        "        # its goal is to restore the features of the fourth column and beyond\n",
        "        self.decoder = tf.keras.Sequential([\n",
        "            # layers.Dense(256, activation = 'leaky_relu'),\n",
        "            layers.Dense(128, activation = 'leaky_relu'),\n",
        "            layers.Dense(64, activation = 'leaky_relu'),\n",
        "            layers.Dense(32, activation = 'leaky_relu'),\n",
        "            layers.Dense(16, activation = 'leaky_relu'),\n",
        "            layers.Dropout(0.2),\n",
        "            layers.Dense(original_dim, activation = 'leaky_relu')\n",
        "        ])\n",
        "\n",
        "    def call(self, inputs):\n",
        "        encoded = self.encoder(inputs)\n",
        "        decoded = self.decoder(encoded)\n",
        "\n",
        "        return decoded\n"
      ],
      "metadata": {
        "id": "eytuldxs6ulH"
      },
      "execution_count": null,
      "outputs": []
    },
    {
      "cell_type": "code",
      "source": [
        "dae_dataset = df_insulation_carpentry_encoded_no_missing_values_outliers\n",
        "target_column = 'Quality_insulation_carpentry'"
      ],
      "metadata": {
        "id": "JBmcw0_36ulH"
      },
      "execution_count": null,
      "outputs": []
    },
    {
      "cell_type": "code",
      "source": [
        "len(dae_dataset)"
      ],
      "metadata": {
        "colab": {
          "base_uri": "https://localhost:8080/"
        },
        "outputId": "08306490-9d85-49b0-f8b9-20405ecbbd67",
        "id": "1PXHHK4D6ulH"
      },
      "execution_count": null,
      "outputs": [
        {
          "output_type": "execute_result",
          "data": {
            "text/plain": [
              "1834730"
            ]
          },
          "metadata": {},
          "execution_count": 120
        }
      ]
    },
    {
      "cell_type": "code",
      "source": [
        "from sklearn.model_selection import train_test_split\n",
        "\n",
        "# Divide the dataset into training and validation sets\n",
        "x_train, x_val = train_test_split(dae_dataset, test_size = 0.2, random_state = 1)\n",
        "x_true = x_val.copy()"
      ],
      "metadata": {
        "id": "7WcMINfH6ulI"
      },
      "execution_count": null,
      "outputs": []
    },
    {
      "cell_type": "code",
      "source": [
        "import matplotlib.pyplot as plt\n",
        "\n",
        "def plot_loss(history, save_path, fig_title):\n",
        "    plt.plot(history)\n",
        "    plt.title(fig_title)\n",
        "    plt.ylabel('Loss')\n",
        "    plt.xlabel('Epoch')\n",
        "    plt.legend(['Train Loss'], loc='upper right')\n",
        "    plt.savefig(save_path)\n",
        "    plt.show()\n"
      ],
      "metadata": {
        "id": "aGTJUfU-6ulI"
      },
      "execution_count": null,
      "outputs": []
    },
    {
      "cell_type": "code",
      "source": [
        "# In the ensemble method, the training code of DAE1 replaces a random mask every round of training.\n",
        "\n",
        "# Convert the dataset to np format\n",
        "x_train_np = x_train.values\n",
        "\n",
        "dae = DAE(original_dim = x_train_np.shape[1])\n",
        "optimizer = tf.keras.optimizers.Adam(learning_rate = 0.001)\n",
        "dae.compile(optimizer, loss=tf.keras.losses.MeanAbsoluteError())\n",
        "\n",
        "# set up early stopping, but this has no effect when iterations_per_noise = 1.\n",
        "early_stop = EarlyStopping(monitor='loss', min_delta = 0.0005, patience=5)\n",
        "\n",
        "# multiple epochs with different sparsity noise\n",
        "num_epochs = 20\n",
        "iterations_per_noise = 20\n",
        "loss_history = []\n",
        "fig_title = 'Dimension-Enhanced DAE Loss'\n",
        "save_path = '/content/gdrive/MyDrive/Colab Notebooks/DPE_code/result/de_dae_result_carpentry.png'\n",
        "\n",
        "for epoch in range(num_epochs // iterations_per_noise):\n",
        "    # create a new array with the same shape as x_train_np but with all elements -1\n",
        "    x_train_np_minus_one = np.full(x_train_np.shape, -1)\n",
        "\n",
        "    # Create a mask, the shape of the mask is the same as x_train_np, p = masking_factor represents the probability of 1 on the mask\n",
        "    masking_factor = 0.70       # Note that due to the replacement rules in tf.where later, the masking factor here should be 1-target value\n",
        "    mask = np.random.binomial(n = 1, p = masking_factor, size = x_train_np.shape)\n",
        "\n",
        "    # Use the tf.where function to replace the value in x_train_np with -1 according to the mask to get the noise data\n",
        "    x_train_np_noisy = tf.where(mask == 1, x_train_np, x_train_np_minus_one)\n",
        "\n",
        "    for iteration in range(iterations_per_noise):\n",
        "        print(f\"Noise Epoch {epoch + 1}/{num_epochs // iterations_per_noise}, Iteration {iteration + 1}/{iterations_per_noise}\")\n",
        "        # dae.fit(x_train_np_noisy, x_train_np, batch_size = 256, callbacks=[early_stop])\n",
        "        history = dae.fit(x_train_np_noisy, x_train_np, batch_size = 256, callbacks=[early_stop], verbose=0)\n",
        "        print(\"Train loss: \",history.history['loss'][0])\n",
        "        loss_history.append(history.history['loss'][0])\n",
        "\n",
        "plot_loss(loss_history, save_path, fig_title)"
      ],
      "metadata": {
        "colab": {
          "base_uri": "https://localhost:8080/"
        },
        "outputId": "f8fd437b-055b-4ecc-8ea1-4804be622dfa",
        "id": "c2A25pKf6ulI"
      },
      "execution_count": null,
      "outputs": [
        {
          "output_type": "stream",
          "name": "stdout",
          "text": [
            "Noise Epoch 1/1, Iteration 1/20\n",
            "Train loss:  0.1786651611328125\n",
            "Noise Epoch 1/1, Iteration 2/20\n",
            "Train loss:  0.1579846441745758\n",
            "Noise Epoch 1/1, Iteration 3/20\n",
            "Train loss:  0.15441486239433289\n",
            "Noise Epoch 1/1, Iteration 4/20\n",
            "Train loss:  0.15216729044914246\n",
            "Noise Epoch 1/1, Iteration 5/20\n",
            "Train loss:  0.15133221447467804\n",
            "Noise Epoch 1/1, Iteration 6/20\n",
            "Train loss:  0.15096747875213623\n",
            "Noise Epoch 1/1, Iteration 7/20\n",
            "Train loss:  0.1506609469652176\n",
            "Noise Epoch 1/1, Iteration 8/20\n",
            "Train loss:  0.15039679408073425\n",
            "Noise Epoch 1/1, Iteration 9/20\n",
            "Train loss:  0.15022149682044983\n",
            "Noise Epoch 1/1, Iteration 10/20\n",
            "Train loss:  0.14999964833259583\n",
            "Noise Epoch 1/1, Iteration 11/20\n",
            "Train loss:  0.14560548961162567\n",
            "Noise Epoch 1/1, Iteration 12/20\n",
            "Train loss:  0.1402745395898819\n",
            "Noise Epoch 1/1, Iteration 13/20\n",
            "Train loss:  0.13865475356578827\n",
            "Noise Epoch 1/1, Iteration 14/20\n",
            "Train loss:  0.13806377351284027\n",
            "Noise Epoch 1/1, Iteration 15/20\n",
            "Train loss:  0.13785512745380402\n",
            "Noise Epoch 1/1, Iteration 16/20\n",
            "Train loss:  0.13767912983894348\n",
            "Noise Epoch 1/1, Iteration 17/20\n",
            "Train loss:  0.13748624920845032\n",
            "Noise Epoch 1/1, Iteration 18/20\n",
            "Train loss:  0.13740545511245728\n",
            "Noise Epoch 1/1, Iteration 19/20\n",
            "Train loss:  0.13726893067359924\n",
            "Noise Epoch 1/1, Iteration 20/20\n",
            "Train loss:  0.1371781975030899\n"
          ]
        },
        {
          "output_type": "display_data",
          "data": {
            "text/plain": [
              "<Figure size 640x480 with 1 Axes>"
            ],
            "image/png": "[encoded data removed]"
          },
          "metadata": {}
        }
      ]
    },
    {
      "cell_type": "code",
      "source": [
        "# Interpolation process function. This function is used for non-ensemble methods.\n",
        "def insert_and_impute(df, df_true, train_df, column_name, fraction, vae, num_iterations = 10):\n",
        "    # Create a copy of df\n",
        "    df_copy = df.copy()\n",
        "    df_copy_np = df_copy.values\n",
        "\n",
        "    # create a new array with the same shape as x_train_np but with all elements -1\n",
        "    df_copy_np_minus_one = np.full(df_copy_np.shape, -1)\n",
        "\n",
        "    # Create a mask, the shape of the mask is the same as x_train_np, p = masking_factor represents the probability of 1 on the mask\n",
        "    masking_factor = 1 - fraction\n",
        "    mask = np.random.binomial(n = 1, p = masking_factor, size = df_copy_np.shape)\n",
        "\n",
        "    # Use the tf.where function to replace the value in x_train_np with -1 according to the mask to get the noise data\n",
        "    df_copy_np_noisy = tf.where(mask, df_copy_np, df_copy_np_minus_one)\n",
        "    df_copy_np_noisy = tf.cast(df_copy_np_noisy, tf.float32)\n",
        "\n",
        "    # print(df_copy_np_noisy)\n",
        "\n",
        "    # Convert dataframe to input format accepted by vae\n",
        "    missing_data = tf.Variable(df_copy_np_noisy, dtype = tf.float32, trainable=True)\n",
        "    true_data = tf.Variable(df_true.values.astype('float32'), trainable = True)\n",
        "\n",
        "    # Convert numpy mask to tensorflow tensor\n",
        "    mask = tf.convert_to_tensor(mask, dtype = tf.bool)\n",
        "    mask = np.logical_not(mask)\n",
        "\n",
        "    # Get the column index for the loss calculation\n",
        "    column_index = df.columns.get_loc(column_name)\n",
        "\n",
        "    # Iterate num_iterations rounds to impute missing values\n",
        "    for i in range(num_iterations):\n",
        "        # Get imputed data\n",
        "        imputed_data = vae(missing_data)\n",
        "        # imputed_data = reshape_dae_output(imputed_data)\n",
        "\n",
        "        # RMSE on specified column\n",
        "        # loss = tf.sqrt(tf.reduce_mean(tf.square((imputed_data[:, column_index] - true_data[:, column_index])[mask[:, column_index]])))\n",
        "        # MAE on specified column\n",
        "        loss = tf.reduce_mean(tf.abs(imputed_data[:, column_index] - true_data[:, column_index])[mask[:, column_index]])\n",
        "        print('Target column loss:', loss)\n",
        "\n",
        "        loss = tf.reduce_mean(tf.abs(imputed_data - true_data)[mask])\n",
        "        print('Loss:', loss)\n",
        "\n",
        "        # Apply mask to imputed and true data\n",
        "        imputed_data_masked = tf.boolean_mask(imputed_data[:, column_index], mask[:, column_index])\n",
        "        true_data_masked = tf.boolean_mask(true_data[:, column_index], mask[:, column_index])\n",
        "\n",
        "        # Create a mask for correct imputations\n",
        "        accuracy_mask = (tf.abs(imputed_data_masked - true_data_masked) < 0.5)\n",
        "\n",
        "        # Calculate accuracy by dividing the number of correct imputations by the total number of imputations\n",
        "        accuracy = tf.reduce_mean(tf.cast(accuracy_mask, tf.float32))\n",
        "\n",
        "        print('Imputation accuracy:', accuracy)\n",
        "\n",
        "        # Fill missing parts of missing_data with imputed_data\n",
        "        missing_data.assign(tf.where(mask, imputed_data, missing_data))\n",
        "\n",
        "    df_copy[:] = missing_data.numpy()\n",
        "\n",
        "    return df_copy, mask\n"
      ],
      "metadata": {
        "id": "HAMoJV2S6ulI"
      },
      "execution_count": null,
      "outputs": []
    },
    {
      "cell_type": "code",
      "source": [
        "# Test the correct rate of the target column of DAE1 when the missing ratio is 20%.\n",
        "df_insulation_floor_imputed_dedae, mask = insert_and_impute(x_val, x_true, x_train, target_column, 0.2, dae, num_iterations = 1)"
      ],
      "metadata": {
        "colab": {
          "base_uri": "https://localhost:8080/"
        },
        "outputId": "a7d769f8-6685-46ff-d246-599f5c3e1120",
        "id": "HdPh3POU6ulJ"
      },
      "execution_count": null,
      "outputs": [
        {
          "output_type": "stream",
          "name": "stdout",
          "text": [
            "Target column loss: tf.Tensor(0.561454, shape=(), dtype=float32)\n",
            "Loss: tf.Tensor(0.25535232, shape=(), dtype=float32)\n",
            "Imputation accuracy: tf.Tensor(0.5156829, shape=(), dtype=float32)\n"
          ]
        }
      ]
    },
    {
      "cell_type": "code",
      "source": [
        "# Test the correct rate of the target column of DAE1 when the missing ratio is 20%.\n",
        "df_insulation_floor_imputed_dedae, mask = insert_and_impute(x_val, x_true, x_train, target_column, 0.1, dae, num_iterations = 1)"
      ],
      "metadata": {
        "colab": {
          "base_uri": "https://localhost:8080/"
        },
        "outputId": "26ba6748-675d-4a9e-f6f5-df44774ede37",
        "id": "ZAFybbUX6ulJ"
      },
      "execution_count": null,
      "outputs": [
        {
          "output_type": "stream",
          "name": "stdout",
          "text": [
            "Target column loss: tf.Tensor(0.54840475, shape=(), dtype=float32)\n",
            "Loss: tf.Tensor(0.2483195, shape=(), dtype=float32)\n",
            "Imputation accuracy: tf.Tensor(0.5246849, shape=(), dtype=float32)\n"
          ]
        }
      ]
    },
    {
      "cell_type": "markdown",
      "source": [
        "# DE-DAE-MD for carpentry"
      ],
      "metadata": {
        "id": "Rcn-StGS6vcL"
      }
    },
    {
      "cell_type": "code",
      "source": [
        "# DAE1, can handle classification and regression tasks at the same time, using leaky_relu activation function\n",
        "class DAE(tf.keras.Model):\n",
        "    def __init__(self, original_dim, categorical_dim, continuous_dim,  name=\"dae\", **kwargs):\n",
        "        super(DAE, self).__init__(name=name, **kwargs)\n",
        "        self.encoder = tf.keras.Sequential([\n",
        "            layers.Dense(original_dim, activation = 'leaky_relu'),\n",
        "            layers.Dense(16, activation = 'leaky_relu'),\n",
        "            layers.Dense(32, activation = 'leaky_relu'),\n",
        "            layers.Dense(64, activation = 'leaky_relu'),\n",
        "            layers.Dense(128, activation = 'leaky_relu'),\n",
        "            # layers.Dense(256, activation = 'leaky_relu'),\n",
        "        ])\n",
        "\n",
        "        # An encoder that deals with continuous variables,\n",
        "        # its goal is to restore the features of the fourth column and beyond\n",
        "        self.decoder_continuous = tf.keras.Sequential([\n",
        "            # layers.Dense(256, activation = 'leaky_relu'),\n",
        "            layers.Dense(128, activation = 'leaky_relu'),\n",
        "            layers.Dense(64, activation = 'leaky_relu'),\n",
        "            layers.Dense(32, activation = 'leaky_relu'),\n",
        "            layers.Dense(16, activation = 'leaky_relu'),\n",
        "            layers.Dropout(0.2),\n",
        "            layers.Dense(continuous_dim, activation = 'leaky_relu')\n",
        "        ])\n",
        "\n",
        "        # Decoder1 that deals with categorical variables,\n",
        "        # its goal is to restore the target column: Quality_insulation_lower_floor\n",
        "        self.decoder_categorical_1 = tf.keras.Sequential([\n",
        "            # layers.Dense(256, activation = 'leaky_relu'),\n",
        "            layers.Dense(128, activation = 'leaky_relu'),\n",
        "            layers.Dense(64, activation = 'leaky_relu'),\n",
        "            layers.Dense(32, activation = 'leaky_relu'),\n",
        "            layers.Dense(16, activation = 'leaky_relu'),\n",
        "            layers.Dense(8, activation = 'leaky_relu'),\n",
        "            # layers.Dropout(0.2),\n",
        "            layers.Dense(4, activation = 'softmax') # 4 classes for the first categorical variable\n",
        "        ])\n",
        "\n",
        "        # Decoder2 that deals with categorical variables,\n",
        "        # its goal is to restore the second column: Quality_insulation_envelope\n",
        "        self.decoder_categorical_2 = tf.keras.Sequential([\n",
        "            # layers.Dense(256, activation = 'leaky_relu'),\n",
        "            layers.Dense(128, activation = 'leaky_relu'),\n",
        "            layers.Dense(64, activation = 'leaky_relu'),\n",
        "            layers.Dense(32, activation = 'leaky_relu'),\n",
        "            layers.Dense(16, activation = 'leaky_relu'),\n",
        "            layers.Dense(8, activation = 'leaky_relu'),\n",
        "            # layers.Dropout(0.2),\n",
        "            layers.Dense(4, activation = 'softmax') # 4 classes for the second categorical variable\n",
        "        ])\n",
        "\n",
        "    def call(self, inputs):\n",
        "        encoded = self.encoder(inputs)\n",
        "        decoded_continuous = self.decoder_continuous(encoded)\n",
        "        decoded_categorical_1 = self.decoder_categorical_1(encoded)\n",
        "        decoded_categorical_2 = self.decoder_categorical_2(encoded)\n",
        "        decoded = tf.concat([decoded_categorical_1, decoded_categorical_2, decoded_continuous], axis=1)\n",
        "        return decoded\n"
      ],
      "metadata": {
        "id": "Mjc7Gn5w6vcS"
      },
      "execution_count": null,
      "outputs": []
    },
    {
      "cell_type": "code",
      "source": [
        "# Custom loss function, used to calculate the loss of discrete variables and continuous variables\n",
        "def custom_loss(y_true, y_pred):\n",
        "    # the first 3 columns of y_true and y_pred are the categorical variables,\n",
        "    # and the rest are the continuous variables.\n",
        "    y_true_categorical_1 = y_true[:, 0]\n",
        "    y_true_categorical_2 = y_true[:, 1]\n",
        "\n",
        "    y_pred_categorical_1 = y_pred[:, :4]\n",
        "    y_pred_categorical_2 = y_pred[:, 4:8]\n",
        "    y_true_continuous = y_true[:, 2:]\n",
        "    y_pred_continuous = y_pred[:, 8:]\n",
        "\n",
        "    # Use cross entropy for the categorical variables.\n",
        "    categorical_loss_1 = tf.keras.losses.SparseCategoricalCrossentropy()(y_true_categorical_1, y_pred_categorical_1)\n",
        "    categorical_loss_2 = tf.keras.losses.SparseCategoricalCrossentropy()(y_true_categorical_2, y_pred_categorical_2)\n",
        "\n",
        "    # Use mean squared error for the continuous variables.\n",
        "    continuous_loss = tf.keras.losses.MeanSquaredError()(y_true_continuous, y_pred_continuous)\n",
        "\n",
        "    return categorical_loss_1 + categorical_loss_2  + continuous_loss"
      ],
      "metadata": {
        "id": "vvrPX-bj6vcS"
      },
      "execution_count": null,
      "outputs": []
    },
    {
      "cell_type": "code",
      "source": [
        "dae_dataset = df_insulation_carpentry_encoded_no_missing_values_outliers\n",
        "target_column = 'Quality_insulation_carpentry'"
      ],
      "metadata": {
        "id": "s70revH26vcS"
      },
      "execution_count": null,
      "outputs": []
    },
    {
      "cell_type": "code",
      "source": [
        "from sklearn.model_selection import train_test_split\n",
        "\n",
        "# Divide the dataset into training and validation sets\n",
        "x_train, x_val = train_test_split(dae_dataset, test_size = 0.2, random_state = 1)\n",
        "x_true = x_val.copy()"
      ],
      "metadata": {
        "id": "mEFnUXa86vcS"
      },
      "execution_count": null,
      "outputs": []
    },
    {
      "cell_type": "code",
      "source": [
        "import matplotlib.pyplot as plt\n",
        "\n",
        "def plot_loss(history, save_path, fig_title):\n",
        "    plt.plot(history)\n",
        "    plt.title(fig_title)\n",
        "    plt.ylabel('Loss')\n",
        "    plt.xlabel('Epoch')\n",
        "    plt.legend(['Train Loss'], loc='upper right')\n",
        "    plt.savefig(save_path)\n",
        "    plt.show()\n"
      ],
      "metadata": {
        "id": "9QecI_rn6vcS"
      },
      "execution_count": null,
      "outputs": []
    },
    {
      "cell_type": "code",
      "source": [
        "# In the ensemble method, the training code of DAE1 replaces a random mask every round of training.\n",
        "\n",
        "# Convert the dataset to np format\n",
        "x_train_np = x_train.values\n",
        "\n",
        "dae = DAE(original_dim = x_train_np.shape[1], categorical_dim = 2, continuous_dim = x_train_np.shape[1] - 2)\n",
        "optimizer = tf.keras.optimizers.Adam(learning_rate = 0.001)\n",
        "dae.compile(optimizer, loss=custom_loss)\n",
        "\n",
        "# set up early stopping, but this has no effect when iterations_per_noise = 1.\n",
        "early_stop = EarlyStopping(monitor='loss', min_delta = 0.0005, patience=5)\n",
        "\n",
        "# multiple epochs with different sparsity noise\n",
        "num_epochs = 20\n",
        "iterations_per_noise = 20\n",
        "loss_history = []\n",
        "fig_title = 'Dimension-Enhanced DAE with Multi Decoder Loss'\n",
        "save_path = '/content/gdrive/MyDrive/Colab Notebooks/DPE_code/result/de_dae_md_result_carpentry.png'\n",
        "\n",
        "for epoch in range(num_epochs // iterations_per_noise):\n",
        "    # create a new array with the same shape as x_train_np but with all elements -1\n",
        "    x_train_np_minus_one = np.full(x_train_np.shape, -1)\n",
        "\n",
        "    # Create a mask, the shape of the mask is the same as x_train_np, p = masking_factor represents the probability of 1 on the mask\n",
        "    masking_factor = 0.70       # Note that due to the replacement rules in tf.where later, the masking factor here should be 1-target value\n",
        "    mask = np.random.binomial(n = 1, p = masking_factor, size = x_train_np.shape)\n",
        "\n",
        "    # Use the tf.where function to replace the value in x_train_np with -1 according to the mask to get the noise data\n",
        "    x_train_np_noisy = tf.where(mask == 1, x_train_np, x_train_np_minus_one)\n",
        "\n",
        "    for iteration in range(iterations_per_noise):\n",
        "        print(f\"Noise Epoch {epoch + 1}/{num_epochs // iterations_per_noise}, Iteration {iteration + 1}/{iterations_per_noise}\")\n",
        "        # dae.fit(x_train_np_noisy, x_train_np, batch_size = 256, callbacks=[early_stop])\n",
        "        history = dae.fit(x_train_np_noisy, x_train_np, batch_size = 256, callbacks=[early_stop], verbose=0)\n",
        "        print(\"Train loss: \",history.history['loss'][0])\n",
        "        loss_history.append(history.history['loss'][0])\n",
        "\n",
        "plot_loss(loss_history, save_path, fig_title)"
      ],
      "metadata": {
        "colab": {
          "base_uri": "https://localhost:8080/"
        },
        "outputId": "2bb48506-53e6-4a2b-e475-fddb12a6e186",
        "id": "qPEnKaBb6vcT"
      },
      "execution_count": null,
      "outputs": [
        {
          "output_type": "stream",
          "name": "stdout",
          "text": [
            "Noise Epoch 1/1, Iteration 1/20\n",
            "Train loss:  0.7771246433258057\n",
            "Noise Epoch 1/1, Iteration 2/20\n",
            "Train loss:  0.7160220146179199\n",
            "Noise Epoch 1/1, Iteration 3/20\n",
            "Train loss:  0.7112997770309448\n",
            "Noise Epoch 1/1, Iteration 4/20\n",
            "Train loss:  0.7078080773353577\n",
            "Noise Epoch 1/1, Iteration 5/20\n",
            "Train loss:  0.7089159488677979\n",
            "Noise Epoch 1/1, Iteration 6/20\n",
            "Train loss:  0.7056753039360046\n",
            "Noise Epoch 1/1, Iteration 7/20\n",
            "Train loss:  0.7040013074874878\n",
            "Noise Epoch 1/1, Iteration 8/20\n",
            "Train loss:  0.7014195919036865\n",
            "Noise Epoch 1/1, Iteration 9/20\n",
            "Train loss:  0.6873237490653992\n",
            "Noise Epoch 1/1, Iteration 10/20\n",
            "Train loss:  0.6821814775466919\n",
            "Noise Epoch 1/1, Iteration 11/20\n",
            "Train loss:  0.6784937977790833\n",
            "Noise Epoch 1/1, Iteration 12/20\n",
            "Train loss:  0.6772474050521851\n",
            "Noise Epoch 1/1, Iteration 13/20\n",
            "Train loss:  0.6762480139732361\n",
            "Noise Epoch 1/1, Iteration 14/20\n",
            "Train loss:  0.6754369735717773\n",
            "Noise Epoch 1/1, Iteration 15/20\n",
            "Train loss:  0.6749902963638306\n",
            "Noise Epoch 1/1, Iteration 16/20\n",
            "Train loss:  0.6742894053459167\n",
            "Noise Epoch 1/1, Iteration 17/20\n",
            "Train loss:  0.6740583181381226\n",
            "Noise Epoch 1/1, Iteration 18/20\n",
            "Train loss:  0.6736847162246704\n",
            "Noise Epoch 1/1, Iteration 19/20\n",
            "Train loss:  0.673245370388031\n",
            "Noise Epoch 1/1, Iteration 20/20\n",
            "Train loss:  0.672917366027832\n"
          ]
        },
        {
          "output_type": "display_data",
          "data": {
            "text/plain": [
              "<Figure size 640x480 with 1 Axes>"
            ],
            "image/png": "[encoded data removed]"
          },
          "metadata": {}
        }
      ]
    },
    {
      "cell_type": "code",
      "source": [
        "# The function of this function is to reshape the result output by DAE\n",
        "def reshape_dae_output(dae_output):\n",
        "    # the first 3 columns of y_true and y_pred are the categorical variables,\n",
        "    # and the rest are the continuous variables.\n",
        "    dae_output_categorical_1 = tf.argmax(dae_output[:, :4], 1)\n",
        "    dae_output_categorical_2 = tf.argmax(dae_output[:, 4:8], 1)\n",
        "    # dae_output_categorical_3 = tf.argmax(dae_output[:, 8:10], 1)\n",
        "    dae_output_continuous = dae_output[:, 8:]\n",
        "\n",
        "    # Cast the categorical outputs to float32 and expand dimensions\n",
        "    dae_output_categorical_1 = tf.expand_dims(tf.cast(dae_output_categorical_1, tf.float32), 1)\n",
        "    dae_output_categorical_2 = tf.expand_dims(tf.cast(dae_output_categorical_2, tf.float32), 1)\n",
        "    # dae_output_categorical_3 = tf.expand_dims(tf.cast(dae_output_categorical_3, tf.float32), 1)\n",
        "\n",
        "    reshaped_output = tf.concat([dae_output_categorical_1, dae_output_categorical_2, dae_output_continuous], axis=1)\n",
        "\n",
        "    return reshaped_output\n"
      ],
      "metadata": {
        "id": "GFVE9vvz6vcT"
      },
      "execution_count": null,
      "outputs": []
    },
    {
      "cell_type": "code",
      "source": [
        "# The function of this function is to reshape the result output by DAE\n",
        "# Compared with the above function, it can output an additional mask,\n",
        "# which will be used to select the value to be re-corrected\n",
        "def reshape_dae_output_mask(dae_output):\n",
        "    # Assuming the first 3 columns of y_true and y_pred are the categorical variables,\n",
        "    # and the rest are the continuous variables.\n",
        "    dae_output_categorical_1 = tf.argmax(dae_output[:, :4], 1)\n",
        "    dae_output_categorical_2 = tf.argmax(dae_output[:, 4:8], 1)\n",
        "    # dae_output_categorical_3 = tf.argmax(dae_output[:, 8:10], 1)\n",
        "    dae_output_continuous = dae_output[:, 8:]\n",
        "    # print(dae_output[:, :4])\n",
        "\n",
        "    # Find the maximum probability in dae_output_categorical_1\n",
        "    max_prob = tf.reduce_max(dae_output[:, :4], axis=1)\n",
        "\n",
        "    # Create a mask where max_prob is less than 0.4\n",
        "    mask = tf.cast(tf.math.less(max_prob, 0.6), tf.bool)\n",
        "\n",
        "    # Expand dimensions of mask\n",
        "    mask = tf.expand_dims(mask, axis=1)\n",
        "\n",
        "    # Cast the categorical outputs to float32 and expand dimensions\n",
        "    dae_output_categorical_1 = tf.expand_dims(tf.cast(dae_output_categorical_1, tf.float32), 1)\n",
        "    dae_output_categorical_2 = tf.expand_dims(tf.cast(dae_output_categorical_2, tf.float32), 1)\n",
        "    # dae_output_categorical_3 = tf.expand_dims(tf.cast(dae_output_categorical_3, tf.float32), 1)\n",
        "\n",
        "    reshaped_output = tf.concat([dae_output_categorical_1, dae_output_categorical_2, dae_output_continuous], axis=1)\n",
        "\n",
        "    return reshaped_output, mask\n"
      ],
      "metadata": {
        "id": "8VfEz2cN6vcT"
      },
      "execution_count": null,
      "outputs": []
    },
    {
      "cell_type": "code",
      "source": [
        "# Interpolation process function. This function is used for non-ensemble methods.\n",
        "def insert_and_impute(df, df_true, train_df, column_name, fraction, vae, num_iterations = 10):\n",
        "    # Create a copy of df\n",
        "    df_copy = df.copy()\n",
        "    df_copy_np = df_copy.values\n",
        "\n",
        "    # create a new array with the same shape as x_train_np but with all elements -1\n",
        "    df_copy_np_minus_one = np.full(df_copy_np.shape, -1)\n",
        "\n",
        "    # Create a mask, the shape of the mask is the same as x_train_np, p = masking_factor represents the probability of 1 on the mask\n",
        "    masking_factor = 1 - fraction\n",
        "    mask = np.random.binomial(n = 1, p = masking_factor, size = df_copy_np.shape)\n",
        "\n",
        "    # Use the tf.where function to replace the value in x_train_np with -1 according to the mask to get the noise data\n",
        "    df_copy_np_noisy = tf.where(mask, df_copy_np, df_copy_np_minus_one)\n",
        "    df_copy_np_noisy = tf.cast(df_copy_np_noisy, tf.float32)\n",
        "\n",
        "    # print(df_copy_np_noisy)\n",
        "\n",
        "    # Convert dataframe to input format accepted by vae\n",
        "    missing_data = tf.Variable(df_copy_np_noisy, dtype = tf.float32, trainable=True)\n",
        "    true_data = tf.Variable(df_true.values.astype('float32'), trainable = True)\n",
        "\n",
        "    # Convert numpy mask to tensorflow tensor\n",
        "    mask = tf.convert_to_tensor(mask, dtype = tf.bool)\n",
        "    mask = np.logical_not(mask)\n",
        "\n",
        "    # Get the column index for the loss calculation\n",
        "    column_index = df.columns.get_loc(column_name)\n",
        "\n",
        "    # Iterate num_iterations rounds to impute missing values\n",
        "    for i in range(num_iterations):\n",
        "        # Get imputed data\n",
        "        imputed_data = vae(missing_data)\n",
        "        imputed_data = reshape_dae_output(imputed_data)\n",
        "\n",
        "        # RMSE on specified column\n",
        "        # loss = tf.sqrt(tf.reduce_mean(tf.square((imputed_data[:, column_index] - true_data[:, column_index])[mask[:, column_index]])))\n",
        "        # MAE on specified column\n",
        "        loss = tf.reduce_mean(tf.abs(imputed_data[:, column_index] - true_data[:, column_index])[mask[:, column_index]])\n",
        "        print('Target column loss:', loss)\n",
        "\n",
        "        loss = tf.reduce_mean(tf.abs(imputed_data - true_data)[mask])\n",
        "        print('Loss:', loss)\n",
        "\n",
        "        # Apply mask to imputed and true data\n",
        "        imputed_data_masked = tf.boolean_mask(imputed_data[:, column_index], mask[:, column_index])\n",
        "        true_data_masked = tf.boolean_mask(true_data[:, column_index], mask[:, column_index])\n",
        "\n",
        "        # Create a mask for correct imputations\n",
        "        accuracy_mask = (tf.abs(imputed_data_masked - true_data_masked) < 0.1)\n",
        "\n",
        "        # Calculate accuracy by dividing the number of correct imputations by the total number of imputations\n",
        "        accuracy = tf.reduce_mean(tf.cast(accuracy_mask, tf.float32))\n",
        "\n",
        "        print('Imputation accuracy:', accuracy)\n",
        "\n",
        "        # Fill missing parts of missing_data with imputed_data\n",
        "        missing_data.assign(tf.where(mask, imputed_data, missing_data))\n",
        "\n",
        "    df_copy[:] = missing_data.numpy()\n",
        "\n",
        "    return df_copy, mask\n"
      ],
      "metadata": {
        "id": "0UzSfeHf6vcT"
      },
      "execution_count": null,
      "outputs": []
    },
    {
      "cell_type": "code",
      "source": [
        "# Test the correct rate of the target column of DAE1 when the missing ratio is 20%.\n",
        "df_insulation_floor_imputed_single_dedaemd, mask = insert_and_impute(x_val, x_true, x_train, target_column, 0.2, dae, num_iterations = 1)"
      ],
      "metadata": {
        "colab": {
          "base_uri": "https://localhost:8080/"
        },
        "outputId": "fead7e13-c1d6-4b6b-bbb5-930ea60480a0",
        "id": "DQqGUG9a6vcU"
      },
      "execution_count": null,
      "outputs": [
        {
          "output_type": "stream",
          "name": "stdout",
          "text": [
            "Target column loss: tf.Tensor(0.53633505, shape=(), dtype=float32)\n",
            "Loss: tf.Tensor(0.25148085, shape=(), dtype=float32)\n",
            "Imputation accuracy: tf.Tensor(0.552859, shape=(), dtype=float32)\n"
          ]
        },
        {
          "output_type": "stream",
          "name": "stderr",
          "text": [
            "<ipython-input-181-40211c73411e>:61: DeprecationWarning: In a future version, `df.iloc[:, i] = newvals` will attempt to set the values inplace instead of always setting a new array. To retain the old behavior, use either `df[df.columns[i]] = newvals` or, if columns are non-unique, `df.isetitem(i, newvals)`\n",
            "  df_copy[:] = missing_data.numpy()\n"
          ]
        }
      ]
    },
    {
      "cell_type": "code",
      "source": [
        "# Test the correct rate of the target column of DAE1 when the missing ratio is 10%.\n",
        "df_insulation_floor_imputed_single_dedaemd, mask = insert_and_impute(x_val, x_true, x_train, target_column, 0.1, dae, num_iterations = 1)"
      ],
      "metadata": {
        "colab": {
          "base_uri": "https://localhost:8080/"
        },
        "id": "qxD5yWOX6vcU",
        "outputId": "65be8f95-a292-4c0b-cdaf-a0eeacf8db5f"
      },
      "execution_count": null,
      "outputs": [
        {
          "output_type": "stream",
          "name": "stdout",
          "text": [
            "Target column loss: tf.Tensor(0.5250495, shape=(), dtype=float32)\n",
            "Loss: tf.Tensor(0.24426323, shape=(), dtype=float32)\n",
            "Imputation accuracy: tf.Tensor(0.5589804, shape=(), dtype=float32)\n"
          ]
        },
        {
          "output_type": "stream",
          "name": "stderr",
          "text": [
            "<ipython-input-181-40211c73411e>:61: DeprecationWarning: In a future version, `df.iloc[:, i] = newvals` will attempt to set the values inplace instead of always setting a new array. To retain the old behavior, use either `df[df.columns[i]] = newvals` or, if columns are non-unique, `df.isetitem(i, newvals)`\n",
            "  df_copy[:] = missing_data.numpy()\n"
          ]
        }
      ]
    },
    {
      "cell_type": "markdown",
      "source": [
        "# Ensemble Model for Quality_insulation_carpentry"
      ],
      "metadata": {
        "id": "0wr9x9Q4RAaR"
      }
    },
    {
      "cell_type": "code",
      "source": [
        "# DAE1, can handle classification and regression tasks at the same time, using leaky_relu activation function\n",
        "class DAE(tf.keras.Model):\n",
        "    def __init__(self, original_dim, categorical_dim, continuous_dim,  name=\"dae\", **kwargs):\n",
        "        super(DAE, self).__init__(name=name, **kwargs)\n",
        "        self.encoder = tf.keras.Sequential([\n",
        "            layers.Dense(original_dim, activation = 'leaky_relu'),\n",
        "            layers.Dense(16, activation = 'leaky_relu'),\n",
        "            layers.Dense(32, activation = 'leaky_relu'),\n",
        "            layers.Dense(64, activation = 'leaky_relu'),\n",
        "            layers.Dense(128, activation = 'leaky_relu'),\n",
        "            # layers.Dense(256, activation = 'leaky_relu'),\n",
        "        ])\n",
        "\n",
        "        # An encoder that deals with continuous variables,\n",
        "        # its goal is to restore the features of the fourth column and beyond\n",
        "        self.decoder_continuous = tf.keras.Sequential([\n",
        "            # layers.Dense(256, activation = 'leaky_relu'),\n",
        "            layers.Dense(128, activation = 'leaky_relu'),\n",
        "            layers.Dense(64, activation = 'leaky_relu'),\n",
        "            layers.Dense(32, activation = 'leaky_relu'),\n",
        "            layers.Dense(16, activation = 'leaky_relu'),\n",
        "            layers.Dropout(0.2),\n",
        "            layers.Dense(continuous_dim, activation = 'leaky_relu')\n",
        "        ])\n",
        "\n",
        "        # Decoder1 that deals with categorical variables,\n",
        "        # its goal is to restore the target column: Quality_insulation_lower_floor\n",
        "        self.decoder_categorical_1 = tf.keras.Sequential([\n",
        "            # layers.Dense(256, activation = 'leaky_relu'),\n",
        "            layers.Dense(128, activation = 'leaky_relu'),\n",
        "            layers.Dense(64, activation = 'leaky_relu'),\n",
        "            layers.Dense(32, activation = 'leaky_relu'),\n",
        "            layers.Dense(16, activation = 'leaky_relu'),\n",
        "            layers.Dense(8, activation = 'leaky_relu'),\n",
        "            # layers.Dropout(0.2),\n",
        "            layers.Dense(4, activation = 'softmax') # 4 classes for the first categorical variable\n",
        "        ])\n",
        "\n",
        "        # Decoder2 that deals with categorical variables,\n",
        "        # its goal is to restore the second column: Quality_insulation_envelope\n",
        "        self.decoder_categorical_2 = tf.keras.Sequential([\n",
        "            # layers.Dense(256, activation = 'leaky_relu'),\n",
        "            layers.Dense(128, activation = 'leaky_relu'),\n",
        "            layers.Dense(64, activation = 'leaky_relu'),\n",
        "            layers.Dense(32, activation = 'leaky_relu'),\n",
        "            layers.Dense(16, activation = 'leaky_relu'),\n",
        "            layers.Dense(8, activation = 'leaky_relu'),\n",
        "            # layers.Dropout(0.2),\n",
        "            layers.Dense(4, activation = 'softmax') # 4 classes for the second categorical variable\n",
        "        ])\n",
        "\n",
        "    def call(self, inputs):\n",
        "        encoded = self.encoder(inputs)\n",
        "        decoded_continuous = self.decoder_continuous(encoded)\n",
        "        decoded_categorical_1 = self.decoder_categorical_1(encoded)\n",
        "        decoded_categorical_2 = self.decoder_categorical_2(encoded)\n",
        "        decoded = tf.concat([decoded_categorical_1, decoded_categorical_2, decoded_continuous], axis=1)\n",
        "        return decoded\n"
      ],
      "metadata": {
        "id": "qAH68yuaRAaY"
      },
      "execution_count": null,
      "outputs": []
    },
    {
      "cell_type": "code",
      "source": [
        "# DAE2, can handle classification and regression tasks at the same time, using swish activation function\n",
        "class DAE2(tf.keras.Model):\n",
        "    def __init__(self, original_dim, categorical_dim, continuous_dim, name=\"dae\", **kwargs):\n",
        "        super(DAE2, self).__init__(name=name, **kwargs)\n",
        "        self.encoder = tf.keras.Sequential([\n",
        "            layers.Dense(original_dim, activation = 'swish'),\n",
        "            layers.Dense(16, activation = 'swish'),\n",
        "            layers.Dense(32, activation = 'swish'),\n",
        "            layers.Dense(64, activation = 'swish'),\n",
        "            layers.Dense(128, activation = 'swish'),\n",
        "            # layers.Dense(256, activation = 'swish'),\n",
        "        ])\n",
        "\n",
        "        # An encoder that deals with continuous variables,\n",
        "        # its goal is to restore the features of the fourth column and beyond\n",
        "        self.decoder_continuous = tf.keras.Sequential([\n",
        "            # layers.Dense(256, activation = 'swish'),\n",
        "            layers.Dense(128, activation = 'swish'),\n",
        "            layers.Dense(64, activation = 'swish'),\n",
        "            layers.Dense(32, activation = 'swish'),\n",
        "            layers.Dense(16, activation = 'swish'),\n",
        "            layers.Dropout(0.2),\n",
        "            layers.Dense(continuous_dim, activation = 'swish')\n",
        "        ])\n",
        "\n",
        "        # Decoder1 that deals with categorical variables,\n",
        "        # its goal is to restore the target column: Quality_insulation_lower_floor\n",
        "        self.decoder_categorical_1 = tf.keras.Sequential([\n",
        "            # layers.Dense(256, activation = 'swish'),\n",
        "            layers.Dense(128, activation = 'swish'),\n",
        "            layers.Dense(64, activation = 'swish'),\n",
        "            layers.Dense(32, activation = 'swish'),\n",
        "            layers.Dense(16, activation = 'swish'),\n",
        "            layers.Dense(8, activation = 'swish'),\n",
        "            # layers.Dropout(0.2),\n",
        "            layers.Dense(4, activation = 'softmax') # 4 classes for the first categorical variable\n",
        "        ])\n",
        "\n",
        "        # Decoder2 that deals with categorical variables,\n",
        "        # its goal is to restore the second column: Quality_insulation_envelope\n",
        "        self.decoder_categorical_2 = tf.keras.Sequential([\n",
        "            # layers.Dense(256, activation = 'swish'),\n",
        "            layers.Dense(128, activation = 'swish'),\n",
        "            layers.Dense(64, activation = 'swish'),\n",
        "            layers.Dense(32, activation = 'swish'),\n",
        "            layers.Dense(16, activation = 'swish'),\n",
        "            layers.Dense(8, activation = 'swish'),\n",
        "            # layers.Dropout(0.2),\n",
        "            layers.Dense(4, activation = 'softmax') # 4 classes for the second categorical variable\n",
        "        ])\n",
        "\n",
        "    def call(self, inputs):\n",
        "        encoded = self.encoder(inputs)\n",
        "        decoded_continuous = self.decoder_continuous(encoded)\n",
        "        decoded_categorical_1 = self.decoder_categorical_1(encoded)\n",
        "        decoded_categorical_2 = self.decoder_categorical_2(encoded)\n",
        "        decoded = tf.concat([decoded_categorical_1, decoded_categorical_2, decoded_continuous], axis=1)\n",
        "        return decoded\n"
      ],
      "metadata": {
        "id": "ctO6vXD5RAaY"
      },
      "execution_count": null,
      "outputs": []
    },
    {
      "cell_type": "code",
      "source": [
        "# DAE3, can handle classification and regression tasks at the same time, using elu activation function\n",
        "class DAE3(tf.keras.Model):\n",
        "    def __init__(self, original_dim, categorical_dim, continuous_dim, name=\"dae\", **kwargs):\n",
        "        super(DAE3, self).__init__(name=name, **kwargs)\n",
        "        self.encoder = tf.keras.Sequential([\n",
        "            layers.Dense(original_dim, activation = 'elu'),\n",
        "            layers.Dense(16, activation = 'elu'),\n",
        "            layers.Dense(32, activation = 'elu'),\n",
        "            layers.Dense(64, activation = 'elu'),\n",
        "            layers.Dense(128, activation = 'elu'),\n",
        "            # layers.Dense(256, activation = 'elu'),\n",
        "        ])\n",
        "\n",
        "        # An encoder that deals with continuous variables,\n",
        "        # its goal is to restore the features of the fourth column and beyond\n",
        "        self.decoder_continuous = tf.keras.Sequential([\n",
        "            # layers.Dense(256, activation = 'elu'),\n",
        "            layers.Dense(128, activation = 'elu'),\n",
        "            layers.Dense(64, activation = 'elu'),\n",
        "            layers.Dense(32, activation = 'elu'),\n",
        "            layers.Dense(16, activation = 'elu'),\n",
        "            layers.Dropout(0.2),\n",
        "            layers.Dense(continuous_dim, activation = 'elu')\n",
        "        ])\n",
        "\n",
        "        # Decoder1 that deals with categorical variables,\n",
        "        # its goal is to restore the target column: Quality_insulation_lower_floor\n",
        "        self.decoder_categorical_1 = tf.keras.Sequential([\n",
        "            # layers.Dense(256, activation = 'elu'),\n",
        "            layers.Dense(128, activation = 'elu'),\n",
        "            layers.Dense(64, activation = 'elu'),\n",
        "            layers.Dense(32, activation = 'elu'),\n",
        "            layers.Dense(16, activation = 'elu'),\n",
        "            layers.Dense(8, activation = 'elu'),\n",
        "            # layers.Dropout(0.2),\n",
        "            layers.Dense(4, activation = 'softmax') # 4 classes for the first categorical variable\n",
        "        ])\n",
        "\n",
        "        # Decoder2 that deals with categorical variables,\n",
        "        # its goal is to restore the second column: Quality_insulation_envelope\n",
        "        self.decoder_categorical_2 = tf.keras.Sequential([\n",
        "            # layers.Dense(256, activation = 'swish'),\n",
        "            layers.Dense(128, activation = 'elu'),\n",
        "            layers.Dense(64, activation = 'elu'),\n",
        "            layers.Dense(32, activation = 'elu'),\n",
        "            layers.Dense(16, activation = 'elu'),\n",
        "            layers.Dense(8, activation = 'elu'),\n",
        "            # layers.Dropout(0.2),\n",
        "            layers.Dense(4, activation = 'softmax') # 4 classes for the second categorical variable\n",
        "        ])\n",
        "\n",
        "\n",
        "    def call(self, inputs):\n",
        "        encoded = self.encoder(inputs)\n",
        "        decoded_continuous = self.decoder_continuous(encoded)\n",
        "        decoded_categorical_1 = self.decoder_categorical_1(encoded)\n",
        "        decoded_categorical_2 = self.decoder_categorical_2(encoded)\n",
        "        decoded = tf.concat([decoded_categorical_1, decoded_categorical_2, decoded_continuous], axis=1)\n",
        "        return decoded\n"
      ],
      "metadata": {
        "id": "tqKSMOiVRAaZ"
      },
      "execution_count": null,
      "outputs": []
    },
    {
      "cell_type": "code",
      "source": [
        "class MLP_Classifier(tf.keras.Model):\n",
        "    def __init__(self, num_classes):\n",
        "        super(MLP_Classifier, self).__init__()\n",
        "        self.dense1 = layers.Dense(18, activation='elu')\n",
        "        self.dense2 = layers.Dense(8, activation='elu')\n",
        "        self.dense3 = layers.Dense(4, activation='elu')\n",
        "        self.dense4 = layers.Dense(num_classes, activation='softmax')\n",
        "\n",
        "    def call(self, inputs):\n",
        "        x = self.dense1(inputs)\n",
        "        x = self.dense2(x)\n",
        "        x = self.dense3(x)\n",
        "        return self.dense4(x)"
      ],
      "metadata": {
        "id": "Qe78UBPqRAaZ"
      },
      "execution_count": null,
      "outputs": []
    },
    {
      "cell_type": "code",
      "source": [
        "# Custom loss function, used to calculate the loss of discrete variables and continuous variables\n",
        "def custom_loss(y_true, y_pred):\n",
        "    # the first 3 columns of y_true and y_pred are the categorical variables,\n",
        "    # and the rest are the continuous variables.\n",
        "    y_true_categorical_1 = y_true[:, 0]\n",
        "    y_true_categorical_2 = y_true[:, 1]\n",
        "\n",
        "    y_pred_categorical_1 = y_pred[:, :4]\n",
        "    y_pred_categorical_2 = y_pred[:, 4:8]\n",
        "    y_true_continuous = y_true[:, 2:]\n",
        "    y_pred_continuous = y_pred[:, 8:]\n",
        "\n",
        "    # Use cross entropy for the categorical variables.\n",
        "    categorical_loss_1 = tf.keras.losses.SparseCategoricalCrossentropy()(y_true_categorical_1, y_pred_categorical_1)\n",
        "    categorical_loss_2 = tf.keras.losses.SparseCategoricalCrossentropy()(y_true_categorical_2, y_pred_categorical_2)\n",
        "\n",
        "    # Use mean squared error for the continuous variables.\n",
        "    continuous_loss = tf.keras.losses.MeanSquaredError()(y_true_continuous, y_pred_continuous)\n",
        "\n",
        "    return categorical_loss_1 + categorical_loss_2  + continuous_loss"
      ],
      "metadata": {
        "id": "olGKyKd3RAaZ"
      },
      "execution_count": null,
      "outputs": []
    },
    {
      "cell_type": "code",
      "source": [
        "dae_dataset = df_insulation_carpentry_encoded_no_missing_values_outliers\n",
        "target_column = 'Quality_insulation_carpentry'"
      ],
      "metadata": {
        "id": "DGTBRWRgRAaa"
      },
      "execution_count": null,
      "outputs": []
    },
    {
      "cell_type": "code",
      "source": [
        "len(dae_dataset)"
      ],
      "metadata": {
        "colab": {
          "base_uri": "https://localhost:8080/"
        },
        "outputId": "a23dc366-be05-4bbb-e41d-5faee11611f4",
        "id": "hfTkQxX3RAaa"
      },
      "execution_count": null,
      "outputs": [
        {
          "output_type": "execute_result",
          "data": {
            "text/plain": [
              "1834730"
            ]
          },
          "metadata": {},
          "execution_count": 301
        }
      ]
    },
    {
      "cell_type": "code",
      "source": [
        "from sklearn.model_selection import train_test_split\n",
        "\n",
        "# Divide the dataset into training and validation sets\n",
        "x_train, x_val = train_test_split(dae_dataset, test_size = 0.5, random_state = 1)\n",
        "x_true = x_val.copy()"
      ],
      "metadata": {
        "id": "Rz9hz6obRAaa"
      },
      "execution_count": null,
      "outputs": []
    },
    {
      "cell_type": "code",
      "source": [
        "'''\n",
        "from sklearn.model_selection import train_test_split\n",
        "from sklearn.utils import resample\n",
        "import pandas as pd\n",
        "\n",
        "# dataset and target column\n",
        "dae_dataset = df_insulation_carpentry_encoded_no_missing_values_outliers\n",
        "target_column = 'Quality_insulation_carpentry'\n",
        "\n",
        "# Divide the dataset into training and validation sets\n",
        "x_train, x_val = train_test_split(dae_dataset, test_size = 0.5, random_state = 1)\n",
        "x_true = x_val.copy()\n",
        "\n",
        "# Identify the classes\n",
        "classes = x_train[target_column].unique()\n",
        "\n",
        "# Find the class with the smallest number of samples\n",
        "min_class_size = min(x_train[x_train[target_column] == c].shape[0] for c in classes)\n",
        "\n",
        "# Balance the classes\n",
        "x_train_balanced = pd.concat([resample(x_train[x_train[target_column] == c],\n",
        "                                       replace = False,    # sample without replacement\n",
        "                                       n_samples = min_class_size,     # to match minority class\n",
        "                                       random_state = 0) # reproducible results\n",
        "                              for c in classes])\n",
        "\n",
        "# Reset the index\n",
        "x_train_balanced.reset_index(drop=True, inplace=True)\n",
        "x_train = x_train_balanced\n",
        "'''"
      ],
      "metadata": {
        "colab": {
          "base_uri": "https://localhost:8080/"
        },
        "outputId": "b71f65d8-a5d8-4330-dac0-7b11601b5724",
        "id": "rMfZnsWfRAaa"
      },
      "execution_count": null,
      "outputs": [
        {
          "output_type": "execute_result",
          "data": {
            "text/plain": [
              "\"\\nfrom sklearn.model_selection import train_test_split\\nfrom sklearn.utils import resample\\nimport pandas as pd\\n\\n# dataset and target column\\ndae_dataset = df_insulation_carpentry_encoded_no_missing_values_outliers\\ntarget_column = 'Quality_insulation_carpentry'\\n\\n# Divide the dataset into training and validation sets\\nx_train, x_val = train_test_split(dae_dataset, test_size = 0.5, random_state = 1)\\nx_true = x_val.copy()\\n\\n# Identify the classes\\nclasses = x_train[target_column].unique()\\n\\n# Find the class with the smallest number of samples\\nmin_class_size = min(x_train[x_train[target_column] == c].shape[0] for c in classes)\\n\\n# Balance the classes\\nx_train_balanced = pd.concat([resample(x_train[x_train[target_column] == c],\\n                                       replace = False,    # sample without replacement\\n                                       n_samples = min_class_size,     # to match minority class\\n                                       random_state = 0) # reproducible results\\n                              for c in classes])\\n\\n# Reset the index\\nx_train_balanced.reset_index(drop=True, inplace=True)\\nx_train = x_train_balanced\\n\""
            ],
            "application/vnd.google.colaboratory.intrinsic+json": {
              "type": "string"
            }
          },
          "metadata": {},
          "execution_count": 303
        }
      ]
    },
    {
      "cell_type": "code",
      "source": [
        "len(x_train)"
      ],
      "metadata": {
        "colab": {
          "base_uri": "https://localhost:8080/"
        },
        "outputId": "e2b9d3b3-0c36-498e-c945-d26e2cca99ed",
        "id": "w2Ho6y4CRAaa"
      },
      "execution_count": null,
      "outputs": [
        {
          "output_type": "execute_result",
          "data": {
            "text/plain": [
              "917365"
            ]
          },
          "metadata": {},
          "execution_count": 304
        }
      ]
    },
    {
      "cell_type": "code",
      "source": [
        "# In the ensemble method, the training code of DAE1 replaces a random mask every round of training.\n",
        "\n",
        "# Convert the dataset to np format\n",
        "x_train_np = x_train.values\n",
        "\n",
        "dae = DAE(original_dim = x_train_np.shape[1], categorical_dim = 2, continuous_dim = x_train_np.shape[1] - 2)\n",
        "optimizer = tf.keras.optimizers.Adam(learning_rate = 0.001)\n",
        "dae.compile(optimizer, loss=custom_loss)\n",
        "\n",
        "# set up early stopping, but this has no effect when iterations_per_noise = 1.\n",
        "early_stop = EarlyStopping(monitor='loss', min_delta = 0.0005, patience=5)\n",
        "\n",
        "# multiple epochs with different sparsity noise\n",
        "num_epochs = 20\n",
        "iterations_per_noise = 20\n",
        "\n",
        "for epoch in range(num_epochs // iterations_per_noise):\n",
        "    # create a new array with the same shape as x_train_np but with all elements -1\n",
        "    x_train_np_minus_one = np.full(x_train_np.shape, -1)\n",
        "\n",
        "    # Create a mask, the shape of the mask is the same as x_train_np, p = masking_factor represents the probability of 1 on the mask\n",
        "    masking_factor = 0.70       # Note that due to the replacement rules in tf.where later, the masking factor here should be 1-target value\n",
        "    mask = np.random.binomial(n = 1, p = masking_factor, size = x_train_np.shape)\n",
        "\n",
        "    # Use the tf.where function to replace the value in x_train_np with -1 according to the mask to get the noise data\n",
        "    x_train_np_noisy = tf.where(mask == 1, x_train_np, x_train_np_minus_one)\n",
        "\n",
        "    for iteration in range(iterations_per_noise):\n",
        "        print(f\"Noise Epoch {epoch + 1}/{num_epochs // iterations_per_noise}, Iteration {iteration + 1}/{iterations_per_noise}\")\n",
        "        dae.fit(x_train_np_noisy, x_train_np, batch_size = 256, callbacks=[early_stop])\n"
      ],
      "metadata": {
        "colab": {
          "base_uri": "https://localhost:8080/"
        },
        "outputId": "b37d880f-24b6-4920-d469-fec8cdc171be",
        "id": "tdEl61FyRAab"
      },
      "execution_count": null,
      "outputs": [
        {
          "output_type": "stream",
          "name": "stdout",
          "text": [
            "Noise Epoch 1/1, Iteration 1/20\n",
            "3584/3584 [==============================] - 39s 10ms/step - loss: 0.8161\n",
            "Noise Epoch 1/1, Iteration 2/20\n",
            "3584/3584 [==============================] - 34s 9ms/step - loss: 0.7331\n",
            "Noise Epoch 1/1, Iteration 3/20\n",
            "3584/3584 [==============================] - 35s 10ms/step - loss: 0.7212\n",
            "Noise Epoch 1/1, Iteration 4/20\n",
            "3584/3584 [==============================] - 33s 9ms/step - loss: 0.7199\n",
            "Noise Epoch 1/1, Iteration 5/20\n",
            "3584/3584 [==============================] - 35s 10ms/step - loss: 0.7089\n",
            "Noise Epoch 1/1, Iteration 6/20\n",
            "3584/3584 [==============================] - 37s 10ms/step - loss: 0.7109\n",
            "Noise Epoch 1/1, Iteration 7/20\n",
            "3584/3584 [==============================] - 35s 10ms/step - loss: 0.7070\n",
            "Noise Epoch 1/1, Iteration 8/20\n",
            "3584/3584 [==============================] - 36s 10ms/step - loss: 0.7036\n",
            "Noise Epoch 1/1, Iteration 9/20\n",
            "3584/3584 [==============================] - 36s 10ms/step - loss: 0.7053\n",
            "Noise Epoch 1/1, Iteration 10/20\n",
            "3584/3584 [==============================] - 35s 10ms/step - loss: 0.7018\n",
            "Noise Epoch 1/1, Iteration 11/20\n",
            "3584/3584 [==============================] - 34s 9ms/step - loss: 0.7023\n",
            "Noise Epoch 1/1, Iteration 12/20\n",
            "3584/3584 [==============================] - 33s 9ms/step - loss: 0.7023\n",
            "Noise Epoch 1/1, Iteration 13/20\n",
            "3584/3584 [==============================] - 33s 9ms/step - loss: 0.6999\n",
            "Noise Epoch 1/1, Iteration 14/20\n",
            "3584/3584 [==============================] - 33s 9ms/step - loss: 0.7018\n",
            "Noise Epoch 1/1, Iteration 15/20\n",
            "3584/3584 [==============================] - 34s 9ms/step - loss: 0.7001\n",
            "Noise Epoch 1/1, Iteration 16/20\n",
            "3584/3584 [==============================] - 34s 9ms/step - loss: 0.6990\n",
            "Noise Epoch 1/1, Iteration 17/20\n",
            "3584/3584 [==============================] - 32s 9ms/step - loss: 0.6983\n",
            "Noise Epoch 1/1, Iteration 18/20\n",
            "3584/3584 [==============================] - 33s 9ms/step - loss: 0.6983\n",
            "Noise Epoch 1/1, Iteration 19/20\n",
            "3584/3584 [==============================] - 32s 9ms/step - loss: 0.6953\n",
            "Noise Epoch 1/1, Iteration 20/20\n",
            "3584/3584 [==============================] - 33s 9ms/step - loss: 0.6944\n"
          ]
        }
      ]
    },
    {
      "cell_type": "code",
      "source": [
        "# In the ensemble method, the training code of DAE2 replaces a random mask every round of training.\n",
        "\n",
        "# Convert the dataset to np format\n",
        "x_train_np = x_train.values\n",
        "\n",
        "dae2 = DAE2(original_dim=x_train_np.shape[1], categorical_dim = 2, continuous_dim = x_train_np.shape[1] - 2)\n",
        "optimizer = tf.keras.optimizers.Adam(learning_rate = 0.001)\n",
        "dae2.compile(optimizer, loss=custom_loss)\n",
        "\n",
        "# set up early stopping, but this has no effect when iterations_per_noise = 1.\n",
        "early_stop = EarlyStopping(monitor='loss', min_delta = 0.0001, patience=5)\n",
        "\n",
        "# multiple epochs with different sparsity noise\n",
        "num_epochs = 20\n",
        "iterations_per_noise = 20\n",
        "\n",
        "for epoch in range(num_epochs // iterations_per_noise):\n",
        "    # create a new array with the same shape as x_train_np but with all elements -1\n",
        "    x_train_np_minus_one = np.full(x_train_np.shape, -1)\n",
        "\n",
        "    # Create a mask, the shape of the mask is the same as x_train_np, p = masking_factor represents the probability of 1 on the mask\n",
        "    masking_factor = 0.70       # Note that due to the replacement rules in tf.where later, the masking factor here should be 1-target value\n",
        "    mask = np.random.binomial(n = 1, p = masking_factor, size = x_train_np.shape)\n",
        "\n",
        "    # Use the tf.where function to replace the value in x_train_np with -1 according to the mask to get the noise data\n",
        "    x_train_np_noisy = tf.where(mask == 1, x_train_np, x_train_np_minus_one)\n",
        "\n",
        "    for iteration in range(iterations_per_noise):\n",
        "        print(f\"Noise Epoch {epoch + 1}/{num_epochs // iterations_per_noise}, Iteration {iteration + 1}/{iterations_per_noise}\")\n",
        "        dae2.fit(x_train_np_noisy, x_train_np, batch_size = 256, callbacks=[early_stop])\n"
      ],
      "metadata": {
        "colab": {
          "base_uri": "https://localhost:8080/"
        },
        "outputId": "ffd75d46-d4c3-4d54-e8e5-728aa22a045c",
        "id": "HBntLz1oRAab"
      },
      "execution_count": null,
      "outputs": [
        {
          "output_type": "stream",
          "name": "stdout",
          "text": [
            "Noise Epoch 1/1, Iteration 1/20\n",
            "3584/3584 [==============================] - 39s 9ms/step - loss: 0.8253\n",
            "Noise Epoch 1/1, Iteration 2/20\n",
            "3584/3584 [==============================] - 35s 10ms/step - loss: 0.7462\n",
            "Noise Epoch 1/1, Iteration 3/20\n",
            "3584/3584 [==============================] - 35s 10ms/step - loss: 0.7152\n",
            "Noise Epoch 1/1, Iteration 4/20\n",
            "3584/3584 [==============================] - 34s 10ms/step - loss: 0.7067\n",
            "Noise Epoch 1/1, Iteration 5/20\n",
            "3584/3584 [==============================] - 36s 10ms/step - loss: 0.7044\n",
            "Noise Epoch 1/1, Iteration 6/20\n",
            "3584/3584 [==============================] - 34s 10ms/step - loss: 0.6972\n",
            "Noise Epoch 1/1, Iteration 7/20\n",
            "3584/3584 [==============================] - 35s 10ms/step - loss: 0.6957\n",
            "Noise Epoch 1/1, Iteration 8/20\n",
            "3584/3584 [==============================] - 36s 10ms/step - loss: 0.6936\n",
            "Noise Epoch 1/1, Iteration 9/20\n",
            "3584/3584 [==============================] - 35s 10ms/step - loss: 0.6945\n",
            "Noise Epoch 1/1, Iteration 10/20\n",
            "3584/3584 [==============================] - 35s 10ms/step - loss: 0.6913\n",
            "Noise Epoch 1/1, Iteration 11/20\n",
            "3584/3584 [==============================] - 35s 10ms/step - loss: 0.6890\n",
            "Noise Epoch 1/1, Iteration 12/20\n",
            "3584/3584 [==============================] - 35s 10ms/step - loss: 0.6858\n",
            "Noise Epoch 1/1, Iteration 13/20\n",
            "3584/3584 [==============================] - 35s 10ms/step - loss: 0.6842\n",
            "Noise Epoch 1/1, Iteration 14/20\n",
            "3584/3584 [==============================] - 35s 10ms/step - loss: 0.6826\n",
            "Noise Epoch 1/1, Iteration 15/20\n",
            "3584/3584 [==============================] - 36s 10ms/step - loss: 0.6826\n",
            "Noise Epoch 1/1, Iteration 16/20\n",
            "3584/3584 [==============================] - 35s 10ms/step - loss: 0.6807\n",
            "Noise Epoch 1/1, Iteration 17/20\n",
            "3584/3584 [==============================] - 34s 10ms/step - loss: 0.6807\n",
            "Noise Epoch 1/1, Iteration 18/20\n",
            "3584/3584 [==============================] - 35s 10ms/step - loss: 0.6798\n",
            "Noise Epoch 1/1, Iteration 19/20\n",
            "3584/3584 [==============================] - 35s 10ms/step - loss: 0.6786\n",
            "Noise Epoch 1/1, Iteration 20/20\n",
            "3584/3584 [==============================] - 35s 10ms/step - loss: 0.6791\n"
          ]
        }
      ]
    },
    {
      "cell_type": "code",
      "source": [
        "# In the ensemble method, the training code of DAE3 replaces a random mask every round of training.\n",
        "\n",
        "# Convert the dataset to np format\n",
        "x_train_np = x_train.values\n",
        "\n",
        "dae3 = DAE3(original_dim=x_train_np.shape[1], categorical_dim = 2, continuous_dim = x_train_np.shape[1] - 2)\n",
        "optimizer = tf.keras.optimizers.Adam(learning_rate = 0.001)\n",
        "dae3.compile(optimizer, loss=custom_loss)\n",
        "\n",
        "# set up early stopping, but this has no effect when iterations_per_noise = 1.\n",
        "early_stop = EarlyStopping(monitor='loss', min_delta = 0.0001, patience=5)\n",
        "\n",
        "# multiple epochs with different sparsity noise\n",
        "num_epochs = 20\n",
        "iterations_per_noise = 20\n",
        "\n",
        "for epoch in range(num_epochs // iterations_per_noise):\n",
        "    # create a new array with the same shape as x_train_np but with all elements -1\n",
        "    x_train_np_minus_one = np.full(x_train_np.shape, -1)\n",
        "\n",
        "    # Create a mask, the shape of the mask is the same as x_train_np, p = masking_factor represents the probability of 1 on the mask\n",
        "    masking_factor = 0.70       # Note that due to the replacement rules in tf.where later, the masking factor here should be 1-target value\n",
        "    mask = np.random.binomial(n = 1, p = masking_factor, size = x_train_np.shape)\n",
        "\n",
        "    # Use the tf.where function to replace the value in x_train_np with -1 according to the mask to get the noise data\n",
        "    x_train_np_noisy = tf.where(mask == 1, x_train_np, x_train_np_minus_one)\n",
        "\n",
        "    for iteration in range(iterations_per_noise):\n",
        "        print(f\"Noise Epoch {epoch + 1}/{num_epochs // iterations_per_noise}, Iteration {iteration + 1}/{iterations_per_noise}\")\n",
        "        dae3.fit(x_train_np_noisy, x_train_np, batch_size = 256, callbacks=[early_stop])\n"
      ],
      "metadata": {
        "colab": {
          "base_uri": "https://localhost:8080/"
        },
        "outputId": "1232f126-16e4-47d5-e553-8759e98140dc",
        "id": "8M_AMqK9RAab"
      },
      "execution_count": null,
      "outputs": [
        {
          "output_type": "stream",
          "name": "stdout",
          "text": [
            "Noise Epoch 1/1, Iteration 1/20\n",
            "3584/3584 [==============================] - 38s 9ms/step - loss: 0.7924\n",
            "Noise Epoch 1/1, Iteration 2/20\n",
            "3584/3584 [==============================] - 34s 9ms/step - loss: 0.7158\n",
            "Noise Epoch 1/1, Iteration 3/20\n",
            "3584/3584 [==============================] - 34s 9ms/step - loss: 0.6952\n",
            "Noise Epoch 1/1, Iteration 4/20\n",
            "3584/3584 [==============================] - 35s 10ms/step - loss: 0.6854\n",
            "Noise Epoch 1/1, Iteration 5/20\n",
            "3584/3584 [==============================] - 35s 10ms/step - loss: 0.6823\n",
            "Noise Epoch 1/1, Iteration 6/20\n",
            "3584/3584 [==============================] - 38s 10ms/step - loss: 0.6782\n",
            "Noise Epoch 1/1, Iteration 7/20\n",
            "3584/3584 [==============================] - 35s 10ms/step - loss: 0.6772\n",
            "Noise Epoch 1/1, Iteration 8/20\n",
            "3584/3584 [==============================] - 35s 10ms/step - loss: 0.6764\n",
            "Noise Epoch 1/1, Iteration 9/20\n",
            "3584/3584 [==============================] - 36s 10ms/step - loss: 0.6746\n",
            "Noise Epoch 1/1, Iteration 10/20\n",
            "3584/3584 [==============================] - 34s 10ms/step - loss: 0.6755\n",
            "Noise Epoch 1/1, Iteration 11/20\n",
            "3584/3584 [==============================] - 34s 10ms/step - loss: 0.6719\n",
            "Noise Epoch 1/1, Iteration 12/20\n",
            "3584/3584 [==============================] - 35s 10ms/step - loss: 0.6722\n",
            "Noise Epoch 1/1, Iteration 13/20\n",
            "3584/3584 [==============================] - 36s 10ms/step - loss: 0.6724\n",
            "Noise Epoch 1/1, Iteration 14/20\n",
            "3584/3584 [==============================] - 37s 10ms/step - loss: 0.6711\n",
            "Noise Epoch 1/1, Iteration 15/20\n",
            "3584/3584 [==============================] - 38s 11ms/step - loss: 0.6699\n",
            "Noise Epoch 1/1, Iteration 16/20\n",
            "3584/3584 [==============================] - 34s 10ms/step - loss: 0.6700\n",
            "Noise Epoch 1/1, Iteration 17/20\n",
            "3584/3584 [==============================] - 35s 10ms/step - loss: 0.6698\n",
            "Noise Epoch 1/1, Iteration 18/20\n",
            "3584/3584 [==============================] - 35s 10ms/step - loss: 0.6692\n",
            "Noise Epoch 1/1, Iteration 19/20\n",
            "3584/3584 [==============================] - 36s 10ms/step - loss: 0.6684\n",
            "Noise Epoch 1/1, Iteration 20/20\n",
            "3584/3584 [==============================] - 36s 10ms/step - loss: 0.6649\n"
          ]
        }
      ]
    },
    {
      "cell_type": "code",
      "source": [
        "# Save the weights\n",
        "dae.save_weights('/content/gdrive/MyDrive/Colab Notebooks/DPE_dataset/dae1_ensemble_leaky_relu_128_epoch20_insulation_carpentry_dataset1.h5')\n",
        "dae2.save_weights('/content/gdrive/MyDrive/Colab Notebooks/DPE_dataset/dae2_ensemble_swish_128_epoch20_insulation_carpentry_dataset1.h5')\n",
        "dae3.save_weights('/content/gdrive/MyDrive/Colab Notebooks/DPE_dataset/dae3_ensemble_elu_128_epoch20_insulation_carpentry_dataset1.h5')"
      ],
      "metadata": {
        "id": "3Sfz42akRAab"
      },
      "execution_count": null,
      "outputs": []
    },
    {
      "cell_type": "code",
      "source": [
        "# Use a multilayer perceptron to train a classification network as a baseline\n",
        "mlp_clf = MLP_Classifier(num_classes = 4)\n",
        "\n",
        "mlp_clf.compile(optimizer='adam',\n",
        "              loss=tf.keras.losses.SparseCategoricalCrossentropy(),\n",
        "              metrics=['accuracy'])\n",
        "\n",
        "y_train_clf = x_train.values[:, 0]  # The label is in the first column\n",
        "x_train_clf = x_train.values[:, 1:]  # The rest are features\n",
        "\n",
        "y_test_clf = x_val.values[:, 0]\n",
        "x_test_clf = x_val.values[:, 1:]\n",
        "\n",
        "# train\n",
        "mlp_clf.fit(x_train_clf, y_train_clf, epochs = 5, validation_data=(x_test_clf, y_test_clf))\n"
      ],
      "metadata": {
        "colab": {
          "base_uri": "https://localhost:8080/"
        },
        "outputId": "9cbd3688-3cab-431a-b796-4aa4512ea5d8",
        "id": "89vKuOKPRAab"
      },
      "execution_count": null,
      "outputs": [
        {
          "output_type": "stream",
          "name": "stdout",
          "text": [
            "Epoch 1/5\n",
            "28668/28668 [==============================] - 112s 4ms/step - loss: 0.9834 - accuracy: 0.5722 - val_loss: 0.9655 - val_accuracy: 0.5790\n",
            "Epoch 2/5\n",
            "28668/28668 [==============================] - 106s 4ms/step - loss: 0.9647 - accuracy: 0.5791 - val_loss: 0.9598 - val_accuracy: 0.5817\n",
            "Epoch 3/5\n",
            "28668/28668 [==============================] - 122s 4ms/step - loss: 0.9597 - accuracy: 0.5812 - val_loss: 0.9627 - val_accuracy: 0.5804\n",
            "Epoch 4/5\n",
            "28668/28668 [==============================] - 152s 5ms/step - loss: 0.9552 - accuracy: 0.5835 - val_loss: 0.9524 - val_accuracy: 0.5850\n",
            "Epoch 5/5\n",
            "28668/28668 [==============================] - 111s 4ms/step - loss: 0.9512 - accuracy: 0.5863 - val_loss: 0.9495 - val_accuracy: 0.5855\n"
          ]
        },
        {
          "output_type": "execute_result",
          "data": {
            "text/plain": [
              "<keras.callbacks.History at 0x7d4938207940>"
            ]
          },
          "metadata": {},
          "execution_count": 309
        }
      ]
    },
    {
      "cell_type": "code",
      "source": [
        "# The function of this function is to reshape the result output by DAE\n",
        "def reshape_dae_output(dae_output):\n",
        "    # the first 3 columns of y_true and y_pred are the categorical variables,\n",
        "    # and the rest are the continuous variables.\n",
        "    dae_output_categorical_1 = tf.argmax(dae_output[:, :4], 1)\n",
        "    dae_output_categorical_2 = tf.argmax(dae_output[:, 4:8], 1)\n",
        "    # dae_output_categorical_3 = tf.argmax(dae_output[:, 8:10], 1)\n",
        "    dae_output_continuous = dae_output[:, 8:]\n",
        "\n",
        "    # Cast the categorical outputs to float32 and expand dimensions\n",
        "    dae_output_categorical_1 = tf.expand_dims(tf.cast(dae_output_categorical_1, tf.float32), 1)\n",
        "    dae_output_categorical_2 = tf.expand_dims(tf.cast(dae_output_categorical_2, tf.float32), 1)\n",
        "    # dae_output_categorical_3 = tf.expand_dims(tf.cast(dae_output_categorical_3, tf.float32), 1)\n",
        "\n",
        "    reshaped_output = tf.concat([dae_output_categorical_1, dae_output_categorical_2, dae_output_continuous], axis=1)\n",
        "\n",
        "    return reshaped_output\n"
      ],
      "metadata": {
        "id": "hHgVqa6hRAac"
      },
      "execution_count": null,
      "outputs": []
    },
    {
      "cell_type": "code",
      "source": [
        "# The function of this function is to reshape the result output by DAE\n",
        "# Compared with the above function, it can output an additional mask,\n",
        "# which will be used to select the value to be re-corrected\n",
        "def reshape_dae_output_mask(dae_output):\n",
        "    # Assuming the first 3 columns of y_true and y_pred are the categorical variables,\n",
        "    # and the rest are the continuous variables.\n",
        "    dae_output_categorical_1 = tf.argmax(dae_output[:, :4], 1)\n",
        "    dae_output_categorical_2 = tf.argmax(dae_output[:, 4:8], 1)\n",
        "    # dae_output_categorical_3 = tf.argmax(dae_output[:, 8:10], 1)\n",
        "    dae_output_continuous = dae_output[:, 8:]\n",
        "    # print(dae_output[:, :4])\n",
        "\n",
        "    # Find the maximum probability in dae_output_categorical_1\n",
        "    max_prob = tf.reduce_max(dae_output[:, :4], axis=1)\n",
        "\n",
        "    # Create a mask where max_prob is less than 0.4\n",
        "    mask = tf.cast(tf.math.less(max_prob, 0.6), tf.bool)\n",
        "\n",
        "    # Expand dimensions of mask\n",
        "    mask = tf.expand_dims(mask, axis=1)\n",
        "\n",
        "    # Cast the categorical outputs to float32 and expand dimensions\n",
        "    dae_output_categorical_1 = tf.expand_dims(tf.cast(dae_output_categorical_1, tf.float32), 1)\n",
        "    dae_output_categorical_2 = tf.expand_dims(tf.cast(dae_output_categorical_2, tf.float32), 1)\n",
        "    # dae_output_categorical_3 = tf.expand_dims(tf.cast(dae_output_categorical_3, tf.float32), 1)\n",
        "\n",
        "    reshaped_output = tf.concat([dae_output_categorical_1, dae_output_categorical_2, dae_output_continuous], axis=1)\n",
        "\n",
        "    return reshaped_output, mask\n"
      ],
      "metadata": {
        "id": "Qnyqqg6tRAac"
      },
      "execution_count": null,
      "outputs": []
    },
    {
      "cell_type": "code",
      "source": [
        "# Interpolation process function. This function is used for non-ensemble methods.\n",
        "def insert_and_impute(df, df_true, train_df, column_name, fraction, vae, num_iterations = 10):\n",
        "    # Create a copy of df\n",
        "    df_copy = df.copy()\n",
        "    df_copy_np = df_copy.values\n",
        "\n",
        "    # create a new array with the same shape as x_train_np but with all elements -1\n",
        "    df_copy_np_minus_one = np.full(df_copy_np.shape, -1)\n",
        "\n",
        "    # Create a mask, the shape of the mask is the same as x_train_np, p = masking_factor represents the probability of 1 on the mask\n",
        "    masking_factor = 1 - fraction\n",
        "    mask = np.random.binomial(n = 1, p = masking_factor, size = df_copy_np.shape)\n",
        "\n",
        "    # Use the tf.where function to replace the value in x_train_np with -1 according to the mask to get the noise data\n",
        "    df_copy_np_noisy = tf.where(mask, df_copy_np, df_copy_np_minus_one)\n",
        "    df_copy_np_noisy = tf.cast(df_copy_np_noisy, tf.float32)\n",
        "\n",
        "    # print(df_copy_np_noisy)\n",
        "\n",
        "    # Convert dataframe to input format accepted by vae\n",
        "    missing_data = tf.Variable(df_copy_np_noisy, dtype = tf.float32, trainable=True)\n",
        "    true_data = tf.Variable(df_true.values.astype('float32'), trainable = True)\n",
        "\n",
        "    # Convert numpy mask to tensorflow tensor\n",
        "    mask = tf.convert_to_tensor(mask, dtype = tf.bool)\n",
        "    mask = np.logical_not(mask)\n",
        "\n",
        "    # Get the column index for the loss calculation\n",
        "    column_index = df.columns.get_loc(column_name)\n",
        "\n",
        "    # Iterate num_iterations rounds to impute missing values\n",
        "    for i in range(num_iterations):\n",
        "        # Get imputed data\n",
        "        imputed_data = vae(missing_data)\n",
        "        imputed_data = reshape_dae_output(imputed_data)\n",
        "\n",
        "        # RMSE on specified column\n",
        "        # loss = tf.sqrt(tf.reduce_mean(tf.square((imputed_data[:, column_index] - true_data[:, column_index])[mask[:, column_index]])))\n",
        "        # MAE on specified column\n",
        "        loss = tf.reduce_mean(tf.abs(imputed_data[:, column_index] - true_data[:, column_index])[mask[:, column_index]])\n",
        "        print('Target column loss:', loss)\n",
        "\n",
        "        loss = tf.reduce_mean(tf.abs(imputed_data - true_data)[mask])\n",
        "        print('Loss:', loss)\n",
        "\n",
        "        # Apply mask to imputed and true data\n",
        "        imputed_data_masked = tf.boolean_mask(imputed_data[:, column_index], mask[:, column_index])\n",
        "        true_data_masked = tf.boolean_mask(true_data[:, column_index], mask[:, column_index])\n",
        "\n",
        "        # Create a mask for correct imputations\n",
        "        accuracy_mask = (tf.abs(imputed_data_masked - true_data_masked) < 0.1)\n",
        "\n",
        "        # Calculate accuracy by dividing the number of correct imputations by the total number of imputations\n",
        "        accuracy = tf.reduce_mean(tf.cast(accuracy_mask, tf.float32))\n",
        "\n",
        "        print('Imputation accuracy:', accuracy)\n",
        "\n",
        "        # Fill missing parts of missing_data with imputed_data\n",
        "        missing_data.assign(tf.where(mask, imputed_data, missing_data))\n",
        "\n",
        "    df_copy[:] = missing_data.numpy()\n",
        "\n",
        "    return df_copy, mask\n"
      ],
      "metadata": {
        "id": "DI4ZgEe0RAac"
      },
      "execution_count": null,
      "outputs": []
    },
    {
      "cell_type": "code",
      "source": [
        "# Interpolation process function. This function is used for ensemble methods.\n",
        "def insert_and_impute_ensemble(df, df_true, train_df, column_name, fraction, dae1, dae2, dae3, num_iterations = 10):\n",
        "    # Create a copy of df\n",
        "    df_copy = df.copy()\n",
        "    df_copy_np = df_copy.values\n",
        "\n",
        "    # create a new array with the same shape as x_train_np but with all elements -1\n",
        "    df_copy_np_minus_one = np.full(df_copy_np.shape, -1)\n",
        "\n",
        "    # Create a mask, the shape of the mask is the same as x_train_np, p = masking_factor represents the probability of 1 on the mask\n",
        "    masking_factor = 1 - fraction\n",
        "    mask = np.random.binomial(n = 1, p = masking_factor, size = df_copy_np.shape)\n",
        "\n",
        "    # Use the tf.where function to replace the value in x_train_np with -1 according to the mask to get the noise data\n",
        "    df_copy_np_noisy = tf.where(mask, df_copy_np, df_copy_np_minus_one)\n",
        "    df_copy_np_noisy = tf.cast(df_copy_np_noisy, tf.float32)\n",
        "\n",
        "    # Convert dataframe to input format accepted by vae\n",
        "    missing_data = tf.Variable(df_copy_np_noisy, dtype = tf.float32, trainable=True)\n",
        "    true_data = tf.Variable(df_true.values.astype('float32'), trainable = True)\n",
        "\n",
        "    # Convert numpy mask to tensorflow tensor\n",
        "    mask = tf.convert_to_tensor(mask, dtype = tf.bool)\n",
        "    mask = np.logical_not(mask)\n",
        "\n",
        "    # Get the column index for the loss calculation\n",
        "    column_index = df.columns.get_loc(column_name)\n",
        "\n",
        "    # Iterate num_iterations rounds to impute missing values\n",
        "    for i in range(num_iterations):\n",
        "        # Get imputed data\n",
        "        imputed_data1 = dae1(missing_data)\n",
        "        imputed_data2 = dae2(missing_data)\n",
        "        imputed_data3 = dae3(missing_data)\n",
        "\n",
        "        # ensemble the 3 daes' output\n",
        "        imputed_data = tf.reduce_mean([imputed_data1, imputed_data2, imputed_data3], axis=0)\n",
        "        imputed_data = reshape_dae_output(imputed_data)\n",
        "\n",
        "        # RMSE on specified column\n",
        "        # loss = tf.sqrt(tf.reduce_mean(tf.square((imputed_data[:, column_index] - true_data[:, column_index])[mask[:, column_index]])))\n",
        "        # MAE on specified column\n",
        "        loss = tf.reduce_mean(tf.abs(imputed_data[:, column_index] - true_data[:, column_index])[mask[:, column_index]])\n",
        "        print('Target column loss:', loss)\n",
        "\n",
        "        loss = tf.reduce_mean(tf.abs(imputed_data - true_data)[mask])\n",
        "        print('Loss:', loss)\n",
        "\n",
        "        # Apply mask to imputed and true data\n",
        "        imputed_data_masked = tf.boolean_mask(imputed_data[:, column_index], mask[:, column_index])\n",
        "        true_data_masked = tf.boolean_mask(true_data[:, column_index], mask[:, column_index])\n",
        "\n",
        "        # Create a mask for correct imputations\n",
        "        # accuracy_mask = (tf.abs(imputed_data_masked - true_data_masked) < 0.1) | ((imputed_data_masked < -0.1) & (true_data_masked < 0))\n",
        "        accuracy_mask = (tf.abs(imputed_data_masked - true_data_masked) < 0.1)\n",
        "\n",
        "        # Calculate accuracy by dividing the number of correct imputations by the total number of imputations\n",
        "        accuracy = tf.reduce_mean(tf.cast(accuracy_mask, tf.float32))\n",
        "\n",
        "        print('Imputation accuracy:', accuracy)\n",
        "\n",
        "        # Fill missing parts of missing_data with imputed_data\n",
        "        missing_data.assign(tf.where(mask, imputed_data, missing_data))\n",
        "\n",
        "    df_copy[:] = missing_data.numpy()\n",
        "\n",
        "    return df_copy, mask\n"
      ],
      "metadata": {
        "id": "HWPkAh3mRAac"
      },
      "execution_count": null,
      "outputs": []
    },
    {
      "cell_type": "code",
      "source": [
        "# target_column = 'Primary_ECS_Consumption'\n",
        "target_column = 'Quality_insulation_carpentry'"
      ],
      "metadata": {
        "id": "85HM7sVgRAad"
      },
      "execution_count": null,
      "outputs": []
    },
    {
      "cell_type": "code",
      "source": [
        "# Test the correct rate of the target column of DAE1 when the missing ratio is 20%.\n",
        "df_insulation_floor_imputed, mask = insert_and_impute(x_val, x_true, x_train, target_column, 0.2, dae, num_iterations = 1)"
      ],
      "metadata": {
        "colab": {
          "base_uri": "https://localhost:8080/"
        },
        "outputId": "98ff9f28-7347-4183-f0e5-b2e9904cfe85",
        "id": "zC_9kld9RAad"
      },
      "execution_count": null,
      "outputs": [
        {
          "output_type": "stream",
          "name": "stdout",
          "text": [
            "Target column loss: tf.Tensor(0.58399785, shape=(), dtype=float32)\n",
            "Loss: tf.Tensor(0.2708332, shape=(), dtype=float32)\n",
            "Imputation accuracy: tf.Tensor(0.52710056, shape=(), dtype=float32)\n"
          ]
        },
        {
          "output_type": "stream",
          "name": "stderr",
          "text": [
            "<ipython-input-312-40211c73411e>:61: DeprecationWarning: In a future version, `df.iloc[:, i] = newvals` will attempt to set the values inplace instead of always setting a new array. To retain the old behavior, use either `df[df.columns[i]] = newvals` or, if columns are non-unique, `df.isetitem(i, newvals)`\n",
            "  df_copy[:] = missing_data.numpy()\n"
          ]
        }
      ]
    },
    {
      "cell_type": "code",
      "source": [
        "# Test the correct rate of the target column of DAE2 when the missing ratio is 20%.\n",
        "df_insulation_floor_imputed_2, mask_2 = insert_and_impute(x_val, x_true, x_train, target_column, 0.2, dae2, num_iterations = 1)"
      ],
      "metadata": {
        "colab": {
          "base_uri": "https://localhost:8080/"
        },
        "outputId": "6536dde8-647e-40a3-ba66-d6092696fbe0",
        "id": "DAca3Uz1RAad"
      },
      "execution_count": null,
      "outputs": [
        {
          "output_type": "stream",
          "name": "stdout",
          "text": [
            "Target column loss: tf.Tensor(0.5266811, shape=(), dtype=float32)\n",
            "Loss: tf.Tensor(0.2574249, shape=(), dtype=float32)\n",
            "Imputation accuracy: tf.Tensor(0.5587225, shape=(), dtype=float32)\n"
          ]
        },
        {
          "output_type": "stream",
          "name": "stderr",
          "text": [
            "<ipython-input-312-40211c73411e>:61: DeprecationWarning: In a future version, `df.iloc[:, i] = newvals` will attempt to set the values inplace instead of always setting a new array. To retain the old behavior, use either `df[df.columns[i]] = newvals` or, if columns are non-unique, `df.isetitem(i, newvals)`\n",
            "  df_copy[:] = missing_data.numpy()\n"
          ]
        }
      ]
    },
    {
      "cell_type": "code",
      "source": [
        "# Test the correct rate of the target column of DAE3 when the missing ratio is 20%.\n",
        "df_insulation_floor_imputed_3, mask_3 = insert_and_impute(x_val, x_true, x_train, target_column, 0.2, dae3, num_iterations = 1)"
      ],
      "metadata": {
        "colab": {
          "base_uri": "https://localhost:8080/"
        },
        "outputId": "647b26ef-ece6-4fa6-83f6-faa38ed37e92",
        "id": "H_FcGZOqRAad"
      },
      "execution_count": null,
      "outputs": [
        {
          "output_type": "stream",
          "name": "stdout",
          "text": [
            "Target column loss: tf.Tensor(0.5294401, shape=(), dtype=float32)\n",
            "Loss: tf.Tensor(0.25181288, shape=(), dtype=float32)\n",
            "Imputation accuracy: tf.Tensor(0.56230205, shape=(), dtype=float32)\n"
          ]
        },
        {
          "output_type": "stream",
          "name": "stderr",
          "text": [
            "<ipython-input-312-40211c73411e>:61: DeprecationWarning: In a future version, `df.iloc[:, i] = newvals` will attempt to set the values inplace instead of always setting a new array. To retain the old behavior, use either `df[df.columns[i]] = newvals` or, if columns are non-unique, `df.isetitem(i, newvals)`\n",
            "  df_copy[:] = missing_data.numpy()\n"
          ]
        }
      ]
    },
    {
      "cell_type": "code",
      "source": [
        "# Test the correct rate of the target column of DAE3 when the missing ratio is 10%.\n",
        "df_insulation_floor_imputed_3, mask_3 = insert_and_impute(x_val, x_true, x_train, target_column, 0.1, dae3, num_iterations = 1)"
      ],
      "metadata": {
        "colab": {
          "base_uri": "https://localhost:8080/"
        },
        "outputId": "85939e3a-b347-463e-dd01-a95c2d446ffb",
        "id": "KTS1g7wKRAad"
      },
      "execution_count": null,
      "outputs": [
        {
          "output_type": "stream",
          "name": "stdout",
          "text": [
            "Target column loss: tf.Tensor(0.5027998, shape=(), dtype=float32)\n",
            "Loss: tf.Tensor(0.24378192, shape=(), dtype=float32)\n",
            "Imputation accuracy: tf.Tensor(0.580353, shape=(), dtype=float32)\n"
          ]
        },
        {
          "output_type": "stream",
          "name": "stderr",
          "text": [
            "<ipython-input-312-40211c73411e>:61: DeprecationWarning: In a future version, `df.iloc[:, i] = newvals` will attempt to set the values inplace instead of always setting a new array. To retain the old behavior, use either `df[df.columns[i]] = newvals` or, if columns are non-unique, `df.isetitem(i, newvals)`\n",
            "  df_copy[:] = missing_data.numpy()\n"
          ]
        }
      ]
    },
    {
      "cell_type": "code",
      "source": [
        "# Test the correct rate of the target column of ensemble when the missing ratio is 20%.\n",
        "df_insulation_floor_imputed_ensemble, mask_ensemble = insert_and_impute_ensemble(x_val, x_true, x_train, target_column, 0.2, dae, dae2, dae3, num_iterations = 1)"
      ],
      "metadata": {
        "colab": {
          "base_uri": "https://localhost:8080/"
        },
        "outputId": "24274b29-2e69-4cc5-b2bb-a3b9e8cbfdc0",
        "id": "tJ2-C5CRRAae"
      },
      "execution_count": null,
      "outputs": [
        {
          "output_type": "stream",
          "name": "stdout",
          "text": [
            "Target column loss: tf.Tensor(0.5293322, shape=(), dtype=float32)\n",
            "Loss: tf.Tensor(0.25438, shape=(), dtype=float32)\n",
            "Imputation accuracy: tf.Tensor(0.5621441, shape=(), dtype=float32)\n"
          ]
        },
        {
          "output_type": "stream",
          "name": "stderr",
          "text": [
            "<ipython-input-313-7e8a75cdda51>:65: DeprecationWarning: In a future version, `df.iloc[:, i] = newvals` will attempt to set the values inplace instead of always setting a new array. To retain the old behavior, use either `df[df.columns[i]] = newvals` or, if columns are non-unique, `df.isetitem(i, newvals)`\n",
            "  df_copy[:] = missing_data.numpy()\n"
          ]
        }
      ]
    },
    {
      "cell_type": "code",
      "source": [
        "# Test the correct rate of the target column of ensemble when the missing ratio is 10%.\n",
        "df_insulation_floor_imputed_ensemble, mask_ensemble = insert_and_impute_ensemble(x_val, x_true, x_train, target_column, 0.1, dae, dae2, dae3, num_iterations = 1)"
      ],
      "metadata": {
        "colab": {
          "base_uri": "https://localhost:8080/"
        },
        "outputId": "3e02cbb9-b2bb-4f4e-904d-1727b2b4cd2e",
        "id": "Ebug1P1ERAae"
      },
      "execution_count": null,
      "outputs": [
        {
          "output_type": "stream",
          "name": "stdout",
          "text": [
            "Target column loss: tf.Tensor(0.50642556, shape=(), dtype=float32)\n",
            "Loss: tf.Tensor(0.24710509, shape=(), dtype=float32)\n",
            "Imputation accuracy: tf.Tensor(0.57637095, shape=(), dtype=float32)\n"
          ]
        },
        {
          "output_type": "stream",
          "name": "stderr",
          "text": [
            "<ipython-input-313-7e8a75cdda51>:65: DeprecationWarning: In a future version, `df.iloc[:, i] = newvals` will attempt to set the values inplace instead of always setting a new array. To retain the old behavior, use either `df[df.columns[i]] = newvals` or, if columns are non-unique, `df.isetitem(i, newvals)`\n",
            "  df_copy[:] = missing_data.numpy()\n"
          ]
        }
      ]
    },
    {
      "cell_type": "code",
      "source": [
        "def draw_histogram_with_mask(df, column, mask, bins=10):\n",
        "    \"\"\"\n",
        "     Plot a histogram of the specified columns of the DataFrame while filtering using mask.\n",
        "\n",
        "     parameter:\n",
        "     df : pandas DataFrame\n",
        "     column : string, column name\n",
        "     mask : Series or array-like, Boolean mask\n",
        "     bins : int, the number of bins in the histogram\n",
        "    \"\"\"\n",
        "\n",
        "    # Apply mask to filter data\n",
        "    df_masked = df[mask]\n",
        "\n",
        "    # draw histogram\n",
        "    plt.figure(figsize=(10, 6))\n",
        "    df.loc[mask[:, df.columns.get_loc(column)], column].hist(bins=bins)\n",
        "\n",
        "    plt.title(f'Histgram {column}(masked))')\n",
        "    plt.xlabel(column)\n",
        "    plt.ylabel('Freq')\n",
        "    plt.grid(False)\n",
        "    plt.show()\n"
      ],
      "metadata": {
        "id": "tvlRNXM7RAae"
      },
      "execution_count": null,
      "outputs": []
    },
    {
      "cell_type": "code",
      "source": [
        "df_insulation_floor_imputed.loc[mask[:, df_insulation_floor_imputed.columns.get_loc('Quality_insulation_carpentry')], 'Quality_insulation_carpentry']"
      ],
      "metadata": {
        "colab": {
          "base_uri": "https://localhost:8080/"
        },
        "outputId": "220fde83-f493-4ad3-9060-26b8ea63e150",
        "id": "1eLzmG_KRAae"
      },
      "execution_count": null,
      "outputs": [
        {
          "output_type": "execute_result",
          "data": {
            "text/plain": [
              "3376943    1.0\n",
              "900431     1.0\n",
              "3085921    1.0\n",
              "685868     1.0\n",
              "1015998    1.0\n",
              "          ... \n",
              "1364864    1.0\n",
              "30753      1.0\n",
              "1042681    1.0\n",
              "818883     1.0\n",
              "241886     1.0\n",
              "Name: Quality_insulation_carpentry, Length: 183963, dtype: float64"
            ]
          },
          "metadata": {},
          "execution_count": 322
        }
      ]
    },
    {
      "cell_type": "code",
      "source": [
        "draw_histogram_with_mask(df_insulation_floor_imputed, target_column, mask, bins=10)"
      ],
      "metadata": {
        "colab": {
          "base_uri": "https://localhost:8080/"
        },
        "outputId": "4e3b7cfe-20b4-4f6b-9bb0-7650c0f1614e",
        "id": "T5cgw-T4RAae"
      },
      "execution_count": null,
      "outputs": [
        {
          "output_type": "display_data",
          "data": {
            "text/plain": [
              "<Figure size 1000x600 with 1 Axes>"
            ],
            "image/png": "[encoded data removed]"
          },
          "metadata": {}
        }
      ]
    }
  ]
}