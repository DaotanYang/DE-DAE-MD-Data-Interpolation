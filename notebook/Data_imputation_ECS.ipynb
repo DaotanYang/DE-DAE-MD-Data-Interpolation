{
  "nbformat": 4,
  "nbformat_minor": 0,
  "metadata": {
    "colab": {
      "provenance": [],
      "collapsed_sections": [
        "BxDzjTAFLHyI",
        "j6p1fQz7I4DN",
        "H0Bp84uGIevP",
        "7qsJ8vhj2eaL",
        "rSJ2Y9at5vyU",
        "6pVpaumh7I8k",
        "N9yERijJ63lJ",
        "yS2P0C-ZRY4H"
      ]
    },
    "kernelspec": {
      "name": "python3",
      "display_name": "Python 3"
    },
    "language_info": {
      "name": "python"
    }
  },
  "cells": [
    {
      "cell_type": "markdown",
      "source": [
        "# Data Load and EDA"
      ],
      "metadata": {
        "id": "BxDzjTAFLHyI"
      }
    },
    {
      "cell_type": "markdown",
      "source": [
        "### Data load"
      ],
      "metadata": {
        "id": "j6p1fQz7I4DN"
      }
    },
    {
      "cell_type": "code",
      "execution_count": null,
      "metadata": {
        "id": "n4CDaw2od_Ck"
      },
      "outputs": [],
      "source": [
        "import pandas as pd\n",
        "import numpy as np\n",
        "import seaborn as sns\n",
        "import matplotlib.pyplot as plt\n",
        "\n",
        "import tensorflow as tf\n",
        "from tensorflow.keras import layers\n",
        "from sklearn.preprocessing import StandardScaler\n",
        "from sklearn.preprocessing import MinMaxScaler"
      ]
    },
    {
      "cell_type": "code",
      "source": [
        "import tensorflow as tf\n",
        "from tensorflow.keras import layers\n",
        "from sklearn.preprocessing import StandardScaler\n",
        "from tensorflow.keras.callbacks import EarlyStopping\n",
        "import numpy as np"
      ],
      "metadata": {
        "id": "9mENuuZiAzmi"
      },
      "execution_count": null,
      "outputs": []
    },
    {
      "cell_type": "code",
      "execution_count": null,
      "metadata": {
        "colab": {
          "base_uri": "https://localhost:8080/"
        },
        "id": "tibJW0jGeLVi",
        "outputId": "c698cb3e-8ece-440e-921f-0e1fabe89303"
      },
      "outputs": [
        {
          "output_type": "stream",
          "name": "stdout",
          "text": [
            "Mounted at /content/gdrive\n"
          ]
        }
      ],
      "source": [
        "from google.colab import drive\n",
        "drive.mount('/content/gdrive')"
      ]
    },
    {
      "cell_type": "markdown",
      "source": [
        "Load the data set. In order not to exceed my RAM limit, I only loaded some columns, and I selected all the features under the Isolation category.\n",
        "\n",
        "First of all, I want to explain that I did not choose Conso_ECS_é_primaire as follows:\n",
        "\n",
        "\n",
        "1. The missing value ratio is very low, about 9.7e-7. Compared with other features, the missing value ratio of this feature is too low.\n",
        "2. When I was doing data analysis, I found that the correlation between Conso_ECS_é_primaire and several other features is not high, and the introduction of Conso_ECS_é_primaire will have the effect of introducing noise instead. Therefore, I plan to perform separate data imputation on the Conso_ECS_é_primaire feature.\n"
      ],
      "metadata": {
        "id": "Ss2vBWuopZ95"
      }
    },
    {
      "cell_type": "code",
      "execution_count": null,
      "metadata": {
        "id": "EcQxlYreeOdl"
      },
      "outputs": [],
      "source": [
        "df_DPE_dataset = pd.read_csv('/content/gdrive/MyDrive/Colab Notebooks/DPE_dataset/dpe-v2-logements-existants.csv',\n",
        "                usecols = ['Conso_ECS_é_primaire',\n",
        "                      'Qualité_isolation_plancher_bas',\n",
        "                      'Qualité_isolation_murs',\n",
        "                      'Qualité_isolation_menuiseries',\n",
        "                      'Qualité_isolation_plancher_haut_toit_terrase',\n",
        "                      'Conso_5_usages_é_primaire',\n",
        "                      'Conso_ECS_é_finale',\n",
        "                      'Type_énergie_principale_ECS',\n",
        "                      'Conso_é_finale_générateur_ECS_n°1',\n",
        "                      'Conso_é_finale_générateur_ECS_n°2',\n",
        "                      'Isolation_toiture_(0/1)',\n",
        "                      'Deperditions_planchers_bas',\n",
        "                      'Qualité_isolation_enveloppe',\n",
        "                      'Déperditions_murs',\n",
        "                      'Déperditions_portes',\n",
        "                      'Deperditions_baies_vitrées',\n",
        "                      'Deperditions_planchers_hauts',\n",
        "                      'Qualité_isolation_plancher_haut_comble_aménagé',\n",
        "                      'Qualité_isolation_plancher_haut_comble_perdu',\n",
        "                      'Année_construction',\n",
        "                      'Surface_habitable_immeuble',\n",
        "                      'Surface_habitable_logement',\n",
        "                      'Code_postal_(BAN)',\n",
        "                      ],\n",
        "                sep = ',')"
      ]
    },
    {
      "cell_type": "markdown",
      "source": [
        "I used a dictionary to map the column names of interest to their corresponding English names. And added Chinese notes (Chinese is my mother tongue)"
      ],
      "metadata": {
        "id": "LMD0YriHKjql"
      }
    },
    {
      "cell_type": "code",
      "source": [
        "# Column name mapping dictionary\n",
        "name_dict = {\n",
        "    'Conso_ECS_é_primaire': 'Primary_ECS_Consumption',    # 初级能源消耗系统（ECS）消耗\n",
        "    'Qualité_isolation_plancher_bas': 'Quality_insulation_lower_floor', # 低层地板绝缘质量\n",
        "    'Qualité_isolation_murs': 'Quality_insulation_walls',   # 墙体绝缘质量\n",
        "    'Qualité_isolation_menuiseries': 'Quality_insulation_carpentry',    # 木工绝缘质量\n",
        "    'Qualité_isolation_plancher_haut_toit_terrase': 'Quality_insulation_upper_floor_roof_terrace',  # 顶楼地板及屋顶露台绝缘质量\n",
        "    'Conso_5_usages_é_primaire': 'Primary_5_usages_consumption',    # 初级能源5用途消耗\n",
        "    'Conso_ECS_é_finale': 'Final_ECS_Consumption',  # 最终能源消耗系统（ECS）消耗\n",
        "    'Type_énergie_principale_ECS': 'Type_main_energy_ECS',  # 主要能源消耗系统（ECS）类型\n",
        "    'Conso_é_finale_générateur_ECS_n°1': 'Final_consumption_ECS_generator_no1', # 能源消耗系统（ECS）发电机1最终消耗\n",
        "    'Conso_é_finale_générateur_ECS_n°2': 'Final_consumption_ECS_generator_no2', # 能源消耗系统（ECS）发电机2最终消耗\n",
        "    'Isolation_toiture_(0/1)': 'Roof_insulation_(0/1)',     # 屋顶绝缘（0/1）\n",
        "    'Deperditions_planchers_bas': 'Losses_lower_floors',    # 底层楼板热量损失\n",
        "    'Qualité_isolation_enveloppe': 'Quality_insulation_envelope',   # 围护结构绝缘质量\n",
        "    'Déperditions_murs': 'Losses_walls',    # 墙体热量损失\n",
        "    'Déperditions_portes': 'Losses_doors',  # 门的热量损失\n",
        "    'Deperditions_baies_vitrées': 'Losses_glazed_bays',     # 玻璃窗户热量损失\n",
        "    'Deperditions_planchers_hauts': 'Losses_upper_floors',      # 上层楼板热量损失\n",
        "    'Qualité_isolation_plancher_haut_comble_aménagé': 'Quality_insulation_upper_floor_arranged_attic',  # 整理过的阁楼上层楼板绝缘质量\n",
        "    'Qualité_isolation_plancher_haut_comble_perdu': 'Quality_insulation_upper_floor_lost_attic',    # 丢失的阁楼上层楼板绝缘质量\n",
        "    'Année_construction': 'Year_construction',  # 建筑年份\n",
        "    'Surface_habitable_immeuble': 'Living_area_building',   # 建筑物的居住面积\n",
        "    'Surface_habitable_logement': 'Living_area_housing',    # 住房的居住面积\n",
        "    'Code_postal_(BAN)': 'Postal_code_(BAN)',  # 邮政编码（BAN）\n",
        "\n",
        "}\n",
        "\n",
        "# 使用rename方法重命名列\n",
        "df_DPE_dataset.rename(columns = name_dict, inplace = True)"
      ],
      "metadata": {
        "id": "_2jWAzVk1S8m"
      },
      "execution_count": null,
      "outputs": []
    },
    {
      "cell_type": "code",
      "execution_count": null,
      "metadata": {
        "colab": {
          "base_uri": "https://localhost:8080/"
        },
        "id": "L0I-zzJ8ekhe",
        "outputId": "dbb48681-0e84-4ca1-88e6-aa6cdd69b115"
      },
      "outputs": [
        {
          "output_type": "execute_result",
          "data": {
            "text/plain": [
              "         Year_construction  Living_area_building  Living_area_housing  \\\n",
              "0                   1945.0                 220.8                220.8   \n",
              "1                   1948.0                   NaN                 70.6   \n",
              "2                   1948.0                2200.0                109.0   \n",
              "3                   1976.0                3292.3                 47.5   \n",
              "4                   1948.0                   NaN                 36.4   \n",
              "...                    ...                   ...                  ...   \n",
              "4277638             2013.0                  46.4                 46.4   \n",
              "4277639             1960.0                3870.0                 59.0   \n",
              "4277640             1945.0                   NaN                 70.0   \n",
              "4277641             2014.0                1327.0                 49.7   \n",
              "4277642             1961.0                  70.0                 70.0   \n",
              "\n",
              "         Postal_code_(BAN)  Final_ECS_Consumption  \\\n",
              "0                  25000.0                 4463.6   \n",
              "1                  13016.0                 4522.1   \n",
              "2                  93100.0                 7035.3   \n",
              "3                  44800.0                 2576.8   \n",
              "4                  92330.0                 1858.2   \n",
              "...                    ...                    ...   \n",
              "4277638            44240.0                 2486.1   \n",
              "4277639            25000.0                 2771.0   \n",
              "4277640            44530.0                 1864.7   \n",
              "4277641            51100.0                 1205.3   \n",
              "4277642            91330.0                 2705.7   \n",
              "\n",
              "         Primary_5_usages_consumption  Primary_ECS_Consumption  \\\n",
              "0                             41345.2                   6600.7   \n",
              "1                             15403.7                   4522.1   \n",
              "2                             63792.5                  22815.4   \n",
              "3                              8334.7                   3633.3   \n",
              "4                              8857.1                   1858.2   \n",
              "...                               ...                      ...   \n",
              "4277638                        4365.9                   2486.1   \n",
              "4277639                       18778.5                   3907.1   \n",
              "4277640                       36347.2                   4288.8   \n",
              "4277641                        3842.7                   1699.5   \n",
              "4277642                       14378.6                   2705.7   \n",
              "\n",
              "         Roof_insulation_(0/1)  Losses_glazed_bays  Losses_walls  ...  \\\n",
              "0                          0.0                91.3         191.0  ...   \n",
              "1                          NaN                16.1         134.9  ...   \n",
              "2                          NaN               764.5        5368.1  ...   \n",
              "3                          NaN                 NaN           NaN  ...   \n",
              "4                          NaN                40.2          27.4  ...   \n",
              "...                        ...                 ...           ...  ...   \n",
              "4277638                    1.0                 7.9           4.3  ...   \n",
              "4277639                    NaN              2362.8        5110.1  ...   \n",
              "4277640                    1.0                35.5          92.5  ...   \n",
              "4277641                    NaN               373.2         208.9  ...   \n",
              "4277642                    0.0                22.4          88.6  ...   \n",
              "\n",
              "         Quality_insulation_envelope  Quality_insulation_carpentry  \\\n",
              "0                       insuffisante                         bonne   \n",
              "1                       insuffisante                         bonne   \n",
              "2                       insuffisante                       moyenne   \n",
              "3                       insuffisante                       moyenne   \n",
              "4                       insuffisante                  insuffisante   \n",
              "...                              ...                           ...   \n",
              "4277638                   très bonne                    très bonne   \n",
              "4277639                 insuffisante                       moyenne   \n",
              "4277640                 insuffisante                  insuffisante   \n",
              "4277641                        bonne                    très bonne   \n",
              "4277642                 insuffisante                    très bonne   \n",
              "\n",
              "         Quality_insulation_walls Quality_insulation_lower_floor  \\\n",
              "0                    insuffisante                     très bonne   \n",
              "1                    insuffisante                     très bonne   \n",
              "2                    insuffisante                        moyenne   \n",
              "3                    insuffisante                   insuffisante   \n",
              "4                    insuffisante                     très bonne   \n",
              "...                           ...                            ...   \n",
              "4277638              insuffisante                     très bonne   \n",
              "4277639              insuffisante                   insuffisante   \n",
              "4277640              insuffisante                        moyenne   \n",
              "4277641                très bonne                     très bonne   \n",
              "4277642              insuffisante                     très bonne   \n",
              "\n",
              "        Quality_insulation_upper_floor_roof_terrace  \\\n",
              "0                                               NaN   \n",
              "1                                               NaN   \n",
              "2                                               NaN   \n",
              "3                                               NaN   \n",
              "4                                               NaN   \n",
              "...                                             ...   \n",
              "4277638                                  très bonne   \n",
              "4277639                                         NaN   \n",
              "4277640                                         NaN   \n",
              "4277641                                         NaN   \n",
              "4277642                                         NaN   \n",
              "\n",
              "        Quality_insulation_upper_floor_arranged_attic  \\\n",
              "0                                                 NaN   \n",
              "1                                                 NaN   \n",
              "2                                                 NaN   \n",
              "3                                                 NaN   \n",
              "4                                                 NaN   \n",
              "...                                               ...   \n",
              "4277638                                           NaN   \n",
              "4277639                                           NaN   \n",
              "4277640                                           NaN   \n",
              "4277641                                           NaN   \n",
              "4277642                                           NaN   \n",
              "\n",
              "        Quality_insulation_upper_floor_lost_attic Type_main_energy_ECS  \\\n",
              "0                                    insuffisante          Gaz naturel   \n",
              "1                                      très bonne          Gaz naturel   \n",
              "2                                             NaN          Électricité   \n",
              "3                                             NaN                  NaN   \n",
              "4                                      très bonne          Gaz naturel   \n",
              "...                                           ...                  ...   \n",
              "4277638                                       NaN          Gaz naturel   \n",
              "4277639                                       NaN          Gaz naturel   \n",
              "4277640                                     bonne          Électricité   \n",
              "4277641                                       NaN          Gaz naturel   \n",
              "4277642                                       NaN          Gaz naturel   \n",
              "\n",
              "        Final_consumption_ECS_generator_no1  \\\n",
              "0                                    2819.6   \n",
              "1                                       1.0   \n",
              "2                                    2440.2   \n",
              "3                                       NaN   \n",
              "4                                       1.0   \n",
              "...                                     ...   \n",
              "4277638                              2486.1   \n",
              "4277639                            181757.6   \n",
              "4277640                              1864.7   \n",
              "4277641                             32182.9   \n",
              "4277642                              2705.7   \n",
              "\n",
              "        Final_consumption_ECS_generator_no2  \n",
              "0                                       NaN  \n",
              "1                                       NaN  \n",
              "2                                       NaN  \n",
              "3                                       NaN  \n",
              "4                                       NaN  \n",
              "...                                     ...  \n",
              "4277638                                 NaN  \n",
              "4277639                                 NaN  \n",
              "4277640                                 NaN  \n",
              "4277641                                 NaN  \n",
              "4277642                                 NaN  \n",
              "\n",
              "[4277643 rows x 23 columns]"
            ],
            "text/html": [
              "\n",
              "  <div id=\"df-1f22fa54-0602-4f0f-ae8c-285451d7f2fd\" class=\"colab-df-container\">\n",
              "    <div>\n",
              "<style scoped>\n",
              "    .dataframe tbody tr th:only-of-type {\n",
              "        vertical-align: middle;\n",
              "    }\n",
              "\n",
              "    .dataframe tbody tr th {\n",
              "        vertical-align: top;\n",
              "    }\n",
              "\n",
              "    .dataframe thead th {\n",
              "        text-align: right;\n",
              "    }\n",
              "</style>\n",
              "<table border=\"1\" class=\"dataframe\">\n",
              "  <thead>\n",
              "    <tr style=\"text-align: right;\">\n",
              "      <th></th>\n",
              "      <th>Year_construction</th>\n",
              "      <th>Living_area_building</th>\n",
              "      <th>Living_area_housing</th>\n",
              "      <th>Postal_code_(BAN)</th>\n",
              "      <th>Final_ECS_Consumption</th>\n",
              "      <th>Primary_5_usages_consumption</th>\n",
              "      <th>Primary_ECS_Consumption</th>\n",
              "      <th>Roof_insulation_(0/1)</th>\n",
              "      <th>Losses_glazed_bays</th>\n",
              "      <th>Losses_walls</th>\n",
              "      <th>...</th>\n",
              "      <th>Quality_insulation_envelope</th>\n",
              "      <th>Quality_insulation_carpentry</th>\n",
              "      <th>Quality_insulation_walls</th>\n",
              "      <th>Quality_insulation_lower_floor</th>\n",
              "      <th>Quality_insulation_upper_floor_roof_terrace</th>\n",
              "      <th>Quality_insulation_upper_floor_arranged_attic</th>\n",
              "      <th>Quality_insulation_upper_floor_lost_attic</th>\n",
              "      <th>Type_main_energy_ECS</th>\n",
              "      <th>Final_consumption_ECS_generator_no1</th>\n",
              "      <th>Final_consumption_ECS_generator_no2</th>\n",
              "    </tr>\n",
              "  </thead>\n",
              "  <tbody>\n",
              "    <tr>\n",
              "      <th>0</th>\n",
              "      <td>1945.0</td>\n",
              "      <td>220.8</td>\n",
              "      <td>220.8</td>\n",
              "      <td>25000.0</td>\n",
              "      <td>4463.6</td>\n",
              "      <td>41345.2</td>\n",
              "      <td>6600.7</td>\n",
              "      <td>0.0</td>\n",
              "      <td>91.3</td>\n",
              "      <td>191.0</td>\n",
              "      <td>...</td>\n",
              "      <td>insuffisante</td>\n",
              "      <td>bonne</td>\n",
              "      <td>insuffisante</td>\n",
              "      <td>très bonne</td>\n",
              "      <td>NaN</td>\n",
              "      <td>NaN</td>\n",
              "      <td>insuffisante</td>\n",
              "      <td>Gaz naturel</td>\n",
              "      <td>2819.6</td>\n",
              "      <td>NaN</td>\n",
              "    </tr>\n",
              "    <tr>\n",
              "      <th>1</th>\n",
              "      <td>1948.0</td>\n",
              "      <td>NaN</td>\n",
              "      <td>70.6</td>\n",
              "      <td>13016.0</td>\n",
              "      <td>4522.1</td>\n",
              "      <td>15403.7</td>\n",
              "      <td>4522.1</td>\n",
              "      <td>NaN</td>\n",
              "      <td>16.1</td>\n",
              "      <td>134.9</td>\n",
              "      <td>...</td>\n",
              "      <td>insuffisante</td>\n",
              "      <td>bonne</td>\n",
              "      <td>insuffisante</td>\n",
              "      <td>très bonne</td>\n",
              "      <td>NaN</td>\n",
              "      <td>NaN</td>\n",
              "      <td>très bonne</td>\n",
              "      <td>Gaz naturel</td>\n",
              "      <td>1.0</td>\n",
              "      <td>NaN</td>\n",
              "    </tr>\n",
              "    <tr>\n",
              "      <th>2</th>\n",
              "      <td>1948.0</td>\n",
              "      <td>2200.0</td>\n",
              "      <td>109.0</td>\n",
              "      <td>93100.0</td>\n",
              "      <td>7035.3</td>\n",
              "      <td>63792.5</td>\n",
              "      <td>22815.4</td>\n",
              "      <td>NaN</td>\n",
              "      <td>764.5</td>\n",
              "      <td>5368.1</td>\n",
              "      <td>...</td>\n",
              "      <td>insuffisante</td>\n",
              "      <td>moyenne</td>\n",
              "      <td>insuffisante</td>\n",
              "      <td>moyenne</td>\n",
              "      <td>NaN</td>\n",
              "      <td>NaN</td>\n",
              "      <td>NaN</td>\n",
              "      <td>Électricité</td>\n",
              "      <td>2440.2</td>\n",
              "      <td>NaN</td>\n",
              "    </tr>\n",
              "    <tr>\n",
              "      <th>3</th>\n",
              "      <td>1976.0</td>\n",
              "      <td>3292.3</td>\n",
              "      <td>47.5</td>\n",
              "      <td>44800.0</td>\n",
              "      <td>2576.8</td>\n",
              "      <td>8334.7</td>\n",
              "      <td>3633.3</td>\n",
              "      <td>NaN</td>\n",
              "      <td>NaN</td>\n",
              "      <td>NaN</td>\n",
              "      <td>...</td>\n",
              "      <td>insuffisante</td>\n",
              "      <td>moyenne</td>\n",
              "      <td>insuffisante</td>\n",
              "      <td>insuffisante</td>\n",
              "      <td>NaN</td>\n",
              "      <td>NaN</td>\n",
              "      <td>NaN</td>\n",
              "      <td>NaN</td>\n",
              "      <td>NaN</td>\n",
              "      <td>NaN</td>\n",
              "    </tr>\n",
              "    <tr>\n",
              "      <th>4</th>\n",
              "      <td>1948.0</td>\n",
              "      <td>NaN</td>\n",
              "      <td>36.4</td>\n",
              "      <td>92330.0</td>\n",
              "      <td>1858.2</td>\n",
              "      <td>8857.1</td>\n",
              "      <td>1858.2</td>\n",
              "      <td>NaN</td>\n",
              "      <td>40.2</td>\n",
              "      <td>27.4</td>\n",
              "      <td>...</td>\n",
              "      <td>insuffisante</td>\n",
              "      <td>insuffisante</td>\n",
              "      <td>insuffisante</td>\n",
              "      <td>très bonne</td>\n",
              "      <td>NaN</td>\n",
              "      <td>NaN</td>\n",
              "      <td>très bonne</td>\n",
              "      <td>Gaz naturel</td>\n",
              "      <td>1.0</td>\n",
              "      <td>NaN</td>\n",
              "    </tr>\n",
              "    <tr>\n",
              "      <th>...</th>\n",
              "      <td>...</td>\n",
              "      <td>...</td>\n",
              "      <td>...</td>\n",
              "      <td>...</td>\n",
              "      <td>...</td>\n",
              "      <td>...</td>\n",
              "      <td>...</td>\n",
              "      <td>...</td>\n",
              "      <td>...</td>\n",
              "      <td>...</td>\n",
              "      <td>...</td>\n",
              "      <td>...</td>\n",
              "      <td>...</td>\n",
              "      <td>...</td>\n",
              "      <td>...</td>\n",
              "      <td>...</td>\n",
              "      <td>...</td>\n",
              "      <td>...</td>\n",
              "      <td>...</td>\n",
              "      <td>...</td>\n",
              "      <td>...</td>\n",
              "    </tr>\n",
              "    <tr>\n",
              "      <th>4277638</th>\n",
              "      <td>2013.0</td>\n",
              "      <td>46.4</td>\n",
              "      <td>46.4</td>\n",
              "      <td>44240.0</td>\n",
              "      <td>2486.1</td>\n",
              "      <td>4365.9</td>\n",
              "      <td>2486.1</td>\n",
              "      <td>1.0</td>\n",
              "      <td>7.9</td>\n",
              "      <td>4.3</td>\n",
              "      <td>...</td>\n",
              "      <td>très bonne</td>\n",
              "      <td>très bonne</td>\n",
              "      <td>insuffisante</td>\n",
              "      <td>très bonne</td>\n",
              "      <td>très bonne</td>\n",
              "      <td>NaN</td>\n",
              "      <td>NaN</td>\n",
              "      <td>Gaz naturel</td>\n",
              "      <td>2486.1</td>\n",
              "      <td>NaN</td>\n",
              "    </tr>\n",
              "    <tr>\n",
              "      <th>4277639</th>\n",
              "      <td>1960.0</td>\n",
              "      <td>3870.0</td>\n",
              "      <td>59.0</td>\n",
              "      <td>25000.0</td>\n",
              "      <td>2771.0</td>\n",
              "      <td>18778.5</td>\n",
              "      <td>3907.1</td>\n",
              "      <td>NaN</td>\n",
              "      <td>2362.8</td>\n",
              "      <td>5110.1</td>\n",
              "      <td>...</td>\n",
              "      <td>insuffisante</td>\n",
              "      <td>moyenne</td>\n",
              "      <td>insuffisante</td>\n",
              "      <td>insuffisante</td>\n",
              "      <td>NaN</td>\n",
              "      <td>NaN</td>\n",
              "      <td>NaN</td>\n",
              "      <td>Gaz naturel</td>\n",
              "      <td>181757.6</td>\n",
              "      <td>NaN</td>\n",
              "    </tr>\n",
              "    <tr>\n",
              "      <th>4277640</th>\n",
              "      <td>1945.0</td>\n",
              "      <td>NaN</td>\n",
              "      <td>70.0</td>\n",
              "      <td>44530.0</td>\n",
              "      <td>1864.7</td>\n",
              "      <td>36347.2</td>\n",
              "      <td>4288.8</td>\n",
              "      <td>1.0</td>\n",
              "      <td>35.5</td>\n",
              "      <td>92.5</td>\n",
              "      <td>...</td>\n",
              "      <td>insuffisante</td>\n",
              "      <td>insuffisante</td>\n",
              "      <td>insuffisante</td>\n",
              "      <td>moyenne</td>\n",
              "      <td>NaN</td>\n",
              "      <td>NaN</td>\n",
              "      <td>bonne</td>\n",
              "      <td>Électricité</td>\n",
              "      <td>1864.7</td>\n",
              "      <td>NaN</td>\n",
              "    </tr>\n",
              "    <tr>\n",
              "      <th>4277641</th>\n",
              "      <td>2014.0</td>\n",
              "      <td>1327.0</td>\n",
              "      <td>49.7</td>\n",
              "      <td>51100.0</td>\n",
              "      <td>1205.3</td>\n",
              "      <td>3842.7</td>\n",
              "      <td>1699.5</td>\n",
              "      <td>NaN</td>\n",
              "      <td>373.2</td>\n",
              "      <td>208.9</td>\n",
              "      <td>...</td>\n",
              "      <td>bonne</td>\n",
              "      <td>très bonne</td>\n",
              "      <td>très bonne</td>\n",
              "      <td>très bonne</td>\n",
              "      <td>NaN</td>\n",
              "      <td>NaN</td>\n",
              "      <td>NaN</td>\n",
              "      <td>Gaz naturel</td>\n",
              "      <td>32182.9</td>\n",
              "      <td>NaN</td>\n",
              "    </tr>\n",
              "    <tr>\n",
              "      <th>4277642</th>\n",
              "      <td>1961.0</td>\n",
              "      <td>70.0</td>\n",
              "      <td>70.0</td>\n",
              "      <td>91330.0</td>\n",
              "      <td>2705.7</td>\n",
              "      <td>14378.6</td>\n",
              "      <td>2705.7</td>\n",
              "      <td>0.0</td>\n",
              "      <td>22.4</td>\n",
              "      <td>88.6</td>\n",
              "      <td>...</td>\n",
              "      <td>insuffisante</td>\n",
              "      <td>très bonne</td>\n",
              "      <td>insuffisante</td>\n",
              "      <td>très bonne</td>\n",
              "      <td>NaN</td>\n",
              "      <td>NaN</td>\n",
              "      <td>NaN</td>\n",
              "      <td>Gaz naturel</td>\n",
              "      <td>2705.7</td>\n",
              "      <td>NaN</td>\n",
              "    </tr>\n",
              "  </tbody>\n",
              "</table>\n",
              "<p>4277643 rows × 23 columns</p>\n",
              "</div>\n",
              "    <div class=\"colab-df-buttons\">\n",
              "\n",
              "  <div class=\"colab-df-container\">\n",
              "    <button class=\"colab-df-convert\" onclick=\"convertToInteractive('df-1f22fa54-0602-4f0f-ae8c-285451d7f2fd')\"\n",
              "            title=\"Convert this dataframe to an interactive table.\"\n",
              "            style=\"display:none;\">\n",
              "\n",
              "  <svg xmlns=\"http://www.w3.org/2000/svg\" height=\"24px\" viewBox=\"0 -960 960 960\">\n",
              "    <path d=\"M120-120v-720h720v720H120Zm60-500h600v-160H180v160Zm220 220h160v-160H400v160Zm0 220h160v-160H400v160ZM180-400h160v-160H180v160Zm440 0h160v-160H620v160ZM180-180h160v-160H180v160Zm440 0h160v-160H620v160Z\"/>\n",
              "  </svg>\n",
              "    </button>\n",
              "\n",
              "  <style>\n",
              "    .colab-df-container {\n",
              "      display:flex;\n",
              "      gap: 12px;\n",
              "    }\n",
              "\n",
              "    .colab-df-convert {\n",
              "      background-color: #E8F0FE;\n",
              "      border: none;\n",
              "      border-radius: 50%;\n",
              "      cursor: pointer;\n",
              "      display: none;\n",
              "      fill: #1967D2;\n",
              "      height: 32px;\n",
              "      padding: 0 0 0 0;\n",
              "      width: 32px;\n",
              "    }\n",
              "\n",
              "    .colab-df-convert:hover {\n",
              "      background-color: #E2EBFA;\n",
              "      box-shadow: 0px 1px 2px rgba(60, 64, 67, 0.3), 0px 1px 3px 1px rgba(60, 64, 67, 0.15);\n",
              "      fill: #174EA6;\n",
              "    }\n",
              "\n",
              "    .colab-df-buttons div {\n",
              "      margin-bottom: 4px;\n",
              "    }\n",
              "\n",
              "    [theme=dark] .colab-df-convert {\n",
              "      background-color: #3B4455;\n",
              "      fill: #D2E3FC;\n",
              "    }\n",
              "\n",
              "    [theme=dark] .colab-df-convert:hover {\n",
              "      background-color: #434B5C;\n",
              "      box-shadow: 0px 1px 3px 1px rgba(0, 0, 0, 0.15);\n",
              "      filter: drop-shadow(0px 1px 2px rgba(0, 0, 0, 0.3));\n",
              "      fill: #FFFFFF;\n",
              "    }\n",
              "  </style>\n",
              "\n",
              "    <script>\n",
              "      const buttonEl =\n",
              "        document.querySelector('#df-1f22fa54-0602-4f0f-ae8c-285451d7f2fd button.colab-df-convert');\n",
              "      buttonEl.style.display =\n",
              "        google.colab.kernel.accessAllowed ? 'block' : 'none';\n",
              "\n",
              "      async function convertToInteractive(key) {\n",
              "        const element = document.querySelector('#df-1f22fa54-0602-4f0f-ae8c-285451d7f2fd');\n",
              "        const dataTable =\n",
              "          await google.colab.kernel.invokeFunction('convertToInteractive',\n",
              "                                                    [key], {});\n",
              "        if (!dataTable) return;\n",
              "\n",
              "        const docLinkHtml = 'Like what you see? Visit the ' +\n",
              "          '<a target=\"_blank\" href=https://colab.research.google.com/notebooks/data_table.ipynb>data table notebook</a>'\n",
              "          + ' to learn more about interactive tables.';\n",
              "        element.innerHTML = '';\n",
              "        dataTable['output_type'] = 'display_data';\n",
              "        await google.colab.output.renderOutput(dataTable, element);\n",
              "        const docLink = document.createElement('div');\n",
              "        docLink.innerHTML = docLinkHtml;\n",
              "        element.appendChild(docLink);\n",
              "      }\n",
              "    </script>\n",
              "  </div>\n",
              "\n",
              "\n",
              "<div id=\"df-03e0c657-6bc5-49d2-9240-ce3d0a456d0b\">\n",
              "  <button class=\"colab-df-quickchart\" onclick=\"quickchart('df-03e0c657-6bc5-49d2-9240-ce3d0a456d0b')\"\n",
              "            title=\"Suggest charts.\"\n",
              "            style=\"display:none;\">\n",
              "\n",
              "<svg xmlns=\"http://www.w3.org/2000/svg\" height=\"24px\"viewBox=\"0 0 24 24\"\n",
              "     width=\"24px\">\n",
              "    <g>\n",
              "        <path d=\"M19 3H5c-1.1 0-2 .9-2 2v14c0 1.1.9 2 2 2h14c1.1 0 2-.9 2-2V5c0-1.1-.9-2-2-2zM9 17H7v-7h2v7zm4 0h-2V7h2v10zm4 0h-2v-4h2v4z\"/>\n",
              "    </g>\n",
              "</svg>\n",
              "  </button>\n",
              "\n",
              "<style>\n",
              "  .colab-df-quickchart {\n",
              "    background-color: #E8F0FE;\n",
              "    border: none;\n",
              "    border-radius: 50%;\n",
              "    cursor: pointer;\n",
              "    display: none;\n",
              "    fill: #1967D2;\n",
              "    height: 32px;\n",
              "    padding: 0 0 0 0;\n",
              "    width: 32px;\n",
              "  }\n",
              "\n",
              "  .colab-df-quickchart:hover {\n",
              "    background-color: #E2EBFA;\n",
              "    box-shadow: 0px 1px 2px rgba(60, 64, 67, 0.3), 0px 1px 3px 1px rgba(60, 64, 67, 0.15);\n",
              "    fill: #174EA6;\n",
              "  }\n",
              "\n",
              "  [theme=dark] .colab-df-quickchart {\n",
              "    background-color: #3B4455;\n",
              "    fill: #D2E3FC;\n",
              "  }\n",
              "\n",
              "  [theme=dark] .colab-df-quickchart:hover {\n",
              "    background-color: #434B5C;\n",
              "    box-shadow: 0px 1px 3px 1px rgba(0, 0, 0, 0.15);\n",
              "    filter: drop-shadow(0px 1px 2px rgba(0, 0, 0, 0.3));\n",
              "    fill: #FFFFFF;\n",
              "  }\n",
              "</style>\n",
              "\n",
              "  <script>\n",
              "    async function quickchart(key) {\n",
              "      const charts = await google.colab.kernel.invokeFunction(\n",
              "          'suggestCharts', [key], {});\n",
              "    }\n",
              "    (() => {\n",
              "      let quickchartButtonEl =\n",
              "        document.querySelector('#df-03e0c657-6bc5-49d2-9240-ce3d0a456d0b button');\n",
              "      quickchartButtonEl.style.display =\n",
              "        google.colab.kernel.accessAllowed ? 'block' : 'none';\n",
              "    })();\n",
              "  </script>\n",
              "</div>\n",
              "    </div>\n",
              "  </div>\n"
            ]
          },
          "metadata": {},
          "execution_count": 6
        }
      ],
      "source": [
        "df_DPE_dataset"
      ]
    },
    {
      "cell_type": "code",
      "execution_count": null,
      "metadata": {
        "id": "hJ8x-V15e3dO"
      },
      "outputs": [],
      "source": [
        "# output the data type of different featurers\n",
        "def print_dtypes(df):\n",
        "    '''\n",
        "    Func:\n",
        "        print the list of data type in dataframe\n",
        "    Input:\n",
        "        df : Dataframe\n",
        "    Output:\n",
        "        No return\n",
        "\n",
        "    '''\n",
        "    for col in df.columns:\n",
        "        print(f\"{col}: {df[col].dtype}\")"
      ]
    },
    {
      "cell_type": "markdown",
      "source": [
        "Observe the data type of features"
      ],
      "metadata": {
        "id": "MBPx3XH7rE94"
      }
    },
    {
      "cell_type": "code",
      "execution_count": null,
      "metadata": {
        "colab": {
          "base_uri": "https://localhost:8080/"
        },
        "id": "1OHwH9BofCC2",
        "outputId": "06ec93d4-5968-4f3e-e26a-7f4249cdfa44"
      },
      "outputs": [
        {
          "output_type": "stream",
          "name": "stdout",
          "text": [
            "The type of the features in DPE dataset: \n",
            "\n",
            "Year_construction: float64\n",
            "Living_area_building: float64\n",
            "Living_area_housing: float64\n",
            "Postal_code_(BAN): float64\n",
            "Final_ECS_Consumption: float64\n",
            "Primary_5_usages_consumption: float64\n",
            "Primary_ECS_Consumption: float64\n",
            "Roof_insulation_(0/1): float64\n",
            "Losses_glazed_bays: float64\n",
            "Losses_walls: float64\n",
            "Losses_lower_floors: float64\n",
            "Losses_upper_floors: float64\n",
            "Losses_doors: float64\n",
            "Quality_insulation_envelope: object\n",
            "Quality_insulation_carpentry: object\n",
            "Quality_insulation_walls: object\n",
            "Quality_insulation_lower_floor: object\n",
            "Quality_insulation_upper_floor_roof_terrace: object\n",
            "Quality_insulation_upper_floor_arranged_attic: object\n",
            "Quality_insulation_upper_floor_lost_attic: object\n",
            "Type_main_energy_ECS: object\n",
            "Final_consumption_ECS_generator_no1: float64\n",
            "Final_consumption_ECS_generator_no2: float64\n"
          ]
        }
      ],
      "source": [
        "print('The type of the features in DPE dataset: \\n')\n",
        "print_dtypes(df_DPE_dataset)"
      ]
    },
    {
      "cell_type": "code",
      "execution_count": null,
      "metadata": {
        "id": "Bjlh-OZyfjWL"
      },
      "outputs": [],
      "source": [
        "# output the missing ratio of featurers\n",
        "def check_missing_values(df):\n",
        "    '''\n",
        "    Func:\n",
        "        compute the missing ratio of features\n",
        "    Input:\n",
        "        df : Dataframe\n",
        "    Output:\n",
        "        feature: dictionary, store the missing ratio of features\n",
        "\n",
        "    '''\n",
        "    missing_values = df.isnull().mean()\n",
        "    missing_features = missing_values[missing_values > 0].index.tolist()\n",
        "    return {feature: missing_values[feature] for feature in missing_features}"
      ]
    },
    {
      "cell_type": "code",
      "execution_count": null,
      "metadata": {
        "colab": {
          "base_uri": "https://localhost:8080/"
        },
        "id": "irmC-0DjfnLz",
        "outputId": "8027e7e8-5df1-4c8a-ae95-25cccd9c1ddb"
      },
      "outputs": [
        {
          "output_type": "stream",
          "name": "stdout",
          "text": [
            "The information about missing values in DPE data: \n",
            "\n",
            "                                          feature  missing_ratio\n",
            "0                               Year_construction   3.183333e-01\n",
            "1                            Living_area_building   6.773812e-01\n",
            "2                             Living_area_housing   1.102546e-02\n",
            "3                               Postal_code_(BAN)   5.146526e-03\n",
            "4                           Final_ECS_Consumption   9.350944e-07\n",
            "5                    Primary_5_usages_consumption   1.077696e-04\n",
            "6                         Primary_ECS_Consumption   9.350944e-07\n",
            "7                           Roof_insulation_(0/1)   3.249902e-01\n",
            "8                              Losses_glazed_bays   8.814667e-03\n",
            "9                                    Losses_walls   8.809992e-03\n",
            "10                            Losses_lower_floors   9.711189e-03\n",
            "11                            Losses_upper_floors   9.632407e-03\n",
            "12                                   Losses_doors   9.063870e-03\n",
            "13                       Quality_insulation_walls   5.241204e-04\n",
            "14                 Quality_insulation_lower_floor   8.547791e-02\n",
            "15    Quality_insulation_upper_floor_roof_terrace   8.391551e-01\n",
            "16  Quality_insulation_upper_floor_arranged_attic   8.235603e-01\n",
            "17      Quality_insulation_upper_floor_lost_attic   4.813854e-01\n",
            "18                           Type_main_energy_ECS   1.006024e-01\n",
            "19            Final_consumption_ECS_generator_no1   1.006187e-01\n",
            "20            Final_consumption_ECS_generator_no2   9.998081e-01\n"
          ]
        }
      ],
      "source": [
        "missing_results = check_missing_values(df_DPE_dataset)\n",
        "df_missing_results = pd.DataFrame(columns=['feature', 'missing_ratio'])\n",
        "df_missing_results['feature'] = missing_results.keys()\n",
        "df_missing_results['missing_ratio'] = missing_results.values()\n",
        "print('The information about missing values in DPE data: \\n')\n",
        "print(df_missing_results)"
      ]
    },
    {
      "cell_type": "markdown",
      "source": [
        "### ECS data\n"
      ],
      "metadata": {
        "id": "H0Bp84uGIevP"
      }
    },
    {
      "cell_type": "code",
      "source": [
        "df_ECS_consumption = df_DPE_dataset[['Primary_ECS_Consumption',\n",
        "                    'Type_main_energy_ECS',\n",
        "                    'Year_construction',\n",
        "                    # 'Living_area_building',\n",
        "                    'Living_area_housing',\n",
        "                    'Postal_code_(BAN)',\n",
        "                    'Final_ECS_Consumption',\n",
        "                    'Primary_5_usages_consumption',\n",
        "                    'Final_consumption_ECS_generator_no1',\n",
        "                    # 'Final_consumption_ECS_generator_no2',\n",
        "                    ]]"
      ],
      "metadata": {
        "id": "gxv14X_6Ie4c"
      },
      "execution_count": null,
      "outputs": []
    },
    {
      "cell_type": "code",
      "source": [
        "df_ECS_consumption"
      ],
      "metadata": {
        "colab": {
          "base_uri": "https://localhost:8080/"
        },
        "id": "t9AXcSVwIqUM",
        "outputId": "24ac8473-970d-4018-9001-076c3ed806f7"
      },
      "execution_count": null,
      "outputs": [
        {
          "output_type": "execute_result",
          "data": {
            "text/plain": [
              "         Primary_ECS_Consumption Type_main_energy_ECS  Year_construction  \\\n",
              "0                         6600.7          Gaz naturel             1945.0   \n",
              "1                         4522.1          Gaz naturel             1948.0   \n",
              "2                        22815.4          Électricité             1948.0   \n",
              "3                         3633.3                  NaN             1976.0   \n",
              "4                         1858.2          Gaz naturel             1948.0   \n",
              "...                          ...                  ...                ...   \n",
              "4277638                   2486.1          Gaz naturel             2013.0   \n",
              "4277639                   3907.1          Gaz naturel             1960.0   \n",
              "4277640                   4288.8          Électricité             1945.0   \n",
              "4277641                   1699.5          Gaz naturel             2014.0   \n",
              "4277642                   2705.7          Gaz naturel             1961.0   \n",
              "\n",
              "         Living_area_housing  Postal_code_(BAN)  Final_ECS_Consumption  \\\n",
              "0                      220.8            25000.0                 4463.6   \n",
              "1                       70.6            13016.0                 4522.1   \n",
              "2                      109.0            93100.0                 7035.3   \n",
              "3                       47.5            44800.0                 2576.8   \n",
              "4                       36.4            92330.0                 1858.2   \n",
              "...                      ...                ...                    ...   \n",
              "4277638                 46.4            44240.0                 2486.1   \n",
              "4277639                 59.0            25000.0                 2771.0   \n",
              "4277640                 70.0            44530.0                 1864.7   \n",
              "4277641                 49.7            51100.0                 1205.3   \n",
              "4277642                 70.0            91330.0                 2705.7   \n",
              "\n",
              "         Primary_5_usages_consumption  Final_consumption_ECS_generator_no1  \n",
              "0                             41345.2                               2819.6  \n",
              "1                             15403.7                                  1.0  \n",
              "2                             63792.5                               2440.2  \n",
              "3                              8334.7                                  NaN  \n",
              "4                              8857.1                                  1.0  \n",
              "...                               ...                                  ...  \n",
              "4277638                        4365.9                               2486.1  \n",
              "4277639                       18778.5                             181757.6  \n",
              "4277640                       36347.2                               1864.7  \n",
              "4277641                        3842.7                              32182.9  \n",
              "4277642                       14378.6                               2705.7  \n",
              "\n",
              "[4277643 rows x 8 columns]"
            ],
            "text/html": [
              "\n",
              "\n",
              "  <div id=\"df-edab3035-3995-4302-9a1f-f890712f1360\">\n",
              "    <div class=\"colab-df-container\">\n",
              "      <div>\n",
              "<style scoped>\n",
              "    .dataframe tbody tr th:only-of-type {\n",
              "        vertical-align: middle;\n",
              "    }\n",
              "\n",
              "    .dataframe tbody tr th {\n",
              "        vertical-align: top;\n",
              "    }\n",
              "\n",
              "    .dataframe thead th {\n",
              "        text-align: right;\n",
              "    }\n",
              "</style>\n",
              "<table border=\"1\" class=\"dataframe\">\n",
              "  <thead>\n",
              "    <tr style=\"text-align: right;\">\n",
              "      <th></th>\n",
              "      <th>Primary_ECS_Consumption</th>\n",
              "      <th>Type_main_energy_ECS</th>\n",
              "      <th>Year_construction</th>\n",
              "      <th>Living_area_housing</th>\n",
              "      <th>Postal_code_(BAN)</th>\n",
              "      <th>Final_ECS_Consumption</th>\n",
              "      <th>Primary_5_usages_consumption</th>\n",
              "      <th>Final_consumption_ECS_generator_no1</th>\n",
              "    </tr>\n",
              "  </thead>\n",
              "  <tbody>\n",
              "    <tr>\n",
              "      <th>0</th>\n",
              "      <td>6600.7</td>\n",
              "      <td>Gaz naturel</td>\n",
              "      <td>1945.0</td>\n",
              "      <td>220.8</td>\n",
              "      <td>25000.0</td>\n",
              "      <td>4463.6</td>\n",
              "      <td>41345.2</td>\n",
              "      <td>2819.6</td>\n",
              "    </tr>\n",
              "    <tr>\n",
              "      <th>1</th>\n",
              "      <td>4522.1</td>\n",
              "      <td>Gaz naturel</td>\n",
              "      <td>1948.0</td>\n",
              "      <td>70.6</td>\n",
              "      <td>13016.0</td>\n",
              "      <td>4522.1</td>\n",
              "      <td>15403.7</td>\n",
              "      <td>1.0</td>\n",
              "    </tr>\n",
              "    <tr>\n",
              "      <th>2</th>\n",
              "      <td>22815.4</td>\n",
              "      <td>Électricité</td>\n",
              "      <td>1948.0</td>\n",
              "      <td>109.0</td>\n",
              "      <td>93100.0</td>\n",
              "      <td>7035.3</td>\n",
              "      <td>63792.5</td>\n",
              "      <td>2440.2</td>\n",
              "    </tr>\n",
              "    <tr>\n",
              "      <th>3</th>\n",
              "      <td>3633.3</td>\n",
              "      <td>NaN</td>\n",
              "      <td>1976.0</td>\n",
              "      <td>47.5</td>\n",
              "      <td>44800.0</td>\n",
              "      <td>2576.8</td>\n",
              "      <td>8334.7</td>\n",
              "      <td>NaN</td>\n",
              "    </tr>\n",
              "    <tr>\n",
              "      <th>4</th>\n",
              "      <td>1858.2</td>\n",
              "      <td>Gaz naturel</td>\n",
              "      <td>1948.0</td>\n",
              "      <td>36.4</td>\n",
              "      <td>92330.0</td>\n",
              "      <td>1858.2</td>\n",
              "      <td>8857.1</td>\n",
              "      <td>1.0</td>\n",
              "    </tr>\n",
              "    <tr>\n",
              "      <th>...</th>\n",
              "      <td>...</td>\n",
              "      <td>...</td>\n",
              "      <td>...</td>\n",
              "      <td>...</td>\n",
              "      <td>...</td>\n",
              "      <td>...</td>\n",
              "      <td>...</td>\n",
              "      <td>...</td>\n",
              "    </tr>\n",
              "    <tr>\n",
              "      <th>4277638</th>\n",
              "      <td>2486.1</td>\n",
              "      <td>Gaz naturel</td>\n",
              "      <td>2013.0</td>\n",
              "      <td>46.4</td>\n",
              "      <td>44240.0</td>\n",
              "      <td>2486.1</td>\n",
              "      <td>4365.9</td>\n",
              "      <td>2486.1</td>\n",
              "    </tr>\n",
              "    <tr>\n",
              "      <th>4277639</th>\n",
              "      <td>3907.1</td>\n",
              "      <td>Gaz naturel</td>\n",
              "      <td>1960.0</td>\n",
              "      <td>59.0</td>\n",
              "      <td>25000.0</td>\n",
              "      <td>2771.0</td>\n",
              "      <td>18778.5</td>\n",
              "      <td>181757.6</td>\n",
              "    </tr>\n",
              "    <tr>\n",
              "      <th>4277640</th>\n",
              "      <td>4288.8</td>\n",
              "      <td>Électricité</td>\n",
              "      <td>1945.0</td>\n",
              "      <td>70.0</td>\n",
              "      <td>44530.0</td>\n",
              "      <td>1864.7</td>\n",
              "      <td>36347.2</td>\n",
              "      <td>1864.7</td>\n",
              "    </tr>\n",
              "    <tr>\n",
              "      <th>4277641</th>\n",
              "      <td>1699.5</td>\n",
              "      <td>Gaz naturel</td>\n",
              "      <td>2014.0</td>\n",
              "      <td>49.7</td>\n",
              "      <td>51100.0</td>\n",
              "      <td>1205.3</td>\n",
              "      <td>3842.7</td>\n",
              "      <td>32182.9</td>\n",
              "    </tr>\n",
              "    <tr>\n",
              "      <th>4277642</th>\n",
              "      <td>2705.7</td>\n",
              "      <td>Gaz naturel</td>\n",
              "      <td>1961.0</td>\n",
              "      <td>70.0</td>\n",
              "      <td>91330.0</td>\n",
              "      <td>2705.7</td>\n",
              "      <td>14378.6</td>\n",
              "      <td>2705.7</td>\n",
              "    </tr>\n",
              "  </tbody>\n",
              "</table>\n",
              "<p>4277643 rows × 8 columns</p>\n",
              "</div>\n",
              "      <button class=\"colab-df-convert\" onclick=\"convertToInteractive('df-edab3035-3995-4302-9a1f-f890712f1360')\"\n",
              "              title=\"Convert this dataframe to an interactive table.\"\n",
              "              style=\"display:none;\">\n",
              "\n",
              "  <svg xmlns=\"http://www.w3.org/2000/svg\" height=\"24px\"viewBox=\"0 0 24 24\"\n",
              "       width=\"24px\">\n",
              "    <path d=\"M0 0h24v24H0V0z\" fill=\"none\"/>\n",
              "    <path d=\"M18.56 5.44l.94 2.06.94-2.06 2.06-.94-2.06-.94-.94-2.06-.94 2.06-2.06.94zm-11 1L8.5 8.5l.94-2.06 2.06-.94-2.06-.94L8.5 2.5l-.94 2.06-2.06.94zm10 10l.94 2.06.94-2.06 2.06-.94-2.06-.94-.94-2.06-.94 2.06-2.06.94z\"/><path d=\"M17.41 7.96l-1.37-1.37c-.4-.4-.92-.59-1.43-.59-.52 0-1.04.2-1.43.59L10.3 9.45l-7.72 7.72c-.78.78-.78 2.05 0 2.83L4 21.41c.39.39.9.59 1.41.59.51 0 1.02-.2 1.41-.59l7.78-7.78 2.81-2.81c.8-.78.8-2.07 0-2.86zM5.41 20L4 18.59l7.72-7.72 1.47 1.35L5.41 20z\"/>\n",
              "  </svg>\n",
              "      </button>\n",
              "\n",
              "\n",
              "\n",
              "    <div id=\"df-b3ce150f-b003-43b5-9031-7005af4c690b\">\n",
              "      <button class=\"colab-df-quickchart\" onclick=\"quickchart('df-b3ce150f-b003-43b5-9031-7005af4c690b')\"\n",
              "              title=\"Suggest charts.\"\n",
              "              style=\"display:none;\">\n",
              "\n",
              "<svg xmlns=\"http://www.w3.org/2000/svg\" height=\"24px\"viewBox=\"0 0 24 24\"\n",
              "     width=\"24px\">\n",
              "    <g>\n",
              "        <path d=\"M19 3H5c-1.1 0-2 .9-2 2v14c0 1.1.9 2 2 2h14c1.1 0 2-.9 2-2V5c0-1.1-.9-2-2-2zM9 17H7v-7h2v7zm4 0h-2V7h2v10zm4 0h-2v-4h2v4z\"/>\n",
              "    </g>\n",
              "</svg>\n",
              "      </button>\n",
              "    </div>\n",
              "\n",
              "<style>\n",
              "  .colab-df-quickchart {\n",
              "    background-color: #E8F0FE;\n",
              "    border: none;\n",
              "    border-radius: 50%;\n",
              "    cursor: pointer;\n",
              "    display: none;\n",
              "    fill: #1967D2;\n",
              "    height: 32px;\n",
              "    padding: 0 0 0 0;\n",
              "    width: 32px;\n",
              "  }\n",
              "\n",
              "  .colab-df-quickchart:hover {\n",
              "    background-color: #E2EBFA;\n",
              "    box-shadow: 0px 1px 2px rgba(60, 64, 67, 0.3), 0px 1px 3px 1px rgba(60, 64, 67, 0.15);\n",
              "    fill: #174EA6;\n",
              "  }\n",
              "\n",
              "  [theme=dark] .colab-df-quickchart {\n",
              "    background-color: #3B4455;\n",
              "    fill: #D2E3FC;\n",
              "  }\n",
              "\n",
              "  [theme=dark] .colab-df-quickchart:hover {\n",
              "    background-color: #434B5C;\n",
              "    box-shadow: 0px 1px 3px 1px rgba(0, 0, 0, 0.15);\n",
              "    filter: drop-shadow(0px 1px 2px rgba(0, 0, 0, 0.3));\n",
              "    fill: #FFFFFF;\n",
              "  }\n",
              "</style>\n",
              "\n",
              "    <script>\n",
              "      async function quickchart(key) {\n",
              "        const containerElement = document.querySelector('#' + key);\n",
              "        const charts = await google.colab.kernel.invokeFunction(\n",
              "            'suggestCharts', [key], {});\n",
              "      }\n",
              "    </script>\n",
              "\n",
              "      <script>\n",
              "\n",
              "function displayQuickchartButton(domScope) {\n",
              "  let quickchartButtonEl =\n",
              "    domScope.querySelector('#df-b3ce150f-b003-43b5-9031-7005af4c690b button.colab-df-quickchart');\n",
              "  quickchartButtonEl.style.display =\n",
              "    google.colab.kernel.accessAllowed ? 'block' : 'none';\n",
              "}\n",
              "\n",
              "        displayQuickchartButton(document);\n",
              "      </script>\n",
              "      <style>\n",
              "    .colab-df-container {\n",
              "      display:flex;\n",
              "      flex-wrap:wrap;\n",
              "      gap: 12px;\n",
              "    }\n",
              "\n",
              "    .colab-df-convert {\n",
              "      background-color: #E8F0FE;\n",
              "      border: none;\n",
              "      border-radius: 50%;\n",
              "      cursor: pointer;\n",
              "      display: none;\n",
              "      fill: #1967D2;\n",
              "      height: 32px;\n",
              "      padding: 0 0 0 0;\n",
              "      width: 32px;\n",
              "    }\n",
              "\n",
              "    .colab-df-convert:hover {\n",
              "      background-color: #E2EBFA;\n",
              "      box-shadow: 0px 1px 2px rgba(60, 64, 67, 0.3), 0px 1px 3px 1px rgba(60, 64, 67, 0.15);\n",
              "      fill: #174EA6;\n",
              "    }\n",
              "\n",
              "    [theme=dark] .colab-df-convert {\n",
              "      background-color: #3B4455;\n",
              "      fill: #D2E3FC;\n",
              "    }\n",
              "\n",
              "    [theme=dark] .colab-df-convert:hover {\n",
              "      background-color: #434B5C;\n",
              "      box-shadow: 0px 1px 3px 1px rgba(0, 0, 0, 0.15);\n",
              "      filter: drop-shadow(0px 1px 2px rgba(0, 0, 0, 0.3));\n",
              "      fill: #FFFFFF;\n",
              "    }\n",
              "  </style>\n",
              "\n",
              "      <script>\n",
              "        const buttonEl =\n",
              "          document.querySelector('#df-edab3035-3995-4302-9a1f-f890712f1360 button.colab-df-convert');\n",
              "        buttonEl.style.display =\n",
              "          google.colab.kernel.accessAllowed ? 'block' : 'none';\n",
              "\n",
              "        async function convertToInteractive(key) {\n",
              "          const element = document.querySelector('#df-edab3035-3995-4302-9a1f-f890712f1360');\n",
              "          const dataTable =\n",
              "            await google.colab.kernel.invokeFunction('convertToInteractive',\n",
              "                                                     [key], {});\n",
              "          if (!dataTable) return;\n",
              "\n",
              "          const docLinkHtml = 'Like what you see? Visit the ' +\n",
              "            '<a target=\"_blank\" href=https://colab.research.google.com/notebooks/data_table.ipynb>data table notebook</a>'\n",
              "            + ' to learn more about interactive tables.';\n",
              "          element.innerHTML = '';\n",
              "          dataTable['output_type'] = 'display_data';\n",
              "          await google.colab.output.renderOutput(dataTable, element);\n",
              "          const docLink = document.createElement('div');\n",
              "          docLink.innerHTML = docLinkHtml;\n",
              "          element.appendChild(docLink);\n",
              "        }\n",
              "      </script>\n",
              "    </div>\n",
              "  </div>\n"
            ]
          },
          "metadata": {},
          "execution_count": 90
        }
      ]
    },
    {
      "cell_type": "code",
      "source": [
        "unique_values = df_ECS_consumption['Type_main_energy_ECS'].unique()\n",
        "unique_values"
      ],
      "metadata": {
        "colab": {
          "base_uri": "https://localhost:8080/"
        },
        "id": "0hMSHpCJrLfb",
        "outputId": "6598e49f-083f-460c-f1c9-c9afd05e288c"
      },
      "execution_count": null,
      "outputs": [
        {
          "output_type": "execute_result",
          "data": {
            "text/plain": [
              "array(['Gaz naturel', 'Électricité', nan,\n",
              "       'Bois – Granulés (pellets) ou briquettes', 'Fioul domestique',\n",
              "       'Réseau de Chauffage urbain', 'GPL', 'Propane', 'Bois – Bûches',\n",
              "       \"Électricité d'origine renouvelable utilisée dans le bâtiment\",\n",
              "       'Bois – Plaquettes forestières', 'Bois – Plaquettes d’industrie',\n",
              "       'Charbon', 'Butane', 'Réseau de Froid Urbain'], dtype=object)"
            ]
          },
          "metadata": {},
          "execution_count": 91
        }
      ]
    },
    {
      "cell_type": "code",
      "source": [
        "missing_results = check_missing_values(df_ECS_consumption)\n",
        "df_missing_results = pd.DataFrame(columns=['feature', 'missing_ratio'])\n",
        "df_missing_results['feature'] = missing_results.keys()\n",
        "df_missing_results['missing_ratio'] = missing_results.values()\n",
        "print('The information about missing values in insulation floor data: \\n')\n",
        "print(df_missing_results)"
      ],
      "metadata": {
        "colab": {
          "base_uri": "https://localhost:8080/"
        },
        "id": "h9WBdpVpI8zB",
        "outputId": "5123cb22-44c3-4287-8d98-1cea9ea8da12"
      },
      "execution_count": null,
      "outputs": [
        {
          "output_type": "stream",
          "name": "stdout",
          "text": [
            "The information about missing values in insulation floor data: \n",
            "\n",
            "                               feature  missing_ratio\n",
            "0              Primary_ECS_Consumption   9.350944e-07\n",
            "1                 Type_main_energy_ECS   1.006024e-01\n",
            "2                    Year_construction   3.183333e-01\n",
            "3                  Living_area_housing   1.102546e-02\n",
            "4                    Postal_code_(BAN)   5.146526e-03\n",
            "5                Final_ECS_Consumption   9.350944e-07\n",
            "6         Primary_5_usages_consumption   1.077696e-04\n",
            "7  Final_consumption_ECS_generator_no1   1.006187e-01\n"
          ]
        }
      ]
    },
    {
      "cell_type": "code",
      "source": [
        "df_ECS_consumption['Type_main_energy_ECS'] = df_ECS_consumption['Type_main_energy_ECS'].replace({\n",
        "    'Gaz naturel': 0, 'Fioul domestique': 0, 'GPL': 0, 'Propane': 0, 'Charbon': 0, 'Butane': 0,\n",
        "    'Électricité': 1, \"Électricité d'origine renouvelable utilisée dans le bâtiment\": 1,\n",
        "    'Bois – Granulés (pellets) ou briquettes': 2, 'Bois – Bûches': 2, 'Bois – Plaquettes forestières': 2, 'Bois – Plaquettes d’industrie': 2,\n",
        "    'Réseau de Chauffage urbain': 3, 'Réseau de Froid Urbain': 3\n",
        "})\n"
      ],
      "metadata": {
        "colab": {
          "base_uri": "https://localhost:8080/"
        },
        "id": "tSOnA_OjxM41",
        "outputId": "718a638c-76f4-436d-ae14-c41e8a4aea92"
      },
      "execution_count": null,
      "outputs": [
        {
          "output_type": "stream",
          "name": "stderr",
          "text": [
            "<ipython-input-93-fefe2dabfef0>:1: SettingWithCopyWarning: \n",
            "A value is trying to be set on a copy of a slice from a DataFrame.\n",
            "Try using .loc[row_indexer,col_indexer] = value instead\n",
            "\n",
            "See the caveats in the documentation: https://pandas.pydata.org/pandas-docs/stable/user_guide/indexing.html#returning-a-view-versus-a-copy\n",
            "  df_ECS_consumption['Type_main_energy_ECS'] = df_ECS_consumption['Type_main_energy_ECS'].replace({\n"
          ]
        }
      ]
    },
    {
      "cell_type": "code",
      "source": [
        "# Get data without missing values\n",
        "df_ECS_consumption_no_missing_values = df_ECS_consumption.dropna()"
      ],
      "metadata": {
        "id": "RQYJx_n_JahC"
      },
      "execution_count": null,
      "outputs": []
    },
    {
      "cell_type": "code",
      "source": [
        "def process_postal_code(df):\n",
        "    # Convert the zip code column to a string, and use str.zfill() to complete five digits\n",
        "    df['Postal_code_(BAN)'] = df['Postal_code_(BAN)'].astype('Int64').astype(str).str.zfill(5)\n",
        "\n",
        "    # Create a new column to store the processed zip code\n",
        "    df['Postal_code_(BAN)'] = df['Postal_code_(BAN)'].apply(lambda x: x[:2] if x[:2].isdigit() else 'NaN')\n",
        "\n",
        "    # Convert the new column to float\n",
        "    df['Postal_code_(BAN)'] = df['Postal_code_(BAN)'].apply(lambda x: float(x) if x != 'NaN' else float('nan'))\n",
        "\n",
        "    return df"
      ],
      "metadata": {
        "id": "mmxb5I52189Q"
      },
      "execution_count": null,
      "outputs": []
    },
    {
      "cell_type": "code",
      "source": [
        "df_ECS_consumption_no_missing_values = process_postal_code(df_ECS_consumption_no_missing_values)"
      ],
      "metadata": {
        "colab": {
          "base_uri": "https://localhost:8080/"
        },
        "id": "DG7FfE7w2IIc",
        "outputId": "de239040-8203-448c-db61-72118bdd32aa"
      },
      "execution_count": null,
      "outputs": [
        {
          "output_type": "stream",
          "name": "stderr",
          "text": [
            "<ipython-input-95-977e4c42af8e>:3: SettingWithCopyWarning: \n",
            "A value is trying to be set on a copy of a slice from a DataFrame.\n",
            "Try using .loc[row_indexer,col_indexer] = value instead\n",
            "\n",
            "See the caveats in the documentation: https://pandas.pydata.org/pandas-docs/stable/user_guide/indexing.html#returning-a-view-versus-a-copy\n",
            "  df['Postal_code_(BAN)'] = df['Postal_code_(BAN)'].astype('Int64').astype(str).str.zfill(5)\n",
            "<ipython-input-95-977e4c42af8e>:6: SettingWithCopyWarning: \n",
            "A value is trying to be set on a copy of a slice from a DataFrame.\n",
            "Try using .loc[row_indexer,col_indexer] = value instead\n",
            "\n",
            "See the caveats in the documentation: https://pandas.pydata.org/pandas-docs/stable/user_guide/indexing.html#returning-a-view-versus-a-copy\n",
            "  df['Postal_code_(BAN)'] = df['Postal_code_(BAN)'].apply(lambda x: x[:2] if x[:2].isdigit() else 'NaN')\n",
            "<ipython-input-95-977e4c42af8e>:9: SettingWithCopyWarning: \n",
            "A value is trying to be set on a copy of a slice from a DataFrame.\n",
            "Try using .loc[row_indexer,col_indexer] = value instead\n",
            "\n",
            "See the caveats in the documentation: https://pandas.pydata.org/pandas-docs/stable/user_guide/indexing.html#returning-a-view-versus-a-copy\n",
            "  df['Postal_code_(BAN)'] = df['Postal_code_(BAN)'].apply(lambda x: float(x) if x != 'NaN' else float('nan'))\n"
          ]
        }
      ]
    },
    {
      "cell_type": "code",
      "source": [
        "import math\n",
        "# Define a function for rounding a year to the nearest 10\n",
        "def round_to_nearest_decade(year):\n",
        "    return math.floor(year / 10) * 10\n",
        "\n",
        "def process_year(df):\n",
        "    df['Year_construction'] = df['Year_construction'].apply(round_to_nearest_decade)\n",
        "    return df\n"
      ],
      "metadata": {
        "id": "2nab99942PXV"
      },
      "execution_count": null,
      "outputs": []
    },
    {
      "cell_type": "code",
      "source": [
        "df_ECS_consumption_no_missing_values = process_year(df_ECS_consumption_no_missing_values)"
      ],
      "metadata": {
        "colab": {
          "base_uri": "https://localhost:8080/"
        },
        "id": "jJTrIpMT2TO1",
        "outputId": "868506b2-f8e0-4b97-a800-628d6d44c7e2"
      },
      "execution_count": null,
      "outputs": [
        {
          "output_type": "stream",
          "name": "stderr",
          "text": [
            "<ipython-input-97-95aec6f7b944>:7: SettingWithCopyWarning: \n",
            "A value is trying to be set on a copy of a slice from a DataFrame.\n",
            "Try using .loc[row_indexer,col_indexer] = value instead\n",
            "\n",
            "See the caveats in the documentation: https://pandas.pydata.org/pandas-docs/stable/user_guide/indexing.html#returning-a-view-versus-a-copy\n",
            "  df['Year_construction'] = df['Year_construction'].apply(round_to_nearest_decade)\n"
          ]
        }
      ]
    },
    {
      "cell_type": "code",
      "source": [
        "# Normalize numeric data\n",
        "scaler = StandardScaler()\n",
        "df_ECS_consumption_no_missing_values[['Primary_ECS_Consumption',\n",
        "                    'Year_construction',\n",
        "                    # 'Living_area_building',\n",
        "                    'Living_area_housing',\n",
        "                    'Postal_code_(BAN)',\n",
        "                    'Final_ECS_Consumption',\n",
        "                    'Primary_5_usages_consumption',\n",
        "                    # 'Type_main_energy_ECS',\n",
        "                    'Final_consumption_ECS_generator_no1',\n",
        "                    # 'Final_consumption_ECS_generator_no2',\n",
        "                    ]] = scaler.fit_transform(df_ECS_consumption_no_missing_values[[\n",
        "                    'Primary_ECS_Consumption',\n",
        "                    'Year_construction',\n",
        "                    # 'Living_area_building',\n",
        "                    'Living_area_housing',\n",
        "                    'Postal_code_(BAN)',\n",
        "                    'Final_ECS_Consumption',\n",
        "                    'Primary_5_usages_consumption',\n",
        "                    # 'Type_main_energy_ECS',\n",
        "                    'Final_consumption_ECS_generator_no1',\n",
        "                    # 'Final_consumption_ECS_generator_no2',\n",
        "                    ]])"
      ],
      "metadata": {
        "colab": {
          "base_uri": "https://localhost:8080/"
        },
        "id": "H-6Mm4VMJScH",
        "outputId": "cc189a35-821c-46fa-aeec-761f4be0ed19"
      },
      "execution_count": null,
      "outputs": [
        {
          "output_type": "stream",
          "name": "stderr",
          "text": [
            "<ipython-input-99-e51dab1ed5d8>:3: SettingWithCopyWarning: \n",
            "A value is trying to be set on a copy of a slice from a DataFrame.\n",
            "Try using .loc[row_indexer,col_indexer] = value instead\n",
            "\n",
            "See the caveats in the documentation: https://pandas.pydata.org/pandas-docs/stable/user_guide/indexing.html#returning-a-view-versus-a-copy\n",
            "  df_ECS_consumption_no_missing_values[['Primary_ECS_Consumption',\n"
          ]
        }
      ]
    },
    {
      "cell_type": "code",
      "source": [
        "def remove_outliers(df, columns):\n",
        "    for column in columns:\n",
        "        Q1 = df[column].quantile(0.25)\n",
        "        Q3 = df[column].quantile(0.75)\n",
        "        IQR = Q3 - Q1\n",
        "\n",
        "        lower_bound = Q1 - 1.5 * IQR\n",
        "        upper_bound = Q3 + 1.5 * IQR\n",
        "\n",
        "        df = df[(df[column] > lower_bound) & (df[column] < upper_bound)]\n",
        "    return df"
      ],
      "metadata": {
        "id": "e_oNsZwUJalV"
      },
      "execution_count": null,
      "outputs": []
    },
    {
      "cell_type": "code",
      "source": [
        "test_columns = ['Primary_ECS_Consumption',\n",
        "                    'Year_construction',\n",
        "                    # 'Living_area_building',\n",
        "                    'Living_area_housing',\n",
        "                    # 'Postal_code_(BAN)',\n",
        "                    'Final_ECS_Consumption',\n",
        "                    'Primary_5_usages_consumption',\n",
        "                    # 'Type_main_energy_ECS',\n",
        "                    'Final_consumption_ECS_generator_no1',\n",
        "                    # 'Final_consumption_ECS_generator_no2',\n",
        "                    ]\n",
        "df_ECS_consumption_no_missing_values_outliers = remove_outliers(df_ECS_consumption_no_missing_values, test_columns)"
      ],
      "metadata": {
        "id": "9r9IOboIJkNY"
      },
      "execution_count": null,
      "outputs": []
    },
    {
      "cell_type": "code",
      "source": [
        "from sklearn.preprocessing import MinMaxScaler\n",
        "\n",
        "scaler = MinMaxScaler(feature_range=(0, 1))\n",
        "df_ECS_consumption_no_missing_values_outliers[[\n",
        "                    'Primary_ECS_Consumption',\n",
        "                    'Year_construction',\n",
        "                    # 'Living_area_building',\n",
        "                    'Living_area_housing',\n",
        "                    # 'Postal_code_(BAN)',\n",
        "                    'Final_ECS_Consumption',\n",
        "                    'Primary_5_usages_consumption',\n",
        "                    # 'Type_main_energy_ECS',\n",
        "                    'Final_consumption_ECS_generator_no1',\n",
        "                    # 'Final_consumption_ECS_generator_no2',\n",
        "                    ]] = scaler.fit_transform(df_ECS_consumption_no_missing_values_outliers[[\n",
        "                    'Primary_ECS_Consumption',\n",
        "                    'Year_construction',\n",
        "                    # 'Living_area_building',\n",
        "                    'Living_area_housing',\n",
        "                    # 'Postal_code_(BAN)',\n",
        "                    'Final_ECS_Consumption',\n",
        "                    'Primary_5_usages_consumption',\n",
        "                    # 'Type_main_energy_ECS',\n",
        "                    'Final_consumption_ECS_generator_no1',\n",
        "                    # 'Final_consumption_ECS_generator_no2',\n",
        "                    ]])\n"
      ],
      "metadata": {
        "id": "iXv78gLMQ_aT"
      },
      "execution_count": null,
      "outputs": []
    },
    {
      "cell_type": "code",
      "source": [
        "check_columns = list(df_ECS_consumption_no_missing_values_outliers.columns.values)\n",
        "# check_class_balance(df_diabetic_data, check_columns)\n",
        "\n",
        "plt.figure(figsize = (20, 40))\n",
        "i = 1\n",
        "column = check_columns\n",
        "\n",
        "# plot the distributions\n",
        "for col in column:\n",
        "    plt.subplot(10, 5, i)\n",
        "    plt.title('The distribution of {}'.format(col))\n",
        "    plt.xlabel('{}'.format(col))\n",
        "    # plt.ylabel('Count')\n",
        "    plt.hist(df_ECS_consumption_no_missing_values_outliers[col])\n",
        "    i += 1\n",
        "\n",
        "plt.subplots_adjust(wspace = 0.3, hspace = 0.5)"
      ],
      "metadata": {
        "colab": {
          "base_uri": "https://localhost:8080/"
        },
        "id": "aBgueD-TJnht",
        "outputId": "85e32103-25d6-4cd2-caa0-834cba5f3f80"
      },
      "execution_count": null,
      "outputs": [
        {
          "output_type": "display_data",
          "data": {
            "text/plain": [
              "<Figure size 2000x4000 with 8 Axes>"
            ],
            "image/png": "[encoded data removed]"
          },
          "metadata": {}
        }
      ]
    },
    {
      "cell_type": "code",
      "source": [
        "df_ECS_consumption_no_missing_values_outliers.describe()"
      ],
      "metadata": {
        "colab": {
          "base_uri": "https://localhost:8080/"
        },
        "id": "9PhEviBPJnj8",
        "outputId": "f32742e2-eb42-45af-bfd8-8ed5d3eecd0d"
      },
      "execution_count": null,
      "outputs": [
        {
          "output_type": "execute_result",
          "data": {
            "text/plain": [
              "       Primary_ECS_Consumption  Type_main_energy_ECS  Year_construction  \\\n",
              "count             1.657443e+06          1.657443e+06       1.657443e+06   \n",
              "mean              3.771526e-01          6.463106e-01       5.017682e-01   \n",
              "std               1.675464e-01          5.954056e-01       1.543323e-01   \n",
              "min               0.000000e+00          0.000000e+00       0.000000e+00   \n",
              "25%               2.363253e-01          0.000000e+00       3.684211e-01   \n",
              "50%               3.612569e-01          1.000000e+00       5.263158e-01   \n",
              "75%               5.112185e-01          1.000000e+00       6.315789e-01   \n",
              "max               1.000000e+00          3.000000e+00       1.000000e+00   \n",
              "\n",
              "       Living_area_housing  Postal_code_(BAN)  Final_ECS_Consumption  \\\n",
              "count         1.657443e+06       1.657443e+06           1.657443e+06   \n",
              "mean          4.249886e-01      -4.759844e-02           4.706922e-01   \n",
              "std           1.947503e-01       9.811678e-01           1.680267e-01   \n",
              "min           0.000000e+00      -1.965726e+00           0.000000e+00   \n",
              "25%           2.834008e-01      -8.514078e-01           3.670536e-01   \n",
              "50%           4.149798e-01       7.719066e-02           4.730790e-01   \n",
              "75%           5.445344e-01       7.829255e-01           5.698913e-01   \n",
              "max           1.000000e+00       1.600092e+00           1.000000e+00   \n",
              "\n",
              "       Primary_5_usages_consumption  Final_consumption_ECS_generator_no1  \n",
              "count                  1.657443e+06                         1.657443e+06  \n",
              "mean                   3.793873e-01                         4.885121e-01  \n",
              "std                    2.132077e-01                         1.666565e-01  \n",
              "min                    0.000000e+00                         0.000000e+00  \n",
              "25%                    2.127863e-01                         3.851863e-01  \n",
              "50%                    3.337101e-01                         4.919691e-01  \n",
              "75%                    5.090691e-01                         5.871949e-01  \n",
              "max                    1.000000e+00                         1.000000e+00  "
            ],
            "text/html": [
              "\n",
              "\n",
              "  <div id=\"df-dc3bf6c2-9842-432a-b376-60068dae339b\">\n",
              "    <div class=\"colab-df-container\">\n",
              "      <div>\n",
              "<style scoped>\n",
              "    .dataframe tbody tr th:only-of-type {\n",
              "        vertical-align: middle;\n",
              "    }\n",
              "\n",
              "    .dataframe tbody tr th {\n",
              "        vertical-align: top;\n",
              "    }\n",
              "\n",
              "    .dataframe thead th {\n",
              "        text-align: right;\n",
              "    }\n",
              "</style>\n",
              "<table border=\"1\" class=\"dataframe\">\n",
              "  <thead>\n",
              "    <tr style=\"text-align: right;\">\n",
              "      <th></th>\n",
              "      <th>Primary_ECS_Consumption</th>\n",
              "      <th>Type_main_energy_ECS</th>\n",
              "      <th>Year_construction</th>\n",
              "      <th>Living_area_housing</th>\n",
              "      <th>Postal_code_(BAN)</th>\n",
              "      <th>Final_ECS_Consumption</th>\n",
              "      <th>Primary_5_usages_consumption</th>\n",
              "      <th>Final_consumption_ECS_generator_no1</th>\n",
              "    </tr>\n",
              "  </thead>\n",
              "  <tbody>\n",
              "    <tr>\n",
              "      <th>count</th>\n",
              "      <td>1.657443e+06</td>\n",
              "      <td>1.657443e+06</td>\n",
              "      <td>1.657443e+06</td>\n",
              "      <td>1.657443e+06</td>\n",
              "      <td>1.657443e+06</td>\n",
              "      <td>1.657443e+06</td>\n",
              "      <td>1.657443e+06</td>\n",
              "      <td>1.657443e+06</td>\n",
              "    </tr>\n",
              "    <tr>\n",
              "      <th>mean</th>\n",
              "      <td>3.771526e-01</td>\n",
              "      <td>6.463106e-01</td>\n",
              "      <td>5.017682e-01</td>\n",
              "      <td>4.249886e-01</td>\n",
              "      <td>-4.759844e-02</td>\n",
              "      <td>4.706922e-01</td>\n",
              "      <td>3.793873e-01</td>\n",
              "      <td>4.885121e-01</td>\n",
              "    </tr>\n",
              "    <tr>\n",
              "      <th>std</th>\n",
              "      <td>1.675464e-01</td>\n",
              "      <td>5.954056e-01</td>\n",
              "      <td>1.543323e-01</td>\n",
              "      <td>1.947503e-01</td>\n",
              "      <td>9.811678e-01</td>\n",
              "      <td>1.680267e-01</td>\n",
              "      <td>2.132077e-01</td>\n",
              "      <td>1.666565e-01</td>\n",
              "    </tr>\n",
              "    <tr>\n",
              "      <th>min</th>\n",
              "      <td>0.000000e+00</td>\n",
              "      <td>0.000000e+00</td>\n",
              "      <td>0.000000e+00</td>\n",
              "      <td>0.000000e+00</td>\n",
              "      <td>-1.965726e+00</td>\n",
              "      <td>0.000000e+00</td>\n",
              "      <td>0.000000e+00</td>\n",
              "      <td>0.000000e+00</td>\n",
              "    </tr>\n",
              "    <tr>\n",
              "      <th>25%</th>\n",
              "      <td>2.363253e-01</td>\n",
              "      <td>0.000000e+00</td>\n",
              "      <td>3.684211e-01</td>\n",
              "      <td>2.834008e-01</td>\n",
              "      <td>-8.514078e-01</td>\n",
              "      <td>3.670536e-01</td>\n",
              "      <td>2.127863e-01</td>\n",
              "      <td>3.851863e-01</td>\n",
              "    </tr>\n",
              "    <tr>\n",
              "      <th>50%</th>\n",
              "      <td>3.612569e-01</td>\n",
              "      <td>1.000000e+00</td>\n",
              "      <td>5.263158e-01</td>\n",
              "      <td>4.149798e-01</td>\n",
              "      <td>7.719066e-02</td>\n",
              "      <td>4.730790e-01</td>\n",
              "      <td>3.337101e-01</td>\n",
              "      <td>4.919691e-01</td>\n",
              "    </tr>\n",
              "    <tr>\n",
              "      <th>75%</th>\n",
              "      <td>5.112185e-01</td>\n",
              "      <td>1.000000e+00</td>\n",
              "      <td>6.315789e-01</td>\n",
              "      <td>5.445344e-01</td>\n",
              "      <td>7.829255e-01</td>\n",
              "      <td>5.698913e-01</td>\n",
              "      <td>5.090691e-01</td>\n",
              "      <td>5.871949e-01</td>\n",
              "    </tr>\n",
              "    <tr>\n",
              "      <th>max</th>\n",
              "      <td>1.000000e+00</td>\n",
              "      <td>3.000000e+00</td>\n",
              "      <td>1.000000e+00</td>\n",
              "      <td>1.000000e+00</td>\n",
              "      <td>1.600092e+00</td>\n",
              "      <td>1.000000e+00</td>\n",
              "      <td>1.000000e+00</td>\n",
              "      <td>1.000000e+00</td>\n",
              "    </tr>\n",
              "  </tbody>\n",
              "</table>\n",
              "</div>\n",
              "      <button class=\"colab-df-convert\" onclick=\"convertToInteractive('df-dc3bf6c2-9842-432a-b376-60068dae339b')\"\n",
              "              title=\"Convert this dataframe to an interactive table.\"\n",
              "              style=\"display:none;\">\n",
              "\n",
              "  <svg xmlns=\"http://www.w3.org/2000/svg\" height=\"24px\"viewBox=\"0 0 24 24\"\n",
              "       width=\"24px\">\n",
              "    <path d=\"M0 0h24v24H0V0z\" fill=\"none\"/>\n",
              "    <path d=\"M18.56 5.44l.94 2.06.94-2.06 2.06-.94-2.06-.94-.94-2.06-.94 2.06-2.06.94zm-11 1L8.5 8.5l.94-2.06 2.06-.94-2.06-.94L8.5 2.5l-.94 2.06-2.06.94zm10 10l.94 2.06.94-2.06 2.06-.94-2.06-.94-.94-2.06-.94 2.06-2.06.94z\"/><path d=\"M17.41 7.96l-1.37-1.37c-.4-.4-.92-.59-1.43-.59-.52 0-1.04.2-1.43.59L10.3 9.45l-7.72 7.72c-.78.78-.78 2.05 0 2.83L4 21.41c.39.39.9.59 1.41.59.51 0 1.02-.2 1.41-.59l7.78-7.78 2.81-2.81c.8-.78.8-2.07 0-2.86zM5.41 20L4 18.59l7.72-7.72 1.47 1.35L5.41 20z\"/>\n",
              "  </svg>\n",
              "      </button>\n",
              "\n",
              "\n",
              "\n",
              "    <div id=\"df-28f6c1c3-91f1-41ce-b22f-cf209d522ed5\">\n",
              "      <button class=\"colab-df-quickchart\" onclick=\"quickchart('df-28f6c1c3-91f1-41ce-b22f-cf209d522ed5')\"\n",
              "              title=\"Suggest charts.\"\n",
              "              style=\"display:none;\">\n",
              "\n",
              "<svg xmlns=\"http://www.w3.org/2000/svg\" height=\"24px\"viewBox=\"0 0 24 24\"\n",
              "     width=\"24px\">\n",
              "    <g>\n",
              "        <path d=\"M19 3H5c-1.1 0-2 .9-2 2v14c0 1.1.9 2 2 2h14c1.1 0 2-.9 2-2V5c0-1.1-.9-2-2-2zM9 17H7v-7h2v7zm4 0h-2V7h2v10zm4 0h-2v-4h2v4z\"/>\n",
              "    </g>\n",
              "</svg>\n",
              "      </button>\n",
              "    </div>\n",
              "\n",
              "<style>\n",
              "  .colab-df-quickchart {\n",
              "    background-color: #E8F0FE;\n",
              "    border: none;\n",
              "    border-radius: 50%;\n",
              "    cursor: pointer;\n",
              "    display: none;\n",
              "    fill: #1967D2;\n",
              "    height: 32px;\n",
              "    padding: 0 0 0 0;\n",
              "    width: 32px;\n",
              "  }\n",
              "\n",
              "  .colab-df-quickchart:hover {\n",
              "    background-color: #E2EBFA;\n",
              "    box-shadow: 0px 1px 2px rgba(60, 64, 67, 0.3), 0px 1px 3px 1px rgba(60, 64, 67, 0.15);\n",
              "    fill: #174EA6;\n",
              "  }\n",
              "\n",
              "  [theme=dark] .colab-df-quickchart {\n",
              "    background-color: #3B4455;\n",
              "    fill: #D2E3FC;\n",
              "  }\n",
              "\n",
              "  [theme=dark] .colab-df-quickchart:hover {\n",
              "    background-color: #434B5C;\n",
              "    box-shadow: 0px 1px 3px 1px rgba(0, 0, 0, 0.15);\n",
              "    filter: drop-shadow(0px 1px 2px rgba(0, 0, 0, 0.3));\n",
              "    fill: #FFFFFF;\n",
              "  }\n",
              "</style>\n",
              "\n",
              "    <script>\n",
              "      async function quickchart(key) {\n",
              "        const containerElement = document.querySelector('#' + key);\n",
              "        const charts = await google.colab.kernel.invokeFunction(\n",
              "            'suggestCharts', [key], {});\n",
              "      }\n",
              "    </script>\n",
              "\n",
              "      <script>\n",
              "\n",
              "function displayQuickchartButton(domScope) {\n",
              "  let quickchartButtonEl =\n",
              "    domScope.querySelector('#df-28f6c1c3-91f1-41ce-b22f-cf209d522ed5 button.colab-df-quickchart');\n",
              "  quickchartButtonEl.style.display =\n",
              "    google.colab.kernel.accessAllowed ? 'block' : 'none';\n",
              "}\n",
              "\n",
              "        displayQuickchartButton(document);\n",
              "      </script>\n",
              "      <style>\n",
              "    .colab-df-container {\n",
              "      display:flex;\n",
              "      flex-wrap:wrap;\n",
              "      gap: 12px;\n",
              "    }\n",
              "\n",
              "    .colab-df-convert {\n",
              "      background-color: #E8F0FE;\n",
              "      border: none;\n",
              "      border-radius: 50%;\n",
              "      cursor: pointer;\n",
              "      display: none;\n",
              "      fill: #1967D2;\n",
              "      height: 32px;\n",
              "      padding: 0 0 0 0;\n",
              "      width: 32px;\n",
              "    }\n",
              "\n",
              "    .colab-df-convert:hover {\n",
              "      background-color: #E2EBFA;\n",
              "      box-shadow: 0px 1px 2px rgba(60, 64, 67, 0.3), 0px 1px 3px 1px rgba(60, 64, 67, 0.15);\n",
              "      fill: #174EA6;\n",
              "    }\n",
              "\n",
              "    [theme=dark] .colab-df-convert {\n",
              "      background-color: #3B4455;\n",
              "      fill: #D2E3FC;\n",
              "    }\n",
              "\n",
              "    [theme=dark] .colab-df-convert:hover {\n",
              "      background-color: #434B5C;\n",
              "      box-shadow: 0px 1px 3px 1px rgba(0, 0, 0, 0.15);\n",
              "      filter: drop-shadow(0px 1px 2px rgba(0, 0, 0, 0.3));\n",
              "      fill: #FFFFFF;\n",
              "    }\n",
              "  </style>\n",
              "\n",
              "      <script>\n",
              "        const buttonEl =\n",
              "          document.querySelector('#df-dc3bf6c2-9842-432a-b376-60068dae339b button.colab-df-convert');\n",
              "        buttonEl.style.display =\n",
              "          google.colab.kernel.accessAllowed ? 'block' : 'none';\n",
              "\n",
              "        async function convertToInteractive(key) {\n",
              "          const element = document.querySelector('#df-dc3bf6c2-9842-432a-b376-60068dae339b');\n",
              "          const dataTable =\n",
              "            await google.colab.kernel.invokeFunction('convertToInteractive',\n",
              "                                                     [key], {});\n",
              "          if (!dataTable) return;\n",
              "\n",
              "          const docLinkHtml = 'Like what you see? Visit the ' +\n",
              "            '<a target=\"_blank\" href=https://colab.research.google.com/notebooks/data_table.ipynb>data table notebook</a>'\n",
              "            + ' to learn more about interactive tables.';\n",
              "          element.innerHTML = '';\n",
              "          dataTable['output_type'] = 'display_data';\n",
              "          await google.colab.output.renderOutput(dataTable, element);\n",
              "          const docLink = document.createElement('div');\n",
              "          docLink.innerHTML = docLinkHtml;\n",
              "          element.appendChild(docLink);\n",
              "        }\n",
              "      </script>\n",
              "    </div>\n",
              "  </div>\n"
            ]
          },
          "metadata": {},
          "execution_count": 104
        }
      ]
    },
    {
      "cell_type": "code",
      "source": [
        "plt.figure(figsize = (10, 10))\n",
        "plt.title('Spearman Correlation of Features', size = 15)\n",
        "sns.heatmap(df_ECS_consumption_no_missing_values_outliers.astype(float).corr(method = 'spearman'), linewidths = 0.1, vmax = 1.0, square = True, cmap = 'RdBu_r', linecolor = 'white', annot = True)"
      ],
      "metadata": {
        "colab": {
          "base_uri": "https://localhost:8080/"
        },
        "id": "Rp8bkdQyJwKD",
        "outputId": "bc677b22-537e-4e95-9160-5ab7b12bdd5d"
      },
      "execution_count": null,
      "outputs": [
        {
          "output_type": "execute_result",
          "data": {
            "text/plain": [
              "<Axes: title={'center': 'Spearman Correlation of Features'}>"
            ]
          },
          "metadata": {},
          "execution_count": 105
        },
        {
          "output_type": "display_data",
          "data": {
            "text/plain": [
              "<Figure size 1000x1000 with 2 Axes>"
            ],
            "image/png": "[encoded data removed]"
          },
          "metadata": {}
        }
      ]
    },
    {
      "cell_type": "markdown",
      "source": [
        "### Plot functions"
      ],
      "metadata": {
        "id": "7qsJ8vhj2eaL"
      }
    },
    {
      "cell_type": "code",
      "source": [
        "def count_and_plot_completed_data(completed_data_numpy):\n",
        "    '''\n",
        "    Func:\n",
        "        Count and plot the frequency of each value before imputation\n",
        "    Input:\n",
        "        df : Dataframe, no missing values.(Train set)\n",
        "    Output:\n",
        "        No Return\n",
        "\n",
        "    '''\n",
        "    # Count unique values in numpy array\n",
        "    values, counts = np.unique(completed_data_numpy, return_counts = True)\n",
        "\n",
        "    # Calculate frequencies\n",
        "    frequencies = counts / counts.sum()\n",
        "    percentages = 100 * frequencies\n",
        "\n",
        "    # Create bar plot\n",
        "    plt.figure(figsize = (10, 5))\n",
        "    bars = plt.bar(values, counts, color = 'blue')\n",
        "\n",
        "    plt.xlabel('Values')\n",
        "    plt.ylabel('Counts')\n",
        "    plt.title('Count of unique values in completed data')\n",
        "\n",
        "    # Add percentage on top of each bar\n",
        "    for bar, percentage in zip(bars, percentages):\n",
        "        yval = bar.get_height()\n",
        "        plt.text(bar.get_x() + bar.get_width() / 2, yval + 0.005, round(percentage, 2), ha = 'center', va = 'bottom')\n",
        "\n",
        "    plt.show()\n"
      ],
      "metadata": {
        "id": "f6BtzfeFCriM"
      },
      "execution_count": null,
      "outputs": []
    },
    {
      "cell_type": "code",
      "source": [
        "def count_and_plot_missing_data(missing_data_numpy, mask):\n",
        "    '''\n",
        "    Func:\n",
        "        Count and plot the frequency of each value in imputated data.\n",
        "    Input:\n",
        "        df : Dataframe, imputated data.\n",
        "        mask : The position of the missing value in the array.\n",
        "    Output:\n",
        "        No Return\n",
        "\n",
        "    '''\n",
        "    # Apply mask to numpy array\n",
        "    masked_data = missing_data_numpy[mask]\n",
        "\n",
        "    # Count unique values in numpy array\n",
        "    values, counts = np.unique(masked_data, return_counts=True)\n",
        "\n",
        "    # Calculate frequencies\n",
        "    frequencies = counts / counts.sum()\n",
        "    percentages = 100 * frequencies\n",
        "\n",
        "    # Create bar plot\n",
        "    plt.figure(figsize=(10,5))\n",
        "    bars = plt.bar(values, counts, color='blue')\n",
        "\n",
        "    plt.xlabel('Values')\n",
        "    plt.ylabel('Counts')\n",
        "    plt.title('Count of unique values in masked numpy array')\n",
        "\n",
        "    # Add percentage on top of each bar\n",
        "    for bar, percentage in zip(bars, percentages):\n",
        "        yval = bar.get_height()\n",
        "        plt.text(bar.get_x() + bar.get_width()/2, yval + 0.005, round(percentage, 2), ha='center', va='bottom')\n",
        "\n",
        "    plt.show()\n"
      ],
      "metadata": {
        "id": "pa10S6t6CxHx"
      },
      "execution_count": null,
      "outputs": []
    },
    {
      "cell_type": "code",
      "source": [
        "def count_and_plot_missing_data(df, column_name, mask):\n",
        "    '''\n",
        "    Func:\n",
        "        Count and plot the frequency of each value in imputed data.\n",
        "    Input:\n",
        "        df : Dataframe, imputed data.\n",
        "        mask : The position of the missing value in the array.\n",
        "        column_name : String, the name of the column to be plotted.\n",
        "    Output:\n",
        "        No Return\n",
        "\n",
        "    '''\n",
        "    # Get the column index\n",
        "    column_index = df.columns.get_loc(column_name)\n",
        "\n",
        "    # Apply mask to the specific column in the numpy array\n",
        "    masked_data = df.values[mask, column_index]\n",
        "\n",
        "    # Count unique values in numpy array\n",
        "    values, counts = np.unique(masked_data, return_counts=True)\n",
        "\n",
        "    # Calculate frequencies\n",
        "    frequencies = counts / counts.sum()\n",
        "    percentages = 100 * frequencies\n",
        "\n",
        "    # Create bar plot\n",
        "    plt.figure(figsize=(10,5))\n",
        "    bars = plt.bar(values, counts, color='blue')\n",
        "\n",
        "    plt.xlabel('Values')\n",
        "    plt.ylabel('Counts')\n",
        "    plt.title(f'Count of unique values in masked numpy array for {column_name}')\n",
        "\n",
        "    # Add percentage on top of each bar\n",
        "    for bar, percentage in zip(bars, percentages):\n",
        "        yval = bar.get_height()\n",
        "        plt.text(bar.get_x() + bar.get_width()/2, yval + 0.005, round(percentage, 2), ha='center', va='bottom')\n",
        "\n",
        "    plt.show()\n"
      ],
      "metadata": {
        "id": "4Uso2nZcXidV"
      },
      "execution_count": null,
      "outputs": []
    },
    {
      "cell_type": "markdown",
      "source": [
        "# Traditional DAE for ECS"
      ],
      "metadata": {
        "id": "rSJ2Y9at5vyU"
      }
    },
    {
      "cell_type": "code",
      "source": [
        "import tensorflow as tf\n",
        "from tensorflow.keras import layers\n",
        "from sklearn.preprocessing import StandardScaler\n",
        "from tensorflow.keras.callbacks import EarlyStopping\n",
        "import numpy as np"
      ],
      "metadata": {
        "id": "yYhwijbk5vya"
      },
      "execution_count": null,
      "outputs": []
    },
    {
      "cell_type": "code",
      "source": [
        "# DAE1, can handle classification and regression tasks at the same time, using leaky_relu activation function\n",
        "class DAE(tf.keras.Model):\n",
        "    def __init__(self, original_dim,  name=\"dae\", **kwargs):\n",
        "        super(DAE, self).__init__(name=name, **kwargs)\n",
        "        self.encoder = tf.keras.Sequential([\n",
        "            layers.Dense(original_dim, activation = 'leaky_relu'),\n",
        "            layers.Dense(8, activation = 'leaky_relu'),\n",
        "            layers.Dense(4, activation = 'leaky_relu'),\n",
        "            layers.Dense(4, activation = 'leaky_relu'),\n",
        "\n",
        "        ])\n",
        "\n",
        "        # An encoder that deals with continuous variables,\n",
        "        # its goal is to restore the features of the fourth column and beyond\n",
        "        self.decoder = tf.keras.Sequential([\n",
        "            # layers.Dense(256, activation = 'leaky_relu'),\n",
        "            layers.Dense(4, activation = 'leaky_relu'),\n",
        "            layers.Dense(4, activation = 'leaky_relu'),\n",
        "            layers.Dense(8, activation = 'leaky_relu'),\n",
        "            layers.Dropout(0.2),\n",
        "            layers.Dense(original_dim, activation = 'leaky_relu')\n",
        "        ])\n",
        "\n",
        "    def call(self, inputs):\n",
        "        encoded = self.encoder(inputs)\n",
        "        decoded = self.decoder(encoded)\n",
        "\n",
        "        return decoded\n"
      ],
      "metadata": {
        "id": "0Rj-Zcy25vya"
      },
      "execution_count": null,
      "outputs": []
    },
    {
      "cell_type": "code",
      "source": [
        "dae_dataset = df_ECS_consumption_no_missing_values_outliers\n",
        "target_column = 'Primary_ECS_Consumption'"
      ],
      "metadata": {
        "id": "sluqy6Bv5vyb"
      },
      "execution_count": null,
      "outputs": []
    },
    {
      "cell_type": "code",
      "source": [
        "from sklearn.model_selection import train_test_split\n",
        "\n",
        "# Divide the dataset into training and validation sets\n",
        "x_train, x_val = train_test_split(dae_dataset, test_size = 0.2, random_state = 1)\n",
        "x_true = x_val.copy()"
      ],
      "metadata": {
        "id": "1Daayd125vyb"
      },
      "execution_count": null,
      "outputs": []
    },
    {
      "cell_type": "code",
      "source": [
        "import matplotlib.pyplot as plt\n",
        "\n",
        "def plot_loss(history, save_path, fig_title):\n",
        "    plt.plot(history)\n",
        "    plt.title(fig_title)\n",
        "    plt.ylabel('Loss')\n",
        "    plt.xlabel('Epoch')\n",
        "    plt.legend(['Train Loss'], loc='upper right')\n",
        "    plt.savefig(save_path)\n",
        "    plt.show()\n"
      ],
      "metadata": {
        "id": "0a1IWVeP5vyb"
      },
      "execution_count": null,
      "outputs": []
    },
    {
      "cell_type": "code",
      "source": [
        "# In the ensemble method, the training code of DAE1 replaces a random mask every round of training.\n",
        "\n",
        "# Convert the dataset to np format\n",
        "x_train_np = x_train.values\n",
        "\n",
        "dae = DAE(original_dim = x_train_np.shape[1])\n",
        "optimizer = tf.keras.optimizers.Adam(learning_rate = 0.001)\n",
        "dae.compile(optimizer, loss=tf.keras.losses.MeanAbsoluteError())\n",
        "\n",
        "# set up early stopping, but this has no effect when iterations_per_noise = 1.\n",
        "early_stop = EarlyStopping(monitor='loss', min_delta = 0.0005, patience=5)\n",
        "\n",
        "# multiple epochs with different sparsity noise\n",
        "num_epochs = 20\n",
        "iterations_per_noise = 20\n",
        "loss_history = []\n",
        "fig_title = 'DAE Loss'\n",
        "save_path = '/content/gdrive/MyDrive/Colab Notebooks/DPE_code/result/dae_result_ECS.png'\n",
        "\n",
        "for epoch in range(num_epochs // iterations_per_noise):\n",
        "    # create a new array with the same shape as x_train_np but with all elements -1\n",
        "    x_train_np_minus_one = np.full(x_train_np.shape, -1)\n",
        "\n",
        "    # Create a mask, the shape of the mask is the same as x_train_np, p = masking_factor represents the probability of 1 on the mask\n",
        "    masking_factor = 0.70       # Note that due to the replacement rules in tf.where later, the masking factor here should be 1-target value\n",
        "    mask = np.random.binomial(n = 1, p = masking_factor, size = x_train_np.shape)\n",
        "\n",
        "    # Use the tf.where function to replace the value in x_train_np with -1 according to the mask to get the noise data\n",
        "    x_train_np_noisy = tf.where(mask == 1, x_train_np, x_train_np_minus_one)\n",
        "\n",
        "    for iteration in range(iterations_per_noise):\n",
        "        print(f\"Noise Epoch {epoch + 1}/{num_epochs // iterations_per_noise}, Iteration {iteration + 1}/{iterations_per_noise}\")\n",
        "        # dae.fit(x_train_np_noisy, x_train_np, batch_size = 256, callbacks=[early_stop])\n",
        "        history = dae.fit(x_train_np_noisy, x_train_np, batch_size = 256, callbacks=[early_stop], verbose=0)\n",
        "        print(\"Train loss: \",history.history['loss'][0])\n",
        "        loss_history.append(history.history['loss'][0])\n",
        "\n",
        "plot_loss(loss_history, save_path, fig_title)\n"
      ],
      "metadata": {
        "colab": {
          "base_uri": "https://localhost:8080/",
          "height": 1000
        },
        "id": "3uyKjg1H5vyb",
        "outputId": "a901d0b6-d4b7-4b9f-ca68-6bcaebaac5eb"
      },
      "execution_count": null,
      "outputs": [
        {
          "output_type": "stream",
          "name": "stdout",
          "text": [
            "Noise Epoch 1/1, Iteration 1/20\n",
            "Train loss:  0.22702692449092865\n",
            "Noise Epoch 1/1, Iteration 2/20\n",
            "Train loss:  0.19665417075157166\n",
            "Noise Epoch 1/1, Iteration 3/20\n",
            "Train loss:  0.1940733641386032\n",
            "Noise Epoch 1/1, Iteration 4/20\n",
            "Train loss:  0.1927998661994934\n",
            "Noise Epoch 1/1, Iteration 5/20\n",
            "Train loss:  0.19202080368995667\n",
            "Noise Epoch 1/1, Iteration 6/20\n",
            "Train loss:  0.19162215292453766\n",
            "Noise Epoch 1/1, Iteration 7/20\n",
            "Train loss:  0.1912563145160675\n",
            "Noise Epoch 1/1, Iteration 8/20\n",
            "Train loss:  0.19090460240840912\n",
            "Noise Epoch 1/1, Iteration 9/20\n",
            "Train loss:  0.1907566785812378\n",
            "Noise Epoch 1/1, Iteration 10/20\n",
            "Train loss:  0.19063431024551392\n",
            "Noise Epoch 1/1, Iteration 11/20\n",
            "Train loss:  0.1905761957168579\n",
            "Noise Epoch 1/1, Iteration 12/20\n",
            "Train loss:  0.19046106934547424\n",
            "Noise Epoch 1/1, Iteration 13/20\n",
            "Train loss:  0.19041581451892853\n",
            "Noise Epoch 1/1, Iteration 14/20\n",
            "Train loss:  0.1903962939977646\n",
            "Noise Epoch 1/1, Iteration 15/20\n",
            "Train loss:  0.1903078407049179\n",
            "Noise Epoch 1/1, Iteration 16/20\n",
            "Train loss:  0.19027738273143768\n",
            "Noise Epoch 1/1, Iteration 17/20\n",
            "Train loss:  0.1902175098657608\n",
            "Noise Epoch 1/1, Iteration 18/20\n",
            "Train loss:  0.19015823304653168\n",
            "Noise Epoch 1/1, Iteration 19/20\n",
            "Train loss:  0.19017250835895538\n",
            "Noise Epoch 1/1, Iteration 20/20\n",
            "Train loss:  0.19014161825180054\n"
          ]
        },
        {
          "output_type": "display_data",
          "data": {
            "text/plain": [
              "<Figure size 640x480 with 1 Axes>"
            ],
            "image/png": "[encoded data removed]"
          },
          "metadata": {}
        }
      ]
    },
    {
      "cell_type": "code",
      "source": [
        "# Interpolation process function. This function is used for non-ensemble methods.\n",
        "def insert_and_impute(df, df_true, train_df, column_name, fraction, vae, num_iterations = 10):\n",
        "    # Create a copy of df\n",
        "    df_copy = df.copy()\n",
        "    df_copy_np = df_copy.values\n",
        "\n",
        "    # create a new array with the same shape as x_train_np but with all elements -1\n",
        "    df_copy_np_minus_one = np.full(df_copy_np.shape, -1)\n",
        "\n",
        "    # Create a mask, the shape of the mask is the same as x_train_np, p = masking_factor represents the probability of 1 on the mask\n",
        "    masking_factor = 1 - fraction\n",
        "    mask = np.random.binomial(n = 1, p = masking_factor, size = df_copy_np.shape)\n",
        "\n",
        "    # Use the tf.where function to replace the value in x_train_np with -1 according to the mask to get the noise data\n",
        "    df_copy_np_noisy = tf.where(mask, df_copy_np, df_copy_np_minus_one)\n",
        "    df_copy_np_noisy = tf.cast(df_copy_np_noisy, tf.float32)\n",
        "\n",
        "    # print(df_copy_np_noisy)\n",
        "\n",
        "    # Convert dataframe to input format accepted by vae\n",
        "    missing_data = tf.Variable(df_copy_np_noisy, dtype = tf.float32, trainable=True)\n",
        "    true_data = tf.Variable(df_true.values.astype('float32'), trainable = True)\n",
        "\n",
        "    # Convert numpy mask to tensorflow tensor\n",
        "    mask = tf.convert_to_tensor(mask, dtype = tf.bool)\n",
        "    mask = np.logical_not(mask)\n",
        "\n",
        "    # Get the column index for the loss calculation\n",
        "    column_index = df.columns.get_loc(column_name)\n",
        "\n",
        "    # Iterate num_iterations rounds to impute missing values\n",
        "    for i in range(num_iterations):\n",
        "        # Get imputed data\n",
        "        imputed_data = vae(missing_data)\n",
        "        # imputed_data = reshape_dae_output(imputed_data)\n",
        "\n",
        "        # RMSE on specified column\n",
        "        # loss = tf.sqrt(tf.reduce_mean(tf.square((imputed_data[:, column_index] - true_data[:, column_index])[mask[:, column_index]])))\n",
        "        # MAE on specified column\n",
        "        loss = tf.reduce_mean(tf.abs(imputed_data[:, column_index] - true_data[:, column_index])[mask[:, column_index]])\n",
        "        print('Target column loss:', loss)\n",
        "\n",
        "        loss = tf.reduce_mean(tf.abs(imputed_data - true_data)[mask])\n",
        "        print('Loss:', loss)\n",
        "\n",
        "        # Apply mask to imputed and true data\n",
        "        imputed_data_masked = tf.boolean_mask(imputed_data[:, column_index], mask[:, column_index])\n",
        "        true_data_masked = tf.boolean_mask(true_data[:, column_index], mask[:, column_index])\n",
        "\n",
        "        # Create a mask for correct imputations\n",
        "        accuracy_mask = (tf.abs(imputed_data_masked - true_data_masked) < 0.03)\n",
        "\n",
        "        # Calculate accuracy by dividing the number of correct imputations by the total number of imputations\n",
        "        accuracy = tf.reduce_mean(tf.cast(accuracy_mask, tf.float32))\n",
        "\n",
        "        print('Imputation accuracy:', accuracy)\n",
        "\n",
        "        # Fill missing parts of missing_data with imputed_data\n",
        "        missing_data.assign(tf.where(mask, imputed_data, missing_data))\n",
        "\n",
        "    df_copy[:] = missing_data.numpy()\n",
        "\n",
        "    return df_copy, mask\n"
      ],
      "metadata": {
        "id": "le6Rx_r85vyb"
      },
      "execution_count": null,
      "outputs": []
    },
    {
      "cell_type": "code",
      "source": [
        "# Test the correct rate of the target column of DAE1 when the missing ratio is 20%.\n",
        "df_insulation_floor_imputed_traditional_dae, mask = insert_and_impute(x_val, x_true, x_train, target_column, 0.2, dae, num_iterations = 1)"
      ],
      "metadata": {
        "colab": {
          "base_uri": "https://localhost:8080/"
        },
        "id": "U0qEt-cv5vyc",
        "outputId": "6653845e-32de-47c0-c21e-b5c7a93f3beb"
      },
      "execution_count": null,
      "outputs": [
        {
          "output_type": "stream",
          "name": "stdout",
          "text": [
            "Target column loss: tf.Tensor(0.06980219, shape=(), dtype=float32)\n",
            "Loss: tf.Tensor(0.20330647, shape=(), dtype=float32)\n",
            "Imputation accuracy: tf.Tensor(0.47840768, shape=(), dtype=float32)\n"
          ]
        }
      ]
    },
    {
      "cell_type": "code",
      "source": [
        "# Test the correct rate of the target column of DAE1 when the missing ratio is 10%.\n",
        "df_insulation_floor_imputed_traditional_dae, mask = insert_and_impute(x_val, x_true, x_train, target_column, 0.1, dae, num_iterations = 1)"
      ],
      "metadata": {
        "colab": {
          "base_uri": "https://localhost:8080/"
        },
        "id": "DndjtBTV5vyc",
        "outputId": "a0cc9778-14a3-431f-9ab2-d75d306cb987"
      },
      "execution_count": null,
      "outputs": [
        {
          "output_type": "stream",
          "name": "stdout",
          "text": [
            "Target column loss: tf.Tensor(0.056292806, shape=(), dtype=float32)\n",
            "Loss: tf.Tensor(0.19277255, shape=(), dtype=float32)\n",
            "Imputation accuracy: tf.Tensor(0.5385427, shape=(), dtype=float32)\n"
          ]
        }
      ]
    },
    {
      "cell_type": "markdown",
      "source": [
        "# DE-DAE for ECS"
      ],
      "metadata": {
        "id": "6pVpaumh7I8k"
      }
    },
    {
      "cell_type": "code",
      "source": [
        "# DAE1, can handle classification and regression tasks at the same time, using leaky_relu activation function\n",
        "class DAE(tf.keras.Model):\n",
        "    def __init__(self, original_dim,  name=\"dae\", **kwargs):\n",
        "        super(DAE, self).__init__(name=name, **kwargs)\n",
        "        self.encoder = tf.keras.Sequential([\n",
        "            layers.Dense(original_dim, activation = 'leaky_relu'),\n",
        "            layers.Dense(16, activation = 'leaky_relu'),\n",
        "            layers.Dense(32, activation = 'leaky_relu'),\n",
        "            layers.Dense(64, activation = 'leaky_relu'),\n",
        "            layers.Dense(128, activation = 'leaky_relu'),\n",
        "            # layers.Dense(256, activation = 'leaky_relu'),\n",
        "        ])\n",
        "\n",
        "        # An encoder that deals with continuous variables,\n",
        "        # its goal is to restore the features of the fourth column and beyond\n",
        "        self.decoder = tf.keras.Sequential([\n",
        "            # layers.Dense(256, activation = 'leaky_relu'),\n",
        "            layers.Dense(128, activation = 'leaky_relu'),\n",
        "            layers.Dense(64, activation = 'leaky_relu'),\n",
        "            layers.Dense(32, activation = 'leaky_relu'),\n",
        "            layers.Dense(16, activation = 'leaky_relu'),\n",
        "            layers.Dropout(0.2),\n",
        "            layers.Dense(original_dim, activation = 'leaky_relu')\n",
        "        ])\n",
        "\n",
        "    def call(self, inputs):\n",
        "        encoded = self.encoder(inputs)\n",
        "        decoded = self.decoder(encoded)\n",
        "\n",
        "        return decoded\n"
      ],
      "metadata": {
        "id": "SrOkjjSt7I8p"
      },
      "execution_count": null,
      "outputs": []
    },
    {
      "cell_type": "code",
      "source": [
        "dae_dataset = df_ECS_consumption_no_missing_values_outliers\n",
        "target_column = 'Primary_ECS_Consumption'"
      ],
      "metadata": {
        "id": "fFi1AK3_7I8q"
      },
      "execution_count": null,
      "outputs": []
    },
    {
      "cell_type": "code",
      "source": [
        "len(dae_dataset)"
      ],
      "metadata": {
        "colab": {
          "base_uri": "https://localhost:8080/"
        },
        "outputId": "774a455a-09d7-4d0e-873a-413e570cadd9",
        "id": "Fi5VEUbO7I8q"
      },
      "execution_count": null,
      "outputs": [
        {
          "output_type": "execute_result",
          "data": {
            "text/plain": [
              "1657443"
            ]
          },
          "metadata": {},
          "execution_count": 138
        }
      ]
    },
    {
      "cell_type": "code",
      "source": [
        "from sklearn.model_selection import train_test_split\n",
        "\n",
        "# Divide the dataset into training and validation sets\n",
        "x_train, x_val = train_test_split(dae_dataset, test_size = 0.2, random_state = 1)\n",
        "x_true = x_val.copy()"
      ],
      "metadata": {
        "id": "ssAV1qVH7I8q"
      },
      "execution_count": null,
      "outputs": []
    },
    {
      "cell_type": "code",
      "source": [
        "import matplotlib.pyplot as plt\n",
        "\n",
        "def plot_loss(history, save_path, fig_title):\n",
        "    plt.plot(history)\n",
        "    plt.title(fig_title)\n",
        "    plt.ylabel('Loss')\n",
        "    plt.xlabel('Epoch')\n",
        "    plt.legend(['Train Loss'], loc='upper right')\n",
        "    plt.savefig(save_path)\n",
        "    plt.show()\n"
      ],
      "metadata": {
        "id": "B-cQvhWB7I8q"
      },
      "execution_count": null,
      "outputs": []
    },
    {
      "cell_type": "code",
      "source": [
        "# In the ensemble method, the training code of DAE1 replaces a random mask every round of training.\n",
        "\n",
        "# Convert the dataset to np format\n",
        "x_train_np = x_train.values\n",
        "\n",
        "dae = DAE(original_dim = x_train_np.shape[1])\n",
        "optimizer = tf.keras.optimizers.Adam(learning_rate = 0.001)\n",
        "dae.compile(optimizer, loss=tf.keras.losses.MeanAbsoluteError())\n",
        "\n",
        "# set up early stopping, but this has no effect when iterations_per_noise = 1.\n",
        "early_stop = EarlyStopping(monitor='loss', min_delta = 0.0005, patience=5)\n",
        "\n",
        "# multiple epochs with different sparsity noise\n",
        "num_epochs = 20\n",
        "iterations_per_noise = 20\n",
        "loss_history = []\n",
        "fig_title = 'Dimension-Enhanced DAE Loss'\n",
        "save_path = '/content/gdrive/MyDrive/Colab Notebooks/DPE_code/result/de_dae_result_upper_floor_roof_terrace.png'\n",
        "\n",
        "for epoch in range(num_epochs // iterations_per_noise):\n",
        "    # create a new array with the same shape as x_train_np but with all elements -1\n",
        "    x_train_np_minus_one = np.full(x_train_np.shape, -1)\n",
        "\n",
        "    # Create a mask, the shape of the mask is the same as x_train_np, p = masking_factor represents the probability of 1 on the mask\n",
        "    masking_factor = 0.70       # Note that due to the replacement rules in tf.where later, the masking factor here should be 1-target value\n",
        "    mask = np.random.binomial(n = 1, p = masking_factor, size = x_train_np.shape)\n",
        "\n",
        "    # Use the tf.where function to replace the value in x_train_np with -1 according to the mask to get the noise data\n",
        "    x_train_np_noisy = tf.where(mask == 1, x_train_np, x_train_np_minus_one)\n",
        "\n",
        "    for iteration in range(iterations_per_noise):\n",
        "        print(f\"Noise Epoch {epoch + 1}/{num_epochs // iterations_per_noise}, Iteration {iteration + 1}/{iterations_per_noise}\")\n",
        "        # dae.fit(x_train_np_noisy, x_train_np, batch_size = 256, callbacks=[early_stop])\n",
        "        history = dae.fit(x_train_np_noisy, x_train_np, batch_size = 256, callbacks=[early_stop], verbose=0)\n",
        "        print(\"Train loss: \",history.history['loss'][0])\n",
        "        loss_history.append(history.history['loss'][0])\n",
        "\n",
        "plot_loss(loss_history, save_path, fig_title)"
      ],
      "metadata": {
        "colab": {
          "base_uri": "https://localhost:8080/"
        },
        "outputId": "31f175f8-5ffe-4b61-e518-ab76e8ea37a7",
        "id": "0t3HqTFZ7I8q"
      },
      "execution_count": null,
      "outputs": [
        {
          "output_type": "stream",
          "name": "stdout",
          "text": [
            "Noise Epoch 1/1, Iteration 1/20\n",
            "Train loss:  0.14310382306575775\n",
            "Noise Epoch 1/1, Iteration 2/20\n",
            "Train loss:  0.11340007185935974\n",
            "Noise Epoch 1/1, Iteration 3/20\n",
            "Train loss:  0.10914143919944763\n",
            "Noise Epoch 1/1, Iteration 4/20\n",
            "Train loss:  0.1072765588760376\n",
            "Noise Epoch 1/1, Iteration 5/20\n",
            "Train loss:  0.10632602870464325\n",
            "Noise Epoch 1/1, Iteration 6/20\n",
            "Train loss:  0.10543130338191986\n",
            "Noise Epoch 1/1, Iteration 7/20\n",
            "Train loss:  0.10473615676164627\n",
            "Noise Epoch 1/1, Iteration 8/20\n",
            "Train loss:  0.10412196815013885\n",
            "Noise Epoch 1/1, Iteration 9/20\n",
            "Train loss:  0.10369542241096497\n",
            "Noise Epoch 1/1, Iteration 10/20\n",
            "Train loss:  0.10332189500331879\n",
            "Noise Epoch 1/1, Iteration 11/20\n",
            "Train loss:  0.10302934795618057\n",
            "Noise Epoch 1/1, Iteration 12/20\n",
            "Train loss:  0.1026969775557518\n",
            "Noise Epoch 1/1, Iteration 13/20\n",
            "Train loss:  0.10248778015375137\n",
            "Noise Epoch 1/1, Iteration 14/20\n",
            "Train loss:  0.10230446606874466\n",
            "Noise Epoch 1/1, Iteration 15/20\n",
            "Train loss:  0.10205203294754028\n",
            "Noise Epoch 1/1, Iteration 16/20\n",
            "Train loss:  0.10185042768716812\n",
            "Noise Epoch 1/1, Iteration 17/20\n",
            "Train loss:  0.1016397550702095\n",
            "Noise Epoch 1/1, Iteration 18/20\n",
            "Train loss:  0.10144463926553726\n",
            "Noise Epoch 1/1, Iteration 19/20\n",
            "Train loss:  0.10136615484952927\n",
            "Noise Epoch 1/1, Iteration 20/20\n",
            "Train loss:  0.10124699771404266\n"
          ]
        },
        {
          "output_type": "display_data",
          "data": {
            "text/plain": [
              "<Figure size 640x480 with 1 Axes>"
            ],
            "image/png": "[encoded data removed]"
          },
          "metadata": {}
        }
      ]
    },
    {
      "cell_type": "code",
      "source": [
        "# Interpolation process function. This function is used for non-ensemble methods.\n",
        "def insert_and_impute(df, df_true, train_df, column_name, fraction, vae, num_iterations = 10):\n",
        "    # Create a copy of df\n",
        "    df_copy = df.copy()\n",
        "    df_copy_np = df_copy.values\n",
        "\n",
        "    # create a new array with the same shape as x_train_np but with all elements -1\n",
        "    df_copy_np_minus_one = np.full(df_copy_np.shape, -1)\n",
        "\n",
        "    # Create a mask, the shape of the mask is the same as x_train_np, p = masking_factor represents the probability of 1 on the mask\n",
        "    masking_factor = 1 - fraction\n",
        "    mask = np.random.binomial(n = 1, p = masking_factor, size = df_copy_np.shape)\n",
        "\n",
        "    # Use the tf.where function to replace the value in x_train_np with -1 according to the mask to get the noise data\n",
        "    df_copy_np_noisy = tf.where(mask, df_copy_np, df_copy_np_minus_one)\n",
        "    df_copy_np_noisy = tf.cast(df_copy_np_noisy, tf.float32)\n",
        "\n",
        "    # print(df_copy_np_noisy)\n",
        "\n",
        "    # Convert dataframe to input format accepted by vae\n",
        "    missing_data = tf.Variable(df_copy_np_noisy, dtype = tf.float32, trainable=True)\n",
        "    true_data = tf.Variable(df_true.values.astype('float32'), trainable = True)\n",
        "\n",
        "    # Convert numpy mask to tensorflow tensor\n",
        "    mask = tf.convert_to_tensor(mask, dtype = tf.bool)\n",
        "    mask = np.logical_not(mask)\n",
        "\n",
        "    # Get the column index for the loss calculation\n",
        "    column_index = df.columns.get_loc(column_name)\n",
        "\n",
        "    # Iterate num_iterations rounds to impute missing values\n",
        "    for i in range(num_iterations):\n",
        "        # Get imputed data\n",
        "        imputed_data = vae(missing_data)\n",
        "        # imputed_data = reshape_dae_output(imputed_data)\n",
        "\n",
        "        # RMSE on specified column\n",
        "        # loss = tf.sqrt(tf.reduce_mean(tf.square((imputed_data[:, column_index] - true_data[:, column_index])[mask[:, column_index]])))\n",
        "        # MAE on specified column\n",
        "        loss = tf.reduce_mean(tf.abs(imputed_data[:, column_index] - true_data[:, column_index])[mask[:, column_index]])\n",
        "        print('Target column loss:', loss)\n",
        "\n",
        "        loss = tf.reduce_mean(tf.abs(imputed_data - true_data)[mask])\n",
        "        print('Loss:', loss)\n",
        "\n",
        "        # Apply mask to imputed and true data\n",
        "        imputed_data_masked = tf.boolean_mask(imputed_data[:, column_index], mask[:, column_index])\n",
        "        true_data_masked = tf.boolean_mask(true_data[:, column_index], mask[:, column_index])\n",
        "\n",
        "        # Create a mask for correct imputations\n",
        "        accuracy_mask = (tf.abs(imputed_data_masked - true_data_masked) < 0.03)\n",
        "\n",
        "        # Calculate accuracy by dividing the number of correct imputations by the total number of imputations\n",
        "        accuracy = tf.reduce_mean(tf.cast(accuracy_mask, tf.float32))\n",
        "\n",
        "        print('Imputation accuracy:', accuracy)\n",
        "\n",
        "        # Fill missing parts of missing_data with imputed_data\n",
        "        missing_data.assign(tf.where(mask, imputed_data, missing_data))\n",
        "\n",
        "    df_copy[:] = missing_data.numpy()\n",
        "\n",
        "    return df_copy, mask\n"
      ],
      "metadata": {
        "id": "VZFmGZqq7I8r"
      },
      "execution_count": null,
      "outputs": []
    },
    {
      "cell_type": "code",
      "source": [
        "# Test the correct rate of the target column of DAE1 when the missing ratio is 20%.\n",
        "df_insulation_floor_imputed_dedae, mask = insert_and_impute(x_val, x_true, x_train, target_column, 0.2, dae, num_iterations = 1)"
      ],
      "metadata": {
        "colab": {
          "base_uri": "https://localhost:8080/"
        },
        "outputId": "02b170b4-258e-4101-c3f1-6a1e7a5f7265",
        "id": "IJ3wxFca7I8r"
      },
      "execution_count": null,
      "outputs": [
        {
          "output_type": "stream",
          "name": "stdout",
          "text": [
            "Target column loss: tf.Tensor(0.057316016, shape=(), dtype=float32)\n",
            "Loss: tf.Tensor(0.18107873, shape=(), dtype=float32)\n",
            "Imputation accuracy: tf.Tensor(0.52257174, shape=(), dtype=float32)\n"
          ]
        }
      ]
    },
    {
      "cell_type": "code",
      "source": [
        "# Test the correct rate of the target column of DAE1 when the missing ratio is 20%.\n",
        "df_insulation_floor_imputed_dedae, mask = insert_and_impute(x_val, x_true, x_train, target_column, 0.1, dae, num_iterations = 1)"
      ],
      "metadata": {
        "colab": {
          "base_uri": "https://localhost:8080/"
        },
        "outputId": "eb531198-f719-4e6f-d6cd-11ffc84d9932",
        "id": "BYO3sgxM7I8r"
      },
      "execution_count": null,
      "outputs": [
        {
          "output_type": "stream",
          "name": "stdout",
          "text": [
            "Target column loss: tf.Tensor(0.046670686, shape=(), dtype=float32)\n",
            "Loss: tf.Tensor(0.17304614, shape=(), dtype=float32)\n",
            "Imputation accuracy: tf.Tensor(0.5860307, shape=(), dtype=float32)\n"
          ]
        }
      ]
    },
    {
      "cell_type": "markdown",
      "source": [
        "# DE-DAE-MD for ECS"
      ],
      "metadata": {
        "id": "N9yERijJ63lJ"
      }
    },
    {
      "cell_type": "code",
      "source": [
        "# DAE1, can handle classification and regression tasks at the same time, using leaky_relu activation function\n",
        "class DAE(tf.keras.Model):\n",
        "    def __init__(self, original_dim, categorical_dim, continuous_dim,  name=\"dae\", **kwargs):\n",
        "        super(DAE, self).__init__(name=name, **kwargs)\n",
        "        self.encoder = tf.keras.Sequential([\n",
        "            layers.Dense(original_dim, activation = 'leaky_relu'),\n",
        "            layers.Dense(16, activation = 'leaky_relu'),\n",
        "            layers.Dense(32, activation = 'leaky_relu'),\n",
        "            layers.Dense(64, activation = 'leaky_relu'),\n",
        "            layers.Dense(128, activation = 'leaky_relu'),\n",
        "            # layers.Dense(256, activation = 'leaky_relu'),\n",
        "        ])\n",
        "\n",
        "        # An encoder that deals with continuous variables,\n",
        "        # its goal is to restore the features of the fourth column and beyond\n",
        "        self.decoder_continuous_1 = tf.keras.Sequential([\n",
        "            # layers.Dense(256, activation = 'leaky_relu'),\n",
        "            layers.Dense(128, activation = 'leaky_relu'),\n",
        "            layers.Dense(64, activation = 'leaky_relu'),\n",
        "            layers.Dense(32, activation = 'leaky_relu'),\n",
        "            layers.Dense(16, activation = 'leaky_relu'),\n",
        "            layers.Dropout(0.2),\n",
        "            layers.Dense(continuous_dim, activation = 'leaky_relu')\n",
        "        ])\n",
        "\n",
        "        # An encoder that deals with continuous variables,\n",
        "        # its goal is to restore the features of the fourth column and beyond\n",
        "        self.decoder_continuous_target = tf.keras.Sequential([\n",
        "            # layers.Dense(256, activation = 'leaky_relu'),\n",
        "            layers.Dense(128, activation = 'leaky_relu'),\n",
        "            layers.Dense(64, activation = 'leaky_relu'),\n",
        "            layers.Dense(32, activation = 'leaky_relu'),\n",
        "            layers.Dense(16, activation = 'leaky_relu'),\n",
        "            layers.Dropout(0.2),\n",
        "            layers.Dense(1, activation = 'leaky_relu')\n",
        "        ])\n",
        "\n",
        "        # Decoder1 that deals with categorical variables,\n",
        "        # its goal is to restore the target column: Quality_insulation_lower_floor\n",
        "        self.decoder_categorical_1 = tf.keras.Sequential([\n",
        "            # layers.Dense(256, activation = 'leaky_relu'),\n",
        "            layers.Dense(128, activation = 'leaky_relu'),\n",
        "            layers.Dense(64, activation = 'leaky_relu'),\n",
        "            layers.Dense(32, activation = 'leaky_relu'),\n",
        "            layers.Dense(16, activation = 'leaky_relu'),\n",
        "            layers.Dense(8, activation = 'leaky_relu'),\n",
        "            # layers.Dropout(0.2),\n",
        "            layers.Dense(4, activation = 'softmax') # 4 classes for the first categorical variable\n",
        "        ])\n",
        "\n",
        "\n",
        "    def call(self, inputs):\n",
        "        encoded = self.encoder(inputs)\n",
        "        decoder_continuous_1 = self.decoder_continuous_1(encoded)\n",
        "        decoder_continuous_target = self.decoder_continuous_target(encoded)\n",
        "        decoded_categorical_1 = self.decoder_categorical_1(encoded)\n",
        "        decoded = tf.concat([decoder_continuous_target, decoded_categorical_1, decoder_continuous_1], axis=1)\n",
        "        return decoded\n"
      ],
      "metadata": {
        "id": "dhRkV4_263lQ"
      },
      "execution_count": null,
      "outputs": []
    },
    {
      "cell_type": "code",
      "source": [
        "# Custom loss function, used to calculate the loss of discrete variables and continuous variables\n",
        "def custom_loss(y_true, y_pred):\n",
        "    # the first 3 columns of y_true and y_pred are the categorical variables,\n",
        "    # and the rest are the continuous variables.\n",
        "    y_true_continuous_target = y_true[:, 0]\n",
        "    y_true_categorical_1 = y_true[:, 1]\n",
        "    y_true_continuous = y_true[:, 2:]\n",
        "\n",
        "    y_pred_continuous_target = y_pred[:, 0:1]\n",
        "    y_pred_categorical_1 = y_pred[:, 1:5]\n",
        "    y_pred_continuous = y_pred[:, 5:]\n",
        "\n",
        "    # Use cross entropy for the categorical variables.\n",
        "    categorical_loss_1 = tf.keras.losses.SparseCategoricalCrossentropy()(y_true_categorical_1, y_pred_categorical_1)\n",
        "\n",
        "    # Use mean squared error for the continuous variables.\n",
        "    continuous_target_loss = tf.keras.losses.MeanSquaredError()(y_true_continuous_target, y_pred_continuous_target)\n",
        "    continuous_loss = tf.keras.losses.MeanSquaredError()(y_true_continuous, y_pred_continuous)\n",
        "\n",
        "    return categorical_loss_1 + continuous_target_loss + continuous_loss"
      ],
      "metadata": {
        "id": "1QxGB2an63lQ"
      },
      "execution_count": null,
      "outputs": []
    },
    {
      "cell_type": "code",
      "source": [
        "dae_dataset = df_ECS_consumption_no_missing_values_outliers\n",
        "target_column = 'Primary_ECS_Consumption'"
      ],
      "metadata": {
        "id": "IhhBzWje63lR"
      },
      "execution_count": null,
      "outputs": []
    },
    {
      "cell_type": "code",
      "source": [
        "from sklearn.model_selection import train_test_split\n",
        "\n",
        "# Divide the dataset into training and validation sets\n",
        "x_train, x_val = train_test_split(dae_dataset, test_size = 0.2, random_state = 1)\n",
        "x_true = x_val.copy()"
      ],
      "metadata": {
        "id": "QnyXTwvJ63lR"
      },
      "execution_count": null,
      "outputs": []
    },
    {
      "cell_type": "code",
      "source": [
        "import matplotlib.pyplot as plt\n",
        "\n",
        "def plot_loss(history, save_path, fig_title):\n",
        "    plt.plot(history)\n",
        "    plt.title(fig_title)\n",
        "    plt.ylabel('Loss')\n",
        "    plt.xlabel('Epoch')\n",
        "    plt.legend(['Train Loss'], loc='upper right')\n",
        "    plt.savefig(save_path)\n",
        "    plt.show()\n"
      ],
      "metadata": {
        "id": "ZSPIMiIq63lR"
      },
      "execution_count": null,
      "outputs": []
    },
    {
      "cell_type": "code",
      "source": [
        "# In the ensemble method, the training code of DAE1 replaces a random mask every round of training.\n",
        "\n",
        "# Convert the dataset to np format\n",
        "x_train_np = x_train.values\n",
        "\n",
        "dae = DAE(original_dim = x_train_np.shape[1], categorical_dim = 1, continuous_dim = x_train_np.shape[1] - 2)\n",
        "optimizer = tf.keras.optimizers.Adam(learning_rate = 0.001)\n",
        "dae.compile(optimizer, loss=custom_loss)\n",
        "\n",
        "# set up early stopping, but this has no effect when iterations_per_noise = 1.\n",
        "early_stop = EarlyStopping(monitor='loss', min_delta = 0.0005, patience=5)\n",
        "\n",
        "# multiple epochs with different sparsity noise\n",
        "num_epochs = 20\n",
        "iterations_per_noise = 20\n",
        "loss_history = []\n",
        "fig_title = 'Dimension-Enhanced DAE with Multi Decoder Loss'\n",
        "save_path = '/content/gdrive/MyDrive/Colab Notebooks/DPE_code/result/de_dae_md_result_ECS.png'\n",
        "\n",
        "for epoch in range(num_epochs // iterations_per_noise):\n",
        "    # create a new array with the same shape as x_train_np but with all elements -1\n",
        "    x_train_np_minus_one = np.full(x_train_np.shape, -1)\n",
        "\n",
        "    # Create a mask, the shape of the mask is the same as x_train_np, p = masking_factor represents the probability of 1 on the mask\n",
        "    masking_factor = 0.70       # Note that due to the replacement rules in tf.where later, the masking factor here should be 1-target value\n",
        "    mask = np.random.binomial(n = 1, p = masking_factor, size = x_train_np.shape)\n",
        "\n",
        "    # Use the tf.where function to replace the value in x_train_np with -1 according to the mask to get the noise data\n",
        "    x_train_np_noisy = tf.where(mask == 1, x_train_np, x_train_np_minus_one)\n",
        "\n",
        "    for iteration in range(iterations_per_noise):\n",
        "        print(f\"Noise Epoch {epoch + 1}/{num_epochs // iterations_per_noise}, Iteration {iteration + 1}/{iterations_per_noise}\")\n",
        "        # dae.fit(x_train_np_noisy, x_train_np, batch_size = 256, callbacks=[early_stop])\n",
        "        history = dae.fit(x_train_np_noisy, x_train_np, batch_size = 256, callbacks=[early_stop], verbose=0)\n",
        "        print(\"Train loss: \",history.history['loss'][0])\n",
        "        loss_history.append(history.history['loss'][0])\n",
        "\n",
        "plot_loss(loss_history, save_path, fig_title)"
      ],
      "metadata": {
        "colab": {
          "base_uri": "https://localhost:8080/"
        },
        "outputId": "07528c01-8270-45c1-cd79-79974b445de9",
        "id": "HZNLGDOC63lR"
      },
      "execution_count": null,
      "outputs": [
        {
          "output_type": "stream",
          "name": "stdout",
          "text": [
            "Noise Epoch 1/1, Iteration 1/20\n",
            "Train loss:  0.24751171469688416\n",
            "Noise Epoch 1/1, Iteration 2/20\n",
            "Train loss:  0.17326685786247253\n",
            "Noise Epoch 1/1, Iteration 3/20\n",
            "Train loss:  0.17089322209358215\n",
            "Noise Epoch 1/1, Iteration 4/20\n",
            "Train loss:  0.1657097041606903\n",
            "Noise Epoch 1/1, Iteration 5/20\n",
            "Train loss:  0.1620962768793106\n",
            "Noise Epoch 1/1, Iteration 6/20\n",
            "Train loss:  0.16020743548870087\n",
            "Noise Epoch 1/1, Iteration 7/20\n",
            "Train loss:  0.15940958261489868\n",
            "Noise Epoch 1/1, Iteration 8/20\n",
            "Train loss:  0.15800124406814575\n",
            "Noise Epoch 1/1, Iteration 9/20\n",
            "Train loss:  0.15775327384471893\n",
            "Noise Epoch 1/1, Iteration 10/20\n",
            "Train loss:  0.15693986415863037\n",
            "Noise Epoch 1/1, Iteration 11/20\n",
            "Train loss:  0.15660294890403748\n",
            "Noise Epoch 1/1, Iteration 12/20\n",
            "Train loss:  0.15621626377105713\n",
            "Noise Epoch 1/1, Iteration 13/20\n",
            "Train loss:  0.1559177190065384\n",
            "Noise Epoch 1/1, Iteration 14/20\n",
            "Train loss:  0.1554267257452011\n",
            "Noise Epoch 1/1, Iteration 15/20\n",
            "Train loss:  0.15531493723392487\n",
            "Noise Epoch 1/1, Iteration 16/20\n",
            "Train loss:  0.15494383871555328\n",
            "Noise Epoch 1/1, Iteration 17/20\n",
            "Train loss:  0.15456178784370422\n",
            "Noise Epoch 1/1, Iteration 18/20\n",
            "Train loss:  0.15479809045791626\n",
            "Noise Epoch 1/1, Iteration 19/20\n",
            "Train loss:  0.154204860329628\n",
            "Noise Epoch 1/1, Iteration 20/20\n",
            "Train loss:  0.15389041602611542\n"
          ]
        },
        {
          "output_type": "display_data",
          "data": {
            "text/plain": [
              "<Figure size 640x480 with 1 Axes>"
            ],
            "image/png": "[encoded data removed]"
          },
          "metadata": {}
        }
      ]
    },
    {
      "cell_type": "code",
      "source": [
        "# The function of this function is to reshape the result output by DAE\n",
        "def reshape_dae_output(dae_output):\n",
        "    # the first 3 columns of y_true and y_pred are the categorical variables,\n",
        "    # and the rest are the continuous variables.\n",
        "    dae_output_continuous_target = dae_output[:, 0:1]\n",
        "    dae_output_categorical_1 = tf.argmax(dae_output[:, 1:5], 1)\n",
        "    dae_output_continuous = dae_output[:, 5:]\n",
        "\n",
        "    # Cast the categorical outputs to float32 and expand dimensions\n",
        "    dae_output_categorical_1 = tf.expand_dims(tf.cast(dae_output_categorical_1, tf.float32), 1)\n",
        "\n",
        "    reshaped_output = tf.concat([dae_output_continuous_target, dae_output_categorical_1, dae_output_continuous], axis=1)\n",
        "\n",
        "    return reshaped_output\n"
      ],
      "metadata": {
        "id": "FheC9za863lR"
      },
      "execution_count": null,
      "outputs": []
    },
    {
      "cell_type": "code",
      "source": [
        "# Interpolation process function. This function is used for non-ensemble methods.\n",
        "def insert_and_impute(df, df_true, train_df, column_name, fraction, vae, num_iterations = 10):\n",
        "    # Create a copy of df\n",
        "    df_copy = df.copy()\n",
        "    df_copy_np = df_copy.values\n",
        "\n",
        "    # create a new array with the same shape as x_train_np but with all elements -1\n",
        "    df_copy_np_minus_one = np.full(df_copy_np.shape, -1)\n",
        "\n",
        "    # Create a mask, the shape of the mask is the same as x_train_np, p = masking_factor represents the probability of 1 on the mask\n",
        "    masking_factor = 1 - fraction\n",
        "    mask = np.random.binomial(n = 1, p = masking_factor, size = df_copy_np.shape)\n",
        "\n",
        "    # Use the tf.where function to replace the value in x_train_np with -1 according to the mask to get the noise data\n",
        "    df_copy_np_noisy = tf.where(mask, df_copy_np, df_copy_np_minus_one)\n",
        "    df_copy_np_noisy = tf.cast(df_copy_np_noisy, tf.float32)\n",
        "\n",
        "    # print(df_copy_np_noisy)\n",
        "\n",
        "    # Convert dataframe to input format accepted by vae\n",
        "    missing_data = tf.Variable(df_copy_np_noisy, dtype = tf.float32, trainable=True)\n",
        "    true_data = tf.Variable(df_true.values.astype('float32'), trainable = True)\n",
        "\n",
        "    # Convert numpy mask to tensorflow tensor\n",
        "    mask = tf.convert_to_tensor(mask, dtype = tf.bool)\n",
        "    mask = np.logical_not(mask)\n",
        "\n",
        "    # Get the column index for the loss calculation\n",
        "    column_index = df.columns.get_loc(column_name)\n",
        "\n",
        "    # Iterate num_iterations rounds to impute missing values\n",
        "    for i in range(num_iterations):\n",
        "        # Get imputed data\n",
        "        imputed_data = vae(missing_data)\n",
        "        imputed_data = reshape_dae_output(imputed_data)\n",
        "\n",
        "        # RMSE on specified column\n",
        "        # loss = tf.sqrt(tf.reduce_mean(tf.square((imputed_data[:, column_index] - true_data[:, column_index])[mask[:, column_index]])))\n",
        "        # MAE on specified column\n",
        "        loss = tf.reduce_mean(tf.abs(imputed_data[:, column_index] - true_data[:, column_index])[mask[:, column_index]])\n",
        "        print('Target column loss:', loss)\n",
        "\n",
        "        loss = tf.reduce_mean(tf.abs(imputed_data - true_data)[mask])\n",
        "        print('Loss:', loss)\n",
        "\n",
        "        # Apply mask to imputed and true data\n",
        "        imputed_data_masked = tf.boolean_mask(imputed_data[:, column_index], mask[:, column_index])\n",
        "        true_data_masked = tf.boolean_mask(true_data[:, column_index], mask[:, column_index])\n",
        "\n",
        "        # Create a mask for correct imputations\n",
        "        accuracy_mask = (tf.abs(imputed_data_masked - true_data_masked) < 0.03)\n",
        "\n",
        "        # Calculate accuracy by dividing the number of correct imputations by the total number of imputations\n",
        "        accuracy = tf.reduce_mean(tf.cast(accuracy_mask, tf.float32))\n",
        "\n",
        "        print('Imputation accuracy:', accuracy)\n",
        "\n",
        "        # Fill missing parts of missing_data with imputed_data\n",
        "        missing_data.assign(tf.where(mask, imputed_data, missing_data))\n",
        "\n",
        "    df_copy[:] = missing_data.numpy()\n",
        "\n",
        "    return df_copy, mask\n"
      ],
      "metadata": {
        "id": "r2aWddQ463lS"
      },
      "execution_count": null,
      "outputs": []
    },
    {
      "cell_type": "code",
      "source": [
        "# Test the correct rate of the target column of DAE1 when the missing ratio is 20%.\n",
        "df_insulation_floor_imputed_single_dedaemd, mask = insert_and_impute(x_val, x_true, x_train, target_column, 0.2, dae, num_iterations = 1)"
      ],
      "metadata": {
        "colab": {
          "base_uri": "https://localhost:8080/"
        },
        "outputId": "6870f2a7-47da-482a-b83e-4d4b19841030",
        "id": "Is-Gq_bW63lS"
      },
      "execution_count": null,
      "outputs": [
        {
          "output_type": "stream",
          "name": "stdout",
          "text": [
            "Target column loss: tf.Tensor(0.04972567, shape=(), dtype=float32)\n",
            "Loss: tf.Tensor(0.1854251, shape=(), dtype=float32)\n",
            "Imputation accuracy: tf.Tensor(0.65120995, shape=(), dtype=float32)\n"
          ]
        }
      ]
    },
    {
      "cell_type": "code",
      "source": [
        "# Test the correct rate of the target column of DAE1 when the missing ratio is 10%.\n",
        "df_insulation_floor_imputed_single_dedaemd, mask = insert_and_impute(x_val, x_true, x_train, target_column, 0.1, dae, num_iterations = 1)"
      ],
      "metadata": {
        "colab": {
          "base_uri": "https://localhost:8080/"
        },
        "id": "Ixbw-QVq63lS",
        "outputId": "199ca28f-02fb-4380-8ee2-a117fe000e96"
      },
      "execution_count": null,
      "outputs": [
        {
          "output_type": "stream",
          "name": "stdout",
          "text": [
            "Target column loss: tf.Tensor(0.038139865, shape=(), dtype=float32)\n",
            "Loss: tf.Tensor(0.1786235, shape=(), dtype=float32)\n",
            "Imputation accuracy: tf.Tensor(0.7472628, shape=(), dtype=float32)\n"
          ]
        }
      ]
    },
    {
      "cell_type": "markdown",
      "source": [
        "It's important to note that when calculating the imputation accuracy for the ECS feature, I normalized the ECS data to fall within the [0, 1] range. Any error within ±0.03 was considered as a correct imputation."
      ],
      "metadata": {
        "id": "y7VMYr3U2k0R"
      }
    },
    {
      "cell_type": "markdown",
      "source": [
        "# Ensemble Model for ECS"
      ],
      "metadata": {
        "id": "yS2P0C-ZRY4H"
      }
    },
    {
      "cell_type": "markdown",
      "source": [
        "It's important to note that when calculating the imputation accuracy for the ECS feature, I normalized the ECS data to fall within the [0, 1] range. Any error within ±0.03 was considered as a correct imputation."
      ],
      "metadata": {
        "id": "H7_3EKDjRY4N"
      }
    },
    {
      "cell_type": "code",
      "source": [
        "import tensorflow as tf\n",
        "from tensorflow.keras import layers\n",
        "from sklearn.preprocessing import StandardScaler\n",
        "from tensorflow.keras.callbacks import EarlyStopping\n",
        "import numpy as np"
      ],
      "metadata": {
        "id": "Ixg1ODx0RY4N"
      },
      "execution_count": null,
      "outputs": []
    },
    {
      "cell_type": "code",
      "source": [
        "# DAE1, can handle classification and regression tasks at the same time, using leaky_relu activation function\n",
        "class DAE(tf.keras.Model):\n",
        "    def __init__(self, original_dim, categorical_dim, continuous_dim,  name=\"dae\", **kwargs):\n",
        "        super(DAE, self).__init__(name=name, **kwargs)\n",
        "        self.encoder = tf.keras.Sequential([\n",
        "            layers.Dense(original_dim, activation = 'leaky_relu'),\n",
        "            layers.Dense(16, activation = 'leaky_relu'),\n",
        "            layers.Dense(32, activation = 'leaky_relu'),\n",
        "            layers.Dense(64, activation = 'leaky_relu'),\n",
        "            layers.Dense(128, activation = 'leaky_relu'),\n",
        "            # layers.Dense(256, activation = 'leaky_relu'),\n",
        "        ])\n",
        "\n",
        "        # An encoder that deals with continuous variables,\n",
        "        # its goal is to restore the features of the fourth column and beyond\n",
        "        self.decoder_continuous_1 = tf.keras.Sequential([\n",
        "            # layers.Dense(256, activation = 'leaky_relu'),\n",
        "            layers.Dense(128, activation = 'leaky_relu'),\n",
        "            layers.Dense(64, activation = 'leaky_relu'),\n",
        "            layers.Dense(32, activation = 'leaky_relu'),\n",
        "            layers.Dense(16, activation = 'leaky_relu'),\n",
        "            layers.Dropout(0.2),\n",
        "            layers.Dense(continuous_dim, activation = 'leaky_relu')\n",
        "        ])\n",
        "\n",
        "        # An encoder that deals with continuous variables,\n",
        "        # its goal is to restore the features of the fourth column and beyond\n",
        "        self.decoder_continuous_target = tf.keras.Sequential([\n",
        "            # layers.Dense(256, activation = 'leaky_relu'),\n",
        "            layers.Dense(128, activation = 'leaky_relu'),\n",
        "            layers.Dense(64, activation = 'leaky_relu'),\n",
        "            layers.Dense(32, activation = 'leaky_relu'),\n",
        "            layers.Dense(16, activation = 'leaky_relu'),\n",
        "            layers.Dropout(0.2),\n",
        "            layers.Dense(1, activation = 'leaky_relu')\n",
        "        ])\n",
        "\n",
        "        # Decoder1 that deals with categorical variables,\n",
        "        # its goal is to restore the target column: Quality_insulation_lower_floor\n",
        "        self.decoder_categorical_1 = tf.keras.Sequential([\n",
        "            # layers.Dense(256, activation = 'leaky_relu'),\n",
        "            layers.Dense(128, activation = 'leaky_relu'),\n",
        "            layers.Dense(64, activation = 'leaky_relu'),\n",
        "            layers.Dense(32, activation = 'leaky_relu'),\n",
        "            layers.Dense(16, activation = 'leaky_relu'),\n",
        "            layers.Dense(8, activation = 'leaky_relu'),\n",
        "            # layers.Dropout(0.2),\n",
        "            layers.Dense(4, activation = 'softmax') # 4 classes for the first categorical variable\n",
        "        ])\n",
        "\n",
        "\n",
        "    def call(self, inputs):\n",
        "        encoded = self.encoder(inputs)\n",
        "        decoder_continuous_1 = self.decoder_continuous_1(encoded)\n",
        "        decoder_continuous_target = self.decoder_continuous_target(encoded)\n",
        "        decoded_categorical_1 = self.decoder_categorical_1(encoded)\n",
        "        decoded = tf.concat([decoder_continuous_target, decoded_categorical_1, decoder_continuous_1], axis=1)\n",
        "        return decoded\n"
      ],
      "metadata": {
        "id": "ZXq52qYxRY4N"
      },
      "execution_count": null,
      "outputs": []
    },
    {
      "cell_type": "code",
      "source": [
        "# DAE2, can handle classification and regression tasks at the same time, using swish activation function\n",
        "class DAE2(tf.keras.Model):\n",
        "    def __init__(self, original_dim, categorical_dim, continuous_dim,  name=\"dae\", **kwargs):\n",
        "        super(DAE2, self).__init__(name=name, **kwargs)\n",
        "        self.encoder = tf.keras.Sequential([\n",
        "            layers.Dense(original_dim, activation = 'swish'),\n",
        "            layers.Dense(16, activation = 'swish'),\n",
        "            layers.Dense(32, activation = 'swish'),\n",
        "            layers.Dense(64, activation = 'swish'),\n",
        "            layers.Dense(128, activation = 'swish'),\n",
        "            # layers.Dense(256, activation = 'swish'),\n",
        "        ])\n",
        "\n",
        "        # An encoder that deals with continuous variables,\n",
        "        # its goal is to restore the features of the fourth column and beyond\n",
        "        self.decoder_continuous_1 = tf.keras.Sequential([\n",
        "            # layers.Dense(256, activation = 'swish'),\n",
        "            layers.Dense(128, activation = 'swish'),\n",
        "            layers.Dense(64, activation = 'swish'),\n",
        "            layers.Dense(32, activation = 'swish'),\n",
        "            layers.Dense(16, activation = 'swish'),\n",
        "            layers.Dropout(0.2),\n",
        "            layers.Dense(continuous_dim, activation = 'swish')\n",
        "        ])\n",
        "\n",
        "        # An encoder that deals with continuous variables,\n",
        "        # its goal is to restore the features of the fourth column and beyond\n",
        "        self.decoder_continuous_target = tf.keras.Sequential([\n",
        "            # layers.Dense(256, activation = 'swish'),\n",
        "            layers.Dense(128, activation = 'swish'),\n",
        "            layers.Dense(64, activation = 'swish'),\n",
        "            layers.Dense(32, activation = 'swish'),\n",
        "            layers.Dense(16, activation = 'swish'),\n",
        "            layers.Dropout(0.2),\n",
        "            layers.Dense(1, activation = 'swish')\n",
        "        ])\n",
        "\n",
        "        # Decoder1 that deals with categorical variables,\n",
        "        # its goal is to restore the target column: Quality_insulation_lower_floor\n",
        "        self.decoder_categorical_1 = tf.keras.Sequential([\n",
        "            # layers.Dense(256, activation = 'leaky_relu'),\n",
        "            layers.Dense(128, activation = 'swish'),\n",
        "            layers.Dense(64, activation = 'swish'),\n",
        "            layers.Dense(32, activation = 'swish'),\n",
        "            layers.Dense(16, activation = 'swish'),\n",
        "            layers.Dense(8, activation = 'swish'),\n",
        "            # layers.Dropout(0.2),\n",
        "            layers.Dense(4, activation = 'softmax') # 4 classes for the first categorical variable\n",
        "        ])\n",
        "\n",
        "\n",
        "    def call(self, inputs):\n",
        "        encoded = self.encoder(inputs)\n",
        "        decoder_continuous_1 = self.decoder_continuous_1(encoded)\n",
        "        decoder_continuous_target = self.decoder_continuous_target(encoded)\n",
        "        decoded_categorical_1 = self.decoder_categorical_1(encoded)\n",
        "        decoded = tf.concat([decoder_continuous_target, decoded_categorical_1, decoder_continuous_1], axis=1)\n",
        "        return decoded\n"
      ],
      "metadata": {
        "id": "eAbZRJANRY4O"
      },
      "execution_count": null,
      "outputs": []
    },
    {
      "cell_type": "code",
      "source": [
        "# DAE3, can handle classification and regression tasks at the same time, using elu activation function\n",
        "class DAE3(tf.keras.Model):\n",
        "    def __init__(self, original_dim, categorical_dim, continuous_dim,  name=\"dae\", **kwargs):\n",
        "        super(DAE3, self).__init__(name=name, **kwargs)\n",
        "        self.encoder = tf.keras.Sequential([\n",
        "            layers.Dense(original_dim, activation = 'elu'),\n",
        "            layers.Dense(16, activation = 'elu'),\n",
        "            layers.Dense(32, activation = 'elu'),\n",
        "            layers.Dense(64, activation = 'elu'),\n",
        "            layers.Dense(128, activation = 'elu'),\n",
        "            # layers.Dense(256, activation = 'elu'),\n",
        "        ])\n",
        "\n",
        "        # An encoder that deals with continuous variables,\n",
        "        # its goal is to restore the features of the fourth column and beyond\n",
        "        self.decoder_continuous_1 = tf.keras.Sequential([\n",
        "            # layers.Dense(256, activation = 'elu'),\n",
        "            layers.Dense(128, activation = 'elu'),\n",
        "            layers.Dense(64, activation = 'elu'),\n",
        "            layers.Dense(32, activation = 'elu'),\n",
        "            layers.Dense(16, activation = 'elu'),\n",
        "            layers.Dropout(0.2),\n",
        "            layers.Dense(continuous_dim, activation = 'elu')\n",
        "        ])\n",
        "\n",
        "        # An encoder that deals with continuous variables,\n",
        "        # its goal is to restore the features of the fourth column and beyond\n",
        "        self.decoder_continuous_target = tf.keras.Sequential([\n",
        "            # layers.Dense(256, activation = 'elu'),\n",
        "            layers.Dense(128, activation = 'elu'),\n",
        "            layers.Dense(64, activation = 'elu'),\n",
        "            layers.Dense(32, activation = 'elu'),\n",
        "            layers.Dense(16, activation = 'elu'),\n",
        "            layers.Dropout(0.2),\n",
        "            layers.Dense(1, activation = 'elu')\n",
        "        ])\n",
        "\n",
        "        # Decoder1 that deals with categorical variables,\n",
        "        # its goal is to restore the target column: Quality_insulation_lower_floor\n",
        "        self.decoder_categorical_1 = tf.keras.Sequential([\n",
        "            # layers.Dense(256, activation = 'leaky_relu'),\n",
        "            layers.Dense(128, activation = 'elu'),\n",
        "            layers.Dense(64, activation = 'elu'),\n",
        "            layers.Dense(32, activation = 'elu'),\n",
        "            layers.Dense(16, activation = 'elu'),\n",
        "            layers.Dense(8, activation = 'elu'),\n",
        "            # layers.Dropout(0.2),\n",
        "            layers.Dense(4, activation = 'softmax') # 4 classes for the first categorical variable\n",
        "        ])\n",
        "\n",
        "\n",
        "    def call(self, inputs):\n",
        "        encoded = self.encoder(inputs)\n",
        "        decoder_continuous_1 = self.decoder_continuous_1(encoded)\n",
        "        decoder_continuous_target = self.decoder_continuous_target(encoded)\n",
        "        decoded_categorical_1 = self.decoder_categorical_1(encoded)\n",
        "        decoded = tf.concat([decoder_continuous_target, decoded_categorical_1, decoder_continuous_1], axis=1)\n",
        "        return decoded\n"
      ],
      "metadata": {
        "id": "qz9oS672RY4O"
      },
      "execution_count": null,
      "outputs": []
    },
    {
      "cell_type": "code",
      "source": [
        "class MLP_Classifier(tf.keras.Model):\n",
        "    def __init__(self, num_classes):\n",
        "        super(MLP_Classifier, self).__init__()\n",
        "        self.dense1 = layers.Dense(8, activation='elu')\n",
        "        self.dense2 = layers.Dense(8, activation='elu')\n",
        "        self.dense3 = layers.Dense(4, activation='elu')\n",
        "        self.dense4 = layers.Dense(1, activation='elu')\n",
        "\n",
        "    def call(self, inputs):\n",
        "        x = self.dense1(inputs)\n",
        "        x = self.dense2(x)\n",
        "        x = self.dense3(x)\n",
        "        return self.dense4(x)"
      ],
      "metadata": {
        "id": "GEf3lycFRY4O"
      },
      "execution_count": null,
      "outputs": []
    },
    {
      "cell_type": "code",
      "source": [
        "# Custom loss function, used to calculate the loss of discrete variables and continuous variables\n",
        "def custom_loss(y_true, y_pred):\n",
        "    # the first 3 columns of y_true and y_pred are the categorical variables,\n",
        "    # and the rest are the continuous variables.\n",
        "    y_true_continuous_target = y_true[:, 0]\n",
        "    y_true_categorical_1 = y_true[:, 1]\n",
        "    y_true_continuous = y_true[:, 2:]\n",
        "\n",
        "    y_pred_continuous_target = y_pred[:, 0:1]\n",
        "    y_pred_categorical_1 = y_pred[:, 1:5]\n",
        "    y_pred_continuous = y_pred[:, 5:]\n",
        "\n",
        "    # Use cross entropy for the categorical variables.\n",
        "    categorical_loss_1 = tf.keras.losses.SparseCategoricalCrossentropy()(y_true_categorical_1, y_pred_categorical_1)\n",
        "\n",
        "    # Use mean squared error for the continuous variables.\n",
        "    continuous_target_loss = tf.keras.losses.MeanSquaredError()(y_true_continuous_target, y_pred_continuous_target)\n",
        "    continuous_loss = tf.keras.losses.MeanSquaredError()(y_true_continuous, y_pred_continuous)\n",
        "\n",
        "    return categorical_loss_1 + continuous_target_loss + continuous_loss"
      ],
      "metadata": {
        "id": "gMrj2GkmRY4O"
      },
      "execution_count": null,
      "outputs": []
    },
    {
      "cell_type": "code",
      "source": [
        "dae_dataset = df_ECS_consumption_no_missing_values_outliers\n",
        "target_column = 'Primary_ECS_Consumption'"
      ],
      "metadata": {
        "id": "xGZzb8GERY4P"
      },
      "execution_count": null,
      "outputs": []
    },
    {
      "cell_type": "code",
      "source": [
        "len(dae_dataset)"
      ],
      "metadata": {
        "colab": {
          "base_uri": "https://localhost:8080/"
        },
        "outputId": "47469134-d0f5-4a53-faf7-ebf7a240e17b",
        "id": "HzjC1atuRY4P"
      },
      "execution_count": null,
      "outputs": [
        {
          "output_type": "execute_result",
          "data": {
            "text/plain": [
              "1657443"
            ]
          },
          "metadata": {},
          "execution_count": 361
        }
      ]
    },
    {
      "cell_type": "code",
      "source": [
        "from sklearn.model_selection import train_test_split\n",
        "\n",
        "# Divide the dataset into training and validation sets\n",
        "x_train, x_val = train_test_split(dae_dataset, test_size = 0.2, random_state = 1)\n",
        "x_true = x_val.copy()"
      ],
      "metadata": {
        "id": "63A_3Iv_RY4P"
      },
      "execution_count": null,
      "outputs": []
    },
    {
      "cell_type": "code",
      "source": [
        "x_train.describe()"
      ],
      "metadata": {
        "colab": {
          "base_uri": "https://localhost:8080/"
        },
        "outputId": "7e553757-eed0-45d5-d973-a00be7b86bc0",
        "id": "5Zc_sYh4RY4P"
      },
      "execution_count": null,
      "outputs": [
        {
          "output_type": "execute_result",
          "data": {
            "text/plain": [
              "       Primary_ECS_Consumption  Type_main_energy_ECS  Year_construction  \\\n",
              "count             1.325954e+06          1.325954e+06       1.325954e+06   \n",
              "mean              3.771437e-01          6.462999e-01       5.017834e-01   \n",
              "std               1.675623e-01          5.950492e-01       1.543359e-01   \n",
              "min               0.000000e+00          0.000000e+00       0.000000e+00   \n",
              "25%               2.363497e-01          0.000000e+00       3.684211e-01   \n",
              "50%               3.612812e-01          1.000000e+00       5.263158e-01   \n",
              "75%               5.111698e-01          1.000000e+00       6.315789e-01   \n",
              "max               1.000000e+00          3.000000e+00       1.000000e+00   \n",
              "\n",
              "       Living_area_housing  Postal_code_(BAN)  Final_ECS_Consumption  \\\n",
              "count         1.325954e+06       1.325954e+06           1.325954e+06   \n",
              "mean          4.249033e-01      -4.740429e-02           4.706429e-01   \n",
              "std           1.947660e-01       9.811603e-01           1.680849e-01   \n",
              "min           1.349528e-03      -1.965726e+00           0.000000e+00   \n",
              "25%           2.827260e-01      -8.514078e-01           3.670168e-01   \n",
              "50%           4.149798e-01       7.719066e-02           4.730422e-01   \n",
              "75%           5.445344e-01       7.829255e-01           5.699281e-01   \n",
              "max           1.000000e+00       1.600092e+00           1.000000e+00   \n",
              "\n",
              "       Primary_5_usages_consumption  Final_consumption_ECS_generator_no1  \n",
              "count                  1.325954e+06                         1.325954e+06  \n",
              "mean                   3.793450e-01                         4.884689e-01  \n",
              "std                    2.131845e-01                         1.666881e-01  \n",
              "min                    0.000000e+00                         4.430824e-04  \n",
              "25%                    2.127129e-01                         3.851124e-01  \n",
              "50%                    3.337159e-01                         4.919322e-01  \n",
              "75%                    5.089282e-01                         5.872318e-01  \n",
              "max                    1.000000e+00                         1.000000e+00  "
            ],
            "text/html": [
              "\n",
              "\n",
              "  <div id=\"df-a9f43a0b-6da8-4efa-a108-4f5bd402e576\">\n",
              "    <div class=\"colab-df-container\">\n",
              "      <div>\n",
              "<style scoped>\n",
              "    .dataframe tbody tr th:only-of-type {\n",
              "        vertical-align: middle;\n",
              "    }\n",
              "\n",
              "    .dataframe tbody tr th {\n",
              "        vertical-align: top;\n",
              "    }\n",
              "\n",
              "    .dataframe thead th {\n",
              "        text-align: right;\n",
              "    }\n",
              "</style>\n",
              "<table border=\"1\" class=\"dataframe\">\n",
              "  <thead>\n",
              "    <tr style=\"text-align: right;\">\n",
              "      <th></th>\n",
              "      <th>Primary_ECS_Consumption</th>\n",
              "      <th>Type_main_energy_ECS</th>\n",
              "      <th>Year_construction</th>\n",
              "      <th>Living_area_housing</th>\n",
              "      <th>Postal_code_(BAN)</th>\n",
              "      <th>Final_ECS_Consumption</th>\n",
              "      <th>Primary_5_usages_consumption</th>\n",
              "      <th>Final_consumption_ECS_generator_no1</th>\n",
              "    </tr>\n",
              "  </thead>\n",
              "  <tbody>\n",
              "    <tr>\n",
              "      <th>count</th>\n",
              "      <td>1.325954e+06</td>\n",
              "      <td>1.325954e+06</td>\n",
              "      <td>1.325954e+06</td>\n",
              "      <td>1.325954e+06</td>\n",
              "      <td>1.325954e+06</td>\n",
              "      <td>1.325954e+06</td>\n",
              "      <td>1.325954e+06</td>\n",
              "      <td>1.325954e+06</td>\n",
              "    </tr>\n",
              "    <tr>\n",
              "      <th>mean</th>\n",
              "      <td>3.771437e-01</td>\n",
              "      <td>6.462999e-01</td>\n",
              "      <td>5.017834e-01</td>\n",
              "      <td>4.249033e-01</td>\n",
              "      <td>-4.740429e-02</td>\n",
              "      <td>4.706429e-01</td>\n",
              "      <td>3.793450e-01</td>\n",
              "      <td>4.884689e-01</td>\n",
              "    </tr>\n",
              "    <tr>\n",
              "      <th>std</th>\n",
              "      <td>1.675623e-01</td>\n",
              "      <td>5.950492e-01</td>\n",
              "      <td>1.543359e-01</td>\n",
              "      <td>1.947660e-01</td>\n",
              "      <td>9.811603e-01</td>\n",
              "      <td>1.680849e-01</td>\n",
              "      <td>2.131845e-01</td>\n",
              "      <td>1.666881e-01</td>\n",
              "    </tr>\n",
              "    <tr>\n",
              "      <th>min</th>\n",
              "      <td>0.000000e+00</td>\n",
              "      <td>0.000000e+00</td>\n",
              "      <td>0.000000e+00</td>\n",
              "      <td>1.349528e-03</td>\n",
              "      <td>-1.965726e+00</td>\n",
              "      <td>0.000000e+00</td>\n",
              "      <td>0.000000e+00</td>\n",
              "      <td>4.430824e-04</td>\n",
              "    </tr>\n",
              "    <tr>\n",
              "      <th>25%</th>\n",
              "      <td>2.363497e-01</td>\n",
              "      <td>0.000000e+00</td>\n",
              "      <td>3.684211e-01</td>\n",
              "      <td>2.827260e-01</td>\n",
              "      <td>-8.514078e-01</td>\n",
              "      <td>3.670168e-01</td>\n",
              "      <td>2.127129e-01</td>\n",
              "      <td>3.851124e-01</td>\n",
              "    </tr>\n",
              "    <tr>\n",
              "      <th>50%</th>\n",
              "      <td>3.612812e-01</td>\n",
              "      <td>1.000000e+00</td>\n",
              "      <td>5.263158e-01</td>\n",
              "      <td>4.149798e-01</td>\n",
              "      <td>7.719066e-02</td>\n",
              "      <td>4.730422e-01</td>\n",
              "      <td>3.337159e-01</td>\n",
              "      <td>4.919322e-01</td>\n",
              "    </tr>\n",
              "    <tr>\n",
              "      <th>75%</th>\n",
              "      <td>5.111698e-01</td>\n",
              "      <td>1.000000e+00</td>\n",
              "      <td>6.315789e-01</td>\n",
              "      <td>5.445344e-01</td>\n",
              "      <td>7.829255e-01</td>\n",
              "      <td>5.699281e-01</td>\n",
              "      <td>5.089282e-01</td>\n",
              "      <td>5.872318e-01</td>\n",
              "    </tr>\n",
              "    <tr>\n",
              "      <th>max</th>\n",
              "      <td>1.000000e+00</td>\n",
              "      <td>3.000000e+00</td>\n",
              "      <td>1.000000e+00</td>\n",
              "      <td>1.000000e+00</td>\n",
              "      <td>1.600092e+00</td>\n",
              "      <td>1.000000e+00</td>\n",
              "      <td>1.000000e+00</td>\n",
              "      <td>1.000000e+00</td>\n",
              "    </tr>\n",
              "  </tbody>\n",
              "</table>\n",
              "</div>\n",
              "      <button class=\"colab-df-convert\" onclick=\"convertToInteractive('df-a9f43a0b-6da8-4efa-a108-4f5bd402e576')\"\n",
              "              title=\"Convert this dataframe to an interactive table.\"\n",
              "              style=\"display:none;\">\n",
              "\n",
              "  <svg xmlns=\"http://www.w3.org/2000/svg\" height=\"24px\"viewBox=\"0 0 24 24\"\n",
              "       width=\"24px\">\n",
              "    <path d=\"M0 0h24v24H0V0z\" fill=\"none\"/>\n",
              "    <path d=\"M18.56 5.44l.94 2.06.94-2.06 2.06-.94-2.06-.94-.94-2.06-.94 2.06-2.06.94zm-11 1L8.5 8.5l.94-2.06 2.06-.94-2.06-.94L8.5 2.5l-.94 2.06-2.06.94zm10 10l.94 2.06.94-2.06 2.06-.94-2.06-.94-.94-2.06-.94 2.06-2.06.94z\"/><path d=\"M17.41 7.96l-1.37-1.37c-.4-.4-.92-.59-1.43-.59-.52 0-1.04.2-1.43.59L10.3 9.45l-7.72 7.72c-.78.78-.78 2.05 0 2.83L4 21.41c.39.39.9.59 1.41.59.51 0 1.02-.2 1.41-.59l7.78-7.78 2.81-2.81c.8-.78.8-2.07 0-2.86zM5.41 20L4 18.59l7.72-7.72 1.47 1.35L5.41 20z\"/>\n",
              "  </svg>\n",
              "      </button>\n",
              "\n",
              "\n",
              "\n",
              "    <div id=\"df-bb1e9665-f13a-4f78-9aea-bf1542f722a6\">\n",
              "      <button class=\"colab-df-quickchart\" onclick=\"quickchart('df-bb1e9665-f13a-4f78-9aea-bf1542f722a6')\"\n",
              "              title=\"Suggest charts.\"\n",
              "              style=\"display:none;\">\n",
              "\n",
              "<svg xmlns=\"http://www.w3.org/2000/svg\" height=\"24px\"viewBox=\"0 0 24 24\"\n",
              "     width=\"24px\">\n",
              "    <g>\n",
              "        <path d=\"M19 3H5c-1.1 0-2 .9-2 2v14c0 1.1.9 2 2 2h14c1.1 0 2-.9 2-2V5c0-1.1-.9-2-2-2zM9 17H7v-7h2v7zm4 0h-2V7h2v10zm4 0h-2v-4h2v4z\"/>\n",
              "    </g>\n",
              "</svg>\n",
              "      </button>\n",
              "    </div>\n",
              "\n",
              "<style>\n",
              "  .colab-df-quickchart {\n",
              "    background-color: #E8F0FE;\n",
              "    border: none;\n",
              "    border-radius: 50%;\n",
              "    cursor: pointer;\n",
              "    display: none;\n",
              "    fill: #1967D2;\n",
              "    height: 32px;\n",
              "    padding: 0 0 0 0;\n",
              "    width: 32px;\n",
              "  }\n",
              "\n",
              "  .colab-df-quickchart:hover {\n",
              "    background-color: #E2EBFA;\n",
              "    box-shadow: 0px 1px 2px rgba(60, 64, 67, 0.3), 0px 1px 3px 1px rgba(60, 64, 67, 0.15);\n",
              "    fill: #174EA6;\n",
              "  }\n",
              "\n",
              "  [theme=dark] .colab-df-quickchart {\n",
              "    background-color: #3B4455;\n",
              "    fill: #D2E3FC;\n",
              "  }\n",
              "\n",
              "  [theme=dark] .colab-df-quickchart:hover {\n",
              "    background-color: #434B5C;\n",
              "    box-shadow: 0px 1px 3px 1px rgba(0, 0, 0, 0.15);\n",
              "    filter: drop-shadow(0px 1px 2px rgba(0, 0, 0, 0.3));\n",
              "    fill: #FFFFFF;\n",
              "  }\n",
              "</style>\n",
              "\n",
              "    <script>\n",
              "      async function quickchart(key) {\n",
              "        const containerElement = document.querySelector('#' + key);\n",
              "        const charts = await google.colab.kernel.invokeFunction(\n",
              "            'suggestCharts', [key], {});\n",
              "      }\n",
              "    </script>\n",
              "\n",
              "      <script>\n",
              "\n",
              "function displayQuickchartButton(domScope) {\n",
              "  let quickchartButtonEl =\n",
              "    domScope.querySelector('#df-bb1e9665-f13a-4f78-9aea-bf1542f722a6 button.colab-df-quickchart');\n",
              "  quickchartButtonEl.style.display =\n",
              "    google.colab.kernel.accessAllowed ? 'block' : 'none';\n",
              "}\n",
              "\n",
              "        displayQuickchartButton(document);\n",
              "      </script>\n",
              "      <style>\n",
              "    .colab-df-container {\n",
              "      display:flex;\n",
              "      flex-wrap:wrap;\n",
              "      gap: 12px;\n",
              "    }\n",
              "\n",
              "    .colab-df-convert {\n",
              "      background-color: #E8F0FE;\n",
              "      border: none;\n",
              "      border-radius: 50%;\n",
              "      cursor: pointer;\n",
              "      display: none;\n",
              "      fill: #1967D2;\n",
              "      height: 32px;\n",
              "      padding: 0 0 0 0;\n",
              "      width: 32px;\n",
              "    }\n",
              "\n",
              "    .colab-df-convert:hover {\n",
              "      background-color: #E2EBFA;\n",
              "      box-shadow: 0px 1px 2px rgba(60, 64, 67, 0.3), 0px 1px 3px 1px rgba(60, 64, 67, 0.15);\n",
              "      fill: #174EA6;\n",
              "    }\n",
              "\n",
              "    [theme=dark] .colab-df-convert {\n",
              "      background-color: #3B4455;\n",
              "      fill: #D2E3FC;\n",
              "    }\n",
              "\n",
              "    [theme=dark] .colab-df-convert:hover {\n",
              "      background-color: #434B5C;\n",
              "      box-shadow: 0px 1px 3px 1px rgba(0, 0, 0, 0.15);\n",
              "      filter: drop-shadow(0px 1px 2px rgba(0, 0, 0, 0.3));\n",
              "      fill: #FFFFFF;\n",
              "    }\n",
              "  </style>\n",
              "\n",
              "      <script>\n",
              "        const buttonEl =\n",
              "          document.querySelector('#df-a9f43a0b-6da8-4efa-a108-4f5bd402e576 button.colab-df-convert');\n",
              "        buttonEl.style.display =\n",
              "          google.colab.kernel.accessAllowed ? 'block' : 'none';\n",
              "\n",
              "        async function convertToInteractive(key) {\n",
              "          const element = document.querySelector('#df-a9f43a0b-6da8-4efa-a108-4f5bd402e576');\n",
              "          const dataTable =\n",
              "            await google.colab.kernel.invokeFunction('convertToInteractive',\n",
              "                                                     [key], {});\n",
              "          if (!dataTable) return;\n",
              "\n",
              "          const docLinkHtml = 'Like what you see? Visit the ' +\n",
              "            '<a target=\"_blank\" href=https://colab.research.google.com/notebooks/data_table.ipynb>data table notebook</a>'\n",
              "            + ' to learn more about interactive tables.';\n",
              "          element.innerHTML = '';\n",
              "          dataTable['output_type'] = 'display_data';\n",
              "          await google.colab.output.renderOutput(dataTable, element);\n",
              "          const docLink = document.createElement('div');\n",
              "          docLink.innerHTML = docLinkHtml;\n",
              "          element.appendChild(docLink);\n",
              "        }\n",
              "      </script>\n",
              "    </div>\n",
              "  </div>\n"
            ]
          },
          "metadata": {},
          "execution_count": 363
        }
      ]
    },
    {
      "cell_type": "code",
      "source": [
        "len(x_train)"
      ],
      "metadata": {
        "colab": {
          "base_uri": "https://localhost:8080/"
        },
        "outputId": "daad473e-4280-4a38-9a4a-108cea355617",
        "id": "ZjUq4qMYRY4P"
      },
      "execution_count": null,
      "outputs": [
        {
          "output_type": "execute_result",
          "data": {
            "text/plain": [
              "1325954"
            ]
          },
          "metadata": {},
          "execution_count": 364
        }
      ]
    },
    {
      "cell_type": "code",
      "source": [
        "# In the ensemble method, the training code of DAE1 replaces a random mask every round of training.\n",
        "\n",
        "# Convert the dataset to np format\n",
        "x_train_np = x_train.values\n",
        "\n",
        "dae = DAE(original_dim = x_train_np.shape[1], categorical_dim = 1, continuous_dim = x_train_np.shape[1] - 2)\n",
        "optimizer = tf.keras.optimizers.Adam(learning_rate = 0.001)\n",
        "dae.compile(optimizer, loss=custom_loss)\n",
        "\n",
        "# set up early stopping, but this has no effect when iterations_per_noise = 1.\n",
        "early_stop = EarlyStopping(monitor='loss', min_delta = 0.0005, patience=5)\n",
        "\n",
        "# multiple epochs with different sparsity noise\n",
        "num_epochs = 20\n",
        "iterations_per_noise = 20\n",
        "\n",
        "for epoch in range(num_epochs // iterations_per_noise):\n",
        "    # create a new array with the same shape as x_train_np but with all elements -1\n",
        "    x_train_np_minus_one = np.full(x_train_np.shape, -1)\n",
        "\n",
        "    # Create a mask, the shape of the mask is the same as x_train_np, p = masking_factor represents the probability of 1 on the mask\n",
        "    masking_factor = 0.70       # Note that due to the replacement rules in tf.where later, the masking factor here should be 1-target value\n",
        "    mask = np.random.binomial(n = 1, p = masking_factor, size = x_train_np.shape)\n",
        "\n",
        "    # Use the tf.where function to replace the value in x_train_np with -1 according to the mask to get the noise data\n",
        "    x_train_np_noisy = tf.where(mask == 1, x_train_np, x_train_np_minus_one)\n",
        "\n",
        "    for iteration in range(iterations_per_noise):\n",
        "        print(f\"Noise Epoch {epoch + 1}/{num_epochs // iterations_per_noise}, Iteration {iteration + 1}/{iterations_per_noise}\")\n",
        "        dae.fit(x_train_np_noisy, x_train_np, batch_size = 256, callbacks=[early_stop])\n"
      ],
      "metadata": {
        "colab": {
          "base_uri": "https://localhost:8080/"
        },
        "outputId": "7501b01c-2993-47ad-8fa4-a1b3dad01132",
        "id": "ziZQt8ZHRY4P"
      },
      "execution_count": null,
      "outputs": [
        {
          "output_type": "stream",
          "name": "stdout",
          "text": [
            "Noise Epoch 1/1, Iteration 1/20\n",
            "5180/5180 [==============================] - 57s 10ms/step - loss: 0.2443\n",
            "Noise Epoch 1/1, Iteration 2/20\n",
            "5180/5180 [==============================] - 53s 10ms/step - loss: 0.1687\n",
            "Noise Epoch 1/1, Iteration 3/20\n",
            "5180/5180 [==============================] - 50s 10ms/step - loss: 0.1633\n",
            "Noise Epoch 1/1, Iteration 4/20\n",
            "5180/5180 [==============================] - 53s 10ms/step - loss: 0.1611\n",
            "Noise Epoch 1/1, Iteration 5/20\n",
            "5180/5180 [==============================] - 51s 10ms/step - loss: 0.1595\n",
            "Noise Epoch 1/1, Iteration 6/20\n",
            "5180/5180 [==============================] - 51s 10ms/step - loss: 0.1582\n",
            "Noise Epoch 1/1, Iteration 7/20\n",
            "5180/5180 [==============================] - 49s 9ms/step - loss: 0.1575\n",
            "Noise Epoch 1/1, Iteration 8/20\n",
            "5180/5180 [==============================] - 49s 9ms/step - loss: 0.1568\n",
            "Noise Epoch 1/1, Iteration 9/20\n",
            "5180/5180 [==============================] - 48s 9ms/step - loss: 0.1562\n",
            "Noise Epoch 1/1, Iteration 10/20\n",
            "5180/5180 [==============================] - 48s 9ms/step - loss: 0.1559\n",
            "Noise Epoch 1/1, Iteration 11/20\n",
            "5180/5180 [==============================] - 50s 10ms/step - loss: 0.1554\n",
            "Noise Epoch 1/1, Iteration 12/20\n",
            "5180/5180 [==============================] - 49s 9ms/step - loss: 0.1550\n",
            "Noise Epoch 1/1, Iteration 13/20\n",
            "5180/5180 [==============================] - 49s 9ms/step - loss: 0.1546\n",
            "Noise Epoch 1/1, Iteration 14/20\n",
            "5180/5180 [==============================] - 48s 9ms/step - loss: 0.1541\n",
            "Noise Epoch 1/1, Iteration 15/20\n",
            "5180/5180 [==============================] - 51s 10ms/step - loss: 0.1541\n",
            "Noise Epoch 1/1, Iteration 16/20\n",
            "5180/5180 [==============================] - 51s 10ms/step - loss: 0.1540\n",
            "Noise Epoch 1/1, Iteration 17/20\n",
            "5180/5180 [==============================] - 51s 10ms/step - loss: 0.1534\n",
            "Noise Epoch 1/1, Iteration 18/20\n",
            "5180/5180 [==============================] - 51s 10ms/step - loss: 0.1534\n",
            "Noise Epoch 1/1, Iteration 19/20\n",
            "5180/5180 [==============================] - 48s 9ms/step - loss: 0.1536\n",
            "Noise Epoch 1/1, Iteration 20/20\n",
            "5180/5180 [==============================] - 52s 10ms/step - loss: 0.1529\n"
          ]
        }
      ]
    },
    {
      "cell_type": "code",
      "source": [
        "# In the ensemble method, the training code of DAE2 replaces a random mask every round of training.\n",
        "\n",
        "# Convert the dataset to np format\n",
        "x_train_np = x_train.values\n",
        "\n",
        "dae2 = DAE2(original_dim=x_train_np.shape[1], categorical_dim = 1, continuous_dim = x_train_np.shape[1] - 2)\n",
        "optimizer = tf.keras.optimizers.Adam(learning_rate = 0.001)\n",
        "dae2.compile(optimizer, loss=custom_loss)\n",
        "\n",
        "# set up early stopping, but this has no effect when iterations_per_noise = 1.\n",
        "early_stop = EarlyStopping(monitor='loss', min_delta = 0.0001, patience=5)\n",
        "\n",
        "# multiple epochs with different sparsity noise\n",
        "num_epochs = 20\n",
        "iterations_per_noise = 20\n",
        "\n",
        "for epoch in range(num_epochs // iterations_per_noise):\n",
        "    # create a new array with the same shape as x_train_np but with all elements -1\n",
        "    x_train_np_minus_one = np.full(x_train_np.shape, -1)\n",
        "\n",
        "    # Create a mask, the shape of the mask is the same as x_train_np, p = masking_factor represents the probability of 1 on the mask\n",
        "    masking_factor = 0.70       # Note that due to the replacement rules in tf.where later, the masking factor here should be 1-target value\n",
        "    mask = np.random.binomial(n = 1, p = masking_factor, size = x_train_np.shape)\n",
        "\n",
        "    # Use the tf.where function to replace the value in x_train_np with -1 according to the mask to get the noise data\n",
        "    x_train_np_noisy = tf.where(mask == 1, x_train_np, x_train_np_minus_one)\n",
        "\n",
        "    for iteration in range(iterations_per_noise):\n",
        "        print(f\"Noise Epoch {epoch + 1}/{num_epochs // iterations_per_noise}, Iteration {iteration + 1}/{iterations_per_noise}\")\n",
        "        dae2.fit(x_train_np_noisy, x_train_np, batch_size = 256, callbacks=[early_stop])\n"
      ],
      "metadata": {
        "colab": {
          "base_uri": "https://localhost:8080/"
        },
        "outputId": "add82bfd-9751-416a-8b17-18d11047dd1b",
        "id": "mrbK2WijRY4Q"
      },
      "execution_count": null,
      "outputs": [
        {
          "output_type": "stream",
          "name": "stdout",
          "text": [
            "Noise Epoch 1/1, Iteration 1/20\n",
            "5180/5180 [==============================] - 61s 11ms/step - loss: 0.2891\n",
            "Noise Epoch 1/1, Iteration 2/20\n",
            "5180/5180 [==============================] - 54s 10ms/step - loss: 0.2168\n",
            "Noise Epoch 1/1, Iteration 3/20\n",
            "5180/5180 [==============================] - 54s 10ms/step - loss: 0.2763\n",
            "Noise Epoch 1/1, Iteration 4/20\n",
            "5180/5180 [==============================] - 54s 10ms/step - loss: 0.4427\n",
            "Noise Epoch 1/1, Iteration 5/20\n",
            "5180/5180 [==============================] - 55s 11ms/step - loss: 0.4426\n",
            "Noise Epoch 1/1, Iteration 6/20\n",
            "5180/5180 [==============================] - 54s 10ms/step - loss: 0.4388\n",
            "Noise Epoch 1/1, Iteration 7/20\n",
            "5180/5180 [==============================] - 54s 10ms/step - loss: 0.4372\n",
            "Noise Epoch 1/1, Iteration 8/20\n",
            "5180/5180 [==============================] - 54s 10ms/step - loss: 0.4356\n",
            "Noise Epoch 1/1, Iteration 9/20\n",
            "5180/5180 [==============================] - 54s 10ms/step - loss: 0.4347\n",
            "Noise Epoch 1/1, Iteration 10/20\n",
            "5180/5180 [==============================] - 53s 10ms/step - loss: 0.4343\n",
            "Noise Epoch 1/1, Iteration 11/20\n",
            "5180/5180 [==============================] - 53s 10ms/step - loss: 0.4336\n",
            "Noise Epoch 1/1, Iteration 12/20\n",
            "5180/5180 [==============================] - 54s 10ms/step - loss: 0.4333\n",
            "Noise Epoch 1/1, Iteration 13/20\n",
            "5180/5180 [==============================] - 53s 10ms/step - loss: 0.4332\n",
            "Noise Epoch 1/1, Iteration 14/20\n",
            "5180/5180 [==============================] - 53s 10ms/step - loss: 0.4330\n",
            "Noise Epoch 1/1, Iteration 15/20\n",
            "5180/5180 [==============================] - 53s 10ms/step - loss: 0.4328\n",
            "Noise Epoch 1/1, Iteration 16/20\n",
            "5180/5180 [==============================] - 52s 10ms/step - loss: 0.4324\n",
            "Noise Epoch 1/1, Iteration 17/20\n",
            "5180/5180 [==============================] - 53s 10ms/step - loss: 0.4325\n",
            "Noise Epoch 1/1, Iteration 18/20\n",
            "5180/5180 [==============================] - 52s 10ms/step - loss: 0.4321\n",
            "Noise Epoch 1/1, Iteration 19/20\n",
            "5180/5180 [==============================] - 51s 10ms/step - loss: 0.4320\n",
            "Noise Epoch 1/1, Iteration 20/20\n",
            "5180/5180 [==============================] - 51s 10ms/step - loss: 0.4316\n"
          ]
        }
      ]
    },
    {
      "cell_type": "code",
      "source": [
        "# In the ensemble method, the training code of DAE3 replaces a random mask every round of training.\n",
        "\n",
        "# Convert the dataset to np format\n",
        "x_train_np = x_train.values\n",
        "\n",
        "dae3 = DAE3(original_dim=x_train_np.shape[1], categorical_dim = 1, continuous_dim = x_train_np.shape[1] - 2)\n",
        "optimizer = tf.keras.optimizers.Adam(learning_rate = 0.001)\n",
        "dae3.compile(optimizer, loss=custom_loss)\n",
        "\n",
        "# set up early stopping, but this has no effect when iterations_per_noise = 1.\n",
        "early_stop = EarlyStopping(monitor='loss', min_delta = 0.0001, patience=5)\n",
        "\n",
        "# multiple epochs with different sparsity noise\n",
        "num_epochs = 20\n",
        "iterations_per_noise = 20\n",
        "\n",
        "for epoch in range(num_epochs // iterations_per_noise):\n",
        "    # create a new array with the same shape as x_train_np but with all elements -1\n",
        "    x_train_np_minus_one = np.full(x_train_np.shape, -1)\n",
        "\n",
        "    # Create a mask, the shape of the mask is the same as x_train_np, p = masking_factor represents the probability of 1 on the mask\n",
        "    masking_factor = 0.70       # Note that due to the replacement rules in tf.where later, the masking factor here should be 1-target value\n",
        "    mask = np.random.binomial(n = 1, p = masking_factor, size = x_train_np.shape)\n",
        "\n",
        "    # Use the tf.where function to replace the value in x_train_np with -1 according to the mask to get the noise data\n",
        "    x_train_np_noisy = tf.where(mask == 1, x_train_np, x_train_np_minus_one)\n",
        "\n",
        "    for iteration in range(iterations_per_noise):\n",
        "        print(f\"Noise Epoch {epoch + 1}/{num_epochs // iterations_per_noise}, Iteration {iteration + 1}/{iterations_per_noise}\")\n",
        "        dae3.fit(x_train_np_noisy, x_train_np, batch_size = 256, callbacks=[early_stop])\n"
      ],
      "metadata": {
        "colab": {
          "base_uri": "https://localhost:8080/"
        },
        "outputId": "8f27afbb-c44e-4bd0-ea28-ca6051b2f117",
        "id": "v4sdxvcqRY4Q"
      },
      "execution_count": null,
      "outputs": [
        {
          "output_type": "stream",
          "name": "stdout",
          "text": [
            "Noise Epoch 1/1, Iteration 1/20\n",
            "5180/5180 [==============================] - 53s 9ms/step - loss: 0.2488\n",
            "Noise Epoch 1/1, Iteration 2/20\n",
            "5180/5180 [==============================] - 49s 9ms/step - loss: 0.1840\n",
            "Noise Epoch 1/1, Iteration 3/20\n",
            "5180/5180 [==============================] - 49s 9ms/step - loss: 0.1734\n",
            "Noise Epoch 1/1, Iteration 4/20\n",
            "5180/5180 [==============================] - 51s 10ms/step - loss: 0.1682\n",
            "Noise Epoch 1/1, Iteration 5/20\n",
            "5180/5180 [==============================] - 49s 9ms/step - loss: 0.1661\n",
            "Noise Epoch 1/1, Iteration 6/20\n",
            "5180/5180 [==============================] - 50s 10ms/step - loss: 0.1650\n",
            "Noise Epoch 1/1, Iteration 7/20\n",
            "5180/5180 [==============================] - 48s 9ms/step - loss: 0.1638\n",
            "Noise Epoch 1/1, Iteration 8/20\n",
            "5180/5180 [==============================] - 50s 10ms/step - loss: 0.1634\n",
            "Noise Epoch 1/1, Iteration 9/20\n",
            "5180/5180 [==============================] - 50s 10ms/step - loss: 0.1632\n",
            "Noise Epoch 1/1, Iteration 10/20\n",
            "5180/5180 [==============================] - 49s 9ms/step - loss: 0.1622\n",
            "Noise Epoch 1/1, Iteration 11/20\n",
            "5180/5180 [==============================] - 50s 10ms/step - loss: 0.1619\n",
            "Noise Epoch 1/1, Iteration 12/20\n",
            "5180/5180 [==============================] - 51s 10ms/step - loss: 0.1614\n",
            "Noise Epoch 1/1, Iteration 13/20\n",
            "5180/5180 [==============================] - 52s 10ms/step - loss: 0.1613\n",
            "Noise Epoch 1/1, Iteration 14/20\n",
            "5180/5180 [==============================] - 52s 10ms/step - loss: 0.1604\n",
            "Noise Epoch 1/1, Iteration 15/20\n",
            "5180/5180 [==============================] - 54s 10ms/step - loss: 0.1604\n",
            "Noise Epoch 1/1, Iteration 16/20\n",
            "5180/5180 [==============================] - 52s 10ms/step - loss: 0.1602\n",
            "Noise Epoch 1/1, Iteration 17/20\n",
            "5180/5180 [==============================] - 52s 10ms/step - loss: 0.1599\n",
            "Noise Epoch 1/1, Iteration 18/20\n",
            "5180/5180 [==============================] - 53s 10ms/step - loss: 0.1632\n",
            "Noise Epoch 1/1, Iteration 19/20\n",
            "5180/5180 [==============================] - 52s 10ms/step - loss: 0.1595\n",
            "Noise Epoch 1/1, Iteration 20/20\n",
            "5180/5180 [==============================] - 51s 10ms/step - loss: 0.1592\n"
          ]
        }
      ]
    },
    {
      "cell_type": "code",
      "source": [
        "# Save the weights\n",
        "dae.save_weights('/content/gdrive/MyDrive/Colab Notebooks/DPE_dataset/dae1_ensemble_leaky_relu_128_epoch20_insulation_roof_dataset1.h5')\n",
        "dae2.save_weights('/content/gdrive/MyDrive/Colab Notebooks/DPE_dataset/dae2_ensemble_swish_128_epoch20_insulation_roof_dataset1.h5')\n",
        "dae3.save_weights('/content/gdrive/MyDrive/Colab Notebooks/DPE_dataset/dae3_ensemble_elu_128_epoch20_insulation_roof_dataset1.h5')"
      ],
      "metadata": {
        "id": "JSnQ1SGlRY4Q"
      },
      "execution_count": null,
      "outputs": []
    },
    {
      "cell_type": "code",
      "source": [
        "# Use a multilayer perceptron to train a classification network as a baseline\n",
        "mlp_clf = MLP_Classifier(num_classes = 4)\n",
        "\n",
        "mlp_clf.compile(optimizer='adam',\n",
        "              loss=tf.keras.losses.MeanSquaredError())\n",
        "\n",
        "y_train_clf = x_train.values[:, 0]  # The label is in the first column\n",
        "x_train_clf = x_train.values[:, 1:]  # The rest are features\n",
        "\n",
        "y_test_clf = x_val.values[:, 0]\n",
        "x_test_clf = x_val.values[:, 1:]\n",
        "\n",
        "# train\n",
        "mlp_clf.fit(x_train_clf, y_train_clf, epochs = 5, validation_data = (x_test_clf, y_test_clf))\n"
      ],
      "metadata": {
        "colab": {
          "base_uri": "https://localhost:8080/"
        },
        "outputId": "f8455b02-8ccf-4972-ccda-e5fec6847c5f",
        "id": "9Z7uia4IRY4Q"
      },
      "execution_count": null,
      "outputs": [
        {
          "output_type": "stream",
          "name": "stdout",
          "text": [
            "Epoch 1/5\n",
            "41437/41437 [==============================] - 99s 2ms/step - loss: 0.0050 - val_loss: 0.0046\n",
            "Epoch 2/5\n",
            "41437/41437 [==============================] - 95s 2ms/step - loss: 0.0043 - val_loss: 0.0041\n",
            "Epoch 3/5\n",
            "41437/41437 [==============================] - 93s 2ms/step - loss: 0.0041 - val_loss: 0.0040\n",
            "Epoch 4/5\n",
            "41437/41437 [==============================] - 94s 2ms/step - loss: 0.0041 - val_loss: 0.0041\n",
            "Epoch 5/5\n",
            "41437/41437 [==============================] - 96s 2ms/step - loss: 0.0040 - val_loss: 0.0040\n"
          ]
        },
        {
          "output_type": "execute_result",
          "data": {
            "text/plain": [
              "<keras.callbacks.History at 0x7d49352f26b0>"
            ]
          },
          "metadata": {},
          "execution_count": 369
        }
      ]
    },
    {
      "cell_type": "code",
      "source": [
        "# The function of this function is to reshape the result output by DAE\n",
        "def reshape_dae_output(dae_output):\n",
        "    # the first 3 columns of y_true and y_pred are the categorical variables,\n",
        "    # and the rest are the continuous variables.\n",
        "    dae_output_continuous_target = dae_output[:, 0:1]\n",
        "    dae_output_categorical_1 = tf.argmax(dae_output[:, 1:5], 1)\n",
        "    dae_output_continuous = dae_output[:, 5:]\n",
        "\n",
        "    # Cast the categorical outputs to float32 and expand dimensions\n",
        "    dae_output_categorical_1 = tf.expand_dims(tf.cast(dae_output_categorical_1, tf.float32), 1)\n",
        "\n",
        "    reshaped_output = tf.concat([dae_output_continuous_target, dae_output_categorical_1, dae_output_continuous], axis=1)\n",
        "\n",
        "    return reshaped_output\n"
      ],
      "metadata": {
        "id": "jyctsGMsRY4Q"
      },
      "execution_count": null,
      "outputs": []
    },
    {
      "cell_type": "code",
      "source": [
        "# Interpolation process function. This function is used for non-ensemble methods.\n",
        "def insert_and_impute(df, df_true, train_df, column_name, fraction, vae, num_iterations = 10):\n",
        "    # Create a copy of df\n",
        "    df_copy = df.copy()\n",
        "    df_copy_np = df_copy.values\n",
        "\n",
        "    # create a new array with the same shape as x_train_np but with all elements -1\n",
        "    df_copy_np_minus_one = np.full(df_copy_np.shape, -1)\n",
        "\n",
        "    # Create a mask, the shape of the mask is the same as x_train_np, p = masking_factor represents the probability of 1 on the mask\n",
        "    masking_factor = 1 - fraction\n",
        "    mask = np.random.binomial(n = 1, p = masking_factor, size = df_copy_np.shape)\n",
        "\n",
        "    # Use the tf.where function to replace the value in x_train_np with -1 according to the mask to get the noise data\n",
        "    df_copy_np_noisy = tf.where(mask, df_copy_np, df_copy_np_minus_one)\n",
        "    df_copy_np_noisy = tf.cast(df_copy_np_noisy, tf.float32)\n",
        "\n",
        "    # print(df_copy_np_noisy)\n",
        "\n",
        "    # Convert dataframe to input format accepted by vae\n",
        "    missing_data = tf.Variable(df_copy_np_noisy, dtype = tf.float32, trainable=True)\n",
        "    true_data = tf.Variable(df_true.values.astype('float32'), trainable = True)\n",
        "\n",
        "    # Convert numpy mask to tensorflow tensor\n",
        "    mask = tf.convert_to_tensor(mask, dtype = tf.bool)\n",
        "    mask = np.logical_not(mask)\n",
        "\n",
        "    # Get the column index for the loss calculation\n",
        "    column_index = df.columns.get_loc(column_name)\n",
        "\n",
        "    # Iterate num_iterations rounds to impute missing values\n",
        "    for i in range(num_iterations):\n",
        "        # Get imputed data\n",
        "        imputed_data = vae(missing_data)\n",
        "        imputed_data = reshape_dae_output(imputed_data)\n",
        "\n",
        "        # RMSE on specified column\n",
        "        # loss = tf.sqrt(tf.reduce_mean(tf.square((imputed_data[:, column_index] - true_data[:, column_index])[mask[:, column_index]])))\n",
        "        # MAE on specified column\n",
        "        loss = tf.reduce_mean(tf.abs(imputed_data[:, column_index] - true_data[:, column_index])[mask[:, column_index]])\n",
        "        print('Target column loss:', loss)\n",
        "\n",
        "        loss = tf.reduce_mean(tf.abs(imputed_data - true_data)[mask])\n",
        "        print('Loss:', loss)\n",
        "\n",
        "        # Apply mask to imputed and true data\n",
        "        imputed_data_masked = tf.boolean_mask(imputed_data[:, column_index], mask[:, column_index])\n",
        "        true_data_masked = tf.boolean_mask(true_data[:, column_index], mask[:, column_index])\n",
        "\n",
        "        # Create a mask for correct imputations\n",
        "        accuracy_mask = (tf.abs(imputed_data_masked - true_data_masked) < 0.03)\n",
        "\n",
        "        # Calculate accuracy by dividing the number of correct imputations by the total number of imputations\n",
        "        accuracy = tf.reduce_mean(tf.cast(accuracy_mask, tf.float32))\n",
        "\n",
        "        print('Imputation accuracy:', accuracy)\n",
        "\n",
        "        # Fill missing parts of missing_data with imputed_data\n",
        "        missing_data.assign(tf.where(mask, imputed_data, missing_data))\n",
        "\n",
        "    df_copy[:] = missing_data.numpy()\n",
        "\n",
        "    return df_copy, mask\n"
      ],
      "metadata": {
        "id": "hOymUi7bRY4R"
      },
      "execution_count": null,
      "outputs": []
    },
    {
      "cell_type": "code",
      "source": [
        "# Interpolation process function. This function is used for ensemble methods.\n",
        "def insert_and_impute_ensemble(df, df_true, train_df, column_name, fraction, dae1, dae2, dae3, num_iterations = 10):\n",
        "    # Create a copy of df\n",
        "    df_copy = df.copy()\n",
        "    df_copy_np = df_copy.values\n",
        "\n",
        "    # create a new array with the same shape as x_train_np but with all elements -1\n",
        "    df_copy_np_minus_one = np.full(df_copy_np.shape, -1)\n",
        "\n",
        "    # Create a mask, the shape of the mask is the same as x_train_np, p = masking_factor represents the probability of 1 on the mask\n",
        "    masking_factor = 1 - fraction\n",
        "    mask = np.random.binomial(n = 1, p = masking_factor, size = df_copy_np.shape)\n",
        "\n",
        "    # Use the tf.where function to replace the value in x_train_np with -1 according to the mask to get the noise data\n",
        "    df_copy_np_noisy = tf.where(mask, df_copy_np, df_copy_np_minus_one)\n",
        "    df_copy_np_noisy = tf.cast(df_copy_np_noisy, tf.float32)\n",
        "\n",
        "    # Convert dataframe to input format accepted by vae\n",
        "    missing_data = tf.Variable(df_copy_np_noisy, dtype = tf.float32, trainable=True)\n",
        "    true_data = tf.Variable(df_true.values.astype('float32'), trainable = True)\n",
        "\n",
        "    # Convert numpy mask to tensorflow tensor\n",
        "    mask = tf.convert_to_tensor(mask, dtype = tf.bool)\n",
        "    mask = np.logical_not(mask)\n",
        "\n",
        "    # Get the column index for the loss calculation\n",
        "    column_index = df.columns.get_loc(column_name)\n",
        "\n",
        "    # Iterate num_iterations rounds to impute missing values\n",
        "    for i in range(num_iterations):\n",
        "        # Get imputed data\n",
        "        imputed_data1 = dae1(missing_data)\n",
        "        imputed_data2 = dae2(missing_data)\n",
        "        imputed_data3 = dae3(missing_data)\n",
        "\n",
        "        # ensemble the 3 daes' output\n",
        "        imputed_data = tf.reduce_mean([imputed_data1, imputed_data2, imputed_data3], axis=0)\n",
        "        imputed_data = reshape_dae_output(imputed_data)\n",
        "\n",
        "        # RMSE on specified column\n",
        "        # loss = tf.sqrt(tf.reduce_mean(tf.square((imputed_data[:, column_index] - true_data[:, column_index])[mask[:, column_index]])))\n",
        "        # MAE on specified column\n",
        "        loss = tf.reduce_mean(tf.abs(imputed_data[:, column_index] - true_data[:, column_index])[mask[:, column_index]])\n",
        "        print('Target column loss:', loss)\n",
        "\n",
        "        loss = tf.reduce_mean(tf.abs(imputed_data - true_data)[mask])\n",
        "        print('Loss:', loss)\n",
        "\n",
        "        # Apply mask to imputed and true data\n",
        "        imputed_data_masked = tf.boolean_mask(imputed_data[:, column_index], mask[:, column_index])\n",
        "        true_data_masked = tf.boolean_mask(true_data[:, column_index], mask[:, column_index])\n",
        "\n",
        "        # Create a mask for correct imputations\n",
        "        # accuracy_mask = (tf.abs(imputed_data_masked - true_data_masked) < 0.1) | ((imputed_data_masked < -0.1) & (true_data_masked < 0))\n",
        "        accuracy_mask = (tf.abs(imputed_data_masked - true_data_masked) < 0.03)\n",
        "\n",
        "        # Calculate accuracy by dividing the number of correct imputations by the total number of imputations\n",
        "        accuracy = tf.reduce_mean(tf.cast(accuracy_mask, tf.float32))\n",
        "\n",
        "        print('Imputation accuracy:', accuracy)\n",
        "\n",
        "        # Fill missing parts of missing_data with imputed_data\n",
        "        missing_data.assign(tf.where(mask, imputed_data, missing_data))\n",
        "\n",
        "    df_copy[:] = missing_data.numpy()\n",
        "\n",
        "    return df_copy, mask\n"
      ],
      "metadata": {
        "id": "dYPrkk_hRY4R"
      },
      "execution_count": null,
      "outputs": []
    },
    {
      "cell_type": "code",
      "source": [
        "# target_column = 'Primary_ECS_Consumption'\n",
        "target_column = 'Primary_ECS_Consumption'"
      ],
      "metadata": {
        "id": "D1aQoNBKRY4R"
      },
      "execution_count": null,
      "outputs": []
    },
    {
      "cell_type": "code",
      "source": [
        "# Test the correct rate of the target column of DAE1 when the missing ratio is 20%.\n",
        "df_insulation_floor_imputed, mask = insert_and_impute(x_val, x_true, x_train, target_column, 0.2, dae, num_iterations = 1)"
      ],
      "metadata": {
        "colab": {
          "base_uri": "https://localhost:8080/"
        },
        "outputId": "8d8906e9-39f7-4b1e-c9e7-88b15df19b58",
        "id": "kLbtNKiiRY4R"
      },
      "execution_count": null,
      "outputs": [
        {
          "output_type": "stream",
          "name": "stdout",
          "text": [
            "Target column loss: tf.Tensor(0.047268428, shape=(), dtype=float32)\n",
            "Loss: tf.Tensor(0.1837097, shape=(), dtype=float32)\n",
            "Imputation accuracy: tf.Tensor(0.681925, shape=(), dtype=float32)\n"
          ]
        }
      ]
    },
    {
      "cell_type": "code",
      "source": [
        "# Test the correct rate of the target column of DAE2 when the missing ratio is 20%.\n",
        "df_insulation_floor_imputed_2, mask_2 = insert_and_impute(x_val, x_true, x_train, target_column, 0.2, dae2, num_iterations = 1)"
      ],
      "metadata": {
        "colab": {
          "base_uri": "https://localhost:8080/"
        },
        "outputId": "4c44c148-4e55-4134-b7f0-e4a918a8801b",
        "id": "lHsw3IJYRY4R"
      },
      "execution_count": null,
      "outputs": [
        {
          "output_type": "stream",
          "name": "stdout",
          "text": [
            "Target column loss: tf.Tensor(0.046528034, shape=(), dtype=float32)\n",
            "Loss: tf.Tensor(0.18433894, shape=(), dtype=float32)\n",
            "Imputation accuracy: tf.Tensor(0.7233427, shape=(), dtype=float32)\n"
          ]
        }
      ]
    },
    {
      "cell_type": "code",
      "source": [
        "# Test the correct rate of the target column of DAE3 when the missing ratio is 20%.\n",
        "df_insulation_floor_imputed_3, mask_3 = insert_and_impute(x_val, x_true, x_train, target_column, 0.2, dae3, num_iterations = 1)"
      ],
      "metadata": {
        "colab": {
          "base_uri": "https://localhost:8080/"
        },
        "outputId": "99186fb4-1a80-4869-e827-db5b23417b8c",
        "id": "nu_LZWzeRY4S"
      },
      "execution_count": null,
      "outputs": [
        {
          "output_type": "stream",
          "name": "stdout",
          "text": [
            "Target column loss: tf.Tensor(0.048986696, shape=(), dtype=float32)\n",
            "Loss: tf.Tensor(0.18149936, shape=(), dtype=float32)\n",
            "Imputation accuracy: tf.Tensor(0.66498137, shape=(), dtype=float32)\n"
          ]
        }
      ]
    },
    {
      "cell_type": "code",
      "source": [
        "# Test the correct rate of the target column of DAE3 when the missing ratio is 10%.\n",
        "df_insulation_floor_imputed_3, mask_3 = insert_and_impute(x_val, x_true, x_train, target_column, 0.1, dae3, num_iterations = 1)"
      ],
      "metadata": {
        "colab": {
          "base_uri": "https://localhost:8080/"
        },
        "outputId": "8083848d-f898-41e4-9568-6ed0d9a28d40",
        "id": "j4QbpFz0RY4S"
      },
      "execution_count": null,
      "outputs": [
        {
          "output_type": "stream",
          "name": "stdout",
          "text": [
            "Target column loss: tf.Tensor(0.03426108, shape=(), dtype=float32)\n",
            "Loss: tf.Tensor(0.1720947, shape=(), dtype=float32)\n",
            "Imputation accuracy: tf.Tensor(0.7805639, shape=(), dtype=float32)\n"
          ]
        }
      ]
    },
    {
      "cell_type": "code",
      "source": [
        "# Test the correct rate of the target column of ensemble when the missing ratio is 20%.\n",
        "df_insulation_floor_imputed_ensemble, mask_ensemble = insert_and_impute_ensemble(x_val, x_true, x_train, target_column, 0.2, dae, dae2, dae3, num_iterations = 1)"
      ],
      "metadata": {
        "colab": {
          "base_uri": "https://localhost:8080/"
        },
        "outputId": "a47fb5b2-581b-4aa2-fa9c-25a43ea70707",
        "id": "oa3V3uuZRY4S"
      },
      "execution_count": null,
      "outputs": [
        {
          "output_type": "stream",
          "name": "stdout",
          "text": [
            "Target column loss: tf.Tensor(0.04427619, shape=(), dtype=float32)\n",
            "Loss: tf.Tensor(0.17977962, shape=(), dtype=float32)\n",
            "Imputation accuracy: tf.Tensor(0.7100099, shape=(), dtype=float32)\n"
          ]
        }
      ]
    },
    {
      "cell_type": "code",
      "source": [
        "# Test the correct rate of the target column of ensemble when the missing ratio is 10%.\n",
        "df_insulation_floor_imputed_ensemble, mask_ensemble = insert_and_impute_ensemble(x_val, x_true, x_train, target_column, 0.1, dae, dae2, dae3, num_iterations = 1)"
      ],
      "metadata": {
        "colab": {
          "base_uri": "https://localhost:8080/"
        },
        "outputId": "fad1bbc3-4a87-4d21-a2be-c5baf254a6f0",
        "id": "7EVQHXzMRY4S"
      },
      "execution_count": null,
      "outputs": [
        {
          "output_type": "stream",
          "name": "stdout",
          "text": [
            "Target column loss: tf.Tensor(0.03158977, shape=(), dtype=float32)\n",
            "Loss: tf.Tensor(0.17242146, shape=(), dtype=float32)\n",
            "Imputation accuracy: tf.Tensor(0.8104688, shape=(), dtype=float32)\n"
          ]
        }
      ]
    },
    {
      "cell_type": "code",
      "source": [
        "def draw_histogram_with_mask(df, column, mask, bins=10):\n",
        "    \"\"\"\n",
        "     Plot a histogram of the specified columns of the DataFrame while filtering using mask.\n",
        "\n",
        "     parameter:\n",
        "     df : pandas DataFrame\n",
        "     column : string, column name\n",
        "     mask : Series or array-like, Boolean mask\n",
        "     bins : int, the number of bins in the histogram\n",
        "    \"\"\"\n",
        "\n",
        "    # Apply mask to filter data\n",
        "    df_masked = df[mask]\n",
        "\n",
        "    # draw histogram\n",
        "    plt.figure(figsize=(10, 6))\n",
        "    df.loc[mask[:, df.columns.get_loc(column)], column].hist(bins=bins)\n",
        "\n",
        "    plt.title(f'Histgram {column}(masked))')\n",
        "    plt.xlabel(column)\n",
        "    plt.ylabel('Freq')\n",
        "    plt.grid(False)\n",
        "    plt.show()\n"
      ],
      "metadata": {
        "id": "Bte8wZgdRY4S"
      },
      "execution_count": null,
      "outputs": []
    },
    {
      "cell_type": "code",
      "source": [
        "df_insulation_floor_imputed.loc[mask[:, df_insulation_floor_imputed.columns.get_loc('Primary_ECS_Consumption')], 'Primary_ECS_Consumption']"
      ],
      "metadata": {
        "colab": {
          "base_uri": "https://localhost:8080/"
        },
        "outputId": "68459c67-cb98-4ec5-9001-6cc3cd954b7d",
        "id": "WKy49IvsRY4S"
      },
      "execution_count": null,
      "outputs": [
        {
          "output_type": "execute_result",
          "data": {
            "text/plain": [
              "4253017    0.295532\n",
              "3250715    0.496466\n",
              "901538     0.484477\n",
              "1994540    0.341061\n",
              "1875243    0.428653\n",
              "             ...   \n",
              "4164421    0.443612\n",
              "2120127    0.219531\n",
              "2400653    0.528181\n",
              "4102836    0.228581\n",
              "3037385    0.160612\n",
              "Name: Primary_ECS_Consumption, Length: 66390, dtype: float64"
            ]
          },
          "metadata": {},
          "execution_count": 381
        }
      ]
    },
    {
      "cell_type": "code",
      "source": [
        "draw_histogram_with_mask(df_insulation_floor_imputed, target_column, mask, bins=10)"
      ],
      "metadata": {
        "colab": {
          "base_uri": "https://localhost:8080/"
        },
        "outputId": "c357c806-6b70-4b47-fb20-6ff675c631b5",
        "id": "w5ZNNqW8RY4S"
      },
      "execution_count": null,
      "outputs": [
        {
          "output_type": "display_data",
          "data": {
            "text/plain": [
              "<Figure size 1000x600 with 1 Axes>"
            ],
            "image/png": "[encoded data removed]"
          },
          "metadata": {}
        }
      ]
    }
  ]
}